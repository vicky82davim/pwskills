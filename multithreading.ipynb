{
 "cells": [
  {
   "cell_type": "code",
   "execution_count": 6,
   "id": "032c0a7b-ea51-440b-b8c3-ecdc30d57945",
   "metadata": {},
   "outputs": [],
   "source": [
    "import threading"
   ]
  },
  {
   "cell_type": "code",
   "execution_count": 7,
   "id": "2908dd7b-713b-45c9-80db-c570d952ee18",
   "metadata": {},
   "outputs": [],
   "source": [
    "def test(id):\n",
    "    print(\"Prog start %d\"% id)"
   ]
  },
  {
   "cell_type": "code",
   "execution_count": 10,
   "id": "c6007584-982e-42e3-ba02-e97b4bbebf72",
   "metadata": {},
   "outputs": [
    {
     "name": "stdout",
     "output_type": "stream",
     "text": [
      "Prog start 45\n"
     ]
    }
   ],
   "source": [
    "test(45)"
   ]
  },
  {
   "cell_type": "code",
   "execution_count": 12,
   "id": "4b3d1a8d-41c5-414a-a2d4-21c45fee39eb",
   "metadata": {},
   "outputs": [],
   "source": [
    "thread = [threading.Thread(target=test, args = (i,) ) for i in range(10)]"
   ]
  },
  {
   "cell_type": "code",
   "execution_count": 13,
   "id": "b1fb5b93-39c8-4d6b-85fd-2968c6feaacf",
   "metadata": {},
   "outputs": [
    {
     "name": "stdout",
     "output_type": "stream",
     "text": [
      "Prog start 0\n",
      "Prog start 1\n",
      "Prog start 2\n",
      "Prog start 3\n",
      "Prog start 4\n",
      "Prog start 5\n",
      "Prog start 6\n",
      "Prog start 7\n",
      "Prog start 8\n",
      "Prog start 9\n"
     ]
    }
   ],
   "source": [
    "for i in thread:\n",
    "    i.start()"
   ]
  },
  {
   "cell_type": "code",
   "execution_count": 14,
   "id": "68fedb3c-212e-4540-90c1-680a6c9da974",
   "metadata": {},
   "outputs": [
    {
     "data": {
      "text/plain": [
       "[<Thread(Thread-5 (test), stopped 139829409990208)>,\n",
       " <Thread(Thread-6 (test), stopped 139829409990208)>,\n",
       " <Thread(Thread-7 (test), stopped 139829409990208)>,\n",
       " <Thread(Thread-8 (test), stopped 139829401597504)>,\n",
       " <Thread(Thread-9 (test), stopped 139829401597504)>,\n",
       " <Thread(Thread-10 (test), stopped 139829401597504)>,\n",
       " <Thread(Thread-11 (test), stopped 139829409990208)>,\n",
       " <Thread(Thread-12 (test), stopped 139829409990208)>,\n",
       " <Thread(Thread-13 (test), stopped 139829409990208)>,\n",
       " <Thread(Thread-14 (test), stopped 139829409990208)>]"
      ]
     },
     "execution_count": 14,
     "metadata": {},
     "output_type": "execute_result"
    }
   ],
   "source": [
    "thread"
   ]
  },
  {
   "cell_type": "code",
   "execution_count": 15,
   "id": "711a4a0b-2b60-4d87-9ee0-3cbdc7c91a1f",
   "metadata": {},
   "outputs": [
    {
     "data": {
      "text/plain": [
       "139829414627008"
      ]
     },
     "execution_count": 15,
     "metadata": {},
     "output_type": "execute_result"
    }
   ],
   "source": [
    "id(thread)"
   ]
  },
  {
   "cell_type": "code",
   "execution_count": 18,
   "id": "53d2f28d-0b40-4211-ab1e-07bcdae59b46",
   "metadata": {},
   "outputs": [],
   "source": [
    "import threading\n",
    "import urllib.request\n",
    "\n",
    "def file_download(url, filename):\n",
    "    urllib.request.urlretrieve(url, filename)"
   ]
  },
  {
   "cell_type": "code",
   "execution_count": 27,
   "id": "d016a8a6-6a21-40a0-bcaa-87a0e025005c",
   "metadata": {},
   "outputs": [],
   "source": [
    "list_files = [\n",
    "'https://raw.githubusercontent.com/itsfoss/text-files/master/agatha.txt',\n",
    "'https://raw.githubusercontent.com/itsfoss/text-files/master/agatha_complete.txt',\n",
    "'https://raw.githubusercontent.com/itsfoss/text-files/master/sample_log_file.txt'\n",
    "]"
   ]
  },
  {
   "cell_type": "code",
   "execution_count": 28,
   "id": "8f145469-4c61-44ab-b8d9-b6e891f2138c",
   "metadata": {},
   "outputs": [
    {
     "data": {
      "text/plain": [
       "['https://raw.githubusercontent.com/itsfoss/text-files/master/agatha.txt',\n",
       " 'https://raw.githubusercontent.com/itsfoss/text-files/master/agatha_complete.txt',\n",
       " 'https://raw.githubusercontent.com/itsfoss/text-files/master/sample_log_file.txt']"
      ]
     },
     "execution_count": 28,
     "metadata": {},
     "output_type": "execute_result"
    }
   ],
   "source": [
    "list_files"
   ]
  },
  {
   "cell_type": "code",
   "execution_count": 29,
   "id": "aa38397a-d0cf-4714-b4c3-cd3ce3096724",
   "metadata": {},
   "outputs": [],
   "source": [
    "file_name_list = ['data1.txt', 'data2.txt', 'data3.txt']"
   ]
  },
  {
   "cell_type": "code",
   "execution_count": 30,
   "id": "01b463d2-f849-4312-a05d-63e1feda0c4e",
   "metadata": {},
   "outputs": [],
   "source": [
    "thre = [threading.Thread(target=file_download, args=(list_files[i], file_name_list[i])) for i in range(len(list_files))]"
   ]
  },
  {
   "cell_type": "code",
   "execution_count": 31,
   "id": "b175cb96-9001-42c3-83d8-907a211d8a51",
   "metadata": {},
   "outputs": [
    {
     "data": {
      "text/plain": [
       "[<Thread(Thread-18 (file_download), initial)>,\n",
       " <Thread(Thread-19 (file_download), initial)>,\n",
       " <Thread(Thread-20 (file_download), initial)>]"
      ]
     },
     "execution_count": 31,
     "metadata": {},
     "output_type": "execute_result"
    }
   ],
   "source": [
    "thre"
   ]
  },
  {
   "cell_type": "code",
   "execution_count": 32,
   "id": "ae30ff15-d316-439d-a8b7-0eb5141866a6",
   "metadata": {},
   "outputs": [],
   "source": [
    "for t in thre:\n",
    "    t.start()"
   ]
  },
  {
   "cell_type": "code",
   "execution_count": 33,
   "id": "408203cb-06bc-412e-bda5-8424a22874c3",
   "metadata": {},
   "outputs": [
    {
     "data": {
      "text/plain": [
       "[<Thread(Thread-18 (file_download), stopped 139829409990208)>,\n",
       " <Thread(Thread-19 (file_download), stopped 139829401597504)>,\n",
       " <Thread(Thread-20 (file_download), stopped 139829035660864)>]"
      ]
     },
     "execution_count": 33,
     "metadata": {},
     "output_type": "execute_result"
    }
   ],
   "source": [
    "thre"
   ]
  },
  {
   "cell_type": "code",
   "execution_count": 34,
   "id": "66a9f41c-d8a9-489e-9720-54d80dd260ec",
   "metadata": {},
   "outputs": [],
   "source": [
    "import time"
   ]
  },
  {
   "cell_type": "code",
   "execution_count": 40,
   "id": "85809eb2-c5c9-4da8-b71a-1868d72091e4",
   "metadata": {},
   "outputs": [],
   "source": [
    "def test1(id):\n",
    "    for i in range(10):\n",
    "        print (\"test1 %d printing %d %s\" %(id, i, time.ctime()))\n",
    "        time.sleep(1)"
   ]
  },
  {
   "cell_type": "code",
   "execution_count": 41,
   "id": "1ba1a319-e74e-4070-a972-614533840e72",
   "metadata": {},
   "outputs": [
    {
     "name": "stdout",
     "output_type": "stream",
     "text": [
      "test1 1 printing 0 Wed Jul 26 17:13:08 2023\n",
      "test1 1 printing 1 Wed Jul 26 17:13:09 2023\n",
      "test1 1 printing 2 Wed Jul 26 17:13:10 2023\n",
      "test1 1 printing 3 Wed Jul 26 17:13:11 2023\n",
      "test1 1 printing 4 Wed Jul 26 17:13:12 2023\n",
      "test1 1 printing 5 Wed Jul 26 17:13:13 2023\n",
      "test1 1 printing 6 Wed Jul 26 17:13:14 2023\n",
      "test1 1 printing 7 Wed Jul 26 17:13:15 2023\n",
      "test1 1 printing 8 Wed Jul 26 17:13:16 2023\n",
      "test1 1 printing 9 Wed Jul 26 17:13:17 2023\n"
     ]
    }
   ],
   "source": [
    "test1(1)"
   ]
  },
  {
   "cell_type": "code",
   "execution_count": 42,
   "id": "7f5bf047-20c5-48fd-81cc-ba4b425646cc",
   "metadata": {},
   "outputs": [],
   "source": [
    "thread1 = [threading.Thread(target=test1, args=(i,)) for i in range(3)]"
   ]
  },
  {
   "cell_type": "code",
   "execution_count": 43,
   "id": "63303494-674e-4d51-b8d4-49bb7fde0dcf",
   "metadata": {},
   "outputs": [
    {
     "name": "stdout",
     "output_type": "stream",
     "text": [
      "test1 0 printing 0 Wed Jul 26 17:13:22 2023\n",
      "test1 1 printing 0 Wed Jul 26 17:13:22 2023\n",
      "test1 2 printing 0 Wed Jul 26 17:13:22 2023\n",
      "test1 0 printing 1 Wed Jul 26 17:13:23 2023\n",
      "test1 1 printing 1 Wed Jul 26 17:13:23 2023\n",
      "test1 2 printing 1 Wed Jul 26 17:13:23 2023\n",
      "test1 0 printing 2 Wed Jul 26 17:13:24 2023\n",
      "test1 1 printing 2 Wed Jul 26 17:13:24 2023\n",
      "test1 2 printing 2 Wed Jul 26 17:13:24 2023\n",
      "test1 2 printing 3 Wed Jul 26 17:13:25 2023test1 0 printing 3 Wed Jul 26 17:13:25 2023\n",
      "\n",
      "test1 1 printing 3 Wed Jul 26 17:13:25 2023\n",
      "test1 0 printing 4 Wed Jul 26 17:13:26 2023test1 2 printing 4 Wed Jul 26 17:13:26 2023\n",
      "test1 1 printing 4 Wed Jul 26 17:13:26 2023\n",
      "\n",
      "test1 2 printing 5 Wed Jul 26 17:13:27 2023test1 1 printing 5 Wed Jul 26 17:13:27 2023\n",
      "\n",
      "test1 0 printing 5 Wed Jul 26 17:13:27 2023\n",
      "test1 1 printing 6 Wed Jul 26 17:13:28 2023\n",
      "test1 0 printing 6 Wed Jul 26 17:13:28 2023\n",
      "test1 2 printing 6 Wed Jul 26 17:13:28 2023\n",
      "test1 1 printing 7 Wed Jul 26 17:13:29 2023test1 0 printing 7 Wed Jul 26 17:13:29 2023\n",
      "\n",
      "test1 2 printing 7 Wed Jul 26 17:13:29 2023\n",
      "test1 0 printing 8 Wed Jul 26 17:13:30 2023test1 1 printing 8 Wed Jul 26 17:13:30 2023\n",
      "test1 2 printing 8 Wed Jul 26 17:13:30 2023\n",
      "\n",
      "test1 1 printing 9 Wed Jul 26 17:13:31 2023\n",
      "test1 2 printing 9 Wed Jul 26 17:13:31 2023\n",
      "test1 0 printing 9 Wed Jul 26 17:13:31 2023\n"
     ]
    }
   ],
   "source": [
    "for t in thread1:\n",
    "    t.start()"
   ]
  },
  {
   "cell_type": "code",
   "execution_count": 44,
   "id": "67e5667a-402f-4637-a849-c962ba719671",
   "metadata": {},
   "outputs": [],
   "source": [
    "shared_var = 0\n",
    "lock_var = threading.Lock()"
   ]
  },
  {
   "cell_type": "code",
   "execution_count": 52,
   "id": "fb8c75e8-e643-4f9d-8b1d-a6d0380ddd6d",
   "metadata": {},
   "outputs": [],
   "source": [
    "def test3(id):\n",
    "    global shared_var\n",
    "    with lock_var:\n",
    "        shared_var = shared_var + 1\n",
    "        print(\" test 3 id %d is shared by %d\" %(id, shared_var))\n",
    "        time.sleep(1)"
   ]
  },
  {
   "cell_type": "code",
   "execution_count": 53,
   "id": "61085231-9714-490a-9fb4-71b1dd3d32c0",
   "metadata": {},
   "outputs": [],
   "source": [
    "threa3 = [threading.Thread(target=test3, args=(i,)) for i in range(3)]"
   ]
  },
  {
   "cell_type": "code",
   "execution_count": 54,
   "id": "92b617dd-cdbc-4e72-9157-827aa96b0d3b",
   "metadata": {},
   "outputs": [
    {
     "data": {
      "text/plain": [
       "[<Thread(Thread-33 (test3), initial)>,\n",
       " <Thread(Thread-34 (test3), initial)>,\n",
       " <Thread(Thread-35 (test3), initial)>]"
      ]
     },
     "execution_count": 54,
     "metadata": {},
     "output_type": "execute_result"
    }
   ],
   "source": [
    "threa3"
   ]
  },
  {
   "cell_type": "code",
   "execution_count": 55,
   "id": "9a6c5a3d-d308-4f11-be4f-539c6ec2a492",
   "metadata": {},
   "outputs": [
    {
     "name": "stdout",
     "output_type": "stream",
     "text": [
      " test 3 id 0 is shared by 7\n",
      " test 3 id 1 is shared by 8\n",
      " test 3 id 2 is shared by 9\n"
     ]
    }
   ],
   "source": [
    "for t in threa3:\n",
    "    t.start()"
   ]
  },
  {
   "cell_type": "code",
   "execution_count": null,
   "id": "eafacd44-ef94-46a6-bf65-839b18b5b873",
   "metadata": {},
   "outputs": [],
   "source": []
  }
 ],
 "metadata": {
  "kernelspec": {
   "display_name": "Python 3 (ipykernel)",
   "language": "python",
   "name": "python3"
  },
  "language_info": {
   "codemirror_mode": {
    "name": "ipython",
    "version": 3
   },
   "file_extension": ".py",
   "mimetype": "text/x-python",
   "name": "python",
   "nbconvert_exporter": "python",
   "pygments_lexer": "ipython3",
   "version": "3.10.8"
  }
 },
 "nbformat": 4,
 "nbformat_minor": 5
}
