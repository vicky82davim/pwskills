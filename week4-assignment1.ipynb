{
 "cells": [
  {
   "cell_type": "code",
   "execution_count": 6,
   "id": "efc4652b-9991-4c3a-9b11-344dfc452b4c",
   "metadata": {},
   "outputs": [],
   "source": [
    "\"\"\"\n",
    "Q1, Create a vehicle class with an init method having instance variables as name_of_vehicle, max_speed\n",
    "and average_of_vehicle.\n",
    "\"\"\"\n",
    "class vehicle:\n",
    "    \n",
    "    def __init__(self, name_of_vehicle, max_speed, average_of_vehicle):\n",
    "        self.name_of_vehicle = name_of_vehicle\n",
    "        self.max_speed = max_speed\n",
    "        self.average_of_vehicle = average_of_vehicle"
   ]
  },
  {
   "cell_type": "code",
   "execution_count": 15,
   "id": "34c7a227-d33b-4f85-ae56-2c68f1fc6d25",
   "metadata": {},
   "outputs": [
    {
     "data": {
      "text/plain": [
       "('Innova', 7)"
      ]
     },
     "execution_count": 15,
     "metadata": {},
     "output_type": "execute_result"
    }
   ],
   "source": [
    "\"\"\"\n",
    "Q2. Create a child class car from the vehicle class created in Que 1, which will inherit the vehicle class.\n",
    "Create a method named seating_capacity which takes capacity as an argument and returns the name of\n",
    "the vehicle and its seating capacity.\n",
    "\"\"\"\n",
    "class car(vehicle):\n",
    "    \n",
    "    def seating_capacity(self, capacity):\n",
    "        return self.name_of_vehicle, capacity\n",
    "\n",
    "obj_car = car(\"Innova\", 200, 20)\n",
    "obj_car.seating_capacity(7)"
   ]
  },
  {
   "cell_type": "code",
   "execution_count": 17,
   "id": "a0e7c145-6009-4d61-ab06-b5f65b87ec2d",
   "metadata": {},
   "outputs": [
    {
     "data": {
      "text/plain": [
       "'Type of car'"
      ]
     },
     "execution_count": 17,
     "metadata": {},
     "output_type": "execute_result"
    }
   ],
   "source": [
    "\"\"\"\n",
    "Q3. What is multiple inheritance? Write a python code to demonstrate multiple inheritance.\n",
    "\"\"\"\n",
    "class cartype:\n",
    "    \n",
    "    def car_type(self):\n",
    "        return \"Type of car\"\n",
    "\n",
    "class cartyre:\n",
    "    \n",
    "    def car_tyre(self):\n",
    "        return \"Type of car tyre\"\n",
    "\n",
    "class innova(cartype, cartyre):\n",
    "    pass\n",
    "\n",
    "obj_innova = innova()\n",
    "obj_innova.car_type()"
   ]
  },
  {
   "cell_type": "code",
   "execution_count": 18,
   "id": "ece08442-e149-43f6-be4a-feeebcd961a3",
   "metadata": {},
   "outputs": [
    {
     "data": {
      "text/plain": [
       "'Type of car tyre'"
      ]
     },
     "execution_count": 18,
     "metadata": {},
     "output_type": "execute_result"
    }
   ],
   "source": [
    "obj_innova.car_tyre()"
   ]
  },
  {
   "cell_type": "code",
   "execution_count": 20,
   "id": "0e754ccf-0de9-42ba-ab8e-954cd0e206ef",
   "metadata": {},
   "outputs": [
    {
     "data": {
      "text/plain": [
       "'Not entered'"
      ]
     },
     "execution_count": 20,
     "metadata": {},
     "output_type": "execute_result"
    }
   ],
   "source": [
    "\"\"\"\n",
    "Q4. What are getter and setter in python? Create a class and create a getter and a setter method in this\n",
    "class.\n",
    "\"\"\"\n",
    "\n",
    "class student:\n",
    "    \n",
    "    def __init__(self):\n",
    "        self.__student_name = 'Not entered'\n",
    "        \n",
    "    def set_student_name(self, student_name):\n",
    "        self.__student_name = student_name\n",
    "        \n",
    "    def get_student_name(self):\n",
    "        return self.__student_name\n",
    "\n",
    "obj_stud = student()\n",
    "obj_stud.get_student_name()"
   ]
  },
  {
   "cell_type": "code",
   "execution_count": 22,
   "id": "b7110387-1f23-4774-a864-d3d362289a89",
   "metadata": {},
   "outputs": [],
   "source": [
    "obj_stud.set_student_name(\"Rohan\")"
   ]
  },
  {
   "cell_type": "code",
   "execution_count": 23,
   "id": "2a49bb45-47b7-474f-8247-629abc073680",
   "metadata": {},
   "outputs": [
    {
     "data": {
      "text/plain": [
       "'Rohan'"
      ]
     },
     "execution_count": 23,
     "metadata": {},
     "output_type": "execute_result"
    }
   ],
   "source": [
    "obj_stud.get_student_name()"
   ]
  },
  {
   "cell_type": "code",
   "execution_count": 25,
   "id": "49348cb7-dd08-44ba-a1d8-936d7281a748",
   "metadata": {},
   "outputs": [
    {
     "data": {
      "text/plain": [
       "'Parent Metthod'"
      ]
     },
     "execution_count": 25,
     "metadata": {},
     "output_type": "execute_result"
    }
   ],
   "source": [
    "\"\"\"\n",
    "Q5.What is method overriding in python? Write a python code to demonstrate method overriding.\n",
    "\"\"\"\n",
    "\n",
    "class parent:\n",
    "    \n",
    "    def meth1(self):\n",
    "        return \"Parent Metthod\"\n",
    "\n",
    "class child(parent):\n",
    "    \n",
    "    def meth1(self):\n",
    "        return \"child Method\"\n",
    "\n",
    "obj_override = parent()\n",
    "obj_override.meth1()"
   ]
  },
  {
   "cell_type": "code",
   "execution_count": 26,
   "id": "520c5ff6-5bb8-4ff6-a622-54f2ea07b5e7",
   "metadata": {},
   "outputs": [
    {
     "data": {
      "text/plain": [
       "'child Method'"
      ]
     },
     "execution_count": 26,
     "metadata": {},
     "output_type": "execute_result"
    }
   ],
   "source": [
    "obj_override = child()\n",
    "obj_override.meth1()"
   ]
  },
  {
   "cell_type": "code",
   "execution_count": null,
   "id": "8cd90216-6e7d-46a0-900b-5c376058f667",
   "metadata": {},
   "outputs": [],
   "source": []
  }
 ],
 "metadata": {
  "kernelspec": {
   "display_name": "Python 3 (ipykernel)",
   "language": "python",
   "name": "python3"
  },
  "language_info": {
   "codemirror_mode": {
    "name": "ipython",
    "version": 3
   },
   "file_extension": ".py",
   "mimetype": "text/x-python",
   "name": "python",
   "nbconvert_exporter": "python",
   "pygments_lexer": "ipython3",
   "version": "3.10.8"
  }
 },
 "nbformat": 4,
 "nbformat_minor": 5
}
