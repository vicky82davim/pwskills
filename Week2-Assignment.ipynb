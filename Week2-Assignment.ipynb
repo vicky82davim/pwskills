{
 "cells": [
  {
   "cell_type": "code",
   "execution_count": 1,
   "id": "afa0d4b6-8138-4d2e-9556-180aed014b9e",
   "metadata": {},
   "outputs": [
    {
     "data": {
      "text/plain": [
       "' multiline \\ncomment'"
      ]
     },
     "execution_count": 1,
     "metadata": {},
     "output_type": "execute_result"
    }
   ],
   "source": [
    "# Q1. How do you comment code in Python? What are the different types of comments?\n",
    "## Single line comment\n",
    "''' multiline \n",
    "comment'''"
   ]
  },
  {
   "cell_type": "code",
   "execution_count": 2,
   "id": "1ef30e53-5e01-4de9-a5d0-aaf91caaa43e",
   "metadata": {},
   "outputs": [],
   "source": [
    "# Q2. What are variables in Python? How do you declare and assign values to variables?\n",
    "\"\"\"\n",
    "Variables are the way to store or represent data in Python\n",
    "\"\"\"\n",
    "a = 'My Name'"
   ]
  },
  {
   "cell_type": "code",
   "execution_count": 3,
   "id": "25a4ab9c-7f11-4ba4-91b8-a3daf81cae60",
   "metadata": {},
   "outputs": [],
   "source": [
    "# Q3. How do you convert one data type to another in Python?\n",
    "\"\"\"\n",
    "We can covert data type using type casting\n",
    "\"\"\"\n",
    "a = [1,2,3]\n",
    "b = tuple(a)"
   ]
  },
  {
   "cell_type": "code",
   "execution_count": 4,
   "id": "3799bb94-c0fc-4982-85cc-0e171e699558",
   "metadata": {},
   "outputs": [
    {
     "data": {
      "text/plain": [
       "(1, 2, 3)"
      ]
     },
     "execution_count": 4,
     "metadata": {},
     "output_type": "execute_result"
    }
   ],
   "source": [
    "b"
   ]
  },
  {
   "cell_type": "code",
   "execution_count": 5,
   "id": "150e3c52-8e26-4b8f-ba4b-b7cec2fc9cc4",
   "metadata": {},
   "outputs": [
    {
     "name": "stdout",
     "output_type": "stream",
     "text": [
      "shift + enter\n"
     ]
    }
   ],
   "source": [
    "# Q4. How do you write and execute a Python script from the command line?\n",
    "\"\"\"\n",
    "We can execute script by pressing shift + enter\n",
    "\"\"\"\n",
    "print(\"shift + enter\")"
   ]
  },
  {
   "cell_type": "code",
   "execution_count": 6,
   "id": "23b8a359-f973-44a3-b02e-4c1a850e3387",
   "metadata": {},
   "outputs": [
    {
     "data": {
      "text/plain": [
       "[2, 3]"
      ]
     },
     "execution_count": 6,
     "metadata": {},
     "output_type": "execute_result"
    }
   ],
   "source": [
    "# Q5. Given a list my_list = [1, 2, 3, 4, 5], write the code to slice the list and obtain the sub-list [2, 3].\n",
    "my_list = [1, 2, 3, 4, 5]\n",
    "my_list[1:3]"
   ]
  },
  {
   "cell_type": "code",
   "execution_count": 9,
   "id": "389b46a7-3a5b-4135-9092-8991226e4b53",
   "metadata": {},
   "outputs": [
    {
     "data": {
      "text/plain": [
       "(4+45j)"
      ]
     },
     "execution_count": 9,
     "metadata": {},
     "output_type": "execute_result"
    }
   ],
   "source": [
    "# Q6. What is a complex number in mathematics, and how is it represented in Python?\n",
    "complex_number = 4 + 45j\n",
    "complex_number"
   ]
  },
  {
   "cell_type": "code",
   "execution_count": 10,
   "id": "30911419-ebdb-44b3-9fad-b1d0870294f8",
   "metadata": {},
   "outputs": [
    {
     "data": {
      "text/plain": [
       "25"
      ]
     },
     "execution_count": 10,
     "metadata": {},
     "output_type": "execute_result"
    }
   ],
   "source": [
    "# Q7. What is the correct way to declare a variable named age and assign the value 25 to it?\n",
    "a = 25\n",
    "a"
   ]
  },
  {
   "cell_type": "code",
   "execution_count": 11,
   "id": "9d429729-f150-4e21-a118-0be563685c90",
   "metadata": {},
   "outputs": [
    {
     "data": {
      "text/plain": [
       "float"
      ]
     },
     "execution_count": 11,
     "metadata": {},
     "output_type": "execute_result"
    }
   ],
   "source": [
    "# Q8. Declare a variable named price and assign the value 9.99 to it. What data type does this variable belong to?\n",
    "\"\"\"\n",
    "Its data type is float\n",
    "\"\"\"\n",
    "price = 9.99\n",
    "type(price)"
   ]
  },
  {
   "cell_type": "code",
   "execution_count": 12,
   "id": "3722288a-1386-48e0-b462-97c7fc1e4896",
   "metadata": {},
   "outputs": [
    {
     "name": "stdout",
     "output_type": "stream",
     "text": [
      "Veeneet Kumar\n"
     ]
    }
   ],
   "source": [
    "# Q9. Create a variable named name and assign your full name to it as a string. How would you print the\n",
    "# value of this variable?\n",
    "name = \"Veeneet Kumar\"\n",
    "print(name)"
   ]
  },
  {
   "cell_type": "code",
   "execution_count": 16,
   "id": "7a5f11c3-c8e0-4dc8-895d-7ea604832f8e",
   "metadata": {},
   "outputs": [
    {
     "data": {
      "text/plain": [
       "'World'"
      ]
     },
     "execution_count": 16,
     "metadata": {},
     "output_type": "execute_result"
    }
   ],
   "source": [
    "# Q10. Given the string \"Hello, World!\", extract the substring \"World\".\n",
    "a = \"Hello, World!\"\n",
    "a[7:-1]"
   ]
  },
  {
   "cell_type": "code",
   "execution_count": 17,
   "id": "b6db375f-735d-4ce7-8d7d-979b9919a717",
   "metadata": {},
   "outputs": [],
   "source": [
    "# Q11. Create a variable named \"is_student\" and assign it a boolean value indicating whether you are\n",
    "# currently a student or not.\n",
    "is_student = True"
   ]
  },
  {
   "cell_type": "code",
   "execution_count": null,
   "id": "3f0fcc7d-68c0-4a8c-a0b2-f5b783142064",
   "metadata": {},
   "outputs": [],
   "source": []
  }
 ],
 "metadata": {
  "kernelspec": {
   "display_name": "Python 3 (ipykernel)",
   "language": "python",
   "name": "python3"
  },
  "language_info": {
   "codemirror_mode": {
    "name": "ipython",
    "version": 3
   },
   "file_extension": ".py",
   "mimetype": "text/x-python",
   "name": "python",
   "nbconvert_exporter": "python",
   "pygments_lexer": "ipython3",
   "version": "3.10.8"
  }
 },
 "nbformat": 4,
 "nbformat_minor": 5
}
