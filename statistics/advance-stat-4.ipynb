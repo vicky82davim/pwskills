{
 "cells": [
  {
   "cell_type": "code",
   "execution_count": 1,
   "id": "2edd4429-dae0-4072-b17a-f24f8a01af75",
   "metadata": {},
   "outputs": [
    {
     "data": {
      "text/plain": [
       "'\\nQ1: What is the difference between a t-test and a z-test? Provide an example scenario where you would use each type of test. \\nANS:\\nA z-test is used to test a Null Hypothesis if the population variance is known, or if the sample size is larger \\nthan 30, for an unknown population variance. \\nA t-test is used when the sample size is less than 30 and the population variance is unknown\\nIt is assumed that the z-statistic follows a standard normal distribution, whereas the t-statistic follows the \\nt-distribution with a degree of freedom equal to n-1, where n is the sample size\\nZ-Test Example: A teacher claims that the mean score of students in his class is greater than 82 with a standard \\ndeviation of 20. If a sample of 81 students was selected with a mean score of 90 then check if there is enough \\nevidence to support this claim at a 0.05 significance level.\\nT-Test Example: A teacher claims that the mean score of students in his class is greater than 82 with a standard \\ndeviation of 20. If a sample of 20 students was selected with a mean score of 90 then check if there is enough \\nevidence to support this claim at a 0.05 significance level.\\n\\n'"
      ]
     },
     "execution_count": 1,
     "metadata": {},
     "output_type": "execute_result"
    }
   ],
   "source": [
    "\"\"\"\n",
    "Q1: What is the difference between a t-test and a z-test? Provide an example scenario where you would use each type of test. \n",
    "ANS:\n",
    "A z-test is used to test a Null Hypothesis if the population variance is known, or if the sample size is larger \n",
    "than 30, for an unknown population variance. \n",
    "A t-test is used when the sample size is less than 30 and the population variance is unknown\n",
    "It is assumed that the z-statistic follows a standard normal distribution, whereas the t-statistic follows the \n",
    "t-distribution with a degree of freedom equal to n-1, where n is the sample size\n",
    "Z-Test Example: A teacher claims that the mean score of students in his class is greater than 82 with a standard \n",
    "deviation of 20. If a sample of 81 students was selected with a mean score of 90 then check if there is enough \n",
    "evidence to support this claim at a 0.05 significance level.\n",
    "T-Test Example: A teacher claims that the mean score of students in his class is greater than 82 with a standard \n",
    "deviation of 20. If a sample of 20 students was selected with a mean score of 90 then check if there is enough \n",
    "evidence to support this claim at a 0.05 significance level.\n",
    "\n",
    "\"\"\""
   ]
  },
  {
   "cell_type": "code",
   "execution_count": 2,
   "id": "7d7b77be-b881-4b87-8fb7-9de617b3a01f",
   "metadata": {},
   "outputs": [
    {
     "data": {
      "text/plain": [
       "'\\nQ2: Differentiate between one-tailed and two-tailed tests. \\nAns:\\nOne-Tailed Test\\nA one-tailed test is based on a uni-directional hypothesis where the area of rejection is on only one side of the \\nsampling distribution. It determines whether a particular population parameter is larger or smaller than the \\npredefined parameter. It uses one single critical value to test the data.\\n\\nTwo-Tailed Test\\nA two-tailed test is also called a nondirectional hypothesis. For checking whether the sample is greater or less \\nthan a range of values, we use the two-tailed. It is used for null hypothesis testing.\\n\\n'"
      ]
     },
     "execution_count": 2,
     "metadata": {},
     "output_type": "execute_result"
    }
   ],
   "source": [
    "\"\"\"\n",
    "Q2: Differentiate between one-tailed and two-tailed tests. \n",
    "Ans:\n",
    "One-Tailed Test\n",
    "A one-tailed test is based on a uni-directional hypothesis where the area of rejection is on only one side of the \n",
    "sampling distribution. It determines whether a particular population parameter is larger or smaller than the \n",
    "predefined parameter. It uses one single critical value to test the data.\n",
    "\n",
    "Two-Tailed Test\n",
    "A two-tailed test is also called a nondirectional hypothesis. For checking whether the sample is greater or less \n",
    "than a range of values, we use the two-tailed. It is used for null hypothesis testing.\n",
    "\n",
    "\"\"\""
   ]
  },
  {
   "cell_type": "code",
   "execution_count": 3,
   "id": "f15bdff3-64b3-4ef9-87fb-52838f87876f",
   "metadata": {},
   "outputs": [
    {
     "data": {
      "text/plain": [
       "'\\nQ3: Explain the concept of Type 1 and Type 2 errors in hypothesis testing. Provide an example scenario for each type of error. \\nANS:\\nIn statistics, a Type I error is a false positive conclusion, while a Type II error is a false negative conclusion.\\nIf results show statistical significance, that means they are very unlikely to occur if the null hypothesis is true. \\nIn this case, we would reject null hypothesis. But sometimes, this may actually be a Type I error.\\nIf findings do not show statistical significance, they have a high chance of occurring if the null hypothesis is \\ntrue. Therefore, we fail to reject null hypothesis. But sometimes, this may be a Type II error.\\nA fire alarm provides a good analogy for the types of hypothesis testing errors. Preferably, the alarm rings when \\nthere is a fire and does not ring in the absence of a fire. However, if the alarm rings when there is no fire, \\nit is a false positive, or a Type I error in statistical terms. Conversely, if the fire alarm fails to ring when \\nthere is a fire, it is a false negative, or a Type II error.\\n\\n'"
      ]
     },
     "execution_count": 3,
     "metadata": {},
     "output_type": "execute_result"
    }
   ],
   "source": [
    "\"\"\"\n",
    "Q3: Explain the concept of Type 1 and Type 2 errors in hypothesis testing. Provide an example scenario for each type of error. \n",
    "ANS:\n",
    "In statistics, a Type I error is a false positive conclusion, while a Type II error is a false negative conclusion.\n",
    "If results show statistical significance, that means they are very unlikely to occur if the null hypothesis is true. \n",
    "In this case, we would reject null hypothesis. But sometimes, this may actually be a Type I error.\n",
    "If findings do not show statistical significance, they have a high chance of occurring if the null hypothesis is \n",
    "true. Therefore, we fail to reject null hypothesis. But sometimes, this may be a Type II error.\n",
    "A fire alarm provides a good analogy for the types of hypothesis testing errors. Preferably, the alarm rings when \n",
    "there is a fire and does not ring in the absence of a fire. However, if the alarm rings when there is no fire, \n",
    "it is a false positive, or a Type I error in statistical terms. Conversely, if the fire alarm fails to ring when \n",
    "there is a fire, it is a false negative, or a Type II error.\n",
    "\n",
    "\"\"\""
   ]
  },
  {
   "cell_type": "code",
   "execution_count": 4,
   "id": "5031d904-6437-4298-867d-4f96a2473b20",
   "metadata": {},
   "outputs": [
    {
     "data": {
      "text/plain": [
       "\"\\nQ4:  Explain Bayes's theorem with an example. \\nAns:\\nBayes' Theorem, is a mathematical formula for determining conditional probability. Conditional probability is the \\nlikelihood of an outcome occurring, based on a previous outcome having occurred in similar circumstances.\\nExample: What is the probability of the AMZN stock price falling given that the Dow Jones Industrial Average \\n(DJIA) index fell earlier?\\nThe conditional probability of A given that B has happened can be expressed as:\\nP(AMZN|DJIA) = P(AMZN and DJIA) / P(DJIA)\\n\\n\""
      ]
     },
     "execution_count": 4,
     "metadata": {},
     "output_type": "execute_result"
    }
   ],
   "source": [
    "\"\"\"\n",
    "Q4:  Explain Bayes's theorem with an example. \n",
    "Ans:\n",
    "Bayes' Theorem, is a mathematical formula for determining conditional probability. Conditional probability is the \n",
    "likelihood of an outcome occurring, based on a previous outcome having occurred in similar circumstances.\n",
    "Example: What is the probability of the AMZN stock price falling given that the Dow Jones Industrial Average \n",
    "(DJIA) index fell earlier?\n",
    "The conditional probability of A given that B has happened can be expressed as:\n",
    "P(AMZN|DJIA) = P(AMZN and DJIA) / P(DJIA)\n",
    "\n",
    "\"\"\""
   ]
  },
  {
   "cell_type": "code",
   "execution_count": 5,
   "id": "77015097-cd53-4521-949c-d8e103c75782",
   "metadata": {},
   "outputs": [
    {
     "data": {
      "text/plain": [
       "'\\nQ5: What is a confidence interval? How to calculate the confidence interval, explain with an example. \\nANS:\\nA confidence interval is how much uncertainty there is with any particular statistic. Confidence intervals are \\noften used with a margin of error. It tells how confident we can be that the results from a poll or survey reflect \\nwhat we would expect to find if it were possible to survey the entire population.\\nExample: A 2008 Gallup survey found that TV ownership may be good for wellbeing. The results from the poll stated \\nthat the confidence level was 95% +/-3, which means that if Gallup repeated the poll over and over, using the same \\ntechniques, 95% of the time the results would fall within the published results. The 95% is the confidence level \\nand the +/-3 is called a margin of error.\\n\\n'"
      ]
     },
     "execution_count": 5,
     "metadata": {},
     "output_type": "execute_result"
    }
   ],
   "source": [
    "\"\"\"\n",
    "Q5: What is a confidence interval? How to calculate the confidence interval, explain with an example. \n",
    "ANS:\n",
    "A confidence interval is how much uncertainty there is with any particular statistic. Confidence intervals are \n",
    "often used with a margin of error. It tells how confident we can be that the results from a poll or survey reflect \n",
    "what we would expect to find if it were possible to survey the entire population.\n",
    "Example: A 2008 Gallup survey found that TV ownership may be good for wellbeing. The results from the poll stated \n",
    "that the confidence level was 95% +/-3, which means that if Gallup repeated the poll over and over, using the same \n",
    "techniques, 95% of the time the results would fall within the published results. The 95% is the confidence level \n",
    "and the +/-3 is called a margin of error.\n",
    "\n",
    "\"\"\""
   ]
  },
  {
   "cell_type": "code",
   "execution_count": 6,
   "id": "a43154f5-1509-4637-aa7a-f2ddae6b93b5",
   "metadata": {},
   "outputs": [
    {
     "data": {
      "text/plain": [
       "\"\\nQ6. Use Bayes' Theorem to calculate the probability of an event occurring given prior knowledge of the event's \\nprobability and new evidence. Provide a sample problem and solution. \\nAns:\\nExample: Amy has two bags. Bag I has 7 red and 4 blue balls and bag II has 5 red and 9 blue balls. Amy draws a \\nball at random and it turns out to be red. Determine the probability that the ball was from the bag I\\nA = event for drawing a red ball\\nprobability of choosing a bag for drawing a ball\\nP(X) = P(Y) = ½\\nP(drawing a red ball from the bag I) = P(A/X) = 7/11\\nP(drawing a red ball from bag II) = P(A/Y) = 5/14\\nP(X/A)=P(A/X)P(X) / P(A/X)P(X)+P(A/Y)P(Y)\\n= 7/11 * ½ / 7/12*1/2 + 5/14*1/2\\n=0.64\\n\\n\""
      ]
     },
     "execution_count": 6,
     "metadata": {},
     "output_type": "execute_result"
    }
   ],
   "source": [
    "\"\"\"\n",
    "Q6. Use Bayes' Theorem to calculate the probability of an event occurring given prior knowledge of the event's \n",
    "probability and new evidence. Provide a sample problem and solution. \n",
    "Ans:\n",
    "Example: Amy has two bags. Bag I has 7 red and 4 blue balls and bag II has 5 red and 9 blue balls. Amy draws a \n",
    "ball at random and it turns out to be red. Determine the probability that the ball was from the bag I\n",
    "A = event for drawing a red ball\n",
    "probability of choosing a bag for drawing a ball\n",
    "P(X) = P(Y) = ½\n",
    "P(drawing a red ball from the bag I) = P(A/X) = 7/11\n",
    "P(drawing a red ball from bag II) = P(A/Y) = 5/14\n",
    "P(X/A)=P(A/X)P(X) / P(A/X)P(X)+P(A/Y)P(Y)\n",
    "= 7/11 * ½ / 7/12*1/2 + 5/14*1/2\n",
    "=0.64\n",
    "\n",
    "\"\"\""
   ]
  },
  {
   "cell_type": "code",
   "execution_count": 7,
   "id": "7dcff0de-2051-43d3-89a2-9f4202aa1f73",
   "metadata": {},
   "outputs": [
    {
     "data": {
      "text/plain": [
       "'\\nQ7. Calculate the 95% confidence interval for a sample of data with a mean of 50 and a standard deviation of 5. \\nInterpret the results. \\nAns:\\nAssume sample size n = 30\\nX_bar = 50\\nStd = 5\\nC_I = 0.95\\nAlpha = 0.05\\nz-score = 1.96\\nmargen_error = 1.96 * 5/sqrt(30) = 5/5.48 = 1.79\\nlower CI = 50-1.79 = 48.21\\nupper CI = 50+1.79 = 51.79\\n\\n'"
      ]
     },
     "execution_count": 7,
     "metadata": {},
     "output_type": "execute_result"
    }
   ],
   "source": [
    "\"\"\"\n",
    "Q7. Calculate the 95% confidence interval for a sample of data with a mean of 50 and a standard deviation of 5. \n",
    "Interpret the results. \n",
    "Ans:\n",
    "Assume sample size n = 30\n",
    "X_bar = 50\n",
    "Std = 5\n",
    "C_I = 0.95\n",
    "Alpha = 0.05\n",
    "z-score = 1.96\n",
    "margen_error = 1.96 * 5/sqrt(30) = 5/5.48 = 1.79\n",
    "lower CI = 50-1.79 = 48.21\n",
    "upper CI = 50+1.79 = 51.79\n",
    "\n",
    "\"\"\""
   ]
  },
  {
   "cell_type": "code",
   "execution_count": 8,
   "id": "db88a06e-32bc-44ad-90e5-9a16974d6ed3",
   "metadata": {},
   "outputs": [
    {
     "data": {
      "text/plain": [
       "'\\nQ8. What is the margin of error in a confidence interval? How does sample size affect the margin of error? \\nProvide an example of a scenario where a larger sample size would result in a smaller margin of error. \\nANS:\\nThe margin of error (MOE) for a survey tells how near we can expect the survey results to be to the correct \\npopulation value. For example, a survey indicates that 72% of respondents favor Brand A over Brand B with a \\n3% margin of error. In this case, the actual population percentage that prefers Brand A likely falls within the \\nrange of 72% ± 3%, or 69 – 75%.\\nExample:\\ncollect a simple random sample of data with the following information\\nx_bar = 15\\ns=4\\nn=200\\nC.I = 15 +- 1.96(4/sqrt(200))\\n= 15 +- 0.55\\n= 14.446, 15.554\\n\\n'"
      ]
     },
     "execution_count": 8,
     "metadata": {},
     "output_type": "execute_result"
    }
   ],
   "source": [
    "\"\"\"\n",
    "Q8. What is the margin of error in a confidence interval? How does sample size affect the margin of error? \n",
    "Provide an example of a scenario where a larger sample size would result in a smaller margin of error. \n",
    "ANS:\n",
    "The margin of error (MOE) for a survey tells how near we can expect the survey results to be to the correct \n",
    "population value. For example, a survey indicates that 72% of respondents favor Brand A over Brand B with a \n",
    "3% margin of error. In this case, the actual population percentage that prefers Brand A likely falls within the \n",
    "range of 72% ± 3%, or 69 – 75%.\n",
    "Example:\n",
    "collect a simple random sample of data with the following information\n",
    "x_bar = 15\n",
    "s=4\n",
    "n=200\n",
    "C.I = 15 +- 1.96(4/sqrt(200))\n",
    "= 15 +- 0.55\n",
    "= 14.446, 15.554\n",
    "\n",
    "\"\"\""
   ]
  },
  {
   "cell_type": "code",
   "execution_count": 9,
   "id": "be44910d-cd20-4750-bb2e-437624ae0b21",
   "metadata": {},
   "outputs": [
    {
     "data": {
      "text/plain": [
       "'\\nQ9. Calculate the z-score for a data point with a value of 75, a population mean of 70, and a population standard \\ndeviation of 5. Interpret the results. \\nAns:\\nMu = 70\\nX = 75\\nS = 5\\nZ = 75-70/5 = 1\\nscore is 1 standard deviations above the mean.\\n\\n'"
      ]
     },
     "execution_count": 9,
     "metadata": {},
     "output_type": "execute_result"
    }
   ],
   "source": [
    "\"\"\"\n",
    "Q9. Calculate the z-score for a data point with a value of 75, a population mean of 70, and a population standard \n",
    "deviation of 5. Interpret the results. \n",
    "Ans:\n",
    "Mu = 70\n",
    "X = 75\n",
    "S = 5\n",
    "Z = 75-70/5 = 1\n",
    "score is 1 standard deviations above the mean.\n",
    "\n",
    "\"\"\""
   ]
  },
  {
   "cell_type": "code",
   "execution_count": 10,
   "id": "60c5ebef-adb1-40d5-b9c1-3a3b8af38539",
   "metadata": {},
   "outputs": [
    {
     "data": {
      "text/plain": [
       "'\\nQ10. In a study of the effectiveness of a new weight loss drug, a sample of 50 participants lost an average of 6 \\npounds with a standard deviation of 2.5 pounds. Conduct a hypothesis test to determine if the drug is significantly\\neffective at a 95% confidence level using a t-test. \\nANS:\\nAssume mu=0\\nH0 = 6\\nH1 /= 6\\nn=50\\nx_bar = 6\\nsd = 2.5\\nalpha = 0.05\\nt-test = 6/2.5/sqrt(50) = 6/0.35 = 17.14\\ndf = 49\\nt-table = 2.00\\n\\nt-test > t-table\\nWe reject the null hypotheses. \\n\\n'"
      ]
     },
     "execution_count": 10,
     "metadata": {},
     "output_type": "execute_result"
    }
   ],
   "source": [
    "\"\"\"\n",
    "Q10. In a study of the effectiveness of a new weight loss drug, a sample of 50 participants lost an average of 6 \n",
    "pounds with a standard deviation of 2.5 pounds. Conduct a hypothesis test to determine if the drug is significantly\n",
    "effective at a 95% confidence level using a t-test. \n",
    "ANS:\n",
    "Assume mu=0\n",
    "H0 = 6\n",
    "H1 /= 6\n",
    "n=50\n",
    "x_bar = 6\n",
    "sd = 2.5\n",
    "alpha = 0.05\n",
    "t-test = 6/2.5/sqrt(50) = 6/0.35 = 17.14\n",
    "df = 49\n",
    "t-table = 2.00\n",
    "\n",
    "t-test > t-table\n",
    "We reject the null hypotheses. \n",
    "\n",
    "\"\"\""
   ]
  },
  {
   "cell_type": "code",
   "execution_count": 11,
   "id": "10da3e8e-436e-4bb3-8356-269603a9303e",
   "metadata": {},
   "outputs": [
    {
     "data": {
      "text/plain": [
       "'\\nQ11. In a survey of 500 people, 65% reported being satisfied with their current job. Calculate the 95% confidence \\ninterval for the true proportion of people who are satisfied with their job. \\nANS:\\nn=500\\nx_bar = 65% = 0.65\\nalpha = 0.05\\ncritical value – z0.025 = 1.96\\nlower-limit = 0.65-1.96(sqrt(0.65(1-0.65))/500)\\n0.65-0.0418 = 0.608\\nUpper-limit = 0.65+0.0418 = 0.691\\nConfidence level = 0.608, 0.691\\n\\n'"
      ]
     },
     "execution_count": 11,
     "metadata": {},
     "output_type": "execute_result"
    }
   ],
   "source": [
    "\"\"\"\n",
    "Q11. In a survey of 500 people, 65% reported being satisfied with their current job. Calculate the 95% confidence \n",
    "interval for the true proportion of people who are satisfied with their job. \n",
    "ANS:\n",
    "n=500\n",
    "x_bar = 65% = 0.65\n",
    "alpha = 0.05\n",
    "critical value – z0.025 = 1.96\n",
    "lower-limit = 0.65-1.96(sqrt(0.65(1-0.65))/500)\n",
    "0.65-0.0418 = 0.608\n",
    "Upper-limit = 0.65+0.0418 = 0.691\n",
    "Confidence level = 0.608, 0.691\n",
    "\n",
    "\"\"\""
   ]
  },
  {
   "cell_type": "code",
   "execution_count": 12,
   "id": "cbdd09f3-4245-4fae-a9b3-8610591e1e49",
   "metadata": {},
   "outputs": [
    {
     "data": {
      "text/plain": [
       "'\\nQ12. A researcher is testing the effectiveness of two different teaching methods on student performance. \\nSample A has a mean score of 85 with a standard deviation of 6, while sample B has a mean score of 82 with a \\nstandard deviation of 5. Conduct a hypothesis test to determine if the two teaching methods have a significant \\ndifference in student performance using a t-test with a significance level of 0.01. \\nANS:\\nNull Hypothesis: No significant difference\\nAlternate Hypothesis – There is a difference\\nAssume n = 10\\nx1-x2 = 85-82 = 3\\nsq(s1)/n1 = 36/10 = 3.6\\nsq(s2)/n2 = 25/10 = 2.5\\nt = 3/sqrt(3.6+2.5) = 3/2.469 = 1.215\\ndof = 10+10-2 = 18\\nCritical Value (99% confidence level) = 2.878\\nT-test Value < Critical Value\\nAccept Null Hypothesis\\n\\n'"
      ]
     },
     "execution_count": 12,
     "metadata": {},
     "output_type": "execute_result"
    }
   ],
   "source": [
    "\"\"\"\n",
    "Q12. A researcher is testing the effectiveness of two different teaching methods on student performance. \n",
    "Sample A has a mean score of 85 with a standard deviation of 6, while sample B has a mean score of 82 with a \n",
    "standard deviation of 5. Conduct a hypothesis test to determine if the two teaching methods have a significant \n",
    "difference in student performance using a t-test with a significance level of 0.01. \n",
    "ANS:\n",
    "Null Hypothesis: No significant difference\n",
    "Alternate Hypothesis – There is a difference\n",
    "Assume n = 10\n",
    "x1-x2 = 85-82 = 3\n",
    "sq(s1)/n1 = 36/10 = 3.6\n",
    "sq(s2)/n2 = 25/10 = 2.5\n",
    "t = 3/sqrt(3.6+2.5) = 3/2.469 = 1.215\n",
    "dof = 10+10-2 = 18\n",
    "Critical Value (99% confidence level) = 2.878\n",
    "T-test Value < Critical Value\n",
    "Accept Null Hypothesis\n",
    "\n",
    "\"\"\""
   ]
  },
  {
   "cell_type": "code",
   "execution_count": 13,
   "id": "97c5b0c4-b558-4550-a7a2-76bd9c033485",
   "metadata": {},
   "outputs": [
    {
     "data": {
      "text/plain": [
       "'\\nQ13. A population has a mean of 60 and a standard deviation of 8. A sample of 50 observations has a mean of 65. \\nCalculate the 90% confidence interval for the true population mean. \\nANS:\\nH0 = mu = 60\\nH1 = mu > 60\\nAlpha = 0.10\\nz-score = 65-60/8/sqrt(50) = 5/1.131 = 4.420\\nz-score from z-table near to 1.645\\nHere 4.420 >1.645, so we reject the null hypothesis. \\nIf the z-test statistics are less than the z-score, then we will not reject the null hypothesis\\n\\n'"
      ]
     },
     "execution_count": 13,
     "metadata": {},
     "output_type": "execute_result"
    }
   ],
   "source": [
    "\"\"\"\n",
    "Q13. A population has a mean of 60 and a standard deviation of 8. A sample of 50 observations has a mean of 65. \n",
    "Calculate the 90% confidence interval for the true population mean. \n",
    "ANS:\n",
    "H0 = mu = 60\n",
    "H1 = mu > 60\n",
    "Alpha = 0.10\n",
    "z-score = 65-60/8/sqrt(50) = 5/1.131 = 4.420\n",
    "z-score from z-table near to 1.645\n",
    "Here 4.420 >1.645, so we reject the null hypothesis. \n",
    "If the z-test statistics are less than the z-score, then we will not reject the null hypothesis\n",
    "\n",
    "\"\"\""
   ]
  },
  {
   "cell_type": "code",
   "execution_count": 14,
   "id": "8c1e2f80-f805-46d6-971c-90efc5116526",
   "metadata": {},
   "outputs": [
    {
     "data": {
      "text/plain": [
       "'\\nQ14. In a study of the effects of caffeine on reaction time, a sample of 30 participants had an average reaction \\ntime of 0.25 seconds with a standard deviation of 0.05 seconds. Conduct a hypothesis test to determine if the \\ncaffeine has a significant effect on reaction time at a 90% confidence level using a t-test\\nANS:\\nAssume mu=0\\nH0 = reaction time 0.25\\nH1 /= reaction time 0.25\\n\\nn=30\\nx_bar = 0.25\\nsd = 0.05\\nalpha = 0.10\\nt-test = 0.25/0.05/sqrt(30) = 0.25/0.009 = 27.78\\ndf = 29\\nt-table = 1.699\\n\\nt-test > t-table\\nWe reject the null hypotheses. \\n\\n'"
      ]
     },
     "execution_count": 14,
     "metadata": {},
     "output_type": "execute_result"
    }
   ],
   "source": [
    "\"\"\"\n",
    "Q14. In a study of the effects of caffeine on reaction time, a sample of 30 participants had an average reaction \n",
    "time of 0.25 seconds with a standard deviation of 0.05 seconds. Conduct a hypothesis test to determine if the \n",
    "caffeine has a significant effect on reaction time at a 90% confidence level using a t-test\n",
    "ANS:\n",
    "Assume mu=0\n",
    "H0 = reaction time 0.25\n",
    "H1 /= reaction time 0.25\n",
    "\n",
    "n=30\n",
    "x_bar = 0.25\n",
    "sd = 0.05\n",
    "alpha = 0.10\n",
    "t-test = 0.25/0.05/sqrt(30) = 0.25/0.009 = 27.78\n",
    "df = 29\n",
    "t-table = 1.699\n",
    "\n",
    "t-test > t-table\n",
    "We reject the null hypotheses. \n",
    "\n",
    "\"\"\""
   ]
  },
  {
   "cell_type": "code",
   "execution_count": null,
   "id": "064005be-f4d5-4362-9284-7ccacba9f263",
   "metadata": {},
   "outputs": [],
   "source": []
  }
 ],
 "metadata": {
  "kernelspec": {
   "display_name": "Python 3 (ipykernel)",
   "language": "python",
   "name": "python3"
  },
  "language_info": {
   "codemirror_mode": {
    "name": "ipython",
    "version": 3
   },
   "file_extension": ".py",
   "mimetype": "text/x-python",
   "name": "python",
   "nbconvert_exporter": "python",
   "pygments_lexer": "ipython3",
   "version": "3.10.8"
  }
 },
 "nbformat": 4,
 "nbformat_minor": 5
}
