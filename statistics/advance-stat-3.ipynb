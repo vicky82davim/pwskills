{
 "cells": [
  {
   "cell_type": "code",
   "execution_count": 4,
   "id": "97aa3b3d-3458-4937-b05f-e73ab877c36f",
   "metadata": {},
   "outputs": [
    {
     "data": {
      "text/plain": [
       "\"\\nQ1: What is Estimation Statistics? Explain point estimate and interval estimate.\\n\\nANS:\\nEstimation in statistics helps companies, election officials, healthcare professionals, scientists, mathematicians, \\netc. to determine a trend in data. In order to determine this trend, measuring data using ''point'' or ''interval''\\nestimation helps the observer view and assume certain conclusions. This can be done by using sample size data from \\na whole observation. \\n\\nPoint estimate: is a single value estimate of a parameter. For instance, a sample mean is a point estimate of a \\npopulation mean.\\n\\nInterval estimate: gives a range of values where the parameter is expected to lie. A confidence interval is the \\nmost common type of interval estimate.\\n\""
      ]
     },
     "execution_count": 4,
     "metadata": {},
     "output_type": "execute_result"
    }
   ],
   "source": [
    "\"\"\"\n",
    "Q1: What is Estimation Statistics? Explain point estimate and interval estimate.\n",
    "\n",
    "ANS:\n",
    "Estimation in statistics helps companies, election officials, healthcare professionals, scientists, mathematicians, \n",
    "etc. to determine a trend in data. In order to determine this trend, measuring data using ''point'' or ''interval''\n",
    "estimation helps the observer view and assume certain conclusions. This can be done by using sample size data from \n",
    "a whole observation. \n",
    "\n",
    "Point estimate: is a single value estimate of a parameter. For instance, a sample mean is a point estimate of a \n",
    "population mean.\n",
    "\n",
    "Interval estimate: gives a range of values where the parameter is expected to lie. A confidence interval is the \n",
    "most common type of interval estimate.\n",
    "\"\"\""
   ]
  },
  {
   "cell_type": "code",
   "execution_count": 2,
   "id": "fc9cd965-12c9-4bfa-9c49-f6f30d052551",
   "metadata": {},
   "outputs": [
    {
     "data": {
      "text/plain": [
       "'\\nQ2. Write a Python function to estimate the population mean using a sample mean and standard deviation.\\n\\nANS:\\nPopulation: Nobel Prize winners\\nVariable: Age when they received the Nobel Prize\\nThe mean age in the sample is 62.1\\nThe standard deviation of age in the sample is 13.46\\n\\nPoint estimate: 62.1\\nconfidence level is 95% or 0.95\\nremaining probability is then: 5%, or 1 - 0.95 = 0.05\\ndegrees of freedom : 30 - 1 = 29\\n\\nWith Python use the scipy and math libraries to calculate the confidence interval for an estimated proportion.\\n\\nHere, the sample size is 30, sample mean is 62.1 and sample standard deviation is 13.46.\\n'"
      ]
     },
     "execution_count": 2,
     "metadata": {},
     "output_type": "execute_result"
    }
   ],
   "source": [
    "\"\"\"\n",
    "Q2. Write a Python function to estimate the population mean using a sample mean and standard deviation.\n",
    "\n",
    "ANS:\n",
    "Population: Nobel Prize winners\n",
    "Variable: Age when they received the Nobel Prize\n",
    "The mean age in the sample is 62.1\n",
    "The standard deviation of age in the sample is 13.46\n",
    "\n",
    "Point estimate: 62.1\n",
    "confidence level is 95% or 0.95\n",
    "remaining probability is then: 5%, or 1 - 0.95 = 0.05\n",
    "degrees of freedom : 30 - 1 = 29\n",
    "\n",
    "With Python use the scipy and math libraries to calculate the confidence interval for an estimated proportion.\n",
    "\n",
    "Here, the sample size is 30, sample mean is 62.1 and sample standard deviation is 13.46.\n",
    "\"\"\""
   ]
  },
  {
   "cell_type": "code",
   "execution_count": 3,
   "id": "70633f35-08ed-4b67-b53f-47f55c86e8b4",
   "metadata": {},
   "outputs": [
    {
     "name": "stdout",
     "output_type": "stream",
     "text": [
      "57.073953399235975 67.12604660076403\n"
     ]
    }
   ],
   "source": [
    "import scipy.stats as stats\n",
    "import math\n",
    "\n",
    "# Specify sample mean (x_bar), sample standard deviation (s), sample size (n) and confidence level\n",
    "x_bar = 62.1\n",
    "s = 13.46\n",
    "n = 30\n",
    "confidence_level = 0.95\n",
    "\n",
    "# Calculate alpha, degrees of freedom (df), the critical t-value, and the margin of error\n",
    "alpha = (1-confidence_level)\n",
    "df = n - 1\n",
    "standard_error = s/math.sqrt(n)\n",
    "critical_t = stats.t.ppf(1-alpha/2, df)\n",
    "margin_of_error = critical_t * standard_error\n",
    "\n",
    "# Calculate the lower and upper bound of the confidence interval\n",
    "lower_bound = x_bar - margin_of_error\n",
    "upper_bound = x_bar + margin_of_error\n",
    "print(lower_bound, upper_bound)"
   ]
  },
  {
   "cell_type": "code",
   "execution_count": 5,
   "id": "9b41b424-5e2a-4058-aae7-6ea4c28caa3b",
   "metadata": {},
   "outputs": [
    {
     "data": {
      "text/plain": [
       "'\\nQ3: What is Hypothesis testing? Why is it used? State the importance of Hypothesis testing.\\n\\nANS:\\nHypothesis: is a calculated prediction or assumption about a population parameter based on limited evidence. \\nThe whole idea behind hypothesis formulation is testing—this means the researcher subjects his or her calculated \\nassumption to a series of evaluations to know whether they are true or false.\\n\\nWith hypothesis—the investigator makes a claim and experiments to prove that this claim is true or false. \\nFor instance, if we predict that students who drink milk before class perform better than those who don’t, \\nthen this becomes a hypothesis that can be confirmed or refuted using an experiment.\\n\\n'"
      ]
     },
     "execution_count": 5,
     "metadata": {},
     "output_type": "execute_result"
    }
   ],
   "source": [
    "\"\"\"\n",
    "Q3: What is Hypothesis testing? Why is it used? State the importance of Hypothesis testing.\n",
    "\n",
    "ANS:\n",
    "Hypothesis: is a calculated prediction or assumption about a population parameter based on limited evidence. \n",
    "The whole idea behind hypothesis formulation is testing—this means the researcher subjects his or her calculated \n",
    "assumption to a series of evaluations to know whether they are true or false.\n",
    "\n",
    "With hypothesis—the investigator makes a claim and experiments to prove that this claim is true or false. \n",
    "For instance, if we predict that students who drink milk before class perform better than those who don’t, \n",
    "then this becomes a hypothesis that can be confirmed or refuted using an experiment.\n",
    "\n",
    "\"\"\""
   ]
  },
  {
   "cell_type": "code",
   "execution_count": 6,
   "id": "8d2f8e9a-ee0b-499e-a791-b1f86eb9f94a",
   "metadata": {},
   "outputs": [
    {
     "data": {
      "text/plain": [
       "'\\nQ4. Create a hypothesis that states whether the average weight of male college students is greater than the \\naverage weight of female college students.\\n\\nANS:\\nH0 (Null Hypothesis) = average weight of male college students is greater than the average weight of female \\ncollege students.\\n\\nAlternative Hypothesis (H1) = average weight of male college students is not greater than the average weight of \\nfemale college students\\n\\n'"
      ]
     },
     "execution_count": 6,
     "metadata": {},
     "output_type": "execute_result"
    }
   ],
   "source": [
    "\"\"\"\n",
    "Q4. Create a hypothesis that states whether the average weight of male college students is greater than the \n",
    "average weight of female college students.\n",
    "\n",
    "ANS:\n",
    "H0 (Null Hypothesis) = average weight of male college students is greater than the average weight of female \n",
    "college students.\n",
    "\n",
    "Alternative Hypothesis (H1) = average weight of male college students is not greater than the average weight of \n",
    "female college students\n",
    "\n",
    "\"\"\""
   ]
  },
  {
   "cell_type": "code",
   "execution_count": 7,
   "id": "b215d8af-e1c1-4b32-94bf-f9350bc8a014",
   "metadata": {},
   "outputs": [
    {
     "data": {
      "text/plain": [
       "'\\nQ5. Write a Python script to conduct a hypothesis test on the difference between two population means, given a \\nsample from each population.\\n'"
      ]
     },
     "execution_count": 7,
     "metadata": {},
     "output_type": "execute_result"
    }
   ],
   "source": [
    "\"\"\"\n",
    "Q5. Write a Python script to conduct a hypothesis test on the difference between two population means, given a \n",
    "sample from each population.\n",
    "\"\"\""
   ]
  },
  {
   "cell_type": "code",
   "execution_count": 11,
   "id": "1fcf5edb-b363-4c84-9f6e-0b1abcd4cc5b",
   "metadata": {},
   "outputs": [
    {
     "name": "stdout",
     "output_type": "stream",
     "text": [
      "Ttest_indResult(statistic=-0.6337397070250238, pvalue=0.5300471010405257)\n"
     ]
    },
    {
     "data": {
      "text/plain": [
       "'\\nHere, If p-value (0.53004) is greater than alpha = 0.05, we cannot reject the null hypothesis of the test. \\n\\nH0 => µ1 = µ2 (population mean of dataset1 is equal to dataset2)\\nHA => µ1 ≠µ2 (population mean of dataset1 is different from dataset2)\\n'"
      ]
     },
     "execution_count": 11,
     "metadata": {},
     "output_type": "execute_result"
    }
   ],
   "source": [
    "import numpy as np\n",
    "# Import the library\n",
    "import scipy.stats as stats\n",
    " \n",
    "# Creating data groups\n",
    "data_group1 = np.array([14, 15, 15, 16, 13, 8, 14,\n",
    "                        17, 16, 14, 19, 20, 21, 15,\n",
    "                        15, 16, 16, 13, 14, 12])\n",
    " \n",
    "data_group2 = np.array([15, 17, 14, 17, 14, 8, 12,\n",
    "                        19, 19, 14, 17, 22, 24, 16,\n",
    "                        13, 16, 13, 18, 15, 13])\n",
    " \n",
    "# Perform the two sample t-test with equal variances\n",
    "st = stats.ttest_ind(a=data_group1, b=data_group2, equal_var=True)\n",
    "print(st)\n",
    "\"\"\"\n",
    "Here, If p-value (0.53004) is greater than alpha = 0.05, we cannot reject the null hypothesis of the test. \n",
    "\n",
    "H0 => µ1 = µ2 (population mean of dataset1 is equal to dataset2)\n",
    "HA => µ1 ≠µ2 (population mean of dataset1 is different from dataset2)\n",
    "\"\"\""
   ]
  },
  {
   "cell_type": "code",
   "execution_count": 12,
   "id": "9d8ef673-48bc-49fe-9f61-152289e5bc7a",
   "metadata": {},
   "outputs": [
    {
     "data": {
      "text/plain": [
       "'\\nQ6: What is a null and alternative hypothesis? Give some examples.\\n\\nANS:\\nThe null and alternative hypotheses offer competing answers to the research question. When the research question \\nasks “Does the independent variable affect the dependent variable?”:\\n•\\tThe null hypothesis (H0) answers “No, there’s no effect in the population.”\\n•\\tThe alternative hypothesis (Ha) answers “Yes, there is an effect in the population.”\\n\\n'"
      ]
     },
     "execution_count": 12,
     "metadata": {},
     "output_type": "execute_result"
    }
   ],
   "source": [
    "\"\"\"\n",
    "Q6: What is a null and alternative hypothesis? Give some examples.\n",
    "\n",
    "ANS:\n",
    "The null and alternative hypotheses offer competing answers to the research question. When the research question \n",
    "asks “Does the independent variable affect the dependent variable?”:\n",
    "•\tThe null hypothesis (H0) answers “No, there’s no effect in the population.”\n",
    "•\tThe alternative hypothesis (Ha) answers “Yes, there is an effect in the population.”\n",
    "\n",
    "\"\"\""
   ]
  },
  {
   "cell_type": "code",
   "execution_count": 13,
   "id": "42cf4cb8-1d4f-4b6d-b444-f2afe029df88",
   "metadata": {},
   "outputs": [
    {
     "data": {
      "text/plain": [
       "'\\nQ7: Write down the steps involved in hypothesis testing.\\n\\nANS:\\nThere are 5 main steps in hypothesis testing:\\n1.\\tState your research hypothesis as a null hypothesis and alternate hypothesis (Ho) and (Ha or H1).\\n2.\\tCollect data in a way designed to test the hypothesis.\\n3.\\tPerform an appropriate statistical test.\\n4.\\tDecide whether to reject or fail to reject your null hypothesis.\\n5.\\tPresent the findings in your results and discussion section.\\n\\n'"
      ]
     },
     "execution_count": 13,
     "metadata": {},
     "output_type": "execute_result"
    }
   ],
   "source": [
    "\"\"\"\n",
    "Q7: Write down the steps involved in hypothesis testing.\n",
    "\n",
    "ANS:\n",
    "There are 5 main steps in hypothesis testing:\n",
    "1.\tState your research hypothesis as a null hypothesis and alternate hypothesis (Ho) and (Ha or H1).\n",
    "2.\tCollect data in a way designed to test the hypothesis.\n",
    "3.\tPerform an appropriate statistical test.\n",
    "4.\tDecide whether to reject or fail to reject your null hypothesis.\n",
    "5.\tPresent the findings in your results and discussion section.\n",
    "\n",
    "\"\"\""
   ]
  },
  {
   "cell_type": "code",
   "execution_count": 14,
   "id": "e86eece7-66e3-48a9-a4de-4a588d246a4a",
   "metadata": {},
   "outputs": [
    {
     "data": {
      "text/plain": [
       "\"\\nQ8. Define p-value and explain its significance in hypothesis testing.\\n\\nANS:\\nIn statistical hypothesis testing, P-Value or probability value can be defined as the measure of the probability \\nthat a real-valued test statistic is at least as extreme as the value actually obtained. P-value shows how likely \\nit is that the set of observations could have occurred under the null hypothesis. P-Values are used in statistical \\nhypothesis testing to determine whether to reject the null hypothesis. The smaller the p-value, the stronger the \\nlikelihood that you should reject the null hypothesis. \\n\\nP-values are expressed as decimals and can be converted into percentage. For example, a p-value of 0.0237 is 2.37%,\\nwhich means there's a 2.37% chance of the results being random or having happened by chance. \\nThe smaller the P-value, the more significant your results are. \\n\\n\""
      ]
     },
     "execution_count": 14,
     "metadata": {},
     "output_type": "execute_result"
    }
   ],
   "source": [
    "\"\"\"\n",
    "Q8. Define p-value and explain its significance in hypothesis testing.\n",
    "\n",
    "ANS:\n",
    "In statistical hypothesis testing, P-Value or probability value can be defined as the measure of the probability \n",
    "that a real-valued test statistic is at least as extreme as the value actually obtained. P-value shows how likely \n",
    "it is that the set of observations could have occurred under the null hypothesis. P-Values are used in statistical \n",
    "hypothesis testing to determine whether to reject the null hypothesis. The smaller the p-value, the stronger the \n",
    "likelihood that you should reject the null hypothesis. \n",
    "\n",
    "P-values are expressed as decimals and can be converted into percentage. For example, a p-value of 0.0237 is 2.37%,\n",
    "which means there's a 2.37% chance of the results being random or having happened by chance. \n",
    "The smaller the P-value, the more significant your results are. \n",
    "\n",
    "\"\"\""
   ]
  },
  {
   "cell_type": "code",
   "execution_count": 15,
   "id": "773659d8-a71b-4c39-b54e-a9fca680fc59",
   "metadata": {},
   "outputs": [
    {
     "data": {
      "text/plain": [
       "\"\\nQ9. Generate a Student's t-distribution plot using Python's matplotlib library, with the degrees of freedom \\nparameter set to 10.\\n\""
      ]
     },
     "execution_count": 15,
     "metadata": {},
     "output_type": "execute_result"
    }
   ],
   "source": [
    "\"\"\"\n",
    "Q9. Generate a Student's t-distribution plot using Python's matplotlib library, with the degrees of freedom \n",
    "parameter set to 10.\n",
    "\"\"\""
   ]
  },
  {
   "cell_type": "code",
   "execution_count": 16,
   "id": "b8318789-e442-4779-8bef-7d145933f238",
   "metadata": {},
   "outputs": [
    {
     "data": {
      "text/plain": [
       "(array([0.30708996, 0.        , 0.        , 0.        , 0.        ,\n",
       "        0.30708996, 0.30708996, 0.15354498, 0.46063494, 0.76772489,\n",
       "        0.15354498, 0.        , 0.61417992, 0.15354498, 0.15354498,\n",
       "        0.46063494, 0.        , 0.        , 0.46063494, 0.30708996]),\n",
       " array([-2.41524491, -2.19815325, -1.9810616 , -1.76396995, -1.54687829,\n",
       "        -1.32978664, -1.11269499, -0.89560333, -0.67851168, -0.46142003,\n",
       "        -0.24432837, -0.02723672,  0.18985493,  0.40694659,  0.62403824,\n",
       "         0.8411299 ,  1.05822155,  1.2753132 ,  1.49240486,  1.70949651,\n",
       "         1.92658816]),\n",
       " <BarContainer object of 20 artists>)"
      ]
     },
     "execution_count": 16,
     "metadata": {},
     "output_type": "execute_result"
    },
    {
     "data": {
      "image/png": "[encoded data removed]",
      "text/plain": [
       "<Figure size 640x480 with 1 Axes>"
      ]
     },
     "metadata": {},
     "output_type": "display_data"
    }
   ],
   "source": [
    "from scipy.stats import t\n",
    "import matplotlib.pyplot as plt\n",
    "\n",
    "#generate t distribution with sample size 30\n",
    "x = t.rvs(df=10, size=30)\n",
    "\n",
    "#create plot of t distribution\n",
    "plt.hist(x, density=True, edgecolor='black', bins=20)\n"
   ]
  },
  {
   "cell_type": "code",
   "execution_count": 17,
   "id": "404e03b6-d8ea-4e82-9a0f-59609240c794",
   "metadata": {},
   "outputs": [
    {
     "data": {
      "text/plain": [
       "'\\nQ10. Write a Python program to calculate the two-sample t-test for independent samples, given two random samples \\nof equal size and a null hypothesis that the population means are equal.\\n'"
      ]
     },
     "execution_count": 17,
     "metadata": {},
     "output_type": "execute_result"
    }
   ],
   "source": [
    "\"\"\"\n",
    "Q10. Write a Python program to calculate the two-sample t-test for independent samples, given two random samples \n",
    "of equal size and a null hypothesis that the population means are equal.\n",
    "\"\"\""
   ]
  },
  {
   "cell_type": "code",
   "execution_count": 18,
   "id": "307bbb78-f8dc-4904-a1b3-ded0f81d4dbc",
   "metadata": {},
   "outputs": [
    {
     "name": "stdout",
     "output_type": "stream",
     "text": [
      "Ttest_indResult(statistic=-0.6337397070250238, pvalue=0.5300471010405257)\n"
     ]
    },
    {
     "data": {
      "text/plain": [
       "'\\nHere, If p-value (0.53004) is greater than alpha = 0.05, we cannot reject the null hypothesis of the test. \\n\\nH0 => µ1 = µ2 (population mean of dataset1 is equal to dataset2)\\nHA => µ1 ≠µ2 (population mean of dataset1 is different from dataset2)\\n'"
      ]
     },
     "execution_count": 18,
     "metadata": {},
     "output_type": "execute_result"
    }
   ],
   "source": [
    "# Import the library\n",
    "import scipy.stats as stats\n",
    " \n",
    "# Creating data groups\n",
    "data_group1 = np.array([14, 15, 15, 16, 13, 8, 14,\n",
    "                        17, 16, 14, 19, 20, 21, 15,\n",
    "                        15, 16, 16, 13, 14, 12])\n",
    " \n",
    "data_group2 = np.array([15, 17, 14, 17, 14, 8, 12,\n",
    "                        19, 19, 14, 17, 22, 24, 16,\n",
    "                        13, 16, 13, 18, 15, 13])\n",
    " \n",
    "# Perform the two sample t-test with equal variances\n",
    "stat = stats.ttest_ind(a=data_group1, b=data_group2, equal_var=True)\n",
    "print(stat)\n",
    "\n",
    "\"\"\"\n",
    "Here, If p-value (0.53004) is greater than alpha = 0.05, we cannot reject the null hypothesis of the test. \n",
    "\n",
    "H0 => µ1 = µ2 (population mean of dataset1 is equal to dataset2)\n",
    "HA => µ1 ≠µ2 (population mean of dataset1 is different from dataset2)\n",
    "\"\"\"\n",
    "\n"
   ]
  },
  {
   "cell_type": "code",
   "execution_count": 19,
   "id": "813e861e-b958-4969-bec3-d7d75e32bbf5",
   "metadata": {},
   "outputs": [
    {
     "data": {
      "text/plain": [
       "'\\nQ11: What is Student’s t distribution? When to use the t-Distribution.\\n\\nANS:\\nStudent’s t-distribution, also known as the t-distribution, is a probability distribution that is used in \\nstatistics for making inferences about the population mean when the sample size is small or when the population \\nstandard deviation is unknown. It is similar to the standard normal distribution (Z-distribution), but it has \\nheavier tails.  The t-score represents the number of standard deviations the sample mean is away from the \\npopulation mean.\\n\\nStudent’s t Distribution is used when \\n•\\tThe sample size is 30 or less than 30.\\n•\\tThe population standard deviation(σ) is unknown.\\n•\\tThe population distribution must be unimodal and skewed.\\n\\n'"
      ]
     },
     "execution_count": 19,
     "metadata": {},
     "output_type": "execute_result"
    }
   ],
   "source": [
    "\"\"\"\n",
    "Q11: What is Student’s t distribution? When to use the t-Distribution.\n",
    "\n",
    "ANS:\n",
    "Student’s t-distribution, also known as the t-distribution, is a probability distribution that is used in \n",
    "statistics for making inferences about the population mean when the sample size is small or when the population \n",
    "standard deviation is unknown. It is similar to the standard normal distribution (Z-distribution), but it has \n",
    "heavier tails.  The t-score represents the number of standard deviations the sample mean is away from the \n",
    "population mean.\n",
    "\n",
    "Student’s t Distribution is used when \n",
    "•\tThe sample size is 30 or less than 30.\n",
    "•\tThe population standard deviation(σ) is unknown.\n",
    "•\tThe population distribution must be unimodal and skewed.\n",
    "\n",
    "\"\"\""
   ]
  },
  {
   "cell_type": "code",
   "execution_count": 20,
   "id": "7a2c0de6-c0ef-4ee2-97ac-3a561d2cde9e",
   "metadata": {},
   "outputs": [
    {
     "data": {
      "text/plain": [
       "'\\nQ12: What is t-statistic? State the formula for t-statistic.\\n\\nANS:\\nA test statistic assesses how consistent your sample data are with the null hypothesis in a hypothesis test. \\nTest statistic calculations take your sample data and boil them down to a single number that quantifies how much \\nyour sample diverges from the null hypothesis. As a test statistic value becomes more extreme, it indicates larger \\ndifferences between your sample data and the null hypothesis.\\nWhen your test statistic indicates a sufficiently large incompatibility with the null hypothesis, you can \\nreject the null hypothesis\\nT-value for 1-sample t-test:  t= sample_mean-mu/sample_std/sqrt(sample_size)\\n\\n'"
      ]
     },
     "execution_count": 20,
     "metadata": {},
     "output_type": "execute_result"
    }
   ],
   "source": [
    "\"\"\"\n",
    "Q12: What is t-statistic? State the formula for t-statistic.\n",
    "\n",
    "ANS:\n",
    "A test statistic assesses how consistent your sample data are with the null hypothesis in a hypothesis test. \n",
    "Test statistic calculations take your sample data and boil them down to a single number that quantifies how much \n",
    "your sample diverges from the null hypothesis. As a test statistic value becomes more extreme, it indicates larger \n",
    "differences between your sample data and the null hypothesis.\n",
    "When your test statistic indicates a sufficiently large incompatibility with the null hypothesis, you can \n",
    "reject the null hypothesis\n",
    "T-value for 1-sample t-test:  t= sample_mean-mu/sample_std/sqrt(sample_size)\n",
    "\n",
    "\"\"\""
   ]
  },
  {
   "cell_type": "code",
   "execution_count": 23,
   "id": "946e8b80-804f-4b3e-8539-9e876c01dfb1",
   "metadata": {},
   "outputs": [
    {
     "data": {
      "text/plain": [
       "'\\nStep1:\\n# Specify sample mean (x_bar), sample standard deviation (s), sample size (n) and confidence level\\nx_bar = $500\\ns = $50\\nn = 50\\nconfidence_level = 0.95\\n\\nStep 2: \\n# Calculate alpha, degrees of freedom (df), the critical t-value, and the margin of error\\nalpha = (1-0.95) = 0.05\\ndf = 50 – 1 = 49\\nstandard_error = s/math.sqrt(n) = 50/7.07 = 7.07\\ncritical_t = (1-0.025, 49) = (0.975, 49) = 2.021\\nmargin_of_error = critical_t * standard_error = 14.29\\n\\n\\nStep 3: \\n# Calculate the lower and upper bound of the confidence interval\\nlower_bound = x_bar - margin_of_error = 485.71\\nupper_bound = x_bar + margin_of_error = 514.29\\n\\nStep 4: \\nA 95% confidence interval for the population mean is ($485.71,$514.29).\\n\\n'"
      ]
     },
     "execution_count": 23,
     "metadata": {},
     "output_type": "execute_result"
    }
   ],
   "source": [
    "\"\"\"\n",
    "Q13. A coffee shop owner wants to estimate the average daily revenue for their shop. They take a random sample of \n",
    "50 days and find the sample mean revenue to be $500 with a standard deviation of $50.\n",
    "Estimate the population mean revenue with a 95% confidence interval.\n",
    "\"\"\"\n",
    "\n",
    "\"\"\"\n",
    "Step1:\n",
    "# Specify sample mean (x_bar), sample standard deviation (s), sample size (n) and confidence level\n",
    "x_bar = $500\n",
    "s = $50\n",
    "n = 50\n",
    "confidence_level = 0.95\n",
    "\n",
    "Step 2: \n",
    "# Calculate alpha, degrees of freedom (df), the critical t-value, and the margin of error\n",
    "alpha = (1-0.95) = 0.05\n",
    "df = 50 – 1 = 49\n",
    "standard_error = s/math.sqrt(n) = 50/7.07 = 7.07\n",
    "critical_t = (1-0.025, 49) = (0.975, 49) = 2.021\n",
    "margin_of_error = critical_t * standard_error = 14.29\n",
    "\n",
    "\n",
    "Step 3: \n",
    "# Calculate the lower and upper bound of the confidence interval\n",
    "lower_bound = x_bar - margin_of_error = 485.71\n",
    "upper_bound = x_bar + margin_of_error = 514.29\n",
    "\n",
    "Step 4: \n",
    "A 95% confidence interval for the population mean is ($485.71,$514.29).\n",
    "\n",
    "\"\"\""
   ]
  },
  {
   "cell_type": "code",
   "execution_count": 24,
   "id": "bf5c8601-7ea8-4a99-825b-52253805a113",
   "metadata": {},
   "outputs": [
    {
     "data": {
      "text/plain": [
       "'\\nQ14. A researcher hypothesizes that a new drug will decrease blood pressure by 10 mmHg. They conduct a clinical \\ntrial with 100 patients and find that the sample mean decrease in blood pressure is 8 mmHg with a standard \\ndeviation of 3 mmHg. Test the hypothesis with a significance level of 0.05.\\n\\nwe would use the z-table formula:\\nH0 μ = 10\\nH1 μ != 10\\nx̄ = 8\\nμ = 10\\ns = 3\\nn = 100\\nsignificance level of 0.05\\ncritical values of ± 1.960\\n\\nz = (x̄ - μ) / (s / √n) \\nz = (8 - 10) / (3 / √100)\\nz = -2 / (0.3)\\nz = -6.67\\nThis value is less than the critical value of -1.960\\nWe can reject the null hypothesis\\n'"
      ]
     },
     "execution_count": 24,
     "metadata": {},
     "output_type": "execute_result"
    }
   ],
   "source": [
    "\"\"\"\n",
    "Q14. A researcher hypothesizes that a new drug will decrease blood pressure by 10 mmHg. They conduct a clinical \n",
    "trial with 100 patients and find that the sample mean decrease in blood pressure is 8 mmHg with a standard \n",
    "deviation of 3 mmHg. Test the hypothesis with a significance level of 0.05.\n",
    "\n",
    "we would use the z-table formula:\n",
    "H0 μ = 10\n",
    "H1 μ != 10\n",
    "x̄ = 8\n",
    "μ = 10\n",
    "s = 3\n",
    "n = 100\n",
    "significance level of 0.05\n",
    "critical values of ± 1.960\n",
    "\n",
    "z = (x̄ - μ) / (s / √n) \n",
    "z = (8 - 10) / (3 / √100)\n",
    "z = -2 / (0.3)\n",
    "z = -6.67\n",
    "This value is less than the critical value of -1.960\n",
    "We can reject the null hypothesis\n",
    "\"\"\""
   ]
  },
  {
   "cell_type": "code",
   "execution_count": 25,
   "id": "abad77b2-bc3b-4e64-8fc6-9209527c7110",
   "metadata": {},
   "outputs": [
    {
     "data": {
      "text/plain": [
       "'\\nQ15. An electronics company produces a certain type of product with a mean weight of 5 pounds and a\\nstandard deviation of 0.5 pounds. A random sample of 25 products is taken, and the sample mean weight\\nis found to be 4.8 pounds. Test the hypothesis that the true mean weight of the products is less than 5\\npounds with a significance level of 0.01.\\n\\nANS:\\nwe would use the t-table formula:\\nH0 μ < 5\\nH1 μ >= 5\\nx̄ = 4.8\\nμ = 5\\ns = 0.5\\nn = 25\\ndf = 24\\nsignificance level of 0.01\\n\\nt = (x̄ - μ) / (s / √n) \\nt = (4.8 - 5) / (0.5 / √25)\\nt = -0.2 / (0.1)\\nt = -2\\ncritical value = +-2.492\\nt>critical value\\np-value = 0.025 (since t-value is 2 and in t-table value for df, 24, it is 0.025 )\\nOur p-value is greater than 0.01 thus we fail to reject the null hypothesis\\n\\n'"
      ]
     },
     "execution_count": 25,
     "metadata": {},
     "output_type": "execute_result"
    }
   ],
   "source": [
    "\"\"\"\n",
    "Q15. An electronics company produces a certain type of product with a mean weight of 5 pounds and a\n",
    "standard deviation of 0.5 pounds. A random sample of 25 products is taken, and the sample mean weight\n",
    "is found to be 4.8 pounds. Test the hypothesis that the true mean weight of the products is less than 5\n",
    "pounds with a significance level of 0.01.\n",
    "\n",
    "ANS:\n",
    "we would use the t-table formula:\n",
    "H0 μ < 5\n",
    "H1 μ >= 5\n",
    "x̄ = 4.8\n",
    "μ = 5\n",
    "s = 0.5\n",
    "n = 25\n",
    "df = 24\n",
    "significance level of 0.01\n",
    "\n",
    "t = (x̄ - μ) / (s / √n) \n",
    "t = (4.8 - 5) / (0.5 / √25)\n",
    "t = -0.2 / (0.1)\n",
    "t = -2\n",
    "critical value = +-2.492\n",
    "t>critical value\n",
    "p-value = 0.025 (since t-value is 2 and in t-table value for df, 24, it is 0.025 )\n",
    "Our p-value is greater than 0.01 thus we fail to reject the null hypothesis\n",
    "\n",
    "\"\"\""
   ]
  },
  {
   "cell_type": "code",
   "execution_count": 26,
   "id": "4cb965b6-a10f-4c19-a2a6-2310ad159f9e",
   "metadata": {},
   "outputs": [
    {
     "data": {
      "text/plain": [
       "'\\nQ16. Two groups of students are given different study materials to prepare for a test. The first group (n1 = 30) \\nhas a mean score of 80 with a standard deviation of 10, and the second group (n2 = 40) has a mean score of 75 \\nwith a standard deviation of 8. Test the hypothesis that the population means for the two\\ngroups are equal with a significance level of 0.01.\\n\\nANS:\\nz= (x̄1 – x̄2 ) / √((σ1 )²/n1 + (σ2)²/n2)\\nz = (80-75) / √100/30 + 64/40\\nz = 5 / √3.33+1.6\\nz = 5 / 2.22\\nz = 2.25\\ncritical value: 1-α= 1-0.01=0.99\\nLook at the 0.99 in z table= 2.35\\n\\nzcal value is in the acceptable region. Hence, we have enough evidence to accept the null hypothesis. \\n\\n'"
      ]
     },
     "execution_count": 26,
     "metadata": {},
     "output_type": "execute_result"
    }
   ],
   "source": [
    "\"\"\"\n",
    "Q16. Two groups of students are given different study materials to prepare for a test. The first group (n1 = 30) \n",
    "has a mean score of 80 with a standard deviation of 10, and the second group (n2 = 40) has a mean score of 75 \n",
    "with a standard deviation of 8. Test the hypothesis that the population means for the two\n",
    "groups are equal with a significance level of 0.01.\n",
    "\n",
    "ANS:\n",
    "z= (x̄1 – x̄2 ) / √((σ1 )²/n1 + (σ2)²/n2)\n",
    "z = (80-75) / √100/30 + 64/40\n",
    "z = 5 / √3.33+1.6\n",
    "z = 5 / 2.22\n",
    "z = 2.25\n",
    "critical value: 1-α= 1-0.01=0.99\n",
    "Look at the 0.99 in z table= 2.35\n",
    "\n",
    "zcal value is in the acceptable region. Hence, we have enough evidence to accept the null hypothesis. \n",
    "\n",
    "\"\"\""
   ]
  },
  {
   "cell_type": "code",
   "execution_count": 27,
   "id": "fe93b9d4-8a88-4db2-8dc2-c9811370a503",
   "metadata": {},
   "outputs": [
    {
     "data": {
      "text/plain": [
       "'\\nQ17. A marketing company wants to estimate the average number of ads watched by viewers during a TV program. \\nThey take a random sample of 50 viewers and find that the sample mean is 4 with a standard deviation of 1.5. \\nEstimate the population mean with a 99% confidence interval.\\n\\nANS:\\nz-distribution:\\nN=50\\nX_bar = 4\\nSd = 1.5\\nAlpha = 0.01\\ncritical value = z(1-0.01/2) = z0.995 = 2.58 (z-Table)\\nmargin of error: 1.5/√50 = 0.212\\nLower bound = 4-0.212 = 3.788\\nUpper bound = 4+0.212 = 4.212\\n\\n'"
      ]
     },
     "execution_count": 27,
     "metadata": {},
     "output_type": "execute_result"
    }
   ],
   "source": [
    "\"\"\"\n",
    "Q17. A marketing company wants to estimate the average number of ads watched by viewers during a TV program. \n",
    "They take a random sample of 50 viewers and find that the sample mean is 4 with a standard deviation of 1.5. \n",
    "Estimate the population mean with a 99% confidence interval.\n",
    "\n",
    "ANS:\n",
    "z-distribution:\n",
    "N=50\n",
    "X_bar = 4\n",
    "Sd = 1.5\n",
    "Alpha = 0.01\n",
    "critical value = z(1-0.01/2) = z0.995 = 2.58 (z-Table)\n",
    "margin of error: 1.5/√50 = 0.212\n",
    "Lower bound = 4-0.212 = 3.788\n",
    "Upper bound = 4+0.212 = 4.212\n",
    "\n",
    "\"\"\""
   ]
  },
  {
   "cell_type": "code",
   "execution_count": null,
   "id": "b613366e-aaea-461a-9e65-e249edced52f",
   "metadata": {},
   "outputs": [],
   "source": []
  }
 ],
 "metadata": {
  "kernelspec": {
   "display_name": "Python 3 (ipykernel)",
   "language": "python",
   "name": "python3"
  },
  "language_info": {
   "codemirror_mode": {
    "name": "ipython",
    "version": 3
   },
   "file_extension": ".py",
   "mimetype": "text/x-python",
   "name": "python",
   "nbconvert_exporter": "python",
   "pygments_lexer": "ipython3",
   "version": "3.10.8"
  }
 },
 "nbformat": 4,
 "nbformat_minor": 5
}
