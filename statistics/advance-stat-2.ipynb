{
 "cells": [
  {
   "cell_type": "code",
   "execution_count": 4,
   "id": "ba0075e9-2d2a-4818-a7de-cf9f4be0785f",
   "metadata": {},
   "outputs": [
    {
     "data": {
      "text/plain": [
       "'\\nANS:\\nProbability Mass Function — Discrete:\\nThe Probability Mass Function (PMF) provides the probability distribution for discrete variables. \\nFor example, rolling dice. There are 6 distinct possible outcomes that define the entire sample space \\n{1, 2, 3, 4, 5, 6}. Note that we only have whole numbers, i.e. no 1.2 or 3.75. \\nIn the PMF, each discrete variable is mapped to its probability. In an ideal situation rolling a die, each of \\nthe six variables has a 1/6 probability of being rolled.\\n\\nProbability Density Functions (PDFs)\\nProbability density function is a measurement of how often investment returns fall within a specified range. \\nPDFs are typically depicted on a graph, with a normal bell curve indicating neutral market risk, and a skewed \\ncurve at either end indicating greater or lesser risk-reward. Skewness is a shift of the taller portion of the \\ncurve to the right or left. If the curve is shifted to the left with a long tail on the right (right skew), \\nanalysts consider it to suggest there is greater upside reward. If it is shifted to the right with a long tail to \\nthe left (left skew), analysts suggest that there is greater downside risk. The probability density function \\nmeasures continuous variables—stock and investment returns. S&P 500 index values from May 20, 2020, to \\nMay 19, 2023. The result was a bell curve with right skew, indicating the possibility of greater upside reward \\nover the previous three years. \\n'"
      ]
     },
     "execution_count": 4,
     "metadata": {},
     "output_type": "execute_result"
    }
   ],
   "source": [
    "\"\"\"\n",
    "Q1: What are the Probability Mass Function (PMF) and Probability Density Function (PDF)? Explain with\n",
    "an example.\n",
    "\"\"\"\n",
    "\"\"\"\n",
    "ANS:\n",
    "Probability Mass Function — Discrete:\n",
    "The Probability Mass Function (PMF) provides the probability distribution for discrete variables. \n",
    "For example, rolling dice. There are 6 distinct possible outcomes that define the entire sample space \n",
    "{1, 2, 3, 4, 5, 6}. Note that we only have whole numbers, i.e. no 1.2 or 3.75. \n",
    "In the PMF, each discrete variable is mapped to its probability. In an ideal situation rolling a die, each of \n",
    "the six variables has a 1/6 probability of being rolled.\n",
    "\n",
    "Probability Density Functions (PDFs)\n",
    "Probability density function is a measurement of how often investment returns fall within a specified range. \n",
    "PDFs are typically depicted on a graph, with a normal bell curve indicating neutral market risk, and a skewed \n",
    "curve at either end indicating greater or lesser risk-reward. Skewness is a shift of the taller portion of the \n",
    "curve to the right or left. If the curve is shifted to the left with a long tail on the right (right skew), \n",
    "analysts consider it to suggest there is greater upside reward. If it is shifted to the right with a long tail to \n",
    "the left (left skew), analysts suggest that there is greater downside risk. The probability density function \n",
    "measures continuous variables—stock and investment returns. S&P 500 index values from May 20, 2020, to \n",
    "May 19, 2023. The result was a bell curve with right skew, indicating the possibility of greater upside reward \n",
    "over the previous three years. \n",
    "\"\"\""
   ]
  },
  {
   "cell_type": "code",
   "execution_count": 3,
   "id": "7b5fa4d3-84c9-4afd-998d-97c897311a6f",
   "metadata": {},
   "outputs": [
    {
     "data": {
      "text/plain": [
       "'\\nQ2: What is Cumulative Density Function (CDF)? Explain with an example. Why CDF is used?\\n\\nANS:\\nCumulative Distribution Function\\nA cumulative distribution function (CDF) describes the probabilities of a random variable having values less than \\nor equal to x. It is a cumulative function because it sums the total likelihood up to that point. \\nIts output always ranges between 0 and 1.\\nCDFs have the following definition:\\nCDF(x) = P(X ≤ x)\\nWhere X is the random variable, and x is a specific value. The CDF gives us the probability that the random \\nvariable X is less than or equal to x.\\n\\nFor example, consider the height of an adult male in the United States. We can use the cumulative distribution \\nfunction to find the probability that a person is less than or equal to 6 feet tall.\\nAdult males in the U.S. have heights that follow a normal distribution with a mean of 69.2 inches and a \\nstandard deviation of 2.66 inches. \\nX = 72 inches for 6 feet.\\nMean = 69.2 inches\\nStd = 2.66 inches\\nThe probability that an adult male will be 6 feet tall or shorter is 0.853745\\n\\n'"
      ]
     },
     "execution_count": 3,
     "metadata": {},
     "output_type": "execute_result"
    }
   ],
   "source": [
    "\"\"\"\n",
    "Q2: What is Cumulative Density Function (CDF)? Explain with an example. Why CDF is used?\n",
    "\n",
    "ANS:\n",
    "Cumulative Distribution Function\n",
    "A cumulative distribution function (CDF) describes the probabilities of a random variable having values less than \n",
    "or equal to x. It is a cumulative function because it sums the total likelihood up to that point. \n",
    "Its output always ranges between 0 and 1.\n",
    "CDFs have the following definition:\n",
    "CDF(x) = P(X ≤ x)\n",
    "Where X is the random variable, and x is a specific value. The CDF gives us the probability that the random \n",
    "variable X is less than or equal to x.\n",
    "\n",
    "For example, consider the height of an adult male in the United States. We can use the cumulative distribution \n",
    "function to find the probability that a person is less than or equal to 6 feet tall.\n",
    "Adult males in the U.S. have heights that follow a normal distribution with a mean of 69.2 inches and a \n",
    "standard deviation of 2.66 inches. \n",
    "X = 72 inches for 6 feet.\n",
    "Mean = 69.2 inches\n",
    "Std = 2.66 inches\n",
    "The probability that an adult male will be 6 feet tall or shorter is 0.853745\n",
    "\n",
    "\"\"\""
   ]
  },
  {
   "cell_type": "code",
   "execution_count": 5,
   "id": "0f4bbe78-fc0e-45e2-9e22-c823eccfb3eb",
   "metadata": {},
   "outputs": [
    {
     "data": {
      "text/plain": [
       "'\\nQ3: What are some examples of situations where the normal distribution might be used as a model?\\nExplain how the parameters of the normal distribution relate to the shape of the distribution.\\n\\nANS:\\nHeight: data are normally distributed. The distribution in this example fits real data collected for \\n14-year-old girls during a study. \\nthe distribution of heights follows the typical bell curve pattern for all normal distributions. \\nMost girls are close to the average (1.512 meters). \\nAs with any probability distribution, the parameters for the normal distribution define its shape and probabilities\\nentirely. The normal distribution has two parameters, the mean and standard deviation.\\nThe mean is the central tendency of the normal distribution. It defines the location of the peak for the bell curve. \\nMost values cluster around the mean. On a graph, changing the mean shifts the entire curve left or right on the X-axis.\\nThe standard deviation is a measure of variability. It defines the width of the normal distribution. \\nThe standard deviation determines how far away from the mean the values tend to fall\\n\\n'"
      ]
     },
     "execution_count": 5,
     "metadata": {},
     "output_type": "execute_result"
    }
   ],
   "source": [
    "\"\"\"\n",
    "Q3: What are some examples of situations where the normal distribution might be used as a model?\n",
    "Explain how the parameters of the normal distribution relate to the shape of the distribution.\n",
    "\n",
    "ANS:\n",
    "Height: data are normally distributed. The distribution in this example fits real data collected for \n",
    "14-year-old girls during a study. \n",
    "the distribution of heights follows the typical bell curve pattern for all normal distributions. \n",
    "Most girls are close to the average (1.512 meters). \n",
    "As with any probability distribution, the parameters for the normal distribution define its shape and probabilities\n",
    "entirely. The normal distribution has two parameters, the mean and standard deviation.\n",
    "The mean is the central tendency of the normal distribution. It defines the location of the peak for the bell curve. \n",
    "Most values cluster around the mean. On a graph, changing the mean shifts the entire curve left or right on the X-axis.\n",
    "The standard deviation is a measure of variability. It defines the width of the normal distribution. \n",
    "The standard deviation determines how far away from the mean the values tend to fall\n",
    "\n",
    "\"\"\""
   ]
  },
  {
   "cell_type": "code",
   "execution_count": 6,
   "id": "e11d3f9c-8b98-45ca-93b9-b99640ea7e97",
   "metadata": {},
   "outputs": [
    {
     "data": {
      "text/plain": [
       "'\\nQ4: Explain the importance of Normal Distribution. Give a few real-life examples of Normal Distribution.\\n\\nANS:\\nThe normal distribution is widely used in understanding distributions of factors in the population. \\nBecause the normal distribution approximates many natural phenomena so well, it has developed into a standard of \\nreference for many probability problems.\\n1.\\tThe height of people is an example of normal distribution. Most of the people in a specific population are \\nof average height. The number of people taller and shorter than the average height people is almost equal, and \\na very small number of people are either extremely tall or extremely short.\\n2.\\tA fair rolling of dice is also a good example of normal distribution. In an experiment, it has been found \\nthat when a dice is rolled 100 times, chances to get ‘1’ are 15-18% and if we roll the dice 1000 times, the \\nchances to get ‘1’ is, again, the same, which averages to 16.7% (1/6). If we roll two dice simultaneously, \\nthere are 36 possible combinations. The probability of rolling ‘1’ (with six possible combinations) again averages\\nto around 16.7%, i.e., (6/36). More the number of dice more elaborate will be the normal distribution graph.\\n\\n'"
      ]
     },
     "execution_count": 6,
     "metadata": {},
     "output_type": "execute_result"
    }
   ],
   "source": [
    "\"\"\"\n",
    "Q4: Explain the importance of Normal Distribution. Give a few real-life examples of Normal Distribution.\n",
    "\n",
    "ANS:\n",
    "The normal distribution is widely used in understanding distributions of factors in the population. \n",
    "Because the normal distribution approximates many natural phenomena so well, it has developed into a standard of \n",
    "reference for many probability problems.\n",
    "1.\tThe height of people is an example of normal distribution. Most of the people in a specific population are \n",
    "of average height. The number of people taller and shorter than the average height people is almost equal, and \n",
    "a very small number of people are either extremely tall or extremely short.\n",
    "2.\tA fair rolling of dice is also a good example of normal distribution. In an experiment, it has been found \n",
    "that when a dice is rolled 100 times, chances to get ‘1’ are 15-18% and if we roll the dice 1000 times, the \n",
    "chances to get ‘1’ is, again, the same, which averages to 16.7% (1/6). If we roll two dice simultaneously, \n",
    "there are 36 possible combinations. The probability of rolling ‘1’ (with six possible combinations) again averages\n",
    "to around 16.7%, i.e., (6/36). More the number of dice more elaborate will be the normal distribution graph.\n",
    "\n",
    "\"\"\""
   ]
  },
  {
   "cell_type": "code",
   "execution_count": 7,
   "id": "7595f1c2-981e-4710-8662-c80c22cc97ef",
   "metadata": {},
   "outputs": [
    {
     "data": {
      "text/plain": [
       "'\\nQ5: What is Bernaulli Distribution? Give an Example. What is the difference between Bernoulli Distribution and \\nBinomial Distribution?\\n\\nANS:\\nBernoulli Distribution!\\nThis distribution deals with the data which only has 1 trial & only 2 possible outcomes. Anything other than that \\nwill not fall under the Bernoulli Distribution category.\\nFor the real-life example, let’s consider the situation of passing or failing an exam. Let’s assume the probability \\nto pass the exam is 95%, therefore the probability to fail will be 5%.\\n\\nBinomial Distribution!\\nIt is the collection of Bernoulli trials for the same event, i.e., it contains more than 1 Bernoulli event for \\nthe same scenario for which the Bernoulli trial is calculated.\\nConsidering the same example of the Bernoulli Distribution, \\nConsidering 95% & 5% for passing & failing an exam for a student respectively. If we want to calculate the \\nprobability of a student to pass exactly 5 exams out of 5 exams in which it appeared\\nAccording to the situation:\\nn = 5,\\ns = 5,\\np = 0.95,\\n(1 — p) = 0.05\\nThe number of ways to select 5 out of 5 is 1, so the first term of the formula becomes 1, now we have\\nprobability(student pass all 5 exams) = 1 * (0.95)^(5) * (0.05)^(0)\\n=> 0.774\\nTherefore, there is approximately a 77.4 % chance, that the student passes all of the 5 exams.\\n\\n'"
      ]
     },
     "execution_count": 7,
     "metadata": {},
     "output_type": "execute_result"
    }
   ],
   "source": [
    "\"\"\"\n",
    "Q5: What is Bernaulli Distribution? Give an Example. What is the difference between Bernoulli Distribution and \n",
    "Binomial Distribution?\n",
    "\n",
    "ANS:\n",
    "Bernoulli Distribution!\n",
    "This distribution deals with the data which only has 1 trial & only 2 possible outcomes. Anything other than that \n",
    "will not fall under the Bernoulli Distribution category.\n",
    "For the real-life example, let’s consider the situation of passing or failing an exam. Let’s assume the probability \n",
    "to pass the exam is 95%, therefore the probability to fail will be 5%.\n",
    "\n",
    "Binomial Distribution!\n",
    "It is the collection of Bernoulli trials for the same event, i.e., it contains more than 1 Bernoulli event for \n",
    "the same scenario for which the Bernoulli trial is calculated.\n",
    "Considering the same example of the Bernoulli Distribution, \n",
    "Considering 95% & 5% for passing & failing an exam for a student respectively. If we want to calculate the \n",
    "probability of a student to pass exactly 5 exams out of 5 exams in which it appeared\n",
    "According to the situation:\n",
    "n = 5,\n",
    "s = 5,\n",
    "p = 0.95,\n",
    "(1 — p) = 0.05\n",
    "The number of ways to select 5 out of 5 is 1, so the first term of the formula becomes 1, now we have\n",
    "probability(student pass all 5 exams) = 1 * (0.95)^(5) * (0.05)^(0)\n",
    "=> 0.774\n",
    "Therefore, there is approximately a 77.4 % chance, that the student passes all of the 5 exams.\n",
    "\n",
    "\"\"\""
   ]
  },
  {
   "cell_type": "code",
   "execution_count": 8,
   "id": "91a5bca0-c703-4272-9475-e20bcaa55ed7",
   "metadata": {},
   "outputs": [
    {
     "data": {
      "text/plain": [
       "'\\nQ6. Consider a dataset with a mean of 50 and a standard deviation of 10. If we assume that the dataset\\nis normally distributed, what is the probability that a randomly selected observation will be greater\\nthan 60? Use the appropriate formula and show your calculations.\\n\\nANS: \\n•\\tMean (µ) = 50\\n•\\tStandard deviation (σ) = 10\\n•\\tRandom Variable (x) = 60\\nTransformation (z) = (60 – 50 /10) = 1\\nAs per Z-table : 1 = 0.8413 or 84.13%\\n\\n'"
      ]
     },
     "execution_count": 8,
     "metadata": {},
     "output_type": "execute_result"
    }
   ],
   "source": [
    "\"\"\"\n",
    "Q6. Consider a dataset with a mean of 50 and a standard deviation of 10. If we assume that the dataset\n",
    "is normally distributed, what is the probability that a randomly selected observation will be greater\n",
    "than 60? Use the appropriate formula and show your calculations.\n",
    "\n",
    "ANS: \n",
    "•\tMean (µ) = 50\n",
    "•\tStandard deviation (σ) = 10\n",
    "•\tRandom Variable (x) = 60\n",
    "Transformation (z) = (60 – 50 /10) = 1\n",
    "As per Z-table : 1 = 0.8413 or 84.13%\n",
    "\n",
    "\"\"\""
   ]
  },
  {
   "cell_type": "code",
   "execution_count": 9,
   "id": "e587b9fb-99fb-42be-8b57-7c53a53568cd",
   "metadata": {},
   "outputs": [
    {
     "data": {
      "text/plain": [
       "'\\nQ7: Explain uniform Distribution with an example.\\n\\nANS:\\nUniform Probability Distribution\\nA continuous probability distribution is called the uniform distribution and it is related to the events that are \\nequally possible to occur. It is defined by two different parameters, x and y, where x = the minimum value and \\ny = the maximum value. It is generally represented by u(x,y).\\nExample:\\nThe average weight gained by a person over the winter months is uniformly distributed and ranges from 0 to 30 lbs. \\nFind the probability of a person that he will gain between 10 and 15lbs in the winter months.\\nb-a = 15-10 = 5\\nProbability = 5×1/30=5/30=1/6\\n'"
      ]
     },
     "execution_count": 9,
     "metadata": {},
     "output_type": "execute_result"
    }
   ],
   "source": [
    "\"\"\"\n",
    "Q7: Explain uniform Distribution with an example.\n",
    "\n",
    "ANS:\n",
    "Uniform Probability Distribution\n",
    "A continuous probability distribution is called the uniform distribution and it is related to the events that are \n",
    "equally possible to occur. It is defined by two different parameters, x and y, where x = the minimum value and \n",
    "y = the maximum value. It is generally represented by u(x,y).\n",
    "Example:\n",
    "The average weight gained by a person over the winter months is uniformly distributed and ranges from 0 to 30 lbs. \n",
    "Find the probability of a person that he will gain between 10 and 15lbs in the winter months.\n",
    "b-a = 15-10 = 5\n",
    "Probability = 5×1/30=5/30=1/6\n",
    "\"\"\""
   ]
  },
  {
   "cell_type": "code",
   "execution_count": 10,
   "id": "5575bd63-d16b-4c28-9e0e-5ed576c2ea62",
   "metadata": {},
   "outputs": [
    {
     "data": {
      "text/plain": [
       "\"\\nQ8: What is the z score? State the importance of the z score.\\n\\nANS:\\nZ-score is a statistical measurement that describes a value's relationship to the mean of a group of values. \\nZ-score is measured in terms of standard deviations from the mean. If a Z-score is 0, it indicates that the \\ndata point's score is identical to the mean score. A Z-score of 1.0 would indicate a value that is one \\nstandard deviation from the mean. Z-scores may be positive or negative, with a positive value indicating the \\nscore is above the mean and a negative score indicating it is below the mean.\\n\\n\""
      ]
     },
     "execution_count": 10,
     "metadata": {},
     "output_type": "execute_result"
    }
   ],
   "source": [
    "\"\"\"\n",
    "Q8: What is the z score? State the importance of the z score.\n",
    "\n",
    "ANS:\n",
    "Z-score is a statistical measurement that describes a value's relationship to the mean of a group of values. \n",
    "Z-score is measured in terms of standard deviations from the mean. If a Z-score is 0, it indicates that the \n",
    "data point's score is identical to the mean score. A Z-score of 1.0 would indicate a value that is one \n",
    "standard deviation from the mean. Z-scores may be positive or negative, with a positive value indicating the \n",
    "score is above the mean and a negative score indicating it is below the mean.\n",
    "\n",
    "\"\"\""
   ]
  },
  {
   "cell_type": "code",
   "execution_count": 11,
   "id": "3166a991-daaa-4694-9e02-d777846357b2",
   "metadata": {},
   "outputs": [
    {
     "data": {
      "text/plain": [
       "'\\nQ9: What is Central Limit Theorem? State the significance of the Central Limit Theorem.\\n\\nANS:\\nCentral Limit Theorem is a sufficiently large sample size from a population with a finite level of variance, \\nthe mean of all sampled variables from the same population will be approximately equal to the mean of the whole \\npopulation. Furthermore, these samples approximate a normal distribution, with their variances being approximately \\nequal to the variance of the population as the sample size gets larger, according to the law of large numbers.\\n\\n'"
      ]
     },
     "execution_count": 11,
     "metadata": {},
     "output_type": "execute_result"
    }
   ],
   "source": [
    "\"\"\"\n",
    "Q9: What is Central Limit Theorem? State the significance of the Central Limit Theorem.\n",
    "\n",
    "ANS:\n",
    "Central Limit Theorem is a sufficiently large sample size from a population with a finite level of variance, \n",
    "the mean of all sampled variables from the same population will be approximately equal to the mean of the whole \n",
    "population. Furthermore, these samples approximate a normal distribution, with their variances being approximately \n",
    "equal to the variance of the population as the sample size gets larger, according to the law of large numbers.\n",
    "\n",
    "\"\"\""
   ]
  },
  {
   "cell_type": "code",
   "execution_count": 12,
   "id": "ad98c001-8258-4a13-8a6d-3721363f3419",
   "metadata": {},
   "outputs": [
    {
     "data": {
      "text/plain": [
       "'\\nQ10: State the assumptions of the Central Limit Theorem.\\n\\nANS:\\n•\\tThe data must adhere to the randomization rule. It needs to be sampled at random.\\n•\\tThe samples should be unrelated to one another. One sample should not impact the others.\\n•\\tWhen taking samples without replacement, the sample size should not exceed 10% of the population.\\nThe sample size of 30 is considered sufficient to see the effect of the CLT. If the population distribution is \\ncloser to the normal distribution, we will need fewer samples to demonstrate the central limit theorem. \\nOn the other hand, if the population distribution is highly skewed, we will need a large number of samples to \\nunderstand the CLT.\\n\\n'"
      ]
     },
     "execution_count": 12,
     "metadata": {},
     "output_type": "execute_result"
    }
   ],
   "source": [
    "\"\"\"\n",
    "Q10: State the assumptions of the Central Limit Theorem.\n",
    "\n",
    "ANS:\n",
    "•\tThe data must adhere to the randomization rule. It needs to be sampled at random.\n",
    "•\tThe samples should be unrelated to one another. One sample should not impact the others.\n",
    "•\tWhen taking samples without replacement, the sample size should not exceed 10% of the population.\n",
    "The sample size of 30 is considered sufficient to see the effect of the CLT. If the population distribution is \n",
    "closer to the normal distribution, we will need fewer samples to demonstrate the central limit theorem. \n",
    "On the other hand, if the population distribution is highly skewed, we will need a large number of samples to \n",
    "understand the CLT.\n",
    "\n",
    "\"\"\""
   ]
  },
  {
   "cell_type": "code",
   "execution_count": null,
   "id": "c9545bc2-60b5-4135-a9c5-466f6a60dcd4",
   "metadata": {},
   "outputs": [],
   "source": []
  }
 ],
 "metadata": {
  "kernelspec": {
   "display_name": "Python 3 (ipykernel)",
   "language": "python",
   "name": "python3"
  },
  "language_info": {
   "codemirror_mode": {
    "name": "ipython",
    "version": 3
   },
   "file_extension": ".py",
   "mimetype": "text/x-python",
   "name": "python",
   "nbconvert_exporter": "python",
   "pygments_lexer": "ipython3",
   "version": "3.10.8"
  }
 },
 "nbformat": 4,
 "nbformat_minor": 5
}
