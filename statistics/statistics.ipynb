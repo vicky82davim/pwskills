{
 "cells": [
  {
   "cell_type": "code",
   "execution_count": 11,
   "id": "376ab09e-d88a-4049-b174-e1f09e361dfc",
   "metadata": {},
   "outputs": [
    {
     "data": {
      "text/plain": [
       "'\\nStatistics is the science concerned with developing and studying methods for collecting, analyzing, \\ninterpreting and presenting empirical data.\\n'"
      ]
     },
     "execution_count": 11,
     "metadata": {},
     "output_type": "execute_result"
    }
   ],
   "source": [
    "\"\"\"\n",
    "Q1. What is Statistics?\n",
    "\"\"\"\n",
    "\"\"\"\n",
    "Statistics is the science concerned with developing and studying methods for collecting, analyzing, \n",
    "interpreting and presenting empirical data.\n",
    "\"\"\""
   ]
  },
  {
   "cell_type": "code",
   "execution_count": 12,
   "id": "ce3ac1d9-ef23-4dc2-a15e-d4ba8f323368",
   "metadata": {},
   "outputs": [
    {
     "data": {
      "text/plain": [
       "\"\\nThe two major areas of statistics are known as \\ndescriptive statistics, which describes the properties of sample and population data, and \\ninferential statistics, which uses those properties to test hypotheses and draw conclusions\\n\\nDescriptive statistics mostly focus on the central tendency, variability, and distribution of sample data,\\nincludes descriptive statistics such as mean, median, and mode. \\n\\nInferential statistics are used to make generalizations about large groups, such as estimating average demand \\nfor a product by surveying a sample of consumers' buying habits or attempting to predict future events. \\n\""
      ]
     },
     "execution_count": 12,
     "metadata": {},
     "output_type": "execute_result"
    }
   ],
   "source": [
    "\"\"\"\n",
    "Q2. Define the different types of statistics and give an example of when each type might be used.\n",
    "\"\"\"\n",
    "\"\"\"\n",
    "The two major areas of statistics are known as \n",
    "descriptive statistics, which describes the properties of sample and population data, and \n",
    "inferential statistics, which uses those properties to test hypotheses and draw conclusions\n",
    "\n",
    "Descriptive statistics mostly focus on the central tendency, variability, and distribution of sample data,\n",
    "includes descriptive statistics such as mean, median, and mode. \n",
    "\n",
    "Inferential statistics are used to make generalizations about large groups, such as estimating average demand \n",
    "for a product by surveying a sample of consumers' buying habits or attempting to predict future events. \n",
    "\"\"\""
   ]
  },
  {
   "cell_type": "code",
   "execution_count": 13,
   "id": "ac2ac9c6-e902-46be-830f-ca96be8ee282",
   "metadata": {},
   "outputs": [
    {
     "data": {
      "text/plain": [
       "'\\nQualitative data is non-numerical data that can be categorized into groups. For example, \\ndata on hair color would be qualitative data because this statistical data can be divided into groups \\nsuch as \"blond,\" \"brown,\" and \"red.\"\\n\\nQuantitative data is numerical data that can be measured and compared. For example, \\ndata on height would be quantitative because it can be measured in inches or centimeters\\n'"
      ]
     },
     "execution_count": 13,
     "metadata": {},
     "output_type": "execute_result"
    }
   ],
   "source": [
    "\"\"\"\n",
    "Q3. What are the different types of data and how do they differ from each other? Provide an example of\n",
    "each type of data.\n",
    "\"\"\"\n",
    "\"\"\"\n",
    "Qualitative data is non-numerical data that can be categorized into groups. For example, \n",
    "data on hair color would be qualitative data because this statistical data can be divided into groups \n",
    "such as \"blond,\" \"brown,\" and \"red.\"\n",
    "\n",
    "Quantitative data is numerical data that can be measured and compared. For example, \n",
    "data on height would be quantitative because it can be measured in inches or centimeters\n",
    "\"\"\""
   ]
  },
  {
   "cell_type": "code",
   "execution_count": 14,
   "id": "beb32ff9-fa9e-44d4-81c8-2af03eae42e2",
   "metadata": {},
   "outputs": [
    {
     "data": {
      "text/plain": [
       "'\\n(i): Qualitative\\n(ii): Qualitative\\n(iii): Quantitative\\n(iv): Quantitative\\n'"
      ]
     },
     "execution_count": 14,
     "metadata": {},
     "output_type": "execute_result"
    }
   ],
   "source": [
    "\"\"\"\n",
    "Q4. Categorise the following datasets with respect to quantitative and qualitative data types:\n",
    "(i) Grading in exam: A+, A, B+, B, C+, C, D, E\n",
    "(ii) Colour of mangoes: yellow, green, orange, red\n",
    "(iii) Height data of a class: [178.9, 179, 179.5, 176, 177.2, 178.3, 175.8,...]\n",
    "(iv) Number of mangoes exported by a farm: [500, 600, 478, 672, ...]\n",
    "\"\"\"\n",
    "\n",
    "\"\"\"\n",
    "(i): Qualitative\n",
    "(ii): Qualitative\n",
    "(iii): Quantitative\n",
    "(iv): Quantitative\n",
    "\"\"\""
   ]
  },
  {
   "cell_type": "code",
   "execution_count": 15,
   "id": "e12c4a0c-d920-4bf0-aee2-b5cf869f582b",
   "metadata": {},
   "outputs": [
    {
     "data": {
      "text/plain": [
       "'\\nThere are 4 levels of measurement:\\n\\nNominal: the data can only be categorized\\n    City of birth\\n    Gender\\n    Ethnicity\\n    Car brands\\n    Marital status\\nOrdinal: the data can be categorized and ranked\\n    Top 5 Olympic medallists\\n    Language ability (e.g., beginner, intermediate, fluent)\\nInterval: the data can be categorized, ranked, and evenly spaced\\n    Test scores (e.g., IQ or exams)\\n    Temperature in Fahrenheit or Celsius\\nRatio: the data can be categorized, ranked, evenly spaced, and has a natural zero.\\n    Height\\n    Age\\n    Weight\\n\\n'"
      ]
     },
     "execution_count": 15,
     "metadata": {},
     "output_type": "execute_result"
    }
   ],
   "source": [
    "\"\"\"\n",
    "Q5. Explain the concept of levels of measurement and give an example of a variable for each level.\n",
    "\"\"\"\n",
    "\n",
    "\"\"\"\n",
    "There are 4 levels of measurement:\n",
    "\n",
    "Nominal: the data can only be categorized\n",
    "    City of birth\n",
    "    Gender\n",
    "    Ethnicity\n",
    "    Car brands\n",
    "    Marital status\n",
    "Ordinal: the data can be categorized and ranked\n",
    "    Top 5 Olympic medallists\n",
    "    Language ability (e.g., beginner, intermediate, fluent)\n",
    "Interval: the data can be categorized, ranked, and evenly spaced\n",
    "    Test scores (e.g., IQ or exams)\n",
    "    Temperature in Fahrenheit or Celsius\n",
    "Ratio: the data can be categorized, ranked, evenly spaced, and has a natural zero.\n",
    "    Height\n",
    "    Age\n",
    "    Weight\n",
    "\n",
    "\"\"\""
   ]
  },
  {
   "cell_type": "code",
   "execution_count": 16,
   "id": "f0bc000c-dff3-40a9-9d8b-ffbdd630eae5",
   "metadata": {},
   "outputs": [
    {
     "data": {
      "text/plain": [
       "'\\nThe level at which you measure a variable determines how you can analyze your data.\\nFor example: We can measure the variable of income at an ordinal or ratio level.\\nOrdinal level: We create brackets of income ranges: $0–$19,999, $20,000–$39,999\\n    We only know the income bracket for each participant\\nRatio level: We collect data on the exact annual incomes of the participants. \\n    We can can see that the difference between A and B’s incomes\\n\\n'"
      ]
     },
     "execution_count": 16,
     "metadata": {},
     "output_type": "execute_result"
    }
   ],
   "source": [
    "\"\"\"\n",
    "Q6. Why is it important to understand the level of measurement when analyzing data? Provide an\n",
    "example to illustrate your answer.\n",
    "\"\"\"\n",
    "\"\"\"\n",
    "The level at which you measure a variable determines how you can analyze your data.\n",
    "For example: We can measure the variable of income at an ordinal or ratio level.\n",
    "Ordinal level: We create brackets of income ranges: $0–$19,999, $20,000–$39,999\n",
    "    We only know the income bracket for each participant\n",
    "Ratio level: We collect data on the exact annual incomes of the participants. \n",
    "    We can can see that the difference between A and B’s incomes\n",
    "\n",
    "\"\"\""
   ]
  },
  {
   "cell_type": "code",
   "execution_count": 17,
   "id": "57204dd6-e54b-4369-9e0d-f6258958a023",
   "metadata": {},
   "outputs": [
    {
     "data": {
      "text/plain": [
       "'\\nNominal: the data can only be categorized\\n    City of birth\\n    Gender\\n    Ethnicity\\n    Car brands\\n    Marital status\\nOrdinal: the data can be categorized and ranked\\n    Top 5 Olympic medallists\\n    Language ability (e.g., beginner, intermediate, fluent)\\n'"
      ]
     },
     "execution_count": 17,
     "metadata": {},
     "output_type": "execute_result"
    }
   ],
   "source": [
    "\"\"\"\n",
    "Q7. How nominal data type is different from ordinal data type.\n",
    "\"\"\"\n",
    "\"\"\"\n",
    "Nominal: the data can only be categorized\n",
    "    City of birth\n",
    "    Gender\n",
    "    Ethnicity\n",
    "    Car brands\n",
    "    Marital status\n",
    "Ordinal: the data can be categorized and ranked\n",
    "    Top 5 Olympic medallists\n",
    "    Language ability (e.g., beginner, intermediate, fluent)\n",
    "\"\"\""
   ]
  },
  {
   "cell_type": "code",
   "execution_count": 18,
   "id": "b46d284e-c6ee-43c7-8a57-69a9d5f47f48",
   "metadata": {},
   "outputs": [
    {
     "data": {
      "text/plain": [
       "'\\nBar chart, line chart, Scatter plot, Box plot, Histogram etc\\n'"
      ]
     },
     "execution_count": 18,
     "metadata": {},
     "output_type": "execute_result"
    }
   ],
   "source": [
    "\"\"\"\n",
    "Q8. Which type of plot can be used to display data in terms of range?\n",
    "\"\"\"\n",
    "\"\"\"\n",
    "Bar chart, line chart, Scatter plot, Box plot, Histogram etc\n",
    "\"\"\""
   ]
  },
  {
   "cell_type": "code",
   "execution_count": 19,
   "id": "22342cb6-075e-4775-bac7-c5caa26c8bcd",
   "metadata": {},
   "outputs": [
    {
     "data": {
      "text/plain": [
       "\"\\ndescriptive statistics, which describes the properties of sample and population data, and \\ninferential statistics, which uses those properties to test hypotheses and draw conclusions\\n\\nDescriptive statistics mostly focus on the central tendency, variability, and distribution of sample data,\\nincludes descriptive statistics such as mean, median, and mode. \\n\\nInferential statistics are used to make generalizations about large groups, such as estimating average demand \\nfor a product by surveying a sample of consumers' buying habits or attempting to predict future events. \\n\""
      ]
     },
     "execution_count": 19,
     "metadata": {},
     "output_type": "execute_result"
    }
   ],
   "source": [
    "\"\"\"\n",
    "Q9. Describe the difference between descriptive and inferential statistics. Give an example of each\n",
    "type of statistics and explain how they are used.\n",
    "\"\"\"\n",
    "\n",
    "\"\"\"\n",
    "descriptive statistics, which describes the properties of sample and population data, and \n",
    "inferential statistics, which uses those properties to test hypotheses and draw conclusions\n",
    "\n",
    "Descriptive statistics mostly focus on the central tendency, variability, and distribution of sample data,\n",
    "includes descriptive statistics such as mean, median, and mode. \n",
    "\n",
    "Inferential statistics are used to make generalizations about large groups, such as estimating average demand \n",
    "for a product by surveying a sample of consumers' buying habits or attempting to predict future events. \n",
    "\"\"\""
   ]
  },
  {
   "cell_type": "code",
   "execution_count": 20,
   "id": "521e7dbd-987b-4a8b-b4b0-424b01ed522d",
   "metadata": {},
   "outputs": [
    {
     "data": {
      "text/plain": [
       "'\\nMeasures of central tendency are summary statistics that represent the center point or typical value of a dataset. \\nExamples of these measures include the mean, median, and mode. These statistics indicate where most values in a \\ndistribution fall and are also referred to as the central location of a distribution.\\n\\nMean, median, and mode are the three most common measures of central tendency. \\nEach one calculates the central point using a different method. Choosing the best measure of central tendency \\ndepends on the type of data we have.\\n\\n'"
      ]
     },
     "execution_count": 20,
     "metadata": {},
     "output_type": "execute_result"
    }
   ],
   "source": [
    "\"\"\"\n",
    "Q10. What are some common measures of central tendency and variability used in statistics? Explain\n",
    "how each measure can be used to describe a dataset.\n",
    "\"\"\"\n",
    "\n",
    "\"\"\"\n",
    "Measures of central tendency are summary statistics that represent the center point or typical value of a dataset. \n",
    "Examples of these measures include the mean, median, and mode. These statistics indicate where most values in a \n",
    "distribution fall and are also referred to as the central location of a distribution.\n",
    "\n",
    "Mean, median, and mode are the three most common measures of central tendency. \n",
    "Each one calculates the central point using a different method. Choosing the best measure of central tendency \n",
    "depends on the type of data we have.\n",
    "\n",
    "\"\"\""
   ]
  },
  {
   "cell_type": "code",
   "execution_count": null,
   "id": "1751708f-91c0-49df-954b-564fcc08b55f",
   "metadata": {},
   "outputs": [],
   "source": []
  }
 ],
 "metadata": {
  "kernelspec": {
   "display_name": "Python 3 (ipykernel)",
   "language": "python",
   "name": "python3"
  },
  "language_info": {
   "codemirror_mode": {
    "name": "ipython",
    "version": 3
   },
   "file_extension": ".py",
   "mimetype": "text/x-python",
   "name": "python",
   "nbconvert_exporter": "python",
   "pygments_lexer": "ipython3",
   "version": "3.10.8"
  }
 },
 "nbformat": 4,
 "nbformat_minor": 5
}
