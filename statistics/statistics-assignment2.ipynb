{
 "cells": [
  {
   "cell_type": "code",
   "execution_count": 2,
   "id": "6c8ca425-ca78-432d-9d41-794ae32b965b",
   "metadata": {},
   "outputs": [
    {
     "data": {
      "text/plain": [
       "'\\nThe three commonly used measures of central tendency are the mean, median, and mode.\\n'"
      ]
     },
     "execution_count": 2,
     "metadata": {},
     "output_type": "execute_result"
    }
   ],
   "source": [
    "\"\"\"\n",
    "Q1. What are the three measures of central tendency?\n",
    "\"\"\"\n",
    "\n",
    "\"\"\"\n",
    "The three commonly used measures of central tendency are the mean, median, and mode.\n",
    "\"\"\""
   ]
  },
  {
   "cell_type": "code",
   "execution_count": 3,
   "id": "29a03b51-9335-4f39-9bc4-ecec5b64695a",
   "metadata": {},
   "outputs": [
    {
     "data": {
      "text/plain": [
       "'\\nMean: The mean (or average) is used to measure of central tendency. \\nIt can be used with both discrete and continuous data. The mean is equal to the sum of all the values in the \\ndata set divided by the number of values in the data set.\\nx = x1+x2.....+xn/n\\n\\nMedian: Median is another way to measure central tendency. The median is less affected by outliers and skewed data.\\nWe first need to rearrange that data into order of magnitude (smallest first). \\nThe median mark is the middle mark, in case of odd count of number. In case of even count of number, we\\nsimply have to take the middle two numbers and average the result.\\n\\nMode: The mode is the most frequent categorical data in our data set. \\nOn a histogram it represents the highest bar in a bar chart or histogram. \\n'"
      ]
     },
     "execution_count": 3,
     "metadata": {},
     "output_type": "execute_result"
    }
   ],
   "source": [
    "\"\"\"\n",
    "Q2. What is the difference between the mean, median, and mode? How are they used to measure the\n",
    "central tendency of a dataset?\n",
    "\"\"\"\n",
    "\n",
    "\"\"\"\n",
    "Mean: The mean (or average) is used to measure of central tendency. \n",
    "It can be used with both discrete and continuous data. The mean is equal to the sum of all the values in the \n",
    "data set divided by the number of values in the data set.\n",
    "x = x1+x2.....+xn/n\n",
    "\n",
    "Median: Median is another way to measure central tendency. The median is less affected by outliers and skewed data.\n",
    "We first need to rearrange that data into order of magnitude (smallest first). \n",
    "The median mark is the middle mark, in case of odd count of number. In case of even count of number, we\n",
    "simply have to take the middle two numbers and average the result.\n",
    "\n",
    "Mode: The mode is the most frequent categorical data in our data set. \n",
    "On a histogram it represents the highest bar in a bar chart or histogram. \n",
    "\"\"\""
   ]
  },
  {
   "cell_type": "code",
   "execution_count": 4,
   "id": "c4f2671f-5083-45df-9455-747c57d0ad9b",
   "metadata": {},
   "outputs": [
    {
     "data": {
      "text/plain": [
       "'\\nQ3. Measure the three measures of central tendency for the given height data:\\n\\n [178,177,176,177,178.2,178,175,179,180,175,178.9,176.2,177,172.5,178,176.5]\\n'"
      ]
     },
     "execution_count": 4,
     "metadata": {},
     "output_type": "execute_result"
    }
   ],
   "source": [
    "\"\"\"\n",
    "Q3. Measure the three measures of central tendency for the given height data:\n",
    "\n",
    " [178,177,176,177,178.2,178,175,179,180,175,178.9,176.2,177,172.5,178,176.5]\n",
    "\"\"\""
   ]
  },
  {
   "cell_type": "code",
   "execution_count": 5,
   "id": "461aaff6-715e-4d40-a74f-6b7bfae785ca",
   "metadata": {},
   "outputs": [],
   "source": [
    "import numpy as np\n",
    "height = [178,177,176,177,178.2,178,175,179,180,175,178.9,176.2,177,172.5,178,176.5]"
   ]
  },
  {
   "cell_type": "code",
   "execution_count": 6,
   "id": "1aada17d-9385-4238-acbc-68c34b3200d4",
   "metadata": {},
   "outputs": [
    {
     "data": {
      "text/plain": [
       "177.01875"
      ]
     },
     "execution_count": 6,
     "metadata": {},
     "output_type": "execute_result"
    }
   ],
   "source": [
    "np.mean(height)"
   ]
  },
  {
   "cell_type": "code",
   "execution_count": 7,
   "id": "cfa429c2-3035-4dad-9778-d0f45d69b37f",
   "metadata": {},
   "outputs": [
    {
     "data": {
      "text/plain": [
       "177.0"
      ]
     },
     "execution_count": 7,
     "metadata": {},
     "output_type": "execute_result"
    }
   ],
   "source": [
    "np.median(height)"
   ]
  },
  {
   "cell_type": "code",
   "execution_count": 8,
   "id": "cb9b30de-4db9-448f-aa99-22835607ae0a",
   "metadata": {},
   "outputs": [
    {
     "data": {
      "text/plain": [
       "178.0"
      ]
     },
     "execution_count": 8,
     "metadata": {},
     "output_type": "execute_result"
    }
   ],
   "source": [
    "import statistics as stat\n",
    "array_mode = np.array(height)\n",
    "stat.mode(array_mode)"
   ]
  },
  {
   "cell_type": "code",
   "execution_count": 9,
   "id": "aa29562c-28f5-4d12-afb5-714084cd49f3",
   "metadata": {},
   "outputs": [
    {
     "data": {
      "text/plain": [
       "'\\nQ4. Find the standard deviation for the given data:\\n\\n[178,177,176,177,178.2,178,175,179,180,175,178.9,176.2,177,172.5,178,176.5]\\n'"
      ]
     },
     "execution_count": 9,
     "metadata": {},
     "output_type": "execute_result"
    }
   ],
   "source": [
    "\"\"\"\n",
    "Q4. Find the standard deviation for the given data:\n",
    "\n",
    "[178,177,176,177,178.2,178,175,179,180,175,178.9,176.2,177,172.5,178,176.5]\n",
    "\"\"\""
   ]
  },
  {
   "cell_type": "code",
   "execution_count": 10,
   "id": "5dc28a4b-ca0c-4098-bb84-8145ad8393ac",
   "metadata": {},
   "outputs": [],
   "source": [
    "data1 = [178,177,176,177,178.2,178,175,179,180,175,178.9,176.2,177,172.5,178,176.5]"
   ]
  },
  {
   "cell_type": "code",
   "execution_count": 11,
   "id": "bc9eb472-6296-431d-b21d-6341150a0f7d",
   "metadata": {},
   "outputs": [
    {
     "data": {
      "text/plain": [
       "1.7885814036548633"
      ]
     },
     "execution_count": 11,
     "metadata": {},
     "output_type": "execute_result"
    }
   ],
   "source": [
    "np.std(data1)"
   ]
  },
  {
   "cell_type": "code",
   "execution_count": 12,
   "id": "0faa9c58-1d0e-407c-855d-d5734eb41d40",
   "metadata": {},
   "outputs": [
    {
     "data": {
      "text/plain": [
       "'\\nDispersion of data used to understands the distribution of data. \\nIt helps to understand the variation of data and provides a piece of information about the distribution data.\\n\\nRange: is the easiest dispersion of data or measure of variability. \\nThe range can measure by subtracting the lowest value from the massive Number. \\nThe wide range indicates high variability, and the small range specifies low variability in the distribution.\\nThe range can influence by outliers.\\n\\nVariance is a simple measure of dispersion. Variance measures how far each number in the dataset from the mean. \\nTo compute variance first, calculate the mean and squared deviations from a mean.\\n\\nStandard deviation is a squared root of the variance to get original values. \\nLow standard deviation indicates data points close to mean.\\n'"
      ]
     },
     "execution_count": 12,
     "metadata": {},
     "output_type": "execute_result"
    }
   ],
   "source": [
    "\"\"\"\n",
    "Q5. How are measures of dispersion such as range, variance, and standard deviation used to describe\n",
    "the spread of a dataset? Provide an example\n",
    "\"\"\"\n",
    "\n",
    "\"\"\"\n",
    "Dispersion of data used to understands the distribution of data. \n",
    "It helps to understand the variation of data and provides a piece of information about the distribution data.\n",
    "\n",
    "Range: is the easiest dispersion of data or measure of variability. \n",
    "The range can measure by subtracting the lowest value from the massive Number. \n",
    "The wide range indicates high variability, and the small range specifies low variability in the distribution.\n",
    "The range can influence by outliers.\n",
    "\n",
    "Variance is a simple measure of dispersion. Variance measures how far each number in the dataset from the mean. \n",
    "To compute variance first, calculate the mean and squared deviations from a mean.\n",
    "\n",
    "Standard deviation is a squared root of the variance to get original values. \n",
    "Low standard deviation indicates data points close to mean.\n",
    "\"\"\""
   ]
  },
  {
   "cell_type": "code",
   "execution_count": 13,
   "id": "20f83ba9-6594-413b-805f-002d7b32c560",
   "metadata": {},
   "outputs": [
    {
     "data": {
      "text/plain": [
       "'\\nA Venn diagram uses overlapping circles or other shapes to illustrate the logical relationships between \\ntwo or more sets of items. Often, they serve to graphically organize things, highlighting how the items are \\nsimilar and different.\\n'"
      ]
     },
     "execution_count": 13,
     "metadata": {},
     "output_type": "execute_result"
    }
   ],
   "source": [
    "\"\"\"\n",
    "Q6. What is a Venn diagram?\n",
    "\"\"\"\n",
    "\n",
    "\"\"\"\n",
    "A Venn diagram uses overlapping circles or other shapes to illustrate the logical relationships between \n",
    "two or more sets of items. Often, they serve to graphically organize things, highlighting how the items are \n",
    "similar and different.\n",
    "\"\"\""
   ]
  },
  {
   "cell_type": "code",
   "execution_count": 14,
   "id": "3f3a8c3e-95f7-4a7d-8ed1-c65de0f0bcf8",
   "metadata": {},
   "outputs": [
    {
     "data": {
      "text/plain": [
       "'\\nQ7. For the two given sets A = (2,3,4,5,6,7) & B = (0,2,6,8,10). Find:\\n\\n(i) \\tA B\\n\\n(ii)\\tA ⋃ B\\n'"
      ]
     },
     "execution_count": 14,
     "metadata": {},
     "output_type": "execute_result"
    }
   ],
   "source": [
    "\"\"\"\n",
    "Q7. For the two given sets A = (2,3,4,5,6,7) & B = (0,2,6,8,10). Find:\n",
    "\n",
    "(i) \tA B\n",
    "\n",
    "(ii)\tA ⋃ B\n",
    "\"\"\""
   ]
  },
  {
   "cell_type": "code",
   "execution_count": 15,
   "id": "55ce6bc5-dc54-4310-bc9b-580574f9497c",
   "metadata": {},
   "outputs": [],
   "source": [
    "arr1 = [2,3,4,5,6,7]\n",
    "arr2 = [0,2,6,8,10]"
   ]
  },
  {
   "cell_type": "code",
   "execution_count": 16,
   "id": "bd30acd5-498e-4ab1-9ce5-78abe50b972f",
   "metadata": {},
   "outputs": [
    {
     "data": {
      "text/plain": [
       "array([2, 6])"
      ]
     },
     "execution_count": 16,
     "metadata": {},
     "output_type": "execute_result"
    }
   ],
   "source": [
    "## intersection\n",
    "np.intersect1d(arr1, arr2)"
   ]
  },
  {
   "cell_type": "code",
   "execution_count": 17,
   "id": "76bd35f0-bbbe-4eac-b4a9-1be4d85e167d",
   "metadata": {},
   "outputs": [
    {
     "data": {
      "text/plain": [
       "array([ 0,  2,  3,  4,  5,  6,  7,  8, 10])"
      ]
     },
     "execution_count": 17,
     "metadata": {},
     "output_type": "execute_result"
    }
   ],
   "source": [
    "np.union1d(arr1, arr2)"
   ]
  },
  {
   "cell_type": "code",
   "execution_count": 19,
   "id": "9b03f3e2-0a29-4d92-a876-331e5e84a06d",
   "metadata": {},
   "outputs": [
    {
     "data": {
      "text/plain": [
       "'\\nSkewness is a statistical measure that is used to show whether a distribution is distorted or asymmetrical. \\nIf the skewness is right-tailed, the skew is positive. In this case, the values are more than zero. \\nIf the opposite is true and the tail is more pronounced on the left, then the skew is negative, \\nwhere the values are less than zero.\\n'"
      ]
     },
     "execution_count": 19,
     "metadata": {},
     "output_type": "execute_result"
    }
   ],
   "source": [
    "\"\"\"\n",
    "Q8. What do you understand about skewness in data?\n",
    "\"\"\"\n",
    "\n",
    "\"\"\"\n",
    "Skewness is a statistical measure that is used to show whether a distribution is distorted or asymmetrical. \n",
    "If the skewness is right-tailed, the skew is positive. In this case, the values are more than zero. \n",
    "If the opposite is true and the tail is more pronounced on the left, then the skew is negative, \n",
    "where the values are less than zero.\n",
    "\"\"\""
   ]
  },
  {
   "cell_type": "code",
   "execution_count": 21,
   "id": "09d07656-0b0c-46b6-9562-40b3aca7efd1",
   "metadata": {},
   "outputs": [
    {
     "data": {
      "text/plain": [
       "'\\nmedian < mean\\n'"
      ]
     },
     "execution_count": 21,
     "metadata": {},
     "output_type": "execute_result"
    }
   ],
   "source": [
    "\"\"\"\n",
    "Q9. If a data is right skewed then what will be the position of median with respect to mean?\n",
    "\"\"\"\n",
    "\n",
    "\"\"\"\n",
    "median < mean\n",
    "\"\"\""
   ]
  },
  {
   "cell_type": "code",
   "execution_count": 22,
   "id": "6e0126c6-1af9-4aa3-912e-0b526fe0dba3",
   "metadata": {},
   "outputs": [
    {
     "data": {
      "text/plain": [
       "'\\nCovariance: It signifies the direction of the linear relationship between the two variables. \\nBy direction we mean if the variables are directly proportional or inversely proportional to each other. \\n(Increasing the value of one variable might have a positive or a negative impact on the value of the \\nother variable).\\nThe values of covariance can be any number between the two opposite infinities. \\nAlso, it’s important to mention that covariance only measures how two variables change together, \\nnot the dependency of one variable on another one.\\n\\nCorrelation: It is a method of statistical evaluation used to study the strength of a relationship between two, \\nnumerically measured, continuous variables. It can assume values from -1 to +1.\\nIt not only shows the kind of relation (in terms of direction) but also how strong the relationship is. \\nThus, we can say the correlation values have standardized notions, \\nwhereas the covariance values are not standardized and cannot be used to compare how strong or weak the \\nrelationship is because the magnitude has no direct significance. \\n'"
      ]
     },
     "execution_count": 22,
     "metadata": {},
     "output_type": "execute_result"
    }
   ],
   "source": [
    "\"\"\"\n",
    "Q10. Explain the difference between covariance and correlation. How are these measures used in\n",
    "statistical analysis?\n",
    "\"\"\"\n",
    "\n",
    "\"\"\"\n",
    "Covariance: It signifies the direction of the linear relationship between the two variables. \n",
    "By direction we mean if the variables are directly proportional or inversely proportional to each other. \n",
    "(Increasing the value of one variable might have a positive or a negative impact on the value of the \n",
    "other variable).\n",
    "The values of covariance can be any number between the two opposite infinities. \n",
    "Also, it’s important to mention that covariance only measures how two variables change together, \n",
    "not the dependency of one variable on another one.\n",
    "\n",
    "Correlation: It is a method of statistical evaluation used to study the strength of a relationship between two, \n",
    "numerically measured, continuous variables. It can assume values from -1 to +1.\n",
    "It not only shows the kind of relation (in terms of direction) but also how strong the relationship is. \n",
    "Thus, we can say the correlation values have standardized notions, \n",
    "whereas the covariance values are not standardized and cannot be used to compare how strong or weak the \n",
    "relationship is because the magnitude has no direct significance. \n",
    "\"\"\""
   ]
  },
  {
   "cell_type": "code",
   "execution_count": 24,
   "id": "d2bc0e25-f381-4ba1-ba31-3128de22de25",
   "metadata": {},
   "outputs": [
    {
     "data": {
      "text/plain": [
       "'\\nThe sample mean for a data set is defined as the sum of all the terms divided by the total number of terms. \\nIt is denoted by the symbol x̄.\\nx̄ = Σxi / n\\n\\na = [15, 20, 72, 43, 21]\\nSum of terms(S) = 15 + 20+ 72 + 43 + 21 = 171\\nNumber of terms(n) = 5\\nx̄ = S/n\\n= 171/5\\n= 34.2\\n'"
      ]
     },
     "execution_count": 24,
     "metadata": {},
     "output_type": "execute_result"
    }
   ],
   "source": [
    "\"\"\"\n",
    "Q11. What is the formula for calculating the sample mean? Provide an example calculation for a\n",
    "dataset.\n",
    "\"\"\"\n",
    "\n",
    "\"\"\"\n",
    "The sample mean for a data set is defined as the sum of all the terms divided by the total number of terms. \n",
    "It is denoted by the symbol x̄.\n",
    "x̄ = Σxi / n\n",
    "\n",
    "a = [15, 20, 72, 43, 21]\n",
    "Sum of terms(S) = 15 + 20+ 72 + 43 + 21 = 171\n",
    "Number of terms(n) = 5\n",
    "x̄ = S/n\n",
    "= 171/5\n",
    "= 34.2\n",
    "\"\"\""
   ]
  },
  {
   "cell_type": "code",
   "execution_count": null,
   "id": "7d895ad8-7855-4a91-8e7e-9f4f876ccbb8",
   "metadata": {},
   "outputs": [],
   "source": [
    "\"\"\"\n",
    "Q12. For a normal distribution data what is the relationship between its measure of central tendency?\n",
    "\"\"\"\n",
    "\n",
    "\"\"\"\n",
    "For normally distributed data, all three measures of central tendency will give you the same answer \n",
    "so they can all be used.\n",
    "\"\"\""
   ]
  },
  {
   "cell_type": "code",
   "execution_count": null,
   "id": "fcb53486-b855-4d6a-9b5b-beea7c77df9d",
   "metadata": {},
   "outputs": [],
   "source": [
    "\"\"\"\n",
    "Q13. How is covariance different from correlation?\n",
    "\"\"\"\n",
    "\n",
    "\"\"\"\n",
    "correlation values have standardized notions, \n",
    "whereas the covariance values are not standardized and cannot be used to compare how strong or weak the \n",
    "relationship is because the magnitude has no direct significance.\n",
    "\"\"\""
   ]
  },
  {
   "cell_type": "code",
   "execution_count": 25,
   "id": "5967cd12-ce62-4df2-a99c-5a15b90852c7",
   "metadata": {},
   "outputs": [
    {
     "data": {
      "text/plain": [
       "'\\nWhen a outlier is present it can effect the shape of the graph, if we have outliers to the right of the graph. \\nThese outliers are causing the mean to increase, but if we have outliers to the left of the graph these \\noutliers are dragging down the mean. This causes a conflict because the mean no longer provides a \\ngood representation of the data, alternatively we would much rather use the median. \\nThe median on the other hand is less likely to be affect by outliers.\\n\\ndataset = [42, 57, 58, 61, 63]\\nmean: 42+57+58+61+63 = 281\\n281 / 5 = 56.2\\n\\nMedian: 58\\n\\nMode: No mode\\n'"
      ]
     },
     "execution_count": 25,
     "metadata": {},
     "output_type": "execute_result"
    }
   ],
   "source": [
    "\"\"\"\n",
    "Q14. How do outliers affect measures of central tendency and dispersion? Provide an example.\n",
    "\"\"\"\n",
    "\n",
    "\"\"\"\n",
    "When a outlier is present it can effect the shape of the graph, if we have outliers to the right of the graph. \n",
    "These outliers are causing the mean to increase, but if we have outliers to the left of the graph these \n",
    "outliers are dragging down the mean. This causes a conflict because the mean no longer provides a \n",
    "good representation of the data, alternatively we would much rather use the median. \n",
    "The median on the other hand is less likely to be affect by outliers.\n",
    "\n",
    "dataset = [42, 57, 58, 61, 63]\n",
    "mean: 42+57+58+61+63 = 281\n",
    "281 / 5 = 56.2\n",
    "\n",
    "Median: 58\n",
    "\n",
    "Mode: No mode\n",
    "\"\"\""
   ]
  }
 ],
 "metadata": {
  "kernelspec": {
   "display_name": "Python 3 (ipykernel)",
   "language": "python",
   "name": "python3"
  },
  "language_info": {
   "codemirror_mode": {
    "name": "ipython",
    "version": 3
   },
   "file_extension": ".py",
   "mimetype": "text/x-python",
   "name": "python",
   "nbconvert_exporter": "python",
   "pygments_lexer": "ipython3",
   "version": "3.10.8"
  }
 },
 "nbformat": 4,
 "nbformat_minor": 5
}
