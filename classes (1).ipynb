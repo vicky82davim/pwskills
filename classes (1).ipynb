{
 "cells": [
  {
   "cell_type": "code",
   "execution_count": 1,
   "id": "c0e4f85f-b3d3-418c-9f50-50929ba68078",
   "metadata": {},
   "outputs": [],
   "source": [
    "class pwskills:\n",
    "    def __init__(self, phone_number, email_id, student_id):\n",
    "        self.phone_number = phone_number\n",
    "        self.email_id = email_id\n",
    "        self.student_id = student_id\n",
    "        \n",
    "    def return_student_details(self):\n",
    "        return self.phone_number, self.email_id, self.student_id"
   ]
  },
  {
   "cell_type": "code",
   "execution_count": 2,
   "id": "4a0b1b12-486f-4225-bf98-c12690766d9a",
   "metadata": {},
   "outputs": [
    {
     "data": {
      "text/plain": [
       "(1312312321, 'test@test.com', 101)"
      ]
     },
     "execution_count": 2,
     "metadata": {},
     "output_type": "execute_result"
    }
   ],
   "source": [
    "rohan = pwskills(1312312321, 'test@test.com', 101)\n",
    "rohan.return_student_details()"
   ]
  },
  {
   "cell_type": "code",
   "execution_count": 3,
   "id": "afc31343-5f2a-458b-abce-f334043191a2",
   "metadata": {},
   "outputs": [
    {
     "data": {
      "text/plain": [
       "1312312321"
      ]
     },
     "execution_count": 3,
     "metadata": {},
     "output_type": "execute_result"
    }
   ],
   "source": [
    "rohan.phone_number"
   ]
  },
  {
   "cell_type": "code",
   "execution_count": 5,
   "id": "65707014-b8f6-4190-a86b-14e8be0af342",
   "metadata": {},
   "outputs": [],
   "source": [
    "class pwskills1:\n",
    "    def __init__(vee, phone_number, email_id, student_id):\n",
    "        vee.phone_number1 = phone_number\n",
    "        vee.email_id1 = email_id\n",
    "        vee.student_id1 = student_id\n",
    "        \n",
    "    def return_student_details(self):\n",
    "        return self.phone_number1, self.email_id1, self.student_id1"
   ]
  },
  {
   "cell_type": "code",
   "execution_count": 8,
   "id": "45d9c1e9-3567-427c-a576-e81e556a9516",
   "metadata": {},
   "outputs": [],
   "source": [
    "rohan1 = pwskills1(1312312321, 'test@test.com', 101)"
   ]
  },
  {
   "cell_type": "code",
   "execution_count": 9,
   "id": "0d0750bd-7a1e-49da-97a5-1569615e3592",
   "metadata": {},
   "outputs": [
    {
     "data": {
      "text/plain": [
       "(1312312321, 'test@test.com', 101)"
      ]
     },
     "execution_count": 9,
     "metadata": {},
     "output_type": "execute_result"
    }
   ],
   "source": [
    "rohan1.return_student_details()"
   ]
  },
  {
   "cell_type": "code",
   "execution_count": 11,
   "id": "da4741e7-aba2-4951-8fb7-c3e908ed184a",
   "metadata": {},
   "outputs": [
    {
     "data": {
      "text/plain": [
       "1312312321"
      ]
     },
     "execution_count": 11,
     "metadata": {},
     "output_type": "execute_result"
    }
   ],
   "source": [
    "rohan1.phone_number1"
   ]
  },
  {
   "cell_type": "code",
   "execution_count": 1,
   "id": "673ac51d-50fc-45f9-a52d-767c07995769",
   "metadata": {},
   "outputs": [],
   "source": [
    "class data_science:\n",
    "    def syallabus(self):\n",
    "        print(\"This is Data science calss\")\n",
    "\n",
    "class web_dev:\n",
    "    def syallabus(self):\n",
    "        print(\"This is Web Dev class\")"
   ]
  },
  {
   "cell_type": "code",
   "execution_count": 2,
   "id": "9f31ad1f-751b-447e-925a-7e7d2c525e81",
   "metadata": {},
   "outputs": [],
   "source": [
    "def class_parser(class_obj):\n",
    "    for i in class_obj:\n",
    "        i.syallabus()"
   ]
  },
  {
   "cell_type": "code",
   "execution_count": 3,
   "id": "37040a53-4d7e-449f-8b4a-0c41fa38ed46",
   "metadata": {},
   "outputs": [
    {
     "name": "stdout",
     "output_type": "stream",
     "text": [
      "This is Data science calss\n",
      "This is Web Dev class\n"
     ]
    }
   ],
   "source": [
    "data_science = data_science()\n",
    "web_dev = web_dev()\n",
    "class_parser([data_science, web_dev])"
   ]
  },
  {
   "cell_type": "code",
   "execution_count": 6,
   "id": "03cb87e7-b517-4e1c-b1f0-04b03ce42b00",
   "metadata": {},
   "outputs": [],
   "source": [
    "class car:\n",
    "    def __init__(self, make, model, year, speed):\n",
    "        self.__make = make\n",
    "        self.__model = model\n",
    "        self.__year = year\n",
    "        self.__speed = 0\n",
    "    def set_speed(self, speed):\n",
    "        self.__speed = 0 if speed < 0 else speed\n",
    "    def get_speed(self):\n",
    "        return self.__speed"
   ]
  },
  {
   "cell_type": "code",
   "execution_count": 7,
   "id": "65a9b967-328c-4b24-8b39-a3557cb421d4",
   "metadata": {},
   "outputs": [],
   "source": [
    "c = car(\"Toyata\", \"Innova\", 2012, 12)"
   ]
  },
  {
   "cell_type": "code",
   "execution_count": 3,
   "id": "4520973e-efb2-48ba-a40e-d0c50d83705e",
   "metadata": {},
   "outputs": [
    {
     "data": {
      "text/plain": [
       "2012"
      ]
     },
     "execution_count": 3,
     "metadata": {},
     "output_type": "execute_result"
    }
   ],
   "source": [
    "c._car__year"
   ]
  },
  {
   "cell_type": "code",
   "execution_count": 4,
   "id": "7ad67158-2197-44b2-b8ab-7ac5368b26df",
   "metadata": {},
   "outputs": [],
   "source": [
    "c._car__year = 2013"
   ]
  },
  {
   "cell_type": "code",
   "execution_count": 5,
   "id": "ee5f5bf9-a532-40ae-b280-e8be0bf7f6af",
   "metadata": {},
   "outputs": [
    {
     "data": {
      "text/plain": [
       "2013"
      ]
     },
     "execution_count": 5,
     "metadata": {},
     "output_type": "execute_result"
    }
   ],
   "source": [
    "c._car__year"
   ]
  },
  {
   "cell_type": "code",
   "execution_count": 8,
   "id": "f55cb9d4-3676-4a72-b385-2a01de1e4d2e",
   "metadata": {},
   "outputs": [],
   "source": [
    "c.set_speed(123)"
   ]
  },
  {
   "cell_type": "code",
   "execution_count": 9,
   "id": "42e6deb6-84fc-4f55-97db-689a0b14948b",
   "metadata": {},
   "outputs": [
    {
     "data": {
      "text/plain": [
       "123"
      ]
     },
     "execution_count": 9,
     "metadata": {},
     "output_type": "execute_result"
    }
   ],
   "source": [
    "c.get_speed()"
   ]
  },
  {
   "cell_type": "code",
   "execution_count": 10,
   "id": "d7aada6f-c5e9-4ed8-829e-4baea94ee338",
   "metadata": {},
   "outputs": [],
   "source": [
    "c.set_speed(-121)"
   ]
  },
  {
   "cell_type": "code",
   "execution_count": 11,
   "id": "653d9adc-aa5d-4f04-ac3a-7ec97b5f73a0",
   "metadata": {},
   "outputs": [
    {
     "data": {
      "text/plain": [
       "0"
      ]
     },
     "execution_count": 11,
     "metadata": {},
     "output_type": "execute_result"
    }
   ],
   "source": [
    "c.get_speed()"
   ]
  },
  {
   "cell_type": "code",
   "execution_count": 12,
   "id": "b4cc3c89-ad69-470e-b7df-4a1b749e6712",
   "metadata": {},
   "outputs": [],
   "source": [
    "class parent:\n",
    "    \n",
    "    def test_meth(self):\n",
    "        return \"Parent\""
   ]
  },
  {
   "cell_type": "code",
   "execution_count": 13,
   "id": "67b3e885-c7fb-4518-986d-1838b5e96c41",
   "metadata": {},
   "outputs": [],
   "source": [
    "class child(parent):\n",
    "    pass"
   ]
  },
  {
   "cell_type": "code",
   "execution_count": 14,
   "id": "774e8a55-49eb-4c69-969f-34b8ffa5cafb",
   "metadata": {},
   "outputs": [],
   "source": [
    "child_obj = child()"
   ]
  },
  {
   "cell_type": "code",
   "execution_count": 15,
   "id": "459567fc-b641-47c1-8a61-6dc0196e7edb",
   "metadata": {},
   "outputs": [
    {
     "data": {
      "text/plain": [
       "'Parent'"
      ]
     },
     "execution_count": 15,
     "metadata": {},
     "output_type": "execute_result"
    }
   ],
   "source": [
    "child_obj.test_meth()"
   ]
  },
  {
   "cell_type": "code",
   "execution_count": 16,
   "id": "f12995f6-cc21-4cb5-b631-fc5f191ca324",
   "metadata": {},
   "outputs": [],
   "source": [
    "class class1:\n",
    "    def test_class1(self):\n",
    "        return 'class1'"
   ]
  },
  {
   "cell_type": "code",
   "execution_count": 17,
   "id": "063150f1-073b-4ebf-a62e-f2ba7f7859d7",
   "metadata": {},
   "outputs": [],
   "source": [
    "class class2:\n",
    "    def test_class2(self):\n",
    "        return 'class2'"
   ]
  },
  {
   "cell_type": "code",
   "execution_count": 18,
   "id": "1a01a38b-e7f1-4eab-8e82-fff7683f2b47",
   "metadata": {},
   "outputs": [],
   "source": [
    "class class3(class1, class2):\n",
    "    pass"
   ]
  },
  {
   "cell_type": "code",
   "execution_count": 19,
   "id": "4cd62fec-377d-47ee-bdb0-4497e754ee59",
   "metadata": {},
   "outputs": [],
   "source": [
    "obj_class3 = class3()"
   ]
  },
  {
   "cell_type": "code",
   "execution_count": 20,
   "id": "3ccbcfcd-729d-4243-b159-568f0dedef91",
   "metadata": {},
   "outputs": [
    {
     "data": {
      "text/plain": [
       "'class1'"
      ]
     },
     "execution_count": 20,
     "metadata": {},
     "output_type": "execute_result"
    }
   ],
   "source": [
    "obj_class3.test_class1()"
   ]
  },
  {
   "cell_type": "code",
   "execution_count": 21,
   "id": "7cc8b984-0251-4e30-ad61-13623a472b8a",
   "metadata": {},
   "outputs": [
    {
     "data": {
      "text/plain": [
       "'class2'"
      ]
     },
     "execution_count": 21,
     "metadata": {},
     "output_type": "execute_result"
    }
   ],
   "source": [
    "obj_class3.test_class2()"
   ]
  },
  {
   "cell_type": "code",
   "execution_count": 22,
   "id": "da6c78ee-0aee-460a-905c-f21ce5e75d90",
   "metadata": {},
   "outputs": [],
   "source": [
    "import abc\n",
    "class pwskills:\n",
    "    @abc.abstractmethod\n",
    "    def student_details(self):\n",
    "        pass\n",
    "    \n",
    "    @abc.abstractmethod\n",
    "    def student_assignment(self):\n",
    "        pass\n",
    "    \n",
    "    @abc.abstractmethod\n",
    "    def studen_marks(self):\n",
    "        pass"
   ]
  },
  {
   "cell_type": "code",
   "execution_count": 23,
   "id": "2eab0caf-e32c-4755-a9fc-ddcf2c243433",
   "metadata": {},
   "outputs": [],
   "source": [
    "class student_details(pwskills):\n",
    "    def student_details(self):\n",
    "        return \"capture student details\"\n",
    "    \n",
    "    def student_assignment(self):\n",
    "        return \"capture single student assignment\""
   ]
  },
  {
   "cell_type": "code",
   "execution_count": 24,
   "id": "1a05abc0-2591-4bae-8a51-70ee8c3abd56",
   "metadata": {},
   "outputs": [],
   "source": [
    "class data_science(pwskills):\n",
    "    def student_details(self):\n",
    "        return \"return student details\"\n",
    "    \n",
    "    def student_assignment(self):\n",
    "        return \"return single student assignment\""
   ]
  },
  {
   "cell_type": "code",
   "execution_count": 25,
   "id": "a4b43afa-58da-41c0-9dd6-85198411fbb9",
   "metadata": {},
   "outputs": [
    {
     "data": {
      "text/plain": [
       "'return single student assignment'"
      ]
     },
     "execution_count": 25,
     "metadata": {},
     "output_type": "execute_result"
    }
   ],
   "source": [
    "dsm = data_science()\n",
    "dsm.student_assignment()"
   ]
  },
  {
   "cell_type": "code",
   "execution_count": 26,
   "id": "a7eb067c-471f-4b1f-b35b-a066d776d102",
   "metadata": {},
   "outputs": [
    {
     "data": {
      "text/plain": [
       "'capture student details'"
      ]
     },
     "execution_count": 26,
     "metadata": {},
     "output_type": "execute_result"
    }
   ],
   "source": [
    "sd = student_details()\n",
    "sd.student_details()"
   ]
  },
  {
   "cell_type": "code",
   "execution_count": 1,
   "id": "2716bd41-036d-4cd0-9cd2-1ca4e214840b",
   "metadata": {},
   "outputs": [],
   "source": [
    "def decor(fun):\n",
    "    def inner_decor():\n",
    "        print(\"Start\")\n",
    "        fun()\n",
    "        print(\"End\")\n",
    "    return inner_decor"
   ]
  },
  {
   "cell_type": "code",
   "execution_count": 3,
   "id": "27083d3a-22b9-444d-bfcd-5538d49f6235",
   "metadata": {},
   "outputs": [],
   "source": [
    "@decor\n",
    "def test_fun():\n",
    "    print(6+7)"
   ]
  },
  {
   "cell_type": "code",
   "execution_count": 4,
   "id": "32e4d8e6-bf4d-4f65-bd2f-e3892b82fec4",
   "metadata": {},
   "outputs": [
    {
     "name": "stdout",
     "output_type": "stream",
     "text": [
      "Start\n",
      "13\n",
      "End\n"
     ]
    }
   ],
   "source": [
    "test_fun()"
   ]
  },
  {
   "cell_type": "code",
   "execution_count": 1,
   "id": "0eddb41d-ff49-4f1f-ba50-fb2b25f5e580",
   "metadata": {},
   "outputs": [],
   "source": [
    "import time\n",
    "def timer_decor(func):\n",
    "    def inner_timer_decor():\n",
    "        start = time.time()\n",
    "        func()\n",
    "        end = time.time()\n",
    "        print(end - start)\n",
    "    return inner_timer_decor"
   ]
  },
  {
   "cell_type": "code",
   "execution_count": 2,
   "id": "692b3140-1331-4db4-b86f-b1782a917d5e",
   "metadata": {},
   "outputs": [],
   "source": [
    "@timer_decor\n",
    "def test_timer():\n",
    "    print(3333+434)"
   ]
  },
  {
   "cell_type": "code",
   "execution_count": 3,
   "id": "8dee7fa0-caf2-4e09-bc78-b2a4292f9060",
   "metadata": {},
   "outputs": [
    {
     "name": "stdout",
     "output_type": "stream",
     "text": [
      "3767\n",
      "7.200241088867188e-05\n"
     ]
    }
   ],
   "source": [
    "test_timer()"
   ]
  },
  {
   "cell_type": "code",
   "execution_count": 4,
   "id": "a0784fd5-8f98-4d30-acee-1ff4f6366a04",
   "metadata": {},
   "outputs": [],
   "source": [
    "class pwskills:\n",
    "    def __init__(self, name, email):\n",
    "        self.name = name\n",
    "        self.email = email\n",
    "    \n",
    "    @classmethod\n",
    "    def details(clsm, name, email):\n",
    "        return clsm(name, email)\n",
    "    \n",
    "    def stu_details(self):\n",
    "        return self.name, self.email"
   ]
  },
  {
   "cell_type": "code",
   "execution_count": 5,
   "id": "b524dd86-1c93-4cf9-8d81-4c7549a7b6fe",
   "metadata": {},
   "outputs": [
    {
     "data": {
      "text/plain": [
       "('Mohan', 'mohan@gmail.com')"
      ]
     },
     "execution_count": 5,
     "metadata": {},
     "output_type": "execute_result"
    }
   ],
   "source": [
    "pw = pwskills.details(\"Mohan\", \"mohan@gmail.com\")\n",
    "pw.stu_details()"
   ]
  },
  {
   "cell_type": "code",
   "execution_count": 12,
   "id": "2a610412-4341-4038-bffe-1c915e92b39e",
   "metadata": {},
   "outputs": [],
   "source": [
    "class pwskills2:\n",
    "    \n",
    "    mobile_num = 91234576\n",
    "    \n",
    "    def __init__(self, name, email):\n",
    "        self.name = name\n",
    "        self.email = email\n",
    "    \n",
    "    @classmethod\n",
    "    def change_mob_num(clsm, mobile):\n",
    "        pwskills2.mobile_num = mobile\n",
    "    \n",
    "    @classmethod\n",
    "    def details(clsm, name, email):\n",
    "        return clsm(name, email)\n",
    "    \n",
    "    def stu_details(self):\n",
    "        return self.name, self.email, pwskills2.mobile_num"
   ]
  },
  {
   "cell_type": "code",
   "execution_count": 8,
   "id": "d1b3afd0-0d94-4da6-ac81-02e1608e5428",
   "metadata": {},
   "outputs": [],
   "source": [
    "pwskills2.change_mob_num(92345612)"
   ]
  },
  {
   "cell_type": "code",
   "execution_count": 9,
   "id": "4988729d-7a6a-4331-a035-fc8afba2a729",
   "metadata": {},
   "outputs": [
    {
     "data": {
      "text/plain": [
       "92345612"
      ]
     },
     "execution_count": 9,
     "metadata": {},
     "output_type": "execute_result"
    }
   ],
   "source": [
    "pwskills2.mobile_num"
   ]
  },
  {
   "cell_type": "code",
   "execution_count": 13,
   "id": "437f657a-bf4f-40a2-9218-c9b2dc7ac587",
   "metadata": {},
   "outputs": [],
   "source": [
    "pw2 = pwskills2.details(\"SS\", \"ss@gmail.com\")"
   ]
  },
  {
   "cell_type": "code",
   "execution_count": 15,
   "id": "18eb5dad-eff6-46cc-8731-e780fd7c0801",
   "metadata": {},
   "outputs": [],
   "source": [
    "pw2.change_mob_num(9234527)"
   ]
  },
  {
   "cell_type": "code",
   "execution_count": 16,
   "id": "2c38bc95-827e-45c1-ace9-ea6d5f97b455",
   "metadata": {},
   "outputs": [
    {
     "data": {
      "text/plain": [
       "('SS', 'ss@gmail.com', 9234527)"
      ]
     },
     "execution_count": 16,
     "metadata": {},
     "output_type": "execute_result"
    }
   ],
   "source": [
    "pw2.stu_details()"
   ]
  },
  {
   "cell_type": "code",
   "execution_count": 17,
   "id": "1652ffee-60aa-4903-bb64-4a50eec51f8b",
   "metadata": {},
   "outputs": [],
   "source": [
    "pw3 = pwskills2(\"dd\", \"dd@gmail.com\")"
   ]
  },
  {
   "cell_type": "code",
   "execution_count": 18,
   "id": "c2b2f715-6768-431b-8051-1a5ae859069f",
   "metadata": {},
   "outputs": [],
   "source": [
    "pw3.change_mob_num(34324324)"
   ]
  },
  {
   "cell_type": "code",
   "execution_count": 19,
   "id": "7509cba6-47cd-401f-bd32-e7be038c08d0",
   "metadata": {},
   "outputs": [
    {
     "data": {
      "text/plain": [
       "('dd', 'dd@gmail.com', 34324324)"
      ]
     },
     "execution_count": 19,
     "metadata": {},
     "output_type": "execute_result"
    }
   ],
   "source": [
    "pw3.stu_details()"
   ]
  },
  {
   "cell_type": "code",
   "execution_count": 20,
   "id": "da5ab259-403a-4e7c-87ef-b0e3c2bea5c2",
   "metadata": {},
   "outputs": [
    {
     "data": {
      "text/plain": [
       "('SS', 'ss@gmail.com', 34324324)"
      ]
     },
     "execution_count": 20,
     "metadata": {},
     "output_type": "execute_result"
    }
   ],
   "source": [
    "pw2.stu_details()"
   ]
  },
  {
   "cell_type": "code",
   "execution_count": 21,
   "id": "7b014fb5-ded9-4844-b3a1-6d0d7b7118e8",
   "metadata": {},
   "outputs": [
    {
     "data": {
      "text/plain": [
       "34324324"
      ]
     },
     "execution_count": 21,
     "metadata": {},
     "output_type": "execute_result"
    }
   ],
   "source": [
    "pwskills2.mobile_num"
   ]
  },
  {
   "cell_type": "code",
   "execution_count": 22,
   "id": "6bf4eb12-3156-46e8-a353-5223b34e4551",
   "metadata": {},
   "outputs": [],
   "source": [
    "pw4 = pwskills2.details(\"tt\", \"tt@gmail.com\")"
   ]
  },
  {
   "cell_type": "code",
   "execution_count": 26,
   "id": "0bbf18f3-7b9b-442e-b820-d477c9c91345",
   "metadata": {},
   "outputs": [
    {
     "data": {
      "text/plain": [
       "('dd', 'dd@gmail.com', 34324324)"
      ]
     },
     "execution_count": 26,
     "metadata": {},
     "output_type": "execute_result"
    }
   ],
   "source": [
    "pw3.stu_details()"
   ]
  },
  {
   "cell_type": "code",
   "execution_count": 27,
   "id": "f46c11d6-8d61-43ad-a5c9-2af10d147863",
   "metadata": {},
   "outputs": [],
   "source": [
    "def course_details(self, course_name):\n",
    "    print(course_name)"
   ]
  },
  {
   "cell_type": "code",
   "execution_count": 28,
   "id": "772af609-aac5-4c36-9542-9ed87ed6a379",
   "metadata": {},
   "outputs": [],
   "source": [
    "pwskills2.course_details = classmethod(course_details)"
   ]
  },
  {
   "cell_type": "code",
   "execution_count": 29,
   "id": "7dbff396-5baa-4185-8a69-18a60be0feb6",
   "metadata": {},
   "outputs": [
    {
     "name": "stdout",
     "output_type": "stream",
     "text": [
      "data science\n"
     ]
    }
   ],
   "source": [
    "pwskills2.course_details(\"data science\")"
   ]
  },
  {
   "cell_type": "code",
   "execution_count": 30,
   "id": "49d98e84-5b08-4502-a645-bbf536fc9509",
   "metadata": {},
   "outputs": [
    {
     "name": "stdout",
     "output_type": "stream",
     "text": [
      "asdas\n"
     ]
    }
   ],
   "source": [
    "pw4.course_details('asdas')"
   ]
  },
  {
   "cell_type": "code",
   "execution_count": 31,
   "id": "d65f5e63-6a22-4b79-89a0-ef4953a34a0a",
   "metadata": {},
   "outputs": [
    {
     "name": "stdout",
     "output_type": "stream",
     "text": [
      "web dev\n"
     ]
    }
   ],
   "source": [
    "pw3.course_details('web dev')"
   ]
  },
  {
   "cell_type": "code",
   "execution_count": 32,
   "id": "7849b043-0932-4501-93fe-ec28e11178a6",
   "metadata": {},
   "outputs": [],
   "source": [
    "class pwskills3:\n",
    "    \n",
    "    mobile_num = 91234576\n",
    "    \n",
    "    def __init__(self, name, email):\n",
    "        self.name = name\n",
    "        self.email = email\n",
    "    \n",
    "    @classmethod\n",
    "    def change_mob_num(clsm, mobile):\n",
    "        pwskills2.mobile_num = mobile\n",
    "    \n",
    "    @classmethod\n",
    "    def details(clsm, name, email):\n",
    "        return clsm(name, email)\n",
    "    \n",
    "    def stu_details(self):\n",
    "        return self.name, self.email, pwskills2.mobile_num"
   ]
  },
  {
   "cell_type": "code",
   "execution_count": 33,
   "id": "18f6a5b0-5436-43ce-9f54-826d33829499",
   "metadata": {},
   "outputs": [],
   "source": [
    "del pwskills3.change_mob_num"
   ]
  },
  {
   "cell_type": "code",
   "execution_count": 34,
   "id": "266b78d0-53f4-4932-9ab1-658182b2f6ac",
   "metadata": {},
   "outputs": [],
   "source": [
    "delattr(pwskills3, \"details\")"
   ]
  },
  {
   "cell_type": "code",
   "execution_count": null,
   "id": "34317fb6-bb49-4096-9ad6-a385de1ec6c2",
   "metadata": {},
   "outputs": [],
   "source": []
  }
 ],
 "metadata": {
  "kernelspec": {
   "display_name": "Python 3 (ipykernel)",
   "language": "python",
   "name": "python3"
  },
  "language_info": {
   "codemirror_mode": {
    "name": "ipython",
    "version": 3
   },
   "file_extension": ".py",
   "mimetype": "text/x-python",
   "name": "python",
   "nbconvert_exporter": "python",
   "pygments_lexer": "ipython3",
   "version": "3.10.8"
  }
 },
 "nbformat": 4,
 "nbformat_minor": 5
}
