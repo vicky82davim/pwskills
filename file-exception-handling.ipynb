{
 "cells": [
  {
   "cell_type": "code",
   "execution_count": 1,
   "id": "c44c980e-62c4-4121-9b44-bf24e277411a",
   "metadata": {},
   "outputs": [
    {
     "data": {
      "text/plain": [
       "'/home/jovyan/work'"
      ]
     },
     "execution_count": 1,
     "metadata": {},
     "output_type": "execute_result"
    }
   ],
   "source": [
    "pwd"
   ]
  },
  {
   "cell_type": "code",
   "execution_count": 2,
   "id": "79140f05-d402-4733-bcb4-0ed9e607ae92",
   "metadata": {},
   "outputs": [],
   "source": [
    "f = open(\"test.txt\", 'w')"
   ]
  },
  {
   "cell_type": "code",
   "execution_count": 3,
   "id": "dcc32b51-26af-45f2-b1d7-3ecf3655093b",
   "metadata": {},
   "outputs": [
    {
     "data": {
      "text/plain": [
       "21"
      ]
     },
     "execution_count": 3,
     "metadata": {},
     "output_type": "execute_result"
    }
   ],
   "source": [
    "f.write(\"This is my first text\")"
   ]
  },
  {
   "cell_type": "code",
   "execution_count": 4,
   "id": "7bc8f509-2ef5-491f-95a9-32598dbdc1e9",
   "metadata": {},
   "outputs": [],
   "source": [
    "f.close()"
   ]
  },
  {
   "cell_type": "code",
   "execution_count": 5,
   "id": "044a91bc-d251-489f-8698-20726d04deea",
   "metadata": {},
   "outputs": [],
   "source": [
    "f = open(\"test.txt\", \"a\")"
   ]
  },
  {
   "cell_type": "code",
   "execution_count": 6,
   "id": "37a252a3-3ed7-4462-81c1-85c35c4ef7eb",
   "metadata": {},
   "outputs": [
    {
     "data": {
      "text/plain": [
       "1163"
      ]
     },
     "execution_count": 6,
     "metadata": {},
     "output_type": "execute_result"
    }
   ],
   "source": [
    "f.write(\" Shaving blades play an important role in helping you achieve a clean shave. The precision and sharpness of these blades impact the process of hair removal to give a smooth finish to your shave. Changing the blades of your razor from time to time is necessary to achieve a perfect and close shave. Dull blades can underperform and will not be as effective as fresh ones in removing all the hair. There may be chances that the blunt blades harm your skin. Replacing your used blades with sharp ones can add comfort to your shaving experience and give you the desired results. These blades can also reduce the chances of nicks, cuts, and irritation caused to the skin while shaving. You can select from single-blade or multi-blade options available online. You have to be careful with the blade you choose for your razor. Selecting the blades from the same brand as that of your razor will ensure a perfect fit. You can browse online to check and compare shaving blade prices offered by various brands. You can buy them from brands like Gillette, Bombay Shaving Company, Schick, LetsShave, and Laser. Shop for shaving blades online for convenient doorstep delivery.\")"
   ]
  },
  {
   "cell_type": "code",
   "execution_count": 7,
   "id": "4a0caa90-f45f-4329-ace7-4df52ab4fad5",
   "metadata": {},
   "outputs": [],
   "source": [
    "f.close()"
   ]
  },
  {
   "cell_type": "code",
   "execution_count": 8,
   "id": "a1566ae7-db9f-4551-a927-39e785b7a126",
   "metadata": {},
   "outputs": [],
   "source": [
    "f = open(\"test.txt\", \"r\")"
   ]
  },
  {
   "cell_type": "code",
   "execution_count": 9,
   "id": "4c5252e8-5fc6-47d6-a267-b417db6a39ec",
   "metadata": {},
   "outputs": [
    {
     "data": {
      "text/plain": [
       "'This is my first text Shaving blades play an important role in helping you achieve a clean shave. The precision and sharpness of these blades impact the process of hair removal to give a smooth finish to your shave. Changing the blades of your razor from time to time is necessary to achieve a perfect and close shave. Dull blades can underperform and will not be as effective as fresh ones in removing all the hair. There may be chances that the blunt blades harm your skin. Replacing your used blades with sharp ones can add comfort to your shaving experience and give you the desired results. These blades can also reduce the chances of nicks, cuts, and irritation caused to the skin while shaving. You can select from single-blade or multi-blade options available online. You have to be careful with the blade you choose for your razor. Selecting the blades from the same brand as that of your razor will ensure a perfect fit. You can browse online to check and compare shaving blade prices offered by various brands. You can buy them from brands like Gillette, Bombay Shaving Company, Schick, LetsShave, and Laser. Shop for shaving blades online for convenient doorstep delivery.'"
      ]
     },
     "execution_count": 9,
     "metadata": {},
     "output_type": "execute_result"
    }
   ],
   "source": [
    "f.read()"
   ]
  },
  {
   "cell_type": "code",
   "execution_count": 10,
   "id": "a1cc0e41-0493-4ffe-b253-0ff9ce9f15cb",
   "metadata": {},
   "outputs": [
    {
     "data": {
      "text/plain": [
       "''"
      ]
     },
     "execution_count": 10,
     "metadata": {},
     "output_type": "execute_result"
    }
   ],
   "source": [
    "f.readline()"
   ]
  },
  {
   "cell_type": "code",
   "execution_count": 11,
   "id": "d3dd9419-5577-4ec4-bf0c-7c221e7d29e3",
   "metadata": {},
   "outputs": [
    {
     "data": {
      "text/plain": [
       "0"
      ]
     },
     "execution_count": 11,
     "metadata": {},
     "output_type": "execute_result"
    }
   ],
   "source": [
    "f.seek(0)"
   ]
  },
  {
   "cell_type": "code",
   "execution_count": 12,
   "id": "b942ac8a-34cd-494b-bb54-77f212066977",
   "metadata": {},
   "outputs": [
    {
     "data": {
      "text/plain": [
       "'This is my first text Shaving blades play an important role in helping you achieve a clean shave. The precision and sharpness of these blades impact the process of hair removal to give a smooth finish to your shave. Changing the blades of your razor from time to time is necessary to achieve a perfect and close shave. Dull blades can underperform and will not be as effective as fresh ones in removing all the hair. There may be chances that the blunt blades harm your skin. Replacing your used blades with sharp ones can add comfort to your shaving experience and give you the desired results. These blades can also reduce the chances of nicks, cuts, and irritation caused to the skin while shaving. You can select from single-blade or multi-blade options available online. You have to be careful with the blade you choose for your razor. Selecting the blades from the same brand as that of your razor will ensure a perfect fit. You can browse online to check and compare shaving blade prices offered by various brands. You can buy them from brands like Gillette, Bombay Shaving Company, Schick, LetsShave, and Laser. Shop for shaving blades online for convenient doorstep delivery.'"
      ]
     },
     "execution_count": 12,
     "metadata": {},
     "output_type": "execute_result"
    }
   ],
   "source": [
    "f.readline()"
   ]
  },
  {
   "cell_type": "code",
   "execution_count": 13,
   "id": "03219a2b-c571-4aeb-a653-ca8c4329cdb9",
   "metadata": {},
   "outputs": [
    {
     "data": {
      "text/plain": [
       "''"
      ]
     },
     "execution_count": 13,
     "metadata": {},
     "output_type": "execute_result"
    }
   ],
   "source": [
    "f.readline()"
   ]
  },
  {
   "cell_type": "code",
   "execution_count": 14,
   "id": "9589badb-e30b-47e3-86bb-96e99d8e1f08",
   "metadata": {},
   "outputs": [
    {
     "data": {
      "text/plain": [
       "10"
      ]
     },
     "execution_count": 14,
     "metadata": {},
     "output_type": "execute_result"
    }
   ],
   "source": [
    "f.seek(10)"
   ]
  },
  {
   "cell_type": "code",
   "execution_count": 15,
   "id": "43416d20-d32c-485d-b577-947b7a56a4ae",
   "metadata": {},
   "outputs": [
    {
     "data": {
      "text/plain": [
       "' first text Shaving blades play an important role in helping you achieve a clean shave. The precision and sharpness of these blades impact the process of hair removal to give a smooth finish to your shave. Changing the blades of your razor from time to time is necessary to achieve a perfect and close shave. Dull blades can underperform and will not be as effective as fresh ones in removing all the hair. There may be chances that the blunt blades harm your skin. Replacing your used blades with sharp ones can add comfort to your shaving experience and give you the desired results. These blades can also reduce the chances of nicks, cuts, and irritation caused to the skin while shaving. You can select from single-blade or multi-blade options available online. You have to be careful with the blade you choose for your razor. Selecting the blades from the same brand as that of your razor will ensure a perfect fit. You can browse online to check and compare shaving blade prices offered by various brands. You can buy them from brands like Gillette, Bombay Shaving Company, Schick, LetsShave, and Laser. Shop for shaving blades online for convenient doorstep delivery.'"
      ]
     },
     "execution_count": 15,
     "metadata": {},
     "output_type": "execute_result"
    }
   ],
   "source": [
    "f.readline()"
   ]
  },
  {
   "cell_type": "code",
   "execution_count": 16,
   "id": "65c4f4ed-d437-4fb1-9444-3087f309862f",
   "metadata": {},
   "outputs": [],
   "source": [
    "f1 = open(\"test.txt\", \"r\")"
   ]
  },
  {
   "cell_type": "code",
   "execution_count": 17,
   "id": "7fd6bbc2-6eec-484a-a229-98bbdd53b5c7",
   "metadata": {},
   "outputs": [
    {
     "name": "stdout",
     "output_type": "stream",
     "text": [
      "This is my first text Shaving blades play an important role in helping you achieve a clean shave. The precision and sharpness of these blades impact the process of hair removal to give a smooth finish to your shave. Changing the blades of your razor from time to time is necessary to achieve a perfect and close shave. Dull blades can underperform and will not be as effective as fresh ones in removing all the hair. There may be chances that the blunt blades harm your skin. Replacing your used blades with sharp ones can add comfort to your shaving experience and give you the desired results. These blades can also reduce the chances of nicks, cuts, and irritation caused to the skin while shaving. You can select from single-blade or multi-blade options available online. You have to be careful with the blade you choose for your razor. Selecting the blades from the same brand as that of your razor will ensure a perfect fit. You can browse online to check and compare shaving blade prices offered by various brands. You can buy them from brands like Gillette, Bombay Shaving Company, Schick, LetsShave, and Laser. Shop for shaving blades online for convenient doorstep delivery.\n"
     ]
    }
   ],
   "source": [
    "for i in f1:\n",
    "    print(i)"
   ]
  },
  {
   "cell_type": "code",
   "execution_count": 18,
   "id": "4a4044d2-7643-4925-80a8-8275a887f54b",
   "metadata": {},
   "outputs": [],
   "source": [
    "import os"
   ]
  },
  {
   "cell_type": "code",
   "execution_count": 19,
   "id": "2ae8e9d8-1553-4bc9-8da3-cf42db18834b",
   "metadata": {},
   "outputs": [
    {
     "data": {
      "text/plain": [
       "1184"
      ]
     },
     "execution_count": 19,
     "metadata": {},
     "output_type": "execute_result"
    }
   ],
   "source": [
    "os.path.getsize(\"test.txt\")"
   ]
  },
  {
   "cell_type": "code",
   "execution_count": 20,
   "id": "331dd174-1f52-43b3-ba3c-3c1437e0ab29",
   "metadata": {},
   "outputs": [],
   "source": [
    "os.remove(\"test.txt\")"
   ]
  },
  {
   "cell_type": "code",
   "execution_count": 22,
   "id": "75d4fdf5-a162-4ba0-a962-279ef65caf6e",
   "metadata": {},
   "outputs": [],
   "source": [
    "f = open(\"test1.txt\", \"w\")"
   ]
  },
  {
   "cell_type": "code",
   "execution_count": 23,
   "id": "0f967a37-0bdc-4f22-84cc-f161fa46c73f",
   "metadata": {},
   "outputs": [
    {
     "data": {
      "text/plain": [
       "1184"
      ]
     },
     "execution_count": 23,
     "metadata": {},
     "output_type": "execute_result"
    }
   ],
   "source": [
    "f.write(\"This is my first text Shaving blades play an important role in helping you achieve a clean shave. The precision and sharpness of these blades impact the process of hair removal to give a smooth finish to your shave. Changing the blades of your razor from time to time is necessary to achieve a perfect and close shave. Dull blades can underperform and will not be as effective as fresh ones in removing all the hair. There may be chances that the blunt blades harm your skin. Replacing your used blades with sharp ones can add comfort to your shaving experience and give you the desired results. These blades can also reduce the chances of nicks, cuts, and irritation caused to the skin while shaving. You can select from single-blade or multi-blade options available online. You have to be careful with the blade you choose for your razor. Selecting the blades from the same brand as that of your razor will ensure a perfect fit. You can browse online to check and compare shaving blade prices offered by various brands. You can buy them from brands like Gillette, Bombay Shaving Company, Schick, LetsShave, and Laser. Shop for shaving blades online for convenient doorstep delivery.\")"
   ]
  },
  {
   "cell_type": "code",
   "execution_count": 24,
   "id": "6d0204b2-0868-4f16-9107-5465b3686db1",
   "metadata": {},
   "outputs": [],
   "source": [
    "f.close()"
   ]
  },
  {
   "cell_type": "code",
   "execution_count": 25,
   "id": "69be7294-468d-49b9-b5de-480c28b5fa1d",
   "metadata": {},
   "outputs": [],
   "source": [
    "os.rename(\"test1.txt\", \"new.txt\")"
   ]
  },
  {
   "cell_type": "code",
   "execution_count": 26,
   "id": "511c9e68-b224-4219-a720-b16d2b90d07d",
   "metadata": {},
   "outputs": [],
   "source": [
    "import shutil"
   ]
  },
  {
   "cell_type": "code",
   "execution_count": 27,
   "id": "e49cdb2d-a19c-41a5-bbf4-6e5e9a2b9487",
   "metadata": {},
   "outputs": [
    {
     "data": {
      "text/plain": [
       "'new-copy.txt'"
      ]
     },
     "execution_count": 27,
     "metadata": {},
     "output_type": "execute_result"
    }
   ],
   "source": [
    "shutil.copy(\"new.txt\", \"new-copy.txt\")"
   ]
  },
  {
   "cell_type": "code",
   "execution_count": 28,
   "id": "fe04c156-317a-43ed-a613-7a63bba09401",
   "metadata": {},
   "outputs": [
    {
     "name": "stdout",
     "output_type": "stream",
     "text": [
      "This is my first text Shaving blades play an important role in helping you achieve a clean shave. The precision and sharpness of these blades impact the process of hair removal to give a smooth finish to your shave. Changing the blades of your razor from time to time is necessary to achieve a perfect and close shave. Dull blades can underperform and will not be as effective as fresh ones in removing all the hair. There may be chances that the blunt blades harm your skin. Replacing your used blades with sharp ones can add comfort to your shaving experience and give you the desired results. These blades can also reduce the chances of nicks, cuts, and irritation caused to the skin while shaving. You can select from single-blade or multi-blade options available online. You have to be careful with the blade you choose for your razor. Selecting the blades from the same brand as that of your razor will ensure a perfect fit. You can browse online to check and compare shaving blade prices offered by various brands. You can buy them from brands like Gillette, Bombay Shaving Company, Schick, LetsShave, and Laser. Shop for shaving blades online for convenient doorstep delivery.\n"
     ]
    }
   ],
   "source": [
    "with open(\"new-copy.txt\", \"r\") as f:\n",
    "    print(f.read())"
   ]
  },
  {
   "cell_type": "code",
   "execution_count": 5,
   "id": "bb13620e-5054-42e4-b77a-e64792ffc348",
   "metadata": {},
   "outputs": [],
   "source": [
    "data = {\n",
    "    \"name\": \"Test\",\n",
    "    \"email\": \"test@test.com\",\n",
    "    \"phone\": 1213313,\n",
    "    \"sub\": [\"Data science\", \"Data Analy\", \"big data\"]\n",
    "}"
   ]
  },
  {
   "cell_type": "code",
   "execution_count": 6,
   "id": "9ad074ef-d797-4da1-bdbb-24acbe825850",
   "metadata": {},
   "outputs": [],
   "source": [
    "import json\n",
    "with open(\"data.json\", \"w\") as f:\n",
    "    json.dump(data, f)"
   ]
  },
  {
   "cell_type": "code",
   "execution_count": 8,
   "id": "bbccc31a-099b-48d8-a43c-da6053747d39",
   "metadata": {},
   "outputs": [],
   "source": [
    "with open(\"data.json\", \"r\") as f:\n",
    "    daa1 = json.load(f)"
   ]
  },
  {
   "cell_type": "code",
   "execution_count": 9,
   "id": "4af07fe2-b35c-433e-8d56-105270ee2839",
   "metadata": {},
   "outputs": [
    {
     "data": {
      "text/plain": [
       "{'name': 'Test',\n",
       " 'email': 'test@test.com',\n",
       " 'phone': 1213313,\n",
       " 'sub': ['Data science', 'Data Analy', 'big data']}"
      ]
     },
     "execution_count": 9,
     "metadata": {},
     "output_type": "execute_result"
    }
   ],
   "source": [
    "daa1"
   ]
  },
  {
   "cell_type": "code",
   "execution_count": 10,
   "id": "049d532d-9422-4880-9d9c-3b6f634075d4",
   "metadata": {},
   "outputs": [],
   "source": [
    "data = [\n",
    "    [\"Name\", \"Email\", \"Phone\"],\n",
    "    [\"vee\", \"vee@gmail.com\", 123123],\n",
    "    [\"Roh\", \"roh@gmail.com\", 324324324]\n",
    "]"
   ]
  },
  {
   "cell_type": "code",
   "execution_count": 11,
   "id": "f4969add-c3fb-4f98-8ccf-4b7d5aee5408",
   "metadata": {},
   "outputs": [],
   "source": [
    "import csv\n",
    "with open(\"data.csv\", \"w\") as f:\n",
    "    writer = csv.writer(f)\n",
    "    for i in data:\n",
    "        writer.writerow(i)"
   ]
  },
  {
   "cell_type": "code",
   "execution_count": 12,
   "id": "f3436741-55f6-485d-9cb6-a5aa31ff0e4a",
   "metadata": {},
   "outputs": [
    {
     "name": "stdout",
     "output_type": "stream",
     "text": [
      "['Name', 'Email', 'Phone']\n",
      "['vee', 'vee@gmail.com', '123123']\n",
      "['Roh', 'roh@gmail.com', '324324324']\n"
     ]
    }
   ],
   "source": [
    "with open(\"data.csv\", \"r\") as f:\n",
    "    read_csv = csv.reader(f)\n",
    "    \n",
    "    for i in read_csv:\n",
    "        print(i)"
   ]
  },
  {
   "cell_type": "code",
   "execution_count": 14,
   "id": "be669653-c416-416e-90e6-6e71416818d0",
   "metadata": {},
   "outputs": [],
   "source": [
    "with open(\"data.bin\", \"wb\") as f:\n",
    "    f.write(b\"\\x01\\x02\\x03\\x0213213\")"
   ]
  },
  {
   "cell_type": "code",
   "execution_count": 15,
   "id": "e77f8d4e-bb6c-472a-b756-0f8224dfe229",
   "metadata": {},
   "outputs": [
    {
     "name": "stdout",
     "output_type": "stream",
     "text": [
      "b'\\x01\\x02\\x03\\x0213213'\n"
     ]
    }
   ],
   "source": [
    "with open(\"data.bin\", 'rb') as f:\n",
    "    print(f.read())"
   ]
  },
  {
   "cell_type": "code",
   "execution_count": 18,
   "id": "c37d7311-5cde-4213-a06b-001d8c62f231",
   "metadata": {},
   "outputs": [],
   "source": [
    "import io\n",
    "with open(\"test.txt\", \"wb\") as f:\n",
    "    file = io.BufferedWriter(f)\n",
    "    \n",
    "    file.write(b\"First line \\n\")\n",
    "    file.write(b\"Second line\\n\")\n",
    "    \n",
    "    file.flush()"
   ]
  },
  {
   "cell_type": "code",
   "execution_count": 19,
   "id": "f4ee3cbd-520d-4b16-b739-780c6f4ebc89",
   "metadata": {},
   "outputs": [],
   "source": [
    "# by default buffer size 8192 byte"
   ]
  },
  {
   "cell_type": "code",
   "execution_count": 20,
   "id": "c3fd28bd-da0d-4f61-9469-b5f312772a8c",
   "metadata": {},
   "outputs": [
    {
     "name": "stdout",
     "output_type": "stream",
     "text": [
      "b'First line \\nSecond line\\n'\n"
     ]
    }
   ],
   "source": [
    "with open(\"test.txt\", \"rb\") as f:\n",
    "    file = io.BufferedReader(f)\n",
    "    print(file.read())"
   ]
  },
  {
   "cell_type": "code",
   "execution_count": 22,
   "id": "785ed03d-99e5-49e5-8ca6-8dbe9667ef81",
   "metadata": {},
   "outputs": [
    {
     "name": "stdout",
     "output_type": "stream",
     "text": [
      "b'First line \\nSecond l'\n"
     ]
    }
   ],
   "source": [
    "with open(\"test.txt\", \"rb\") as f:\n",
    "    file = io.BufferedReader(f)\n",
    "    print(file.read(20))"
   ]
  },
  {
   "cell_type": "code",
   "execution_count": null,
   "id": "0f776dce-6c36-43e7-9814-c5cd2e82601b",
   "metadata": {},
   "outputs": [],
   "source": []
  }
 ],
 "metadata": {
  "kernelspec": {
   "display_name": "Python 3 (ipykernel)",
   "language": "python",
   "name": "python3"
  },
  "language_info": {
   "codemirror_mode": {
    "name": "ipython",
    "version": 3
   },
   "file_extension": ".py",
   "mimetype": "text/x-python",
   "name": "python",
   "nbconvert_exporter": "python",
   "pygments_lexer": "ipython3",
   "version": "3.10.8"
  }
 },
 "nbformat": 4,
 "nbformat_minor": 5
}
