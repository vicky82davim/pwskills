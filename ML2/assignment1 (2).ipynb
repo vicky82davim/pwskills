{
 "cells": [
  {
   "cell_type": "code",
   "execution_count": 1,
   "id": "eb668e55-2827-4936-a608-789b12185419",
   "metadata": {},
   "outputs": [],
   "source": [
    "import pandas as pd\n",
    "df = pd.read_csv('wine-quality.csv')"
   ]
  },
  {
   "cell_type": "code",
   "execution_count": 2,
   "id": "5faaa91c-eb03-4ece-9af2-d68cd1f46319",
   "metadata": {},
   "outputs": [
    {
     "data": {
      "text/plain": [
       "'\\nQ1. What are the key features of the wine quality data set? Discuss the importance of each feature in\\npredicting the quality of wine.\\n\\nANS:\\nWe can see that several features will be used to classify the quality of wine, many of them are chemical, so we need to have a basic understanding of such chemicals\\nvolatile acidity :   Volatile acidity is the gaseous acids present in wine.\\nfixed acidity :   Primary fixed acids found in wine are tartaric, succinic, citric, and malic\\nresidual sugar :   Amount of sugar left after fermentation.\\ncitric acid :    It is weak organic acid, found in citrus fruits naturally.\\nchlorides :   Amount of salt present in wine.\\nfree sulfur dioxide :   So2 is used for prevention of wine by oxidation and microbial spoilage.\\ntotal sulfur dioxide \\npH :   In wine pH is used for checking acidity\\ndensity \\nsulphates :    Added sulfites preserve freshness and protect wine from oxidation, and bacteria.\\nalcohol :   Percent of alcohol present in wine.\\n\\n'"
      ]
     },
     "execution_count": 2,
     "metadata": {},
     "output_type": "execute_result"
    }
   ],
   "source": [
    "\"\"\"\n",
    "Q1. What are the key features of the wine quality data set? Discuss the importance of each feature in\n",
    "predicting the quality of wine.\n",
    "\n",
    "ANS:\n",
    "We can see that several features will be used to classify the quality of wine, many of them are chemical, so we need to have a basic understanding of such chemicals\n",
    "volatile acidity :   Volatile acidity is the gaseous acids present in wine.\n",
    "fixed acidity :   Primary fixed acids found in wine are tartaric, succinic, citric, and malic\n",
    "residual sugar :   Amount of sugar left after fermentation.\n",
    "citric acid :    It is weak organic acid, found in citrus fruits naturally.\n",
    "chlorides :   Amount of salt present in wine.\n",
    "free sulfur dioxide :   So2 is used for prevention of wine by oxidation and microbial spoilage.\n",
    "total sulfur dioxide \n",
    "pH :   In wine pH is used for checking acidity\n",
    "density \n",
    "sulphates :    Added sulfites preserve freshness and protect wine from oxidation, and bacteria.\n",
    "alcohol :   Percent of alcohol present in wine.\n",
    "\n",
    "\"\"\""
   ]
  },
  {
   "cell_type": "code",
   "execution_count": 3,
   "id": "bca522b7-0175-432a-9330-632fae7987af",
   "metadata": {},
   "outputs": [
    {
     "data": {
      "text/plain": [
       "\"\\nQ2. How did you handle missing data in the wine quality data set during the feature engineering process?\\nDiscuss the advantages and disadvantages of different imputation techniques.\\n\\nANS:\\ncheck the number of null values in the dataset columns wise.\\ndf.isnull().sum()\\n\\nDropping rows with null values\\n\\nThe easiest and quickest approach to a missing data problem is dropping the offending entries. This is an acceptable solution if we are confident that the missing data in the dataset is missing at random, and if the number of data points we have access to is sufficiently high that dropping some of them will not cause us to lose generalizability in the models we build\\n\\nDropping features with high nullity\\n\\nA feature that has a high number of empty values is unlikely to be very useful for prediction. It can often be safely dropped. \\nDropping rare features simplifies your model, but obviously gives you fewer features to work with. Before dropping features outright, consider subsetting the part of the dataset that this value is available for and checking its feature importance when it is used to train a model in this subset. If in doing so you disover that the variable is important in the subset it is defined, consider making an effort to retain it.\\n\\nMean or median or other summary statistic substitution\\n\\nThe remainder of the techniques available are imputation methods, as opposed to data-dropping methods. The simplest imputation method is replacing missing values with the mean or median values of the dataset at large, or some similar summary statistic. This has the advantage of being the simplest possible approach, and one that doesn't introduce any undue bias into the dataset.\\n\\n\""
      ]
     },
     "execution_count": 3,
     "metadata": {},
     "output_type": "execute_result"
    }
   ],
   "source": [
    "\"\"\"\n",
    "Q2. How did you handle missing data in the wine quality data set during the feature engineering process?\n",
    "Discuss the advantages and disadvantages of different imputation techniques.\n",
    "\n",
    "ANS:\n",
    "check the number of null values in the dataset columns wise.\n",
    "df.isnull().sum()\n",
    "\n",
    "Dropping rows with null values\n",
    "\n",
    "The easiest and quickest approach to a missing data problem is dropping the offending entries. This is an acceptable solution if we are confident that the missing data in the dataset is missing at random, and if the number of data points we have access to is sufficiently high that dropping some of them will not cause us to lose generalizability in the models we build\n",
    "\n",
    "Dropping features with high nullity\n",
    "\n",
    "A feature that has a high number of empty values is unlikely to be very useful for prediction. It can often be safely dropped. \n",
    "Dropping rare features simplifies your model, but obviously gives you fewer features to work with. Before dropping features outright, consider subsetting the part of the dataset that this value is available for and checking its feature importance when it is used to train a model in this subset. If in doing so you disover that the variable is important in the subset it is defined, consider making an effort to retain it.\n",
    "\n",
    "Mean or median or other summary statistic substitution\n",
    "\n",
    "The remainder of the techniques available are imputation methods, as opposed to data-dropping methods. The simplest imputation method is replacing missing values with the mean or median values of the dataset at large, or some similar summary statistic. This has the advantage of being the simplest possible approach, and one that doesn't introduce any undue bias into the dataset.\n",
    "\n",
    "\"\"\""
   ]
  },
  {
   "cell_type": "code",
   "execution_count": 4,
   "id": "7e387cb9-8795-4b72-bcc4-d90caed1587e",
   "metadata": {},
   "outputs": [
    {
     "data": {
      "text/plain": [
       "\"\\nQ3. What are the key factors that affect students' performance in exams? How would you go about\\nanalyzing these factors using statistical techniques?\\n\\nANS:\\nBased on “df.describe()”\\n# All means are very close to each other- between 66 and 69\\n# All the standard deviation are also close - between 14.3 - 15.14\\n# While there is a minimum of 22 for maths, other are having 22 and 29 values\\n\\nBased on “Gender”\\n# Female student tend to perform well than male students\\n\\nBased on “Lunch”\\n# Standard lunch help students perform well in exams\\n# Standard lunch helps perform well in exams be it a male or female\\n\\nBased on “parental_level_of_education”\\n# In general parent's education don't help student perform well in exam.\\n# 2nd plot shows that parent's whose education is of master's degree or some high school degree, their female child tend to perform well in the exam\\n# 3rd plot shows that parent's whose education is of associate's degree or master's degree their male child tend to perform well in the exam\\n\\n\""
      ]
     },
     "execution_count": 4,
     "metadata": {},
     "output_type": "execute_result"
    }
   ],
   "source": [
    "\"\"\"\n",
    "Q3. What are the key factors that affect students' performance in exams? How would you go about\n",
    "analyzing these factors using statistical techniques?\n",
    "\n",
    "ANS:\n",
    "Based on “df.describe()”\n",
    "# All means are very close to each other- between 66 and 69\n",
    "# All the standard deviation are also close - between 14.3 - 15.14\n",
    "# While there is a minimum of 22 for maths, other are having 22 and 29 values\n",
    "\n",
    "Based on “Gender”\n",
    "# Female student tend to perform well than male students\n",
    "\n",
    "Based on “Lunch”\n",
    "# Standard lunch help students perform well in exams\n",
    "# Standard lunch helps perform well in exams be it a male or female\n",
    "\n",
    "Based on “parental_level_of_education”\n",
    "# In general parent's education don't help student perform well in exam.\n",
    "# 2nd plot shows that parent's whose education is of master's degree or some high school degree, their female child tend to perform well in the exam\n",
    "# 3rd plot shows that parent's whose education is of associate's degree or master's degree their male child tend to perform well in the exam\n",
    "\n",
    "\"\"\""
   ]
  },
  {
   "cell_type": "code",
   "execution_count": 5,
   "id": "ccac7832-768e-4b12-99af-ad048725bd7e",
   "metadata": {},
   "outputs": [
    {
     "data": {
      "text/plain": [
       "'\\nQ4. Describe the process of feature engineering in the context of the student performance data set. How\\ndid you select and transform the variables for your model?\\n\\nANS:\\n# Check Missing values\\ndf.isnull().sum()\\n\\tIf exists, remove the missing values or fill with some value by using encoding techniques like Label encoding, One hot encoding etc\\n\\n# check duplicates\\ndf.duplicated().sum()\\n\\tIf duplicates, remove duplicate rows\\n\\n## check the statistics of the dataset\\ndf.describe()\\n\\n\\n'"
      ]
     },
     "execution_count": 5,
     "metadata": {},
     "output_type": "execute_result"
    }
   ],
   "source": [
    "\"\"\"\n",
    "Q4. Describe the process of feature engineering in the context of the student performance data set. How\n",
    "did you select and transform the variables for your model?\n",
    "\n",
    "ANS:\n",
    "# Check Missing values\n",
    "df.isnull().sum()\n",
    "\tIf exists, remove the missing values or fill with some value by using encoding techniques like Label encoding, One hot encoding etc\n",
    "\n",
    "# check duplicates\n",
    "df.duplicated().sum()\n",
    "\tIf duplicates, remove duplicate rows\n",
    "\n",
    "## check the statistics of the dataset\n",
    "df.describe()\n",
    "\n",
    "\n",
    "\"\"\""
   ]
  },
  {
   "cell_type": "code",
   "execution_count": 6,
   "id": "24e126f6-e0ef-4b3e-8d56-cb1eab45f520",
   "metadata": {},
   "outputs": [
    {
     "data": {
      "text/plain": [
       "'\\nQ5. Load the wine quality data set and perform exploratory data analysis (EDA) to identify the distribution\\nof each feature. Which feature(s) exhibit non-normality, and what transformations could be applied to\\nthese features to improve normality?\\n\\nANS:\\nAs per the correlation matrix using a heatmap in seaborn\\n•\\tdensity has a strong positive correlation with residual sugar, whereas it has a strong negative correlation with alcohol.\\n•\\tpH & fixed acidity has negative correlation.\\n•\\tdensity & fixed acidity has positive correlation.\\n•\\tcitric acid & fixed acidity has positive correlation.\\n•\\tcitric acid & volatile acidity has negative correlation.\\n•\\tfree sulphur dioxide & total sulphur dioxide has positive correlation.\\n\\nseaborn.distplot- This function plots the estimated PDF over the data.\\n•\\tpH feature is approximately normally distributed.\\n•\\tRemaining all independent features are positively skewed.\\n\\n'"
      ]
     },
     "execution_count": 6,
     "metadata": {},
     "output_type": "execute_result"
    }
   ],
   "source": [
    "\"\"\"\n",
    "Q5. Load the wine quality data set and perform exploratory data analysis (EDA) to identify the distribution\n",
    "of each feature. Which feature(s) exhibit non-normality, and what transformations could be applied to\n",
    "these features to improve normality?\n",
    "\n",
    "ANS:\n",
    "As per the correlation matrix using a heatmap in seaborn\n",
    "•\tdensity has a strong positive correlation with residual sugar, whereas it has a strong negative correlation with alcohol.\n",
    "•\tpH & fixed acidity has negative correlation.\n",
    "•\tdensity & fixed acidity has positive correlation.\n",
    "•\tcitric acid & fixed acidity has positive correlation.\n",
    "•\tcitric acid & volatile acidity has negative correlation.\n",
    "•\tfree sulphur dioxide & total sulphur dioxide has positive correlation.\n",
    "\n",
    "seaborn.distplot- This function plots the estimated PDF over the data.\n",
    "•\tpH feature is approximately normally distributed.\n",
    "•\tRemaining all independent features are positively skewed.\n",
    "\n",
    "\"\"\""
   ]
  },
  {
   "cell_type": "code",
   "execution_count": 7,
   "id": "a751ed9d-6484-430c-b761-4485cb1f5db9",
   "metadata": {},
   "outputs": [
    {
     "data": {
      "text/plain": [
       "'\\nQ6. Using the wine quality data set, perform principal component analysis (PCA) to reduce the number of\\nfeatures. What is the minimum number of principal components required to explain 90% of the variance in\\nthe data?\\n\\n'"
      ]
     },
     "execution_count": 7,
     "metadata": {},
     "output_type": "execute_result"
    }
   ],
   "source": [
    "\"\"\"\n",
    "Q6. Using the wine quality data set, perform principal component analysis (PCA) to reduce the number of\n",
    "features. What is the minimum number of principal components required to explain 90% of the variance in\n",
    "the data?\n",
    "\n",
    "\"\"\""
   ]
  },
  {
   "cell_type": "code",
   "execution_count": 16,
   "id": "3ee09313-08c5-4fae-a4db-2f19a9737bc8",
   "metadata": {},
   "outputs": [],
   "source": [
    "import numpy as np # linear algebra....\n",
    "from matplotlib import pyplot as plt #Visualization of the data....\n",
    "import seaborn as sns\n",
    "\n",
    "import warnings\n",
    "warnings.filterwarnings(\"ignore\")\n",
    "from sklearn.preprocessing import StandardScaler\n",
    "\n",
    "#Useful machine learning libraries....\n",
    "from sklearn.decomposition import PCA\n"
   ]
  },
  {
   "cell_type": "code",
   "execution_count": 18,
   "id": "63de9ddf-6767-4659-b906-25d5755b7b39",
   "metadata": {},
   "outputs": [],
   "source": [
    "## Before doing a PCA analysis, We need to subtract the mean value from each feature. \n",
    "## We can do it by applying StandardScaler from sklern.preprocessing: which not only removes the mean but also \n",
    "## scales features to have a unit variance.\n",
    "x1 = StandardScaler().fit_transform(df)"
   ]
  },
  {
   "cell_type": "code",
   "execution_count": 19,
   "id": "9e077fd5-6b9e-42a5-b706-f408207ea536",
   "metadata": {},
   "outputs": [
    {
     "name": "stdout",
     "output_type": "stream",
     "text": [
      "[-3.48163039e-16  4.49710592e-16  1.16054346e-17 -1.06624931e-16\n",
      "  3.13346735e-16 -1.01547553e-17 -4.64217386e-17  3.24720061e-14\n",
      " -1.18375433e-15 -8.21809840e-16 -3.71373908e-16  2.90135866e-17]\n",
      "[1. 1. 1. 1. 1. 1. 1. 1. 1. 1. 1. 1.]\n"
     ]
    }
   ],
   "source": [
    "print(x1.mean(axis=0)) # print the mean value of each feature after removing the mean\n",
    "print(x1.std(axis=0)) # print the standard deviation value of each feature after removing the mean"
   ]
  },
  {
   "cell_type": "code",
   "execution_count": 20,
   "id": "92332067-1a4a-4830-87ce-4a82ef4da981",
   "metadata": {},
   "outputs": [
    {
     "name": "stdout",
     "output_type": "stream",
     "text": [
      "(4898, 12)\n"
     ]
    }
   ],
   "source": [
    "## Do a principal component analysis (PCA)\n",
    "pca = PCA( ) # initialising a PCA instance.\n",
    "proj_wine = pca.fit_transform(x1) # The eigen-decomposition is done by using the fit() function; projections of the data in the PCA space is obtained using the transform() function. \n",
    "print(proj_wine.shape)"
   ]
  },
  {
   "cell_type": "code",
   "execution_count": 21,
   "id": "3bbf7a88-a602-4064-a662-e21eb14cb5d2",
   "metadata": {},
   "outputs": [
    {
     "name": "stdout",
     "output_type": "stream",
     "text": [
      "[3.34735228 1.58641419 1.37145206 1.08508304 0.97548253 0.93895465\n",
      " 0.76940533 0.7240416  0.55661467 0.34300342 0.28417344 0.02047329]\n",
      "[0.27888907 0.13217419 0.11426434 0.09040513 0.08127361 0.07823025\n",
      " 0.06410402 0.06032448 0.04637509 0.02857778 0.02367628 0.00170576]\n"
     ]
    }
   ],
   "source": [
    "## how much variance has been captured in a PCA analysis\n",
    "print(pca.explained_variance_)\n",
    "print(pca.explained_variance_ratio_) "
   ]
  },
  {
   "cell_type": "code",
   "execution_count": 22,
   "id": "e87e3575-5db9-43d4-8adf-16bc91536e73",
   "metadata": {},
   "outputs": [
    {
     "name": "stdout",
     "output_type": "stream",
     "text": [
      "4.933766462469479\n",
      "41.106326335090905 %\n"
     ]
    }
   ],
   "source": [
    "## How much variance has been captured using the first two principal components.\n",
    "var = np.sum(pca.explained_variance_[0:2])\n",
    "print(var)\n",
    "var_percentage = np.sum(pca.explained_variance_ratio_[0:2])*100\n",
    "print(var_percentage,'%')"
   ]
  },
  {
   "cell_type": "code",
   "execution_count": 23,
   "id": "63f2d07f-f5a1-4477-ab2f-cd6bdb87fa9f",
   "metadata": {},
   "outputs": [
    {
     "data": {
      "text/plain": [
       "Text(0, 0.5, 'The explained varaince')"
      ]
     },
     "execution_count": 23,
     "metadata": {},
     "output_type": "execute_result"
    },
    {
     "data": {
      "image/png": "[encoded data removed]",
      "text/plain": [
       "<Figure size 640x480 with 1 Axes>"
      ]
     },
     "metadata": {},
     "output_type": "display_data"
    }
   ],
   "source": [
    "## Scree plot: index of principal components against variance (variance percentage)\n",
    "figure = plt.figure()\n",
    "ax = plt.gca()\n",
    "plt.plot(pca.explained_variance_, color='red', linestyle='dotted')\n",
    "ax.set_title(\"Scree plot\")\n",
    "ax.set_xlabel(\"Index of principal components\")\n",
    "ax.set_ylabel(\"The explained varaince\")"
   ]
  },
  {
   "cell_type": "code",
   "execution_count": null,
   "id": "76ddc25d-d83b-4ff5-bfe6-d1df2126951b",
   "metadata": {},
   "outputs": [],
   "source": []
  }
 ],
 "metadata": {
  "kernelspec": {
   "display_name": "Python 3 (ipykernel)",
   "language": "python",
   "name": "python3"
  },
  "language_info": {
   "codemirror_mode": {
    "name": "ipython",
    "version": 3
   },
   "file_extension": ".py",
   "mimetype": "text/x-python",
   "name": "python",
   "nbconvert_exporter": "python",
   "pygments_lexer": "ipython3",
   "version": "3.10.8"
  }
 },
 "nbformat": 4,
 "nbformat_minor": 5
}
