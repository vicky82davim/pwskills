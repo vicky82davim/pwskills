{
 "cells": [
  {
   "cell_type": "code",
   "execution_count": 26,
   "id": "386b49e9-c562-4548-b5b6-b9b84322d983",
   "metadata": {},
   "outputs": [],
   "source": [
    "# Q1. Create one variable containing following type of data"
   ]
  },
  {
   "cell_type": "code",
   "execution_count": 2,
   "id": "d647cb31-af77-49d9-b160-94b3eaec0e5b",
   "metadata": {},
   "outputs": [],
   "source": [
    "tup1 = ('aa', 'bb', 'cc')\n",
    "lis1 = [2,4,10]\n",
    "list2 = [lis1, tup1, 54,65.32, 'str']"
   ]
  },
  {
   "cell_type": "code",
   "execution_count": 6,
   "id": "c53d470b-c497-4958-ab53-6a802b5dab68",
   "metadata": {},
   "outputs": [
    {
     "data": {
      "text/plain": [
       "[[2, 4, 10], ('aa', 'bb', 'cc'), 54, 65.32, 'str']"
      ]
     },
     "execution_count": 6,
     "metadata": {},
     "output_type": "execute_result"
    }
   ],
   "source": [
    "list2"
   ]
  },
  {
   "cell_type": "code",
   "execution_count": 27,
   "id": "42391a39-a0f0-49c5-a2f3-fea5843ce1c4",
   "metadata": {},
   "outputs": [],
   "source": [
    "# Q2. Given are some following variables containing data:\n",
    "#(i) var1 = ‘ ‘ \n",
    "#(ii) var2 = ‘[ DS , ML , Python]’\n",
    "#(iii) var3 = [ ‘DS’ , ’ML’ , ‘Python’ ]\n",
    "#(iv) var4 = 1."
   ]
  },
  {
   "cell_type": "code",
   "execution_count": 10,
   "id": "dbfa9532-d3a7-4f9f-bb4c-ad30c27e703d",
   "metadata": {},
   "outputs": [],
   "source": [
    "# var1: str\n",
    "# var2: str\n",
    "# var3: list\n",
    "# var4: Int"
   ]
  },
  {
   "cell_type": "code",
   "execution_count": 28,
   "id": "0b7b10eb-c541-4eb6-9388-8fae287d1e5a",
   "metadata": {},
   "outputs": [],
   "source": [
    "# Q3. Explain the use of the following operators using an example:\n",
    "#(i) /\n",
    "#(ii) %\n",
    "#(iii) //\n",
    "#(iv) **"
   ]
  },
  {
   "cell_type": "code",
   "execution_count": 16,
   "id": "62b2c042-c66c-4fbe-ac65-e82ea4045238",
   "metadata": {},
   "outputs": [],
   "source": [
    "# 1. divide\n",
    "# 2. modulus\n",
    "# 3. floor\n",
    "# 4. power"
   ]
  },
  {
   "cell_type": "code",
   "execution_count": 24,
   "id": "f0ad66f7-efc3-4dd8-8caa-13f8220157c8",
   "metadata": {},
   "outputs": [],
   "source": [
    "div = 2/3\n",
    "mod = 2%3\n",
    "flr = 10//3\n",
    "powr = 2**3"
   ]
  },
  {
   "cell_type": "code",
   "execution_count": 20,
   "id": "8bc2ff2a-0814-4cf6-a251-5067a8f2b9da",
   "metadata": {},
   "outputs": [
    {
     "data": {
      "text/plain": [
       "0.6666666666666666"
      ]
     },
     "execution_count": 20,
     "metadata": {},
     "output_type": "execute_result"
    }
   ],
   "source": [
    "div"
   ]
  },
  {
   "cell_type": "code",
   "execution_count": 21,
   "id": "829991e5-5808-4e43-a164-be04f00dd5e4",
   "metadata": {},
   "outputs": [
    {
     "data": {
      "text/plain": [
       "2"
      ]
     },
     "execution_count": 21,
     "metadata": {},
     "output_type": "execute_result"
    }
   ],
   "source": [
    "mod"
   ]
  },
  {
   "cell_type": "code",
   "execution_count": 25,
   "id": "b8355625-35b4-42ab-a371-1be1ebc79ff9",
   "metadata": {},
   "outputs": [
    {
     "data": {
      "text/plain": [
       "3"
      ]
     },
     "execution_count": 25,
     "metadata": {},
     "output_type": "execute_result"
    }
   ],
   "source": [
    "flr"
   ]
  },
  {
   "cell_type": "code",
   "execution_count": 23,
   "id": "2e6f0ede-6587-4362-8dc4-c3ec8fe56328",
   "metadata": {},
   "outputs": [
    {
     "data": {
      "text/plain": [
       "8"
      ]
     },
     "execution_count": 23,
     "metadata": {},
     "output_type": "execute_result"
    }
   ],
   "source": [
    "powr"
   ]
  },
  {
   "cell_type": "code",
   "execution_count": 34,
   "id": "fa027e29-db12-4eeb-be75-db78f9cff1ac",
   "metadata": {},
   "outputs": [
    {
     "name": "stdout",
     "output_type": "stream",
     "text": [
      "9 : <class 'int'>\n",
      "20 : <class 'int'>\n",
      "30 : <class 'int'>\n",
      "21 : <class 'int'>\n",
      "6 : <class 'int'>\n",
      "str : <class 'str'>\n",
      "24.3 : <class 'float'>\n",
      "str2 : <class 'str'>\n",
      "34 : <class 'int'>\n",
      "65 : <class 'int'>\n"
     ]
    }
   ],
   "source": [
    "# Q4. Create a list of length 10 of your choice containing multiple types of data. Using for loop print the \n",
    "# element and its data type.\n",
    "list1 = [9, 20, 30, 21, 6, 'str', 24.3, 'str2', 34, 65]\n",
    "for i in list1 :\n",
    "    print (i , \":\" , type(i))"
   ]
  },
  {
   "cell_type": "code",
   "execution_count": 36,
   "id": "dba91a24-cdc8-42b4-8974-d01999037b25",
   "metadata": {},
   "outputs": [
    {
     "name": "stdout",
     "output_type": "stream",
     "text": [
      "3\n"
     ]
    }
   ],
   "source": [
    "# Q5. Using a while loop, verify if the number A is purely divisible by number B and if so then how many\n",
    "# times it can be divisible.\n",
    "a = 40\n",
    "b = 2\n",
    "i = 0\n",
    "while a%b == 0 :\n",
    "    i = i + 1\n",
    "    a = a/b\n",
    "print (i)\n",
    "    "
   ]
  },
  {
   "cell_type": "code",
   "execution_count": 37,
   "id": "4e7e1465-3e55-41bd-8b6f-dac26bb378bc",
   "metadata": {},
   "outputs": [
    {
     "name": "stdout",
     "output_type": "stream",
     "text": [
      "Number:  1  is not divisible by 3\n",
      "Number:  2  is not divisible by 3\n",
      "Number:  3  is divisible by 3\n",
      "Number:  4  is not divisible by 3\n",
      "Number:  5  is not divisible by 3\n",
      "Number:  6  is divisible by 3\n",
      "Number:  7  is not divisible by 3\n",
      "Number:  8  is not divisible by 3\n",
      "Number:  9  is divisible by 3\n",
      "Number:  10  is not divisible by 3\n",
      "Number:  11  is not divisible by 3\n",
      "Number:  12  is divisible by 3\n",
      "Number:  13  is not divisible by 3\n",
      "Number:  14  is not divisible by 3\n",
      "Number:  15  is divisible by 3\n",
      "Number:  16  is not divisible by 3\n",
      "Number:  17  is not divisible by 3\n",
      "Number:  18  is divisible by 3\n",
      "Number:  19  is not divisible by 3\n",
      "Number:  20  is not divisible by 3\n",
      "Number:  21  is divisible by 3\n",
      "Number:  22  is not divisible by 3\n",
      "Number:  23  is not divisible by 3\n",
      "Number:  24  is divisible by 3\n",
      "Number:  25  is not divisible by 3\n"
     ]
    }
   ],
   "source": [
    "# Q6. Create a list containing 25 int type data. Using for loop and if-else condition print if the element is\n",
    "# divisible by 3 or not.\n",
    "list3 = [1,2,3,4,5,6,7,8,9,10,11,12,13,14,15,16,17,18,19,20,21,22,23,24,25]\n",
    "for i in list3 :\n",
    "    if i % 3 == 0:\n",
    "        print ('Number: ', i , \" is divisible by 3\")\n",
    "    else:\n",
    "        print ('Number: ', i , \" is not divisible by 3\")"
   ]
  },
  {
   "cell_type": "code",
   "execution_count": 38,
   "id": "379ace6b-bdfd-4b5f-8c43-7db5baf7add0",
   "metadata": {},
   "outputs": [],
   "source": [
    "# Q7. What do you understand about mutable and immutable data types? Give examples for both showing\n",
    "# this property.\n",
    "mutable = [2, 5, 'str', 10]\n",
    "immutbl = 'stringtype'"
   ]
  },
  {
   "cell_type": "code",
   "execution_count": 39,
   "id": "6524a499-2bf4-4958-a8dc-3bd69fcd1cf4",
   "metadata": {},
   "outputs": [
    {
     "data": {
      "text/plain": [
       "[2, 5, 'str', 10]"
      ]
     },
     "execution_count": 39,
     "metadata": {},
     "output_type": "execute_result"
    }
   ],
   "source": [
    "mutable"
   ]
  },
  {
   "cell_type": "code",
   "execution_count": 40,
   "id": "20a7422f-f7fc-4143-ac50-30466967efc2",
   "metadata": {},
   "outputs": [],
   "source": [
    "mutable[1] = 7"
   ]
  },
  {
   "cell_type": "code",
   "execution_count": 41,
   "id": "560776e7-c679-49ae-8b68-eceeabccceed",
   "metadata": {},
   "outputs": [
    {
     "data": {
      "text/plain": [
       "[2, 7, 'str', 10]"
      ]
     },
     "execution_count": 41,
     "metadata": {},
     "output_type": "execute_result"
    }
   ],
   "source": [
    "mutable"
   ]
  },
  {
   "cell_type": "code",
   "execution_count": 42,
   "id": "2e34cfd5-0a2a-4e26-a5cc-9bd1bd1ffc19",
   "metadata": {},
   "outputs": [
    {
     "data": {
      "text/plain": [
       "'stringtype'"
      ]
     },
     "execution_count": 42,
     "metadata": {},
     "output_type": "execute_result"
    }
   ],
   "source": [
    "immutbl"
   ]
  },
  {
   "cell_type": "code",
   "execution_count": 43,
   "id": "22e29b14-2fc7-45da-8b0d-29a62e0a4d5d",
   "metadata": {},
   "outputs": [
    {
     "ename": "NameError",
     "evalue": "name 'y' is not defined",
     "output_type": "error",
     "traceback": [
      "\u001b[0;31m---------------------------------------------------------------------------\u001b[0m",
      "\u001b[0;31mNameError\u001b[0m                                 Traceback (most recent call last)",
      "Cell \u001b[0;32mIn[43], line 1\u001b[0m\n\u001b[0;32m----> 1\u001b[0m immutbl[\u001b[38;5;241m1\u001b[39m] \u001b[38;5;241m=\u001b[39m \u001b[43my\u001b[49m\n",
      "\u001b[0;31mNameError\u001b[0m: name 'y' is not defined"
     ]
    }
   ],
   "source": [
    "immutbl[1] = y"
   ]
  },
  {
   "cell_type": "code",
   "execution_count": null,
   "id": "2f562529-9625-469f-bb12-0e5ff4b8dc9e",
   "metadata": {},
   "outputs": [],
   "source": []
  }
 ],
 "metadata": {
  "kernelspec": {
   "display_name": "Python 3 (ipykernel)",
   "language": "python",
   "name": "python3"
  },
  "language_info": {
   "codemirror_mode": {
    "name": "ipython",
    "version": 3
   },
   "file_extension": ".py",
   "mimetype": "text/x-python",
   "name": "python",
   "nbconvert_exporter": "python",
   "pygments_lexer": "ipython3",
   "version": "3.10.8"
  }
 },
 "nbformat": 4,
 "nbformat_minor": 5
}
