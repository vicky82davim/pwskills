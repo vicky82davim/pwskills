{
 "cells": [
  {
   "cell_type": "code",
   "execution_count": 1,
   "id": "351508ab-9fa7-415e-a48e-674601e1d0d0",
   "metadata": {},
   "outputs": [],
   "source": [
    "d={}"
   ]
  },
  {
   "cell_type": "code",
   "execution_count": 2,
   "id": "f910b422-68e6-403a-a573-1b78f99a1c9b",
   "metadata": {},
   "outputs": [],
   "source": [
    "d1={'key' : 'veeneet'}"
   ]
  },
  {
   "cell_type": "code",
   "execution_count": 3,
   "id": "d7110ad5-f470-48eb-bbb0-be91112f3a96",
   "metadata": {},
   "outputs": [
    {
     "data": {
      "text/plain": [
       "{'key': 'veeneet'}"
      ]
     },
     "execution_count": 3,
     "metadata": {},
     "output_type": "execute_result"
    }
   ],
   "source": [
    "d1"
   ]
  },
  {
   "cell_type": "code",
   "execution_count": 6,
   "id": "f6b5092a-41c8-4515-bdde-83e3b620c03e",
   "metadata": {},
   "outputs": [],
   "source": [
    "d2={'name' : 'veeneet', 'email' : 'vv@gmail.com', '@number' : 22434322}"
   ]
  },
  {
   "cell_type": "code",
   "execution_count": 7,
   "id": "96d87297-df78-4e10-9832-0cb202d532b3",
   "metadata": {},
   "outputs": [
    {
     "data": {
      "text/plain": [
       "{'name': 'veeneet', 'email': 'vv@gmail.com', '@number': 22434322}"
      ]
     },
     "execution_count": 7,
     "metadata": {},
     "output_type": "execute_result"
    }
   ],
   "source": [
    "d2"
   ]
  },
  {
   "cell_type": "code",
   "execution_count": 1,
   "id": "e8869813-ca09-44cf-8199-231942ab55df",
   "metadata": {},
   "outputs": [],
   "source": [
    "d6 = {'number': [3,5,2,67], \"assignment\": (1,4,3,2,5), \"launch_date\":{23,24,12}, \"class_time\": {'Web_dev': 8, \"Data Science\": 8, 'java dev': 7}}"
   ]
  },
  {
   "cell_type": "code",
   "execution_count": 2,
   "id": "372b3d22-03dd-4ae9-8394-9dee90368044",
   "metadata": {},
   "outputs": [
    {
     "data": {
      "text/plain": [
       "{'number': [3, 5, 2, 67],\n",
       " 'assignment': (1, 4, 3, 2, 5),\n",
       " 'launch_date': {12, 23, 24},\n",
       " 'class_time': {'Web_dev': 8, 'Data Science': 8, 'java dev': 7}}"
      ]
     },
     "execution_count": 2,
     "metadata": {},
     "output_type": "execute_result"
    }
   ],
   "source": [
    "d6"
   ]
  },
  {
   "cell_type": "code",
   "execution_count": 9,
   "id": "dd7ccb8c-10e6-4612-b6b6-b9aecb63d3b3",
   "metadata": {},
   "outputs": [],
   "source": [
    "d7 = {'number': [3,5,2,67,(34,56,78), {4,657,77}], \"assignment\": (1,4,3, [4,6,8,2],2,5), \"launch_date\":{23,24,5435,676,12, (2,5,65)}, \"class_time\": {'Web_dev': 8, \"Data Science\": 8, 'java dev': 7}}"
   ]
  },
  {
   "cell_type": "code",
   "execution_count": 10,
   "id": "067dd3c4-1e1b-443b-8cc3-66f4882c80f0",
   "metadata": {},
   "outputs": [
    {
     "data": {
      "text/plain": [
       "{'number': [3, 5, 2, 67, (34, 56, 78), {4, 77, 657}],\n",
       " 'assignment': (1, 4, 3, [4, 6, 8, 2], 2, 5),\n",
       " 'launch_date': {(2, 5, 65), 12, 23, 24, 5435, 676},\n",
       " 'class_time': {'Web_dev': 8, 'Data Science': 8, 'java dev': 7}}"
      ]
     },
     "execution_count": 10,
     "metadata": {},
     "output_type": "execute_result"
    }
   ],
   "source": [
    "d7"
   ]
  },
  {
   "cell_type": "code",
   "execution_count": 11,
   "id": "39ac4ab0-0fc9-4543-91bb-c3fdaad44823",
   "metadata": {},
   "outputs": [
    {
     "data": {
      "text/plain": [
       "{'Web_dev': 8, 'Data Science': 8, 'java dev': 7}"
      ]
     },
     "execution_count": 11,
     "metadata": {},
     "output_type": "execute_result"
    }
   ],
   "source": [
    "d6['class_time']"
   ]
  },
  {
   "cell_type": "code",
   "execution_count": 12,
   "id": "289769fb-4f0c-4633-9f94-5130889eb6d0",
   "metadata": {},
   "outputs": [
    {
     "data": {
      "text/plain": [
       "[3, 5, 2, 67]"
      ]
     },
     "execution_count": 12,
     "metadata": {},
     "output_type": "execute_result"
    }
   ],
   "source": [
    "d6.pop('number')"
   ]
  },
  {
   "cell_type": "code",
   "execution_count": 13,
   "id": "62a97060-37f2-4e05-bbf1-ac29a5ef3635",
   "metadata": {},
   "outputs": [
    {
     "data": {
      "text/plain": [
       "{'assignment': (1, 4, 3, 2, 5),\n",
       " 'launch_date': {12, 23, 24},\n",
       " 'class_time': {'Web_dev': 8, 'Data Science': 8, 'java dev': 7}}"
      ]
     },
     "execution_count": 13,
     "metadata": {},
     "output_type": "execute_result"
    }
   ],
   "source": [
    "d6"
   ]
  },
  {
   "cell_type": "code",
   "execution_count": 14,
   "id": "836c0a24-8fd9-4a8d-b839-ea52433f40cb",
   "metadata": {},
   "outputs": [
    {
     "data": {
      "text/plain": [
       "{'number': [3, 5, 2, 67, (34, 56, 78), {4, 77, 657}],\n",
       " 'assignment': (1, 4, 3, [4, 6, 8, 2], 2, 5),\n",
       " 'launch_date': {(2, 5, 65), 12, 23, 24, 5435, 676},\n",
       " 'class_time': {'Web_dev': 8, 'Data Science': 8, 'java dev': 7}}"
      ]
     },
     "execution_count": 14,
     "metadata": {},
     "output_type": "execute_result"
    }
   ],
   "source": [
    "d7"
   ]
  },
  {
   "cell_type": "code",
   "execution_count": 15,
   "id": "2994e752-1963-4eb6-8872-eedb8074e445",
   "metadata": {},
   "outputs": [
    {
     "data": {
      "text/plain": [
       "dict_items([('number', [3, 5, 2, 67, (34, 56, 78), {657, 4, 77}]), ('assignment', (1, 4, 3, [4, 6, 8, 2], 2, 5)), ('launch_date', {(2, 5, 65), 676, 23, 24, 5435, 12}), ('class_time', {'Web_dev': 8, 'Data Science': 8, 'java dev': 7})])"
      ]
     },
     "execution_count": 15,
     "metadata": {},
     "output_type": "execute_result"
    }
   ],
   "source": [
    "d7.items()"
   ]
  },
  {
   "cell_type": "code",
   "execution_count": 16,
   "id": "5b2152e1-87b4-4c05-8839-f2f140cbc428",
   "metadata": {},
   "outputs": [
    {
     "data": {
      "text/plain": [
       "[('number', [3, 5, 2, 67, (34, 56, 78), {4, 77, 657}]),\n",
       " ('assignment', (1, 4, 3, [4, 6, 8, 2], 2, 5)),\n",
       " ('launch_date', {(2, 5, 65), 12, 23, 24, 5435, 676}),\n",
       " ('class_time', {'Web_dev': 8, 'Data Science': 8, 'java dev': 7})]"
      ]
     },
     "execution_count": 16,
     "metadata": {},
     "output_type": "execute_result"
    }
   ],
   "source": [
    "list(d7.items())"
   ]
  },
  {
   "cell_type": "code",
   "execution_count": 17,
   "id": "12ae5004-70ef-44b1-b761-6b84a8aacc2a",
   "metadata": {},
   "outputs": [
    {
     "ename": "TypeError",
     "evalue": "unhashable type: 'list'",
     "output_type": "error",
     "traceback": [
      "\u001b[0;31m---------------------------------------------------------------------------\u001b[0m",
      "\u001b[0;31mTypeError\u001b[0m                                 Traceback (most recent call last)",
      "Cell \u001b[0;32mIn[17], line 1\u001b[0m\n\u001b[0;32m----> 1\u001b[0m \u001b[38;5;28;43mset\u001b[39;49m\u001b[43m(\u001b[49m\u001b[43md7\u001b[49m\u001b[38;5;241;43m.\u001b[39;49m\u001b[43mitems\u001b[49m\u001b[43m(\u001b[49m\u001b[43m)\u001b[49m\u001b[43m)\u001b[49m\n",
      "\u001b[0;31mTypeError\u001b[0m: unhashable type: 'list'"
     ]
    }
   ],
   "source": [
    "set(d7.items())"
   ]
  },
  {
   "cell_type": "code",
   "execution_count": 2,
   "id": "d23189e9-d4c4-4fae-8093-4e3317fd3adb",
   "metadata": {},
   "outputs": [],
   "source": [
    "def tst():\n",
    "    pass"
   ]
  },
  {
   "cell_type": "code",
   "execution_count": 3,
   "id": "5a8755c7-7329-4a50-bf8a-f8c093e189cf",
   "metadata": {},
   "outputs": [],
   "source": [
    "def test():\n",
    "    print(\"first function\")"
   ]
  },
  {
   "cell_type": "code",
   "execution_count": 5,
   "id": "40f244af-be64-4c33-ac5e-ca722ff788bb",
   "metadata": {},
   "outputs": [
    {
     "name": "stdout",
     "output_type": "stream",
     "text": [
      "first function\n"
     ]
    },
    {
     "ename": "TypeError",
     "evalue": "unsupported operand type(s) for +: 'NoneType' and 'str'",
     "output_type": "error",
     "traceback": [
      "\u001b[0;31m---------------------------------------------------------------------------\u001b[0m",
      "\u001b[0;31mTypeError\u001b[0m                                 Traceback (most recent call last)",
      "Cell \u001b[0;32mIn[5], line 1\u001b[0m\n\u001b[0;32m----> 1\u001b[0m \u001b[43mtest\u001b[49m\u001b[43m(\u001b[49m\u001b[43m)\u001b[49m\u001b[43m \u001b[49m\u001b[38;5;241;43m+\u001b[39;49m\u001b[43m \u001b[49m\u001b[38;5;124;43m\"\u001b[39;49m\u001b[38;5;124;43msss\u001b[39;49m\u001b[38;5;124;43m\"\u001b[39;49m\n",
      "\u001b[0;31mTypeError\u001b[0m: unsupported operand type(s) for +: 'NoneType' and 'str'"
     ]
    }
   ],
   "source": [
    "test() + \"sss\""
   ]
  },
  {
   "cell_type": "code",
   "execution_count": 6,
   "id": "e42fef72-4943-46b8-a395-e9aea9a34cdf",
   "metadata": {},
   "outputs": [],
   "source": [
    "def test1():\n",
    "    return \"first function\""
   ]
  },
  {
   "cell_type": "code",
   "execution_count": 7,
   "id": "c453c3f7-61f5-4352-88c7-d6eafdfec969",
   "metadata": {},
   "outputs": [
    {
     "data": {
      "text/plain": [
       "'first functionssss'"
      ]
     },
     "execution_count": 7,
     "metadata": {},
     "output_type": "execute_result"
    }
   ],
   "source": [
    "test1()+\"ssss\""
   ]
  },
  {
   "cell_type": "code",
   "execution_count": 12,
   "id": "86a6bf3b-25ae-4c9a-bba8-cfb3f49e5fa8",
   "metadata": {},
   "outputs": [],
   "source": [
    "def test3():\n",
    "    return \"Veeneet\", 333, [2,4,5], 34.4, 34+34j, {3,5,6}, {2 : 3, \"ddd\": \"sdsds\"}"
   ]
  },
  {
   "cell_type": "code",
   "execution_count": 14,
   "id": "21147442-af7e-4eef-95d8-36b2dc8b0202",
   "metadata": {},
   "outputs": [],
   "source": [
    "a,b,c,d,e,f,g = test3()"
   ]
  },
  {
   "cell_type": "code",
   "execution_count": 43,
   "id": "a23a5f32-8465-4686-a213-ffe45d86a83b",
   "metadata": {},
   "outputs": [
    {
     "data": {
      "text/plain": [
       "{2: 3, 'ddd': 'sdsds'}"
      ]
     },
     "execution_count": 43,
     "metadata": {},
     "output_type": "execute_result"
    }
   ],
   "source": [
    "g"
   ]
  },
  {
   "cell_type": "code",
   "execution_count": 17,
   "id": "98bf1795-ffa9-4b02-8928-ffa61a16e723",
   "metadata": {},
   "outputs": [],
   "source": [
    "l = [2,4,5,\"sad\"]\n",
    "f = []\n",
    "for h in l:\n",
    "    f.append(h)"
   ]
  },
  {
   "cell_type": "code",
   "execution_count": 18,
   "id": "da035134-51fd-44d2-b673-037b2a3750cf",
   "metadata": {},
   "outputs": [],
   "source": [
    "def test4(*args):\n",
    "    return args"
   ]
  },
  {
   "cell_type": "code",
   "execution_count": 22,
   "id": "38bada9d-6e64-4d23-8277-a5243ef68ae6",
   "metadata": {},
   "outputs": [
    {
     "data": {
      "text/plain": [
       "()"
      ]
     },
     "execution_count": 22,
     "metadata": {},
     "output_type": "execute_result"
    }
   ],
   "source": [
    "test4()"
   ]
  },
  {
   "cell_type": "code",
   "execution_count": 21,
   "id": "23d46c3d-b33a-4ccd-bdf7-4fff08630c9c",
   "metadata": {},
   "outputs": [
    {
     "data": {
      "text/plain": [
       "(1, 2, 3)"
      ]
     },
     "execution_count": 21,
     "metadata": {},
     "output_type": "execute_result"
    }
   ],
   "source": [
    "test4(1,2,3)"
   ]
  },
  {
   "cell_type": "code",
   "execution_count": 23,
   "id": "5f09e125-c962-43fe-b519-dbd87c9a8169",
   "metadata": {},
   "outputs": [
    {
     "data": {
      "text/plain": [
       "(1, 2, 3, 'ddd', [3, 5, 4], {2, 3, 'dsadsa'})"
      ]
     },
     "execution_count": 23,
     "metadata": {},
     "output_type": "execute_result"
    }
   ],
   "source": [
    "test4(1,2,3, \"ddd\", [3,5,4], {\"dsadsa\", 2,3})"
   ]
  },
  {
   "cell_type": "code",
   "execution_count": 24,
   "id": "c6d09d49-f97f-48cc-8330-2072a33f20b1",
   "metadata": {},
   "outputs": [],
   "source": [
    "def test5(*vee):\n",
    "    return vee"
   ]
  },
  {
   "cell_type": "code",
   "execution_count": 44,
   "id": "0f9ceaad-49cc-4964-8e95-3dfb22279681",
   "metadata": {},
   "outputs": [
    {
     "data": {
      "text/plain": [
       "((2, 3, 4), [2, 3, 4])"
      ]
     },
     "execution_count": 44,
     "metadata": {},
     "output_type": "execute_result"
    }
   ],
   "source": [
    "test5(2,3,4, a=[2,3,4])"
   ]
  },
  {
   "cell_type": "code",
   "execution_count": 33,
   "id": "2bf8fd82-7451-4a51-ac0e-4e1c22cdf63d",
   "metadata": {},
   "outputs": [],
   "source": [
    "def test6(a, b, c=23, d=45):\n",
    "    return a,b,c, d"
   ]
  },
  {
   "cell_type": "code",
   "execution_count": 34,
   "id": "26246a17-e287-4662-b215-66593c979713",
   "metadata": {},
   "outputs": [
    {
     "data": {
      "text/plain": [
       "(1, 2, 23, 45)"
      ]
     },
     "execution_count": 34,
     "metadata": {},
     "output_type": "execute_result"
    }
   ],
   "source": [
    "test6(1,2)"
   ]
  },
  {
   "cell_type": "code",
   "execution_count": 37,
   "id": "e22fa164-d4be-4907-abb0-87c7b8c2c417",
   "metadata": {},
   "outputs": [
    {
     "ename": "TypeError",
     "evalue": "test6() got an unexpected keyword argument 'e'",
     "output_type": "error",
     "traceback": [
      "\u001b[0;31m---------------------------------------------------------------------------\u001b[0m",
      "\u001b[0;31mTypeError\u001b[0m                                 Traceback (most recent call last)",
      "Cell \u001b[0;32mIn[37], line 1\u001b[0m\n\u001b[0;32m----> 1\u001b[0m \u001b[43mtest6\u001b[49m\u001b[43m(\u001b[49m\u001b[38;5;241;43m3\u001b[39;49m\u001b[43m,\u001b[49m\u001b[38;5;241;43m4\u001b[39;49m\u001b[43m,\u001b[49m\u001b[38;5;241;43m5\u001b[39;49m\u001b[43m,\u001b[49m\u001b[43m \u001b[49m\u001b[43me\u001b[49m\u001b[38;5;241;43m=\u001b[39;49m\u001b[38;5;124;43m\"\u001b[39;49m\u001b[38;5;124;43mddd\u001b[39;49m\u001b[38;5;124;43m\"\u001b[39;49m\u001b[43m)\u001b[49m\n",
      "\u001b[0;31mTypeError\u001b[0m: test6() got an unexpected keyword argument 'e'"
     ]
    }
   ],
   "source": [
    "test6(3,4,5, e=\"ddd\")"
   ]
  },
  {
   "cell_type": "code",
   "execution_count": 38,
   "id": "6dc26a4d-7ff3-4484-90af-de6429136338",
   "metadata": {},
   "outputs": [],
   "source": [
    "def test7(*vee, **ddd):\n",
    "    return vee, ddd"
   ]
  },
  {
   "cell_type": "code",
   "execution_count": 39,
   "id": "d3a19cca-223e-47c2-bd28-f8696b2a7c3c",
   "metadata": {},
   "outputs": [
    {
     "data": {
      "text/plain": [
       "((2, 3, 4), {'a': [2, 3, 4], 'b': 'dsdsf'})"
      ]
     },
     "execution_count": 39,
     "metadata": {},
     "output_type": "execute_result"
    }
   ],
   "source": [
    "test7(2,3,4, a=[2,3,4], b=\"dsdsf\")"
   ]
  },
  {
   "cell_type": "code",
   "execution_count": 40,
   "id": "5e64b877-23fc-4a6a-b74c-26e6462dee14",
   "metadata": {},
   "outputs": [],
   "source": [
    "def test8(**ddd):\n",
    "    return ddd"
   ]
  },
  {
   "cell_type": "code",
   "execution_count": 42,
   "id": "76a38e15-a5da-4dc9-b5b5-a54fd788088f",
   "metadata": {},
   "outputs": [
    {
     "data": {
      "text/plain": [
       "{'a': [2, 3, 4], 'b': 'dsdsf'}"
      ]
     },
     "execution_count": 42,
     "metadata": {},
     "output_type": "execute_result"
    }
   ],
   "source": [
    "test8(a=[2,3,4], b=\"dsdsf\")"
   ]
  },
  {
   "cell_type": "code",
   "execution_count": 45,
   "id": "da2013bf-82c4-46b0-bc44-9eb520c3e472",
   "metadata": {},
   "outputs": [],
   "source": [
    "def gen_fib(n):\n",
    "    a,b = 0,1\n",
    "    for i in range(n):\n",
    "        yield a\n",
    "        a,b = b, a+b"
   ]
  },
  {
   "cell_type": "code",
   "execution_count": 46,
   "id": "ce8aa89e-8d28-46da-a794-52353e6354e3",
   "metadata": {},
   "outputs": [
    {
     "data": {
      "text/plain": [
       "<generator object gen_fib at 0x7f9323455460>"
      ]
     },
     "execution_count": 46,
     "metadata": {},
     "output_type": "execute_result"
    }
   ],
   "source": [
    "gen_fib(10)"
   ]
  },
  {
   "cell_type": "code",
   "execution_count": 47,
   "id": "2ee4fdaf-ddb7-4af1-ac54-befacee2a51f",
   "metadata": {},
   "outputs": [
    {
     "name": "stdout",
     "output_type": "stream",
     "text": [
      "0\n",
      "1\n",
      "1\n",
      "2\n",
      "3\n",
      "5\n",
      "8\n",
      "13\n",
      "21\n",
      "34\n"
     ]
    }
   ],
   "source": [
    "for i in gen_fib(10):\n",
    "    print(i)"
   ]
  },
  {
   "cell_type": "code",
   "execution_count": 48,
   "id": "7aea6e02-6b80-46ed-a1e6-56dc1e2668db",
   "metadata": {},
   "outputs": [],
   "source": [
    "def gen_fib1():\n",
    "    a,b = 0,1\n",
    "    while True:\n",
    "        yield a\n",
    "        a,b = b, a+b"
   ]
  },
  {
   "cell_type": "code",
   "execution_count": 49,
   "id": "c90846f9-f3da-4243-872f-a64a04edeb11",
   "metadata": {},
   "outputs": [],
   "source": [
    "fib = gen_fib1()"
   ]
  },
  {
   "cell_type": "code",
   "execution_count": 50,
   "id": "3cfa48b3-cdbd-4ca6-b5c5-c7e6a60dfd11",
   "metadata": {},
   "outputs": [
    {
     "name": "stdout",
     "output_type": "stream",
     "text": [
      "0\n",
      "1\n",
      "1\n",
      "2\n",
      "3\n",
      "5\n",
      "8\n",
      "13\n",
      "21\n",
      "34\n"
     ]
    }
   ],
   "source": [
    "for i in range(10):\n",
    "    print(next(fib))"
   ]
  },
  {
   "cell_type": "code",
   "execution_count": 54,
   "id": "0cd08f5f-c9c0-46c7-993a-d45e747998a7",
   "metadata": {},
   "outputs": [],
   "source": [
    "s = {1:3,2:4,3:5,4:6}"
   ]
  },
  {
   "cell_type": "code",
   "execution_count": 59,
   "id": "f9303c7a-b737-48d5-a847-c034e0bfdb56",
   "metadata": {},
   "outputs": [
    {
     "name": "stdout",
     "output_type": "stream",
     "text": [
      "1 3\n",
      "2 4\n",
      "3 5\n",
      "4 6\n"
     ]
    }
   ],
   "source": [
    "for i,j in s.items():\n",
    "    print(i,j)"
   ]
  },
  {
   "cell_type": "code",
   "execution_count": 64,
   "id": "04669f0c-edc2-41e3-aceb-85dca30104ca",
   "metadata": {},
   "outputs": [
    {
     "data": {
      "text/plain": [
       "(1, 3)"
      ]
     },
     "execution_count": 64,
     "metadata": {},
     "output_type": "execute_result"
    }
   ],
   "source": [
    "next(iter(s.items()))"
   ]
  },
  {
   "cell_type": "code",
   "execution_count": 65,
   "id": "76bd2b7b-312a-4149-a979-f33a52f2334c",
   "metadata": {},
   "outputs": [],
   "source": [
    "def gen_fib2(n):\n",
    "    a,b = 0,1\n",
    "    for i in range(n):\n",
    "        yield a\n",
    "        a,b = b, a+b"
   ]
  },
  {
   "cell_type": "code",
   "execution_count": 66,
   "id": "c9e49ac9-f062-4800-90d7-c164b4328005",
   "metadata": {},
   "outputs": [
    {
     "name": "stdout",
     "output_type": "stream",
     "text": [
      "0\n",
      "1\n",
      "1\n",
      "2\n",
      "3\n",
      "5\n",
      "8\n",
      "13\n",
      "21\n",
      "34\n"
     ]
    }
   ],
   "source": [
    "for i in gen_fib2(10):\n",
    "    print(i)"
   ]
  },
  {
   "cell_type": "code",
   "execution_count": 1,
   "id": "1e20aa83-59aa-4c2f-855f-fb2b4d8dd6b2",
   "metadata": {},
   "outputs": [],
   "source": [
    "a = lambda n,p: n**p"
   ]
  },
  {
   "cell_type": "code",
   "execution_count": 2,
   "id": "afb5fc22-89e0-4a64-93cb-0d9eb80a4be4",
   "metadata": {},
   "outputs": [
    {
     "data": {
      "text/plain": [
       "9"
      ]
     },
     "execution_count": 2,
     "metadata": {},
     "output_type": "execute_result"
    }
   ],
   "source": [
    "a(3,2)"
   ]
  },
  {
   "cell_type": "code",
   "execution_count": 3,
   "id": "4d813afc-f4dc-4de8-a99e-0a4aab6bebf9",
   "metadata": {},
   "outputs": [],
   "source": [
    "c_to_f = lambda c: (9/5)*c + 32"
   ]
  },
  {
   "cell_type": "code",
   "execution_count": 4,
   "id": "99d13f2b-44de-4e5a-82de-3d33fa166afa",
   "metadata": {},
   "outputs": [
    {
     "data": {
      "text/plain": [
       "107.60000000000001"
      ]
     },
     "execution_count": 4,
     "metadata": {},
     "output_type": "execute_result"
    }
   ],
   "source": [
    "c_to_f(42)"
   ]
  },
  {
   "cell_type": "code",
   "execution_count": 5,
   "id": "0a3e989c-6457-49a4-8741-343e946fd10e",
   "metadata": {},
   "outputs": [],
   "source": [
    "find_max = lambda x, y: x if x>y else y"
   ]
  },
  {
   "cell_type": "code",
   "execution_count": 6,
   "id": "ff81d88f-343a-43cd-b846-b21c807bb848",
   "metadata": {},
   "outputs": [
    {
     "data": {
      "text/plain": [
       "34"
      ]
     },
     "execution_count": 6,
     "metadata": {},
     "output_type": "execute_result"
    }
   ],
   "source": [
    "find_max(34,22)"
   ]
  },
  {
   "cell_type": "code",
   "execution_count": 1,
   "id": "6e5b06ab-52f8-4966-833a-4bee70596ff5",
   "metadata": {},
   "outputs": [],
   "source": [
    "l = [2,3,4,5,6]"
   ]
  },
  {
   "cell_type": "code",
   "execution_count": 4,
   "id": "a4cab40f-a2f9-4cc4-be0a-1cc574f8cd59",
   "metadata": {},
   "outputs": [],
   "source": [
    "def sq1(x):\n",
    "    return x**2"
   ]
  },
  {
   "cell_type": "code",
   "execution_count": 3,
   "id": "627557f3-9945-48e1-a96a-5b19a4c27e45",
   "metadata": {},
   "outputs": [
    {
     "data": {
      "text/plain": [
       "<map at 0x7f8bf4ed2f20>"
      ]
     },
     "execution_count": 3,
     "metadata": {},
     "output_type": "execute_result"
    }
   ],
   "source": [
    "map(sq, l)"
   ]
  },
  {
   "cell_type": "code",
   "execution_count": 5,
   "id": "c654498f-1eee-43c4-9541-b5ce7d9d4e53",
   "metadata": {},
   "outputs": [
    {
     "data": {
      "text/plain": [
       "[4, 9, 16, 25, 36]"
      ]
     },
     "execution_count": 5,
     "metadata": {},
     "output_type": "execute_result"
    }
   ],
   "source": [
    "list(map(sq1, l))"
   ]
  },
  {
   "cell_type": "code",
   "execution_count": 6,
   "id": "3461fc18-2a27-4cee-b9d5-a1a001e4dd28",
   "metadata": {},
   "outputs": [
    {
     "data": {
      "text/plain": [
       "[4, 9, 16, 25, 36]"
      ]
     },
     "execution_count": 6,
     "metadata": {},
     "output_type": "execute_result"
    }
   ],
   "source": [
    "list(map(lambda x: x**2, l))"
   ]
  },
  {
   "cell_type": "code",
   "execution_count": 7,
   "id": "a9372c69-c2d6-47af-9331-69d8f6f66f9c",
   "metadata": {},
   "outputs": [
    {
     "data": {
      "text/plain": [
       "[7, 6, 11, 40, 11]"
      ]
     },
     "execution_count": 7,
     "metadata": {},
     "output_type": "execute_result"
    }
   ],
   "source": [
    "l1=[2,4,3,7,5]\n",
    "l2 = [5,2,8,33,6]\n",
    "list(map(lambda x,y: x+y, l1, l2))"
   ]
  },
  {
   "cell_type": "code",
   "execution_count": 9,
   "id": "5cf87641-d925-479d-b51f-4ebcf900cd37",
   "metadata": {},
   "outputs": [
    {
     "data": {
      "text/plain": [
       "['V', 'E', 'E', 'N', 'E', 'E', 'T']"
      ]
     },
     "execution_count": 9,
     "metadata": {},
     "output_type": "execute_result"
    }
   ],
   "source": [
    "s = \"veeneet\"\n",
    "list(map(lambda s: s.upper(), s))"
   ]
  },
  {
   "cell_type": "code",
   "execution_count": 10,
   "id": "bd153946-cfe0-4fa2-93d0-377647920aba",
   "metadata": {},
   "outputs": [],
   "source": [
    "from functools import reduce"
   ]
  },
  {
   "cell_type": "code",
   "execution_count": 11,
   "id": "95d03d12-6176-4009-afce-ae5ac7ee23de",
   "metadata": {},
   "outputs": [
    {
     "data": {
      "text/plain": [
       "15"
      ]
     },
     "execution_count": 11,
     "metadata": {},
     "output_type": "execute_result"
    }
   ],
   "source": [
    "l3 = [2,3,4,1,5]\n",
    "reduce(lambda x,y: x+y, l3)"
   ]
  },
  {
   "cell_type": "code",
   "execution_count": 14,
   "id": "9e49852a-59ef-4676-ac50-18662382db71",
   "metadata": {},
   "outputs": [
    {
     "data": {
      "text/plain": [
       "2"
      ]
     },
     "execution_count": 14,
     "metadata": {},
     "output_type": "execute_result"
    }
   ],
   "source": [
    "l4 = [1,2]\n",
    "reduce(lambda x,y: x*y, l4)"
   ]
  },
  {
   "cell_type": "code",
   "execution_count": 15,
   "id": "3e88aac7-32a2-4428-8990-dde79a154d73",
   "metadata": {},
   "outputs": [
    {
     "data": {
      "text/plain": [
       "[2, 3, 4, 1, 5]"
      ]
     },
     "execution_count": 15,
     "metadata": {},
     "output_type": "execute_result"
    }
   ],
   "source": [
    "l3"
   ]
  },
  {
   "cell_type": "code",
   "execution_count": 17,
   "id": "e34f47f8-f60f-4058-b02a-acbac396de0b",
   "metadata": {},
   "outputs": [
    {
     "data": {
      "text/plain": [
       "[2, 4]"
      ]
     },
     "execution_count": 17,
     "metadata": {},
     "output_type": "execute_result"
    }
   ],
   "source": [
    "list(filter(lambda x: x%2 == 0, l3))"
   ]
  },
  {
   "cell_type": "code",
   "execution_count": null,
   "id": "07fba88f-7781-4ce4-8b27-4fa7786d2a4f",
   "metadata": {},
   "outputs": [],
   "source": []
  }
 ],
 "metadata": {
  "kernelspec": {
   "display_name": "Python 3 (ipykernel)",
   "language": "python",
   "name": "python3"
  },
  "language_info": {
   "codemirror_mode": {
    "name": "ipython",
    "version": 3
   },
   "file_extension": ".py",
   "mimetype": "text/x-python",
   "name": "python",
   "nbconvert_exporter": "python",
   "pygments_lexer": "ipython3",
   "version": "3.10.8"
  }
 },
 "nbformat": 4,
 "nbformat_minor": 5
}
