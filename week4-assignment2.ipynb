{
 "cells": [
  {
   "cell_type": "code",
   "execution_count": 1,
   "id": "cf473e56-94fc-47be-8cde-dfdbd63c1e2c",
   "metadata": {},
   "outputs": [],
   "source": [
    "\"\"\"\n",
    "Q1. Explain Class and Object with respect to Object-Oriented Programming. Give a suitable example.\n",
    "\"\"\"\n",
    "class pwskills:\n",
    "     def first_method(self):\n",
    "            pass"
   ]
  },
  {
   "cell_type": "code",
   "execution_count": 2,
   "id": "ecd695a2-f9b0-4399-a2c2-eb1e5ca9df46",
   "metadata": {},
   "outputs": [],
   "source": [
    "pw = pwskills()"
   ]
  },
  {
   "cell_type": "code",
   "execution_count": 4,
   "id": "2e3d4511-ccd0-4d9a-9f80-1c336fbce493",
   "metadata": {},
   "outputs": [],
   "source": [
    "pw.first_method()"
   ]
  },
  {
   "cell_type": "code",
   "execution_count": 5,
   "id": "93a4d7a3-4aac-4085-a065-951cc302dc4a",
   "metadata": {},
   "outputs": [
    {
     "data": {
      "text/plain": [
       "'\\nQ2. Name the four pillars of OOPs.\\nAbstraction\\nEncapsulation\\nPolymorphism\\nInheritance\\n\\n'"
      ]
     },
     "execution_count": 5,
     "metadata": {},
     "output_type": "execute_result"
    }
   ],
   "source": [
    "\"\"\"\n",
    "Q2. Name the four pillars of OOPs.\n",
    "Abstraction\n",
    "Encapsulation\n",
    "Polymorphism\n",
    "Inheritance\n",
    "\n",
    "\"\"\""
   ]
  },
  {
   "cell_type": "code",
   "execution_count": 6,
   "id": "7cbd20e4-7285-4b2d-85a9-e3fda45acf52",
   "metadata": {},
   "outputs": [],
   "source": [
    "\"\"\"\n",
    "Q3. Explain why the __init__() function is used. Give a suitable example.\n",
    "\n",
    "__init__ function is used as constructor in a class\n",
    "\"\"\"\n",
    "class pwskills1:\n",
    "     def __init__(self, name, email):\n",
    "            self.name = name\n",
    "            self.email = email"
   ]
  },
  {
   "cell_type": "code",
   "execution_count": 8,
   "id": "99e03661-15cd-4dbe-9046-f2fafb90336f",
   "metadata": {},
   "outputs": [],
   "source": [
    "pw1 = pwskills1(\"Raj\", \"raj@gmail.com\")"
   ]
  },
  {
   "cell_type": "code",
   "execution_count": null,
   "id": "d20cdefc-5bf6-488d-a891-a5d78917a722",
   "metadata": {},
   "outputs": [],
   "source": [
    "\"\"\"\n",
    "Q4. Why self is used in OOPs?\n",
    "\n",
    "Self is used as bindig of method with class\n",
    "\"\"\""
   ]
  },
  {
   "cell_type": "code",
   "execution_count": null,
   "id": "a8de5e1e-8cf0-42ca-a9fe-ce9d5aadb3f6",
   "metadata": {},
   "outputs": [],
   "source": []
  },
  {
   "cell_type": "code",
   "execution_count": 9,
   "id": "fad70d8c-7dca-4be4-8c4c-c883a77c9713",
   "metadata": {},
   "outputs": [],
   "source": [
    "\"\"\"\n",
    "Q5. What is inheritance? Give an example for each type of inheritance.\n",
    "\"\"\"\n",
    "\n",
    "# mutilevel\n",
    "class A:\n",
    "    def which_class(self):\n",
    "        print(\"In A\")\n",
    "\n",
    "class B(A):\n",
    "    def specify_class(self):\n",
    "        print(\"In B\")\n",
    "        \n",
    "class C(B):\n",
    "    def in_which_class(self):\n",
    "        print(\"In C\")"
   ]
  },
  {
   "cell_type": "code",
   "execution_count": 11,
   "id": "2226d6b5-0d5e-4980-b573-f7d06a725550",
   "metadata": {},
   "outputs": [],
   "source": [
    "obj_c = C()"
   ]
  },
  {
   "cell_type": "code",
   "execution_count": 13,
   "id": "39f98507-6e2d-47e1-8719-ce7ab68c8650",
   "metadata": {},
   "outputs": [
    {
     "name": "stdout",
     "output_type": "stream",
     "text": [
      "In C\n"
     ]
    }
   ],
   "source": [
    "obj_c.in_which_class()"
   ]
  },
  {
   "cell_type": "code",
   "execution_count": 14,
   "id": "5ee2cf9d-29eb-4317-bac7-4b01dfea8499",
   "metadata": {},
   "outputs": [
    {
     "name": "stdout",
     "output_type": "stream",
     "text": [
      "In A\n"
     ]
    }
   ],
   "source": [
    "obj_c.which_class()"
   ]
  },
  {
   "cell_type": "code",
   "execution_count": 15,
   "id": "2e59be17-033c-4292-bd14-02ffad63422e",
   "metadata": {},
   "outputs": [],
   "source": [
    "# Multiple\n",
    "# mutilevel\n",
    "class A:\n",
    "    def which_class(self):\n",
    "        print(\"In A\")\n",
    "\n",
    "class B:\n",
    "    def specify_class(self):\n",
    "        print(\"In B\")\n",
    "        \n",
    "class C(A,B):\n",
    "    def in_which_class(self):\n",
    "        print(\"In C\")"
   ]
  },
  {
   "cell_type": "code",
   "execution_count": 16,
   "id": "c0380244-f462-44c6-80f5-dd9b348ac68c",
   "metadata": {},
   "outputs": [],
   "source": [
    "obj_c1 = C()"
   ]
  },
  {
   "cell_type": "code",
   "execution_count": 17,
   "id": "9c9d51b5-0623-4a65-950d-d646d92ed537",
   "metadata": {},
   "outputs": [
    {
     "name": "stdout",
     "output_type": "stream",
     "text": [
      "In A\n"
     ]
    }
   ],
   "source": [
    "obj_c1.which_class()"
   ]
  },
  {
   "cell_type": "code",
   "execution_count": 18,
   "id": "cad73d04-1a59-4e2f-9db1-64c0f9e760cb",
   "metadata": {},
   "outputs": [
    {
     "name": "stdout",
     "output_type": "stream",
     "text": [
      "In B\n"
     ]
    }
   ],
   "source": [
    "obj_c1.specify_class()"
   ]
  },
  {
   "cell_type": "code",
   "execution_count": null,
   "id": "986be67a-7711-4436-b87e-50ecb47e6878",
   "metadata": {},
   "outputs": [],
   "source": []
  }
 ],
 "metadata": {
  "kernelspec": {
   "display_name": "Python 3 (ipykernel)",
   "language": "python",
   "name": "python3"
  },
  "language_info": {
   "codemirror_mode": {
    "name": "ipython",
    "version": 3
   },
   "file_extension": ".py",
   "mimetype": "text/x-python",
   "name": "python",
   "nbconvert_exporter": "python",
   "pygments_lexer": "ipython3",
   "version": "3.10.8"
  }
 },
 "nbformat": 4,
 "nbformat_minor": 5
}
