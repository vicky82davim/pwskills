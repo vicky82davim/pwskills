{
 "cells": [
  {
   "cell_type": "code",
   "execution_count": 1,
   "id": "a2b66ede-ae27-4186-a68d-4d0c4fa5bd9d",
   "metadata": {},
   "outputs": [
    {
     "data": {
      "text/plain": [
       "'\\nAPI is am application programming interface. With the help of API, we can access any functionality irrespective of \\nunderlaying technologies\\n'"
      ]
     },
     "execution_count": 1,
     "metadata": {},
     "output_type": "execute_result"
    }
   ],
   "source": [
    "\"\"\"\n",
    "Q1. What is an API? Give an example, where an API is used in real life.\n",
    "\"\"\"\n",
    "\"\"\"\n",
    "API is am application programming interface. With the help of API, we can access any functionality irrespective of \n",
    "underlaying technologies\n",
    "\"\"\""
   ]
  },
  {
   "cell_type": "code",
   "execution_count": 2,
   "id": "2bfb6e31-1429-4dd7-91a3-4cf03af34f30",
   "metadata": {},
   "outputs": [
    {
     "data": {
      "text/plain": [
       "'\\nAdvantages:\\n1. We can develop APIs in multiple technologies\\n2. API is based on client-server model\\n3. We can divide application into small-small modules and different teams can build these functionality\\n4. Scalability is very easy \\n5. Resources utilization is very good in API. We can increase or decrese resources based on API need\\n\\nDisadvantage:\\n1. Maintability is difficult if we have huge number of APis\\n2. Debugging is difficult with high number of Apis\\n'"
      ]
     },
     "execution_count": 2,
     "metadata": {},
     "output_type": "execute_result"
    }
   ],
   "source": [
    "\"\"\"\n",
    "Q2. Give advantages and disadvantages of using API.\n",
    "\"\"\"\n",
    "\"\"\"\n",
    "Advantages:\n",
    "1. We can develop APIs in multiple technologies\n",
    "2. API is based on client-server model\n",
    "3. We can divide application into small-small modules and different teams can build these functionality\n",
    "4. Scalability is very easy \n",
    "5. Resources utilization is very good in API. We can increase or decrese resources based on API need\n",
    "\n",
    "Disadvantage:\n",
    "1. Maintability is difficult if we have huge number of APis\n",
    "2. Debugging is difficult with high number of Apis\n",
    "\"\"\""
   ]
  },
  {
   "cell_type": "code",
   "execution_count": 5,
   "id": "c2c9dbb9-118f-4e8a-ba87-37016a440808",
   "metadata": {},
   "outputs": [
    {
     "data": {
      "text/plain": [
       "'\\nWeb Apis: Apis which are accessable over web\\nWeb Apis are the subset of Apis. We also have system specific APIs etc\\n'"
      ]
     },
     "execution_count": 5,
     "metadata": {},
     "output_type": "execute_result"
    }
   ],
   "source": [
    "\"\"\"\n",
    "Q3. What is a Web API? Differentiate between API and Web API.\n",
    "\"\"\"\n",
    "\"\"\"\n",
    "Web Apis: Apis which are accessable over web\n",
    "Web Apis are the subset of Apis. We also have system specific APIs etc\n",
    "\"\"\""
   ]
  },
  {
   "cell_type": "code",
   "execution_count": 4,
   "id": "2525d5ee-7a77-4679-aed2-2f13e8bfa8c5",
   "metadata": {},
   "outputs": [
    {
     "data": {
      "text/plain": [
       "'\\nSOAP (Simple Object Access Protocol) is a standards-based web services access protoco\\nREST (Representational State Transfer) is another standard, made in response to SOAP’s shortcomings\\n\\n SOAP and REST are two different approaches to API design. \\n The SOAP approach is highly structured and uses XML data format. \\n REST is more flexible and allows applications to exchange data in multiple formats.\\n\\nSOAP relies exclusively on XML to provide messaging services. \\nThe XML used to make requests and receive responses in SOAP can become extremely complex.\\n\\n'"
      ]
     },
     "execution_count": 4,
     "metadata": {},
     "output_type": "execute_result"
    }
   ],
   "source": [
    "\"\"\"\n",
    "Q4. Explain REST and SOAP Architecture. Mention shortcomings of SOAP.\n",
    "\"\"\"\n",
    "\"\"\"\n",
    "SOAP (Simple Object Access Protocol) is a standards-based web services access protoco\n",
    "REST (Representational State Transfer) is another standard, made in response to SOAP’s shortcomings\n",
    "\n",
    " SOAP and REST are two different approaches to API design. \n",
    " The SOAP approach is highly structured and uses XML data format. \n",
    " REST is more flexible and allows applications to exchange data in multiple formats.\n",
    "\n",
    "SOAP relies exclusively on XML to provide messaging services. \n",
    "The XML used to make requests and receive responses in SOAP can become extremely complex.\n",
    "\n",
    "\"\"\""
   ]
  },
  {
   "cell_type": "code",
   "execution_count": 3,
   "id": "4f1377c8-f50a-459b-ad22-fcbad50e1108",
   "metadata": {},
   "outputs": [
    {
     "data": {
      "text/plain": [
       "'\\nREST is a set of architectural principles.\\nWhen a request for data is sent to a REST API, it’s usually done through hypertext transfer protocol (HTTP). \\nOnce a request is received, APIs designed for REST (called RESTful APIs) can return messages in a variety of \\nformats: HTML, XML, plain text, and JSON.\\n\\nSOAP is a standard protocol\\nBecause it is a protocol, it imposes built-in rules that increase its complexity and overhead.\\nThe built-in compliance standards include security, atomicity, consistency, isolation, and durability (ACID), \\nwhich is a set of properties for ensuring reliable database transactions.\\n'"
      ]
     },
     "execution_count": 3,
     "metadata": {},
     "output_type": "execute_result"
    }
   ],
   "source": [
    "\"\"\"\n",
    "Q5. Differentiate between REST and SOAP.\n",
    "\"\"\"\n",
    "\"\"\"\n",
    "REST is a set of architectural principles.\n",
    "When a request for data is sent to a REST API, it’s usually done through hypertext transfer protocol (HTTP). \n",
    "Once a request is received, APIs designed for REST (called RESTful APIs) can return messages in a variety of \n",
    "formats: HTML, XML, plain text, and JSON.\n",
    "\n",
    "SOAP is a standard protocol\n",
    "Because it is a protocol, it imposes built-in rules that increase its complexity and overhead.\n",
    "The built-in compliance standards include security, atomicity, consistency, isolation, and durability (ACID), \n",
    "which is a set of properties for ensuring reliable database transactions.\n",
    "\"\"\""
   ]
  },
  {
   "cell_type": "code",
   "execution_count": null,
   "id": "1017a395-a857-4f51-b7ac-600bd4064e76",
   "metadata": {},
   "outputs": [],
   "source": []
  }
 ],
 "metadata": {
  "kernelspec": {
   "display_name": "Python 3 (ipykernel)",
   "language": "python",
   "name": "python3"
  },
  "language_info": {
   "codemirror_mode": {
    "name": "ipython",
    "version": 3
   },
   "file_extension": ".py",
   "mimetype": "text/x-python",
   "name": "python",
   "nbconvert_exporter": "python",
   "pygments_lexer": "ipython3",
   "version": "3.10.8"
  }
 },
 "nbformat": 4,
 "nbformat_minor": 5
}
