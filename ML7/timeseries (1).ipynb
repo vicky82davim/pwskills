{
 "cells": [
  {
   "cell_type": "markdown",
   "id": "6c53c374-4486-4646-a8a8-1f765b8a8daf",
   "metadata": {},
   "source": [
    "1. Data Ingesiton\n",
    "\n",
    "2. Eda of the data\n",
    "\n",
    "3. processing of the data\n",
    "\n",
    "4. model building\n",
    "\n",
    "5. model evalution"
   ]
  },
  {
   "cell_type": "markdown",
   "id": "cf2c1101-57c0-4f80-80d1-e16542d66619",
   "metadata": {},
   "source": [
    "# Data Ingestion\n",
    "\n",
    "Import the Required Libraries: Import the required libraries such as pandas, numpy, matplotlib, seaborn, etc.\n",
    "\n",
    "Load the Data.\n",
    "\n",
    "Load the Time Series Data into a pandas dataframe.\n",
    "\n",
    "Set the datetime column as the index of the dataframe.\n",
    "\n",
    "Check the datatype of the index and convert it to datetime if necessary."
   ]
  },
  {
   "cell_type": "code",
   "execution_count": 1,
   "id": "817f21db-1fa4-499d-9a13-5754c862a236",
   "metadata": {},
   "outputs": [],
   "source": [
    "import pandas as pd\n",
    "import numpy as np\n",
    "import matplotlib.pyplot as plt\n",
    "import os\n",
    "import sys"
   ]
  },
  {
   "cell_type": "code",
   "execution_count": 2,
   "id": "51324d0a-c475-4b98-aed7-b7cbe536f471",
   "metadata": {},
   "outputs": [],
   "source": [
    "data=pd.read_csv(\"TSLA.CSV\")"
   ]
  },
  {
   "cell_type": "code",
   "execution_count": 3,
   "id": "ad98b230-da8a-4033-992e-8a4d7b594c45",
   "metadata": {},
   "outputs": [
    {
     "data": {
      "text/html": [
       "<div>\n",
       "<style scoped>\n",
       "    .dataframe tbody tr th:only-of-type {\n",
       "        vertical-align: middle;\n",
       "    }\n",
       "\n",
       "    .dataframe tbody tr th {\n",
       "        vertical-align: top;\n",
       "    }\n",
       "\n",
       "    .dataframe thead th {\n",
       "        text-align: right;\n",
       "    }\n",
       "</style>\n",
       "<table border=\"1\" class=\"dataframe\">\n",
       "  <thead>\n",
       "    <tr style=\"text-align: right;\">\n",
       "      <th></th>\n",
       "      <th>Date</th>\n",
       "      <th>Open</th>\n",
       "      <th>High</th>\n",
       "      <th>Low</th>\n",
       "      <th>Close</th>\n",
       "      <th>Volume</th>\n",
       "      <th>Dividends</th>\n",
       "      <th>Stock Splits</th>\n",
       "    </tr>\n",
       "  </thead>\n",
       "  <tbody>\n",
       "    <tr>\n",
       "      <th>0</th>\n",
       "      <td>2019-05-21</td>\n",
       "      <td>39.551998</td>\n",
       "      <td>41.480000</td>\n",
       "      <td>39.208000</td>\n",
       "      <td>41.015999</td>\n",
       "      <td>90019500</td>\n",
       "      <td>0</td>\n",
       "      <td>0.0</td>\n",
       "    </tr>\n",
       "    <tr>\n",
       "      <th>1</th>\n",
       "      <td>2019-05-22</td>\n",
       "      <td>39.820000</td>\n",
       "      <td>40.787998</td>\n",
       "      <td>38.355999</td>\n",
       "      <td>38.546001</td>\n",
       "      <td>93426000</td>\n",
       "      <td>0</td>\n",
       "      <td>0.0</td>\n",
       "    </tr>\n",
       "    <tr>\n",
       "      <th>2</th>\n",
       "      <td>2019-05-23</td>\n",
       "      <td>38.868000</td>\n",
       "      <td>39.894001</td>\n",
       "      <td>37.243999</td>\n",
       "      <td>39.098000</td>\n",
       "      <td>132735500</td>\n",
       "      <td>0</td>\n",
       "      <td>0.0</td>\n",
       "    </tr>\n",
       "    <tr>\n",
       "      <th>3</th>\n",
       "      <td>2019-05-24</td>\n",
       "      <td>39.966000</td>\n",
       "      <td>39.995998</td>\n",
       "      <td>37.750000</td>\n",
       "      <td>38.125999</td>\n",
       "      <td>70683000</td>\n",
       "      <td>0</td>\n",
       "      <td>0.0</td>\n",
       "    </tr>\n",
       "    <tr>\n",
       "      <th>4</th>\n",
       "      <td>2019-05-28</td>\n",
       "      <td>38.240002</td>\n",
       "      <td>39.000000</td>\n",
       "      <td>37.570000</td>\n",
       "      <td>37.740002</td>\n",
       "      <td>51564500</td>\n",
       "      <td>0</td>\n",
       "      <td>0.0</td>\n",
       "    </tr>\n",
       "  </tbody>\n",
       "</table>\n",
       "</div>"
      ],
      "text/plain": [
       "         Date       Open       High        Low      Close     Volume  \\\n",
       "0  2019-05-21  39.551998  41.480000  39.208000  41.015999   90019500   \n",
       "1  2019-05-22  39.820000  40.787998  38.355999  38.546001   93426000   \n",
       "2  2019-05-23  38.868000  39.894001  37.243999  39.098000  132735500   \n",
       "3  2019-05-24  39.966000  39.995998  37.750000  38.125999   70683000   \n",
       "4  2019-05-28  38.240002  39.000000  37.570000  37.740002   51564500   \n",
       "\n",
       "   Dividends  Stock Splits  \n",
       "0          0           0.0  \n",
       "1          0           0.0  \n",
       "2          0           0.0  \n",
       "3          0           0.0  \n",
       "4          0           0.0  "
      ]
     },
     "execution_count": 3,
     "metadata": {},
     "output_type": "execute_result"
    }
   ],
   "source": [
    "data.head()"
   ]
  },
  {
   "cell_type": "code",
   "execution_count": 4,
   "id": "fe414a62-762b-4bd7-90c0-851a09c09df3",
   "metadata": {},
   "outputs": [],
   "source": [
    "#univarite timeseries\n",
    "stock_data=data[[\"Date\",\"Close\"]]"
   ]
  },
  {
   "cell_type": "code",
   "execution_count": 5,
   "id": "0ed0b077-cd42-4577-805f-89ce9b030cdb",
   "metadata": {},
   "outputs": [
    {
     "data": {
      "text/html": [
       "<div>\n",
       "<style scoped>\n",
       "    .dataframe tbody tr th:only-of-type {\n",
       "        vertical-align: middle;\n",
       "    }\n",
       "\n",
       "    .dataframe tbody tr th {\n",
       "        vertical-align: top;\n",
       "    }\n",
       "\n",
       "    .dataframe thead th {\n",
       "        text-align: right;\n",
       "    }\n",
       "</style>\n",
       "<table border=\"1\" class=\"dataframe\">\n",
       "  <thead>\n",
       "    <tr style=\"text-align: right;\">\n",
       "      <th></th>\n",
       "      <th>Date</th>\n",
       "      <th>Close</th>\n",
       "    </tr>\n",
       "  </thead>\n",
       "  <tbody>\n",
       "    <tr>\n",
       "      <th>0</th>\n",
       "      <td>2019-05-21</td>\n",
       "      <td>41.015999</td>\n",
       "    </tr>\n",
       "    <tr>\n",
       "      <th>1</th>\n",
       "      <td>2019-05-22</td>\n",
       "      <td>38.546001</td>\n",
       "    </tr>\n",
       "    <tr>\n",
       "      <th>2</th>\n",
       "      <td>2019-05-23</td>\n",
       "      <td>39.098000</td>\n",
       "    </tr>\n",
       "    <tr>\n",
       "      <th>3</th>\n",
       "      <td>2019-05-24</td>\n",
       "      <td>38.125999</td>\n",
       "    </tr>\n",
       "    <tr>\n",
       "      <th>4</th>\n",
       "      <td>2019-05-28</td>\n",
       "      <td>37.740002</td>\n",
       "    </tr>\n",
       "    <tr>\n",
       "      <th>5</th>\n",
       "      <td>2019-05-29</td>\n",
       "      <td>37.972000</td>\n",
       "    </tr>\n",
       "    <tr>\n",
       "      <th>6</th>\n",
       "      <td>2019-05-30</td>\n",
       "      <td>37.644001</td>\n",
       "    </tr>\n",
       "  </tbody>\n",
       "</table>\n",
       "</div>"
      ],
      "text/plain": [
       "         Date      Close\n",
       "0  2019-05-21  41.015999\n",
       "1  2019-05-22  38.546001\n",
       "2  2019-05-23  39.098000\n",
       "3  2019-05-24  38.125999\n",
       "4  2019-05-28  37.740002\n",
       "5  2019-05-29  37.972000\n",
       "6  2019-05-30  37.644001"
      ]
     },
     "execution_count": 5,
     "metadata": {},
     "output_type": "execute_result"
    }
   ],
   "source": [
    "stock_data.head(7)"
   ]
  },
  {
   "cell_type": "code",
   "execution_count": 6,
   "id": "6d40d572-d85f-45e1-a569-b0799cff8b51",
   "metadata": {},
   "outputs": [
    {
     "name": "stdout",
     "output_type": "stream",
     "text": [
      "<class 'pandas.core.frame.DataFrame'>\n",
      "RangeIndex: 758 entries, 0 to 757\n",
      "Data columns (total 2 columns):\n",
      " #   Column  Non-Null Count  Dtype  \n",
      "---  ------  --------------  -----  \n",
      " 0   Date    758 non-null    object \n",
      " 1   Close   758 non-null    float64\n",
      "dtypes: float64(1), object(1)\n",
      "memory usage: 12.0+ KB\n"
     ]
    }
   ],
   "source": [
    "stock_data.info()"
   ]
  },
  {
   "cell_type": "code",
   "execution_count": 7,
   "id": "833bcf05-cca7-43c8-9d1b-7f49b2709031",
   "metadata": {},
   "outputs": [
    {
     "name": "stderr",
     "output_type": "stream",
     "text": [
      "/tmp/ipykernel_70/2574456454.py:1: SettingWithCopyWarning: \n",
      "A value is trying to be set on a copy of a slice from a DataFrame.\n",
      "Try using .loc[row_indexer,col_indexer] = value instead\n",
      "\n",
      "See the caveats in the documentation: https://pandas.pydata.org/pandas-docs/stable/user_guide/indexing.html#returning-a-view-versus-a-copy\n",
      "  stock_data[\"Date\"]=pd.to_datetime(stock_data[\"Date\"])\n"
     ]
    }
   ],
   "source": [
    "stock_data[\"Date\"]=pd.to_datetime(stock_data[\"Date\"])"
   ]
  },
  {
   "cell_type": "code",
   "execution_count": 8,
   "id": "2d36a3f5-8c45-4a97-b027-f1ee133dec5a",
   "metadata": {},
   "outputs": [
    {
     "name": "stdout",
     "output_type": "stream",
     "text": [
      "<class 'pandas.core.frame.DataFrame'>\n",
      "RangeIndex: 758 entries, 0 to 757\n",
      "Data columns (total 2 columns):\n",
      " #   Column  Non-Null Count  Dtype         \n",
      "---  ------  --------------  -----         \n",
      " 0   Date    758 non-null    datetime64[ns]\n",
      " 1   Close   758 non-null    float64       \n",
      "dtypes: datetime64[ns](1), float64(1)\n",
      "memory usage: 12.0 KB\n"
     ]
    }
   ],
   "source": [
    "stock_data.info()"
   ]
  },
  {
   "cell_type": "code",
   "execution_count": 9,
   "id": "d9c055f4-ddef-4a4f-838b-64584d641d22",
   "metadata": {},
   "outputs": [
    {
     "data": {
      "text/html": [
       "<div>\n",
       "<style scoped>\n",
       "    .dataframe tbody tr th:only-of-type {\n",
       "        vertical-align: middle;\n",
       "    }\n",
       "\n",
       "    .dataframe tbody tr th {\n",
       "        vertical-align: top;\n",
       "    }\n",
       "\n",
       "    .dataframe thead th {\n",
       "        text-align: right;\n",
       "    }\n",
       "</style>\n",
       "<table border=\"1\" class=\"dataframe\">\n",
       "  <thead>\n",
       "    <tr style=\"text-align: right;\">\n",
       "      <th></th>\n",
       "      <th>Date</th>\n",
       "      <th>Close</th>\n",
       "    </tr>\n",
       "  </thead>\n",
       "  <tbody>\n",
       "    <tr>\n",
       "      <th>0</th>\n",
       "      <td>2019-05-21</td>\n",
       "      <td>41.015999</td>\n",
       "    </tr>\n",
       "    <tr>\n",
       "      <th>1</th>\n",
       "      <td>2019-05-22</td>\n",
       "      <td>38.546001</td>\n",
       "    </tr>\n",
       "  </tbody>\n",
       "</table>\n",
       "</div>"
      ],
      "text/plain": [
       "        Date      Close\n",
       "0 2019-05-21  41.015999\n",
       "1 2019-05-22  38.546001"
      ]
     },
     "execution_count": 9,
     "metadata": {},
     "output_type": "execute_result"
    }
   ],
   "source": [
    "stock_data.head(2)"
   ]
  },
  {
   "cell_type": "code",
   "execution_count": 10,
   "id": "da4ac006-e054-4ee5-ab76-7365d1ab61e1",
   "metadata": {},
   "outputs": [],
   "source": [
    "stock_data=stock_data.set_index(\"Date\")"
   ]
  },
  {
   "cell_type": "code",
   "execution_count": 11,
   "id": "b0405695-38d5-4b2f-b6c9-a66c1cb772bb",
   "metadata": {},
   "outputs": [
    {
     "data": {
      "text/html": [
       "<div>\n",
       "<style scoped>\n",
       "    .dataframe tbody tr th:only-of-type {\n",
       "        vertical-align: middle;\n",
       "    }\n",
       "\n",
       "    .dataframe tbody tr th {\n",
       "        vertical-align: top;\n",
       "    }\n",
       "\n",
       "    .dataframe thead th {\n",
       "        text-align: right;\n",
       "    }\n",
       "</style>\n",
       "<table border=\"1\" class=\"dataframe\">\n",
       "  <thead>\n",
       "    <tr style=\"text-align: right;\">\n",
       "      <th></th>\n",
       "      <th>Close</th>\n",
       "    </tr>\n",
       "    <tr>\n",
       "      <th>Date</th>\n",
       "      <th></th>\n",
       "    </tr>\n",
       "  </thead>\n",
       "  <tbody>\n",
       "    <tr>\n",
       "      <th>2019-05-21</th>\n",
       "      <td>41.015999</td>\n",
       "    </tr>\n",
       "    <tr>\n",
       "      <th>2019-05-22</th>\n",
       "      <td>38.546001</td>\n",
       "    </tr>\n",
       "    <tr>\n",
       "      <th>2019-05-23</th>\n",
       "      <td>39.098000</td>\n",
       "    </tr>\n",
       "    <tr>\n",
       "      <th>2019-05-24</th>\n",
       "      <td>38.125999</td>\n",
       "    </tr>\n",
       "    <tr>\n",
       "      <th>2019-05-28</th>\n",
       "      <td>37.740002</td>\n",
       "    </tr>\n",
       "    <tr>\n",
       "      <th>...</th>\n",
       "      <td>...</td>\n",
       "    </tr>\n",
       "    <tr>\n",
       "      <th>2022-05-16</th>\n",
       "      <td>724.369995</td>\n",
       "    </tr>\n",
       "    <tr>\n",
       "      <th>2022-05-17</th>\n",
       "      <td>761.609985</td>\n",
       "    </tr>\n",
       "    <tr>\n",
       "      <th>2022-05-18</th>\n",
       "      <td>709.809998</td>\n",
       "    </tr>\n",
       "    <tr>\n",
       "      <th>2022-05-19</th>\n",
       "      <td>709.419983</td>\n",
       "    </tr>\n",
       "    <tr>\n",
       "      <th>2022-05-20</th>\n",
       "      <td>663.900024</td>\n",
       "    </tr>\n",
       "  </tbody>\n",
       "</table>\n",
       "<p>758 rows × 1 columns</p>\n",
       "</div>"
      ],
      "text/plain": [
       "                 Close\n",
       "Date                  \n",
       "2019-05-21   41.015999\n",
       "2019-05-22   38.546001\n",
       "2019-05-23   39.098000\n",
       "2019-05-24   38.125999\n",
       "2019-05-28   37.740002\n",
       "...                ...\n",
       "2022-05-16  724.369995\n",
       "2022-05-17  761.609985\n",
       "2022-05-18  709.809998\n",
       "2022-05-19  709.419983\n",
       "2022-05-20  663.900024\n",
       "\n",
       "[758 rows x 1 columns]"
      ]
     },
     "execution_count": 11,
     "metadata": {},
     "output_type": "execute_result"
    }
   ],
   "source": [
    "stock_data"
   ]
  },
  {
   "cell_type": "markdown",
   "id": "49295435-d61e-46f9-85fa-2bc98b3ccc54",
   "metadata": {},
   "source": [
    "# why we are converting date column as a index column\n",
    "\n",
    "1. i can easily retrive the data\n",
    "2. visulization is also simple\n",
    "3. those lib has been design in such a way it required date column as a index(scipy statsmodel)"
   ]
  },
  {
   "cell_type": "markdown",
   "id": "95752e86-d71e-4f1e-9658-6ee27df493ac",
   "metadata": {},
   "source": [
    "# EDA(exploratory data analysis)"
   ]
  },
  {
   "cell_type": "markdown",
   "id": "f1c52cb5-2e8f-460e-abec-9bc634e65d05",
   "metadata": {},
   "source": [
    "1. Summary Statistics\n",
    "- Compute summary statistics such as mean, median, mode, standard deviation, to get an overview of the data.\n",
    "\n",
    "2. Visualize the Time Series Data\n",
    "- Plot the Time Series data\n",
    "\n",
    "- Plot the rolling mean and rolling standard deviation of the Time Series data.\n",
    "- Decompose the Time Series Data check for any trends, seasonality, and Noise.\n",
    "- Plot the decomposed components to get a better understanding of the Time Series data.\n",
    "\n",
    "3. Stationarity Check\n",
    "- Check for stationarity.\n",
    "- Check for stationarity of the Time Series data using the Augmented Dickey-Fuller test.\n",
    "\n",
    "4. Check for Autocorrelation\n",
    "- Plot the autocorrelation function (ACF) and partial autocorrelation function (PACF) to identify the order of the ARIMA model.\n",
    "\n",
    "5. Outlier Detection\n",
    "- Detect and handle outliers using statistical methods or machine learning techniques.\n",
    "\n",
    "6. Check for Autocorrelation\n",
    "- Plot the autocorrelation function (ACF) and partial autocorrelation function (PACF) to identify the order of the ARIMA model.\n"
   ]
  },
  {
   "cell_type": "code",
   "execution_count": 12,
   "id": "fc104762-c13e-4bed-b19e-03cb0feeea1f",
   "metadata": {},
   "outputs": [
    {
     "data": {
      "text/html": [
       "<div>\n",
       "<style scoped>\n",
       "    .dataframe tbody tr th:only-of-type {\n",
       "        vertical-align: middle;\n",
       "    }\n",
       "\n",
       "    .dataframe tbody tr th {\n",
       "        vertical-align: top;\n",
       "    }\n",
       "\n",
       "    .dataframe thead th {\n",
       "        text-align: right;\n",
       "    }\n",
       "</style>\n",
       "<table border=\"1\" class=\"dataframe\">\n",
       "  <thead>\n",
       "    <tr style=\"text-align: right;\">\n",
       "      <th></th>\n",
       "      <th>Close</th>\n",
       "    </tr>\n",
       "  </thead>\n",
       "  <tbody>\n",
       "    <tr>\n",
       "      <th>count</th>\n",
       "      <td>758.000000</td>\n",
       "    </tr>\n",
       "    <tr>\n",
       "      <th>mean</th>\n",
       "      <td>485.531513</td>\n",
       "    </tr>\n",
       "    <tr>\n",
       "      <th>std</th>\n",
       "      <td>353.160353</td>\n",
       "    </tr>\n",
       "    <tr>\n",
       "      <th>min</th>\n",
       "      <td>35.793999</td>\n",
       "    </tr>\n",
       "    <tr>\n",
       "      <th>25%</th>\n",
       "      <td>112.323500</td>\n",
       "    </tr>\n",
       "    <tr>\n",
       "      <th>50%</th>\n",
       "      <td>488.125000</td>\n",
       "    </tr>\n",
       "    <tr>\n",
       "      <th>75%</th>\n",
       "      <td>762.142502</td>\n",
       "    </tr>\n",
       "    <tr>\n",
       "      <th>max</th>\n",
       "      <td>1229.910034</td>\n",
       "    </tr>\n",
       "  </tbody>\n",
       "</table>\n",
       "</div>"
      ],
      "text/plain": [
       "             Close\n",
       "count   758.000000\n",
       "mean    485.531513\n",
       "std     353.160353\n",
       "min      35.793999\n",
       "25%     112.323500\n",
       "50%     488.125000\n",
       "75%     762.142502\n",
       "max    1229.910034"
      ]
     },
     "execution_count": 12,
     "metadata": {},
     "output_type": "execute_result"
    }
   ],
   "source": [
    "stock_data.describe()"
   ]
  },
  {
   "cell_type": "code",
   "execution_count": 13,
   "id": "8c4052f6-7496-4bd2-9fbc-d427022c1ea1",
   "metadata": {},
   "outputs": [
    {
     "data": {
      "text/plain": [
       "[<matplotlib.lines.Line2D at 0x7f4e1b5520b0>]"
      ]
     },
     "execution_count": 13,
     "metadata": {},
     "output_type": "execute_result"
    },
    {
     "data": {
      "image/png": "[encoded data removed]",
      "text/plain": [
       "<Figure size 640x480 with 1 Axes>"
      ]
     },
     "metadata": {},
     "output_type": "display_data"
    }
   ],
   "source": [
    "plt.plot(stock_data.Close)"
   ]
  },
  {
   "cell_type": "code",
   "execution_count": 14,
   "id": "d487fbe5-83e3-4700-8c69-f12916ee425a",
   "metadata": {},
   "outputs": [
    {
     "data": {
      "text/plain": [
       "(array([228.,  57.,  38.,  59.,  50., 127.,  81.,  44.,  59.,  15.]),\n",
       " array([  35.79399872,  155.20560226,  274.61720581,  394.02880936,\n",
       "         513.4404129 ,  632.85201645,  752.26362   ,  871.67522354,\n",
       "         991.08682709, 1110.49843063, 1229.91003418]),\n",
       " <BarContainer object of 10 artists>)"
      ]
     },
     "execution_count": 14,
     "metadata": {},
     "output_type": "execute_result"
    },
    {
     "data": {
      "image/png": "[encoded data removed]",
      "text/plain": [
       "<Figure size 640x480 with 1 Axes>"
      ]
     },
     "metadata": {},
     "output_type": "display_data"
    }
   ],
   "source": [
    "plt.hist(stock_data.Close)"
   ]
  },
  {
   "cell_type": "code",
   "execution_count": 68,
   "id": "ccb30ccb-da1c-427d-8d8c-11e6d919d018",
   "metadata": {},
   "outputs": [],
   "source": [
    "# plotting close price\n",
    "#plt.style.use('ggplot')\n",
    "#plt.figure(figsize=(18,8))\n",
    "#plt.grid(True)\n",
    "#plt.xlabel('Dates', fontsize = 20)\n",
    "#plt.xticks(fontsize = 15)\n",
    "#plt.ylabel('Close Prices', fontsize = 20)\n",
    "#plt.yticks(fontsize = 15)\n",
    "#plt.plot(stock_data['Close'], linewidth = 3, color = 'blue')\n",
    "#plt.title('Tesla Stock Closing Price', fontsize = 30)\n",
    "#plt.show()"
   ]
  },
  {
   "cell_type": "code",
   "execution_count": 69,
   "id": "eea40a5b-d683-4cc6-ac34-68d3549cc612",
   "metadata": {},
   "outputs": [],
   "source": [
    "# plotting close price\n",
    "#plt.style.use('ggplot')\n",
    "#plt.figure(figsize=(18,8))\n",
    "#plt.grid(True)\n",
    "#plt.xlabel('Dates', fontsize = 20)\n",
    "#plt.xticks(fontsize = 15)\n",
    "#plt.ylabel('Close Prices', fontsize = 20)\n",
    "#plt.yticks(fontsize = 15)\n",
    "#plt.hist(stock_data['Close'], linewidth = 3, color = 'blue')\n",
    "#plt.title('Tesla Stock Closing Price', fontsize = 30)\n",
    "#plt.show()"
   ]
  },
  {
   "cell_type": "code",
   "execution_count": 70,
   "id": "99dafc77-f423-456d-a7e6-1e09291b917e",
   "metadata": {},
   "outputs": [],
   "source": [
    "# Distribution of the close price\n",
    "#df_close = stock_data['Close']\n",
    "#df_close.plot(kind='kde',figsize = (18,8), linewidth= 3)\n",
    "#plt.xticks(fontsize = 15)\n",
    "#plt.grid(\"both\")\n",
    "#plt.ylabel('Density', fontsize = 20)\n",
    "#plt.yticks(fontsize = 15)\n",
    "#plt.show()"
   ]
  },
  {
   "cell_type": "code",
   "execution_count": 15,
   "id": "566a7f2a-e9a5-49b0-93e7-7fa687de2c0d",
   "metadata": {},
   "outputs": [],
   "source": [
    "rolmean=stock_data[\"Close\"].rolling(48).mean()"
   ]
  },
  {
   "cell_type": "code",
   "execution_count": 16,
   "id": "57d8d331-e215-4f76-963b-6dd8adcf02b7",
   "metadata": {},
   "outputs": [],
   "source": [
    "rolstd=stock_data[\"Close\"].rolling(48).std()"
   ]
  },
  {
   "cell_type": "code",
   "execution_count": 71,
   "id": "dffa0488-3c20-4274-907d-dd8f09859c93",
   "metadata": {},
   "outputs": [],
   "source": [
    "#plt.plot(stock_data.Close)\n",
    "#plt.plot(rolmean)\n",
    "#plt.plot(rolstd)"
   ]
  },
  {
   "cell_type": "code",
   "execution_count": 17,
   "id": "3de625cc-bd97-45d7-a0be-31d88500ebed",
   "metadata": {},
   "outputs": [],
   "source": [
    "#ADF(ada fullar test)\n",
    "from statsmodels.tsa.stattools import adfuller\n",
    "adft=adfuller(stock_data[\"Close\"])"
   ]
  },
  {
   "cell_type": "code",
   "execution_count": 18,
   "id": "d4edefb3-47dd-4faf-a1ff-bc7fb1b679b0",
   "metadata": {},
   "outputs": [
    {
     "data": {
      "text/plain": [
       "test stats      -1.363009\n",
       "p-value          0.599876\n",
       "lag              9.000000\n",
       "data points    748.000000\n",
       "dtype: float64"
      ]
     },
     "execution_count": 18,
     "metadata": {},
     "output_type": "execute_result"
    }
   ],
   "source": [
    "pd.Series(adft[0:4],index=[\"test stats\",\"p-value\",\"lag\",\"data points\"])"
   ]
  },
  {
   "cell_type": "code",
   "execution_count": 19,
   "id": "379a07a9-2fbe-4498-9ebb-7638313b0648",
   "metadata": {},
   "outputs": [],
   "source": [
    "#Test for staionarity\n",
    "def test_stationarity(timeseries):\n",
    "    # Determing rolling statistics\n",
    "    rolmean = timeseries.rolling(48).mean() # rolling mean\n",
    "    rolstd = timeseries.rolling(48).std() # rolling standard deviation\n",
    "    # Plot rolling statistics:\n",
    "    plt.figure(figsize = (18,8))\n",
    "    plt.grid('both')\n",
    "    plt.plot(timeseries, color='blue',label='Original', linewidth = 3)\n",
    "    plt.plot(rolmean, color='red', label='Rolling Mean',linewidth = 3)\n",
    "    plt.plot(rolstd, color='black', label = 'Rolling Std',linewidth = 4)\n",
    "    plt.legend(loc='best', fontsize = 20, shadow=True,facecolor='lightpink',edgecolor = 'k')\n",
    "    plt.title('Rolling Mean and Standard Deviation', fontsize = 25)\n",
    "    plt.xticks(fontsize = 15)\n",
    "    plt.yticks(fontsize = 15)\n",
    "    plt.show(block=False)\n",
    "\n",
    "    print(\"Results of dickey fuller test\")\n",
    "    adft = adfuller(timeseries,autolag='AIC')\n",
    "    # output for dft will give us without defining what the values are.\n",
    "    # hence we manually write what values does it explains using a for loop\n",
    "    output = pd.Series(adft[0:4],index=['Test Statistics','p-value','No. of lags used','Number of observations used'])\n",
    "    for key,values in adft[4].items():\n",
    "        output['critical value (%s)'%key] =  values\n",
    "    print(output)"
   ]
  },
  {
   "cell_type": "code",
   "execution_count": 20,
   "id": "d528ddc3-86d3-448c-8aac-1ea4568d1b77",
   "metadata": {},
   "outputs": [
    {
     "data": {
      "image/png": "[encoded data removed]",
      "text/plain": [
       "<Figure size 1800x800 with 1 Axes>"
      ]
     },
     "metadata": {},
     "output_type": "display_data"
    },
    {
     "name": "stdout",
     "output_type": "stream",
     "text": [
      "Results of dickey fuller test\n",
      "Test Statistics                 -1.363009\n",
      "p-value                          0.599876\n",
      "No. of lags used                 9.000000\n",
      "Number of observations used    748.000000\n",
      "critical value (1%)             -3.439123\n",
      "critical value (5%)             -2.865412\n",
      "critical value (10%)            -2.568832\n",
      "dtype: float64\n"
     ]
    }
   ],
   "source": [
    "test_stationarity(stock_data.Close)"
   ]
  },
  {
   "cell_type": "code",
   "execution_count": 21,
   "id": "9b7fb280-945e-471c-9957-9cb664e830c7",
   "metadata": {},
   "outputs": [],
   "source": [
    "from statsmodels.tsa.seasonal import seasonal_decompose\n",
    "result=seasonal_decompose(stock_data[[\"Close\"]],period=12)"
   ]
  },
  {
   "cell_type": "code",
   "execution_count": 22,
   "id": "34d228f5-41cf-449f-9030-4a9930f50e12",
   "metadata": {},
   "outputs": [
    {
     "data": {
      "text/plain": [
       "Date\n",
       "2019-05-21   -2.346452\n",
       "2019-05-22    3.768884\n",
       "2019-05-23   -0.777006\n",
       "2019-05-24   -0.654226\n",
       "2019-05-28   -2.737845\n",
       "                ...   \n",
       "2022-05-16    2.149519\n",
       "2022-05-17    1.323680\n",
       "2022-05-18    1.837638\n",
       "2022-05-19   -2.346452\n",
       "2022-05-20    3.768884\n",
       "Name: seasonal, Length: 758, dtype: float64"
      ]
     },
     "execution_count": 22,
     "metadata": {},
     "output_type": "execute_result"
    }
   ],
   "source": [
    "result.seasonal"
   ]
  },
  {
   "cell_type": "code",
   "execution_count": 23,
   "id": "5a268d8b-3bd9-4cd8-9871-c26dd5ef4876",
   "metadata": {},
   "outputs": [
    {
     "data": {
      "text/plain": [
       "<Figure size 2000x1000 with 0 Axes>"
      ]
     },
     "metadata": {},
     "output_type": "display_data"
    },
    {
     "data": {
      "image/png": "[encoded data removed]",
      "text/plain": [
       "<Figure size 1700x1000 with 4 Axes>"
      ]
     },
     "metadata": {},
     "output_type": "display_data"
    }
   ],
   "source": [
    "fig=plt.figure(figsize=(20,10))\n",
    "fig=result.plot()\n",
    "fig.set_size_inches(17,10)"
   ]
  },
  {
   "cell_type": "code",
   "execution_count": 24,
   "id": "ba4a6b2c-713f-4fb3-acab-c21ab4e0798b",
   "metadata": {},
   "outputs": [],
   "source": [
    "from statsmodels.tsa.seasonal import seasonal_decompose\n",
    "result=seasonal_decompose(stock_data[[\"Close\"]],period=12,model=\"multiplicative\")"
   ]
  },
  {
   "cell_type": "code",
   "execution_count": 25,
   "id": "e439bcc2-7001-43d2-b6a8-58cfe99becbc",
   "metadata": {},
   "outputs": [
    {
     "data": {
      "text/plain": [
       "<Figure size 2000x1000 with 0 Axes>"
      ]
     },
     "metadata": {},
     "output_type": "display_data"
    },
    {
     "data": {
      "image/png": "[encoded data removed]",
      "text/plain": [
       "<Figure size 1700x1000 with 4 Axes>"
      ]
     },
     "metadata": {},
     "output_type": "display_data"
    }
   ],
   "source": [
    "fig=plt.figure(figsize=(20,10))\n",
    "fig=result.plot()\n",
    "fig.set_size_inches(17,10)"
   ]
  },
  {
   "cell_type": "code",
   "execution_count": 26,
   "id": "9c9872cb-5da0-49a4-8ca3-170884ab3643",
   "metadata": {},
   "outputs": [
    {
     "data": {
      "text/plain": [
       "<AxesSubplot: >"
      ]
     },
     "execution_count": 26,
     "metadata": {},
     "output_type": "execute_result"
    },
    {
     "data": {
      "image/png": "[encoded data removed]",
      "text/plain": [
       "<Figure size 640x480 with 1 Axes>"
      ]
     },
     "metadata": {},
     "output_type": "display_data"
    }
   ],
   "source": [
    "import seaborn as sns\n",
    "sns.boxplot(stock_data.Close)"
   ]
  },
  {
   "cell_type": "code",
   "execution_count": 27,
   "id": "4b4ac09f-50c7-4031-933d-a1a4510479d5",
   "metadata": {},
   "outputs": [],
   "source": [
    "#Split the data into train and trainig set\n",
    "train_data = stock_data['Close'][0:-60]\n",
    "test_data = stock_data['Close'][-60:]\n",
    "#plt.figure(figsize = (18,8))\n",
    "#plt.grid(True)\n",
    "#plt.xlabel('Dates', fontsize = 20)\n",
    "#plt.ylabel('Close Prices', fontsize = 20)\n",
    "#plt.xticks(fontsize = 15)\n",
    "#plt.yticks(fontsize = 15)\n",
    "#plt.plot(train_data, color='green',label='Train data', linewidth = 5)\n",
    "#plt.plot(test_data, color='blue', label='Test data',linewidth = 5)\n",
    "\n",
    "#plt.legend(fontsize = 20, shadow=True,facecolor='lightpink',edgecolor = 'k')\n",
    "\n",
    "#plt.show()"
   ]
  },
  {
   "cell_type": "code",
   "execution_count": 28,
   "id": "0cb9b4ee-7806-40fc-b28d-99bfcbd6c994",
   "metadata": {},
   "outputs": [],
   "source": [
    "import statsmodels.api as sm\n",
    "from statsmodels.tsa.arima.model import ARIMA\n",
    "from sklearn.metrics import mean_squared_error, mean_absolute_error"
   ]
  },
  {
   "cell_type": "code",
   "execution_count": 29,
   "id": "73398b86-41e5-4394-b577-dc7b575b990b",
   "metadata": {},
   "outputs": [],
   "source": [
    "history=[x for x in train_data]"
   ]
  },
  {
   "cell_type": "code",
   "execution_count": 30,
   "id": "d45ebd6b-0e27-4ced-b987-5aee5bee343e",
   "metadata": {},
   "outputs": [],
   "source": [
    "model=ARIMA(history,order=(1,1,1))"
   ]
  },
  {
   "cell_type": "code",
   "execution_count": 31,
   "id": "140166ff-6497-4bee-bce7-165d89b91e13",
   "metadata": {},
   "outputs": [],
   "source": [
    "model=model.fit()"
   ]
  },
  {
   "cell_type": "code",
   "execution_count": 32,
   "id": "14c64d4a-ad7f-4043-8448-38cfe0f703d6",
   "metadata": {},
   "outputs": [
    {
     "data": {
      "text/html": [
       "<table class=\"simpletable\">\n",
       "<caption>SARIMAX Results</caption>\n",
       "<tr>\n",
       "  <th>Dep. Variable:</th>           <td>y</td>        <th>  No. Observations:  </th>    <td>698</td>   \n",
       "</tr>\n",
       "<tr>\n",
       "  <th>Model:</th>            <td>ARIMA(1, 1, 1)</td>  <th>  Log Likelihood     </th> <td>-3150.350</td>\n",
       "</tr>\n",
       "<tr>\n",
       "  <th>Date:</th>            <td>Tue, 27 Feb 2024</td> <th>  AIC                </th> <td>6306.700</td> \n",
       "</tr>\n",
       "<tr>\n",
       "  <th>Time:</th>                <td>16:41:08</td>     <th>  BIC                </th> <td>6320.340</td> \n",
       "</tr>\n",
       "<tr>\n",
       "  <th>Sample:</th>                  <td>0</td>        <th>  HQIC               </th> <td>6311.974</td> \n",
       "</tr>\n",
       "<tr>\n",
       "  <th></th>                      <td> - 698</td>      <th>                     </th>     <td> </td>    \n",
       "</tr>\n",
       "<tr>\n",
       "  <th>Covariance Type:</th>        <td>opg</td>       <th>                     </th>     <td> </td>    \n",
       "</tr>\n",
       "</table>\n",
       "<table class=\"simpletable\">\n",
       "<tr>\n",
       "     <td></td>       <th>coef</th>     <th>std err</th>      <th>z</th>      <th>P>|z|</th>  <th>[0.025</th>    <th>0.975]</th>  \n",
       "</tr>\n",
       "<tr>\n",
       "  <th>ar.L1</th>  <td>    0.2397</td> <td>    0.699</td> <td>    0.343</td> <td> 0.731</td> <td>   -1.129</td> <td>    1.609</td>\n",
       "</tr>\n",
       "<tr>\n",
       "  <th>ma.L1</th>  <td>   -0.2713</td> <td>    0.690</td> <td>   -0.393</td> <td> 0.694</td> <td>   -1.623</td> <td>    1.080</td>\n",
       "</tr>\n",
       "<tr>\n",
       "  <th>sigma2</th> <td>  493.6767</td> <td>   11.690</td> <td>   42.231</td> <td> 0.000</td> <td>  470.765</td> <td>  516.588</td>\n",
       "</tr>\n",
       "</table>\n",
       "<table class=\"simpletable\">\n",
       "<tr>\n",
       "  <th>Ljung-Box (L1) (Q):</th>     <td>0.00</td>  <th>  Jarque-Bera (JB):  </th> <td>2111.30</td>\n",
       "</tr>\n",
       "<tr>\n",
       "  <th>Prob(Q):</th>                <td>0.98</td>  <th>  Prob(JB):          </th>  <td>0.00</td>  \n",
       "</tr>\n",
       "<tr>\n",
       "  <th>Heteroskedasticity (H):</th> <td>31.69</td> <th>  Skew:              </th>  <td>0.09</td>  \n",
       "</tr>\n",
       "<tr>\n",
       "  <th>Prob(H) (two-sided):</th>    <td>0.00</td>  <th>  Kurtosis:          </th>  <td>11.52</td> \n",
       "</tr>\n",
       "</table><br/><br/>Warnings:<br/>[1] Covariance matrix calculated using the outer product of gradients (complex-step)."
      ],
      "text/plain": [
       "<class 'statsmodels.iolib.summary.Summary'>\n",
       "\"\"\"\n",
       "                               SARIMAX Results                                \n",
       "==============================================================================\n",
       "Dep. Variable:                      y   No. Observations:                  698\n",
       "Model:                 ARIMA(1, 1, 1)   Log Likelihood               -3150.350\n",
       "Date:                Tue, 27 Feb 2024   AIC                           6306.700\n",
       "Time:                        16:41:08   BIC                           6320.340\n",
       "Sample:                             0   HQIC                          6311.974\n",
       "                                - 698                                         \n",
       "Covariance Type:                  opg                                         \n",
       "==============================================================================\n",
       "                 coef    std err          z      P>|z|      [0.025      0.975]\n",
       "------------------------------------------------------------------------------\n",
       "ar.L1          0.2397      0.699      0.343      0.731      -1.129       1.609\n",
       "ma.L1         -0.2713      0.690     -0.393      0.694      -1.623       1.080\n",
       "sigma2       493.6767     11.690     42.231      0.000     470.765     516.588\n",
       "===================================================================================\n",
       "Ljung-Box (L1) (Q):                   0.00   Jarque-Bera (JB):              2111.30\n",
       "Prob(Q):                              0.98   Prob(JB):                         0.00\n",
       "Heteroskedasticity (H):              31.69   Skew:                             0.09\n",
       "Prob(H) (two-sided):                  0.00   Kurtosis:                        11.52\n",
       "===================================================================================\n",
       "\n",
       "Warnings:\n",
       "[1] Covariance matrix calculated using the outer product of gradients (complex-step).\n",
       "\"\"\""
      ]
     },
     "execution_count": 32,
     "metadata": {},
     "output_type": "execute_result"
    }
   ],
   "source": [
    "model.summary()"
   ]
  },
  {
   "cell_type": "code",
   "execution_count": 33,
   "id": "bdd47378-c549-47a8-94be-9cd453e79c63",
   "metadata": {},
   "outputs": [
    {
     "data": {
      "text/plain": [
       "800.2043832076607"
      ]
     },
     "execution_count": 33,
     "metadata": {},
     "output_type": "execute_result"
    }
   ],
   "source": [
    "model.forecast()[0]"
   ]
  },
  {
   "cell_type": "code",
   "execution_count": 34,
   "id": "446810a8-286f-4771-bd38-1c622622199e",
   "metadata": {},
   "outputs": [
    {
     "data": {
      "text/plain": [
       "809.8699951171875"
      ]
     },
     "execution_count": 34,
     "metadata": {},
     "output_type": "execute_result"
    }
   ],
   "source": [
    "test_data[0]"
   ]
  },
  {
   "cell_type": "code",
   "execution_count": 35,
   "id": "7e00ee2f-a587-4fb9-8b0d-50d79270cded",
   "metadata": {},
   "outputs": [
    {
     "data": {
      "text/plain": [
       "93.42405358558581"
      ]
     },
     "execution_count": 35,
     "metadata": {},
     "output_type": "execute_result"
    }
   ],
   "source": [
    "mean_squared_error([test_data[0]],model.forecast())"
   ]
  },
  {
   "cell_type": "code",
   "execution_count": 36,
   "id": "55ae00d4-2009-4873-b3b0-8441c727d027",
   "metadata": {},
   "outputs": [
    {
     "data": {
      "text/plain": [
       "9.665611909526774"
      ]
     },
     "execution_count": 36,
     "metadata": {},
     "output_type": "execute_result"
    }
   ],
   "source": [
    "np.sqrt(mean_squared_error([test_data[0]],model.forecast()))"
   ]
  },
  {
   "cell_type": "code",
   "execution_count": 37,
   "id": "602c3ff8-8423-4068-93d9-2cf89ce3fdbc",
   "metadata": {},
   "outputs": [],
   "source": [
    "def train_arima_model(X, y, arima_order):\n",
    "    # prepare training dataset\n",
    "    # make predictions list\n",
    "    history = [x for x in X]\n",
    "    predictions = list()\n",
    "    for t in range(len(y)):\n",
    "        model = ARIMA(history, order=arima_order)\n",
    "        model_fit = model.fit()\n",
    "        yhat = model_fit.forecast()[0]\n",
    "        predictions.append(yhat)\n",
    "        history.append(y[t])\n",
    "    # calculate out of sample error\n",
    "    rmse = np.sqrt(mean_squared_error(y, predictions))\n",
    "    return rmse"
   ]
  },
  {
   "cell_type": "code",
   "execution_count": 38,
   "id": "40104ebf-0f7f-4891-9228-68dc37f7cd80",
   "metadata": {},
   "outputs": [],
   "source": [
    "# Evaluate different combination of p, d and q values for an ARIMA model to get the best order for ARIMA model\n",
    "def evaluate_models(dataset, test, p_values, d_values, q_values):\n",
    "    dataset = dataset.astype('float32')\n",
    "    best_score, best_cfg = float(\"inf\"), None\n",
    "    for p in p_values:\n",
    "        for d in d_values:\n",
    "            for q in q_values:\n",
    "                order = (p,d,q)\n",
    "                try:\n",
    "                    rmse = train_arima_model(dataset, test, order)\n",
    "                    if rmse < best_score:\n",
    "                        best_score, best_cfg = rmse, order\n",
    "                    print('ARIMA%s RMSE=%.3f' %(order,rmse))\n",
    "                except:\n",
    "                    continue\n",
    "    print('Best ARIMA%s RMSE=%.3f' %(best_cfg,best_score))"
   ]
  },
  {
   "cell_type": "code",
   "execution_count": null,
   "id": "77e5ec5d-63b1-42b1-b931-f78107acc206",
   "metadata": {},
   "outputs": [],
   "source": []
  },
  {
   "cell_type": "code",
   "execution_count": 39,
   "id": "8b479b84-4bda-4216-9c37-bd66a201bd79",
   "metadata": {},
   "outputs": [
    {
     "name": "stdout",
     "output_type": "stream",
     "text": [
      "ARIMA(0, 0, 0) RMSE=457.414\n",
      "ARIMA(0, 0, 1) RMSE=241.164\n",
      "ARIMA(0, 0, 2) RMSE=165.491\n",
      "ARIMA(0, 1, 0) RMSE=39.516\n",
      "ARIMA(0, 1, 1) RMSE=39.482\n",
      "ARIMA(0, 1, 2) RMSE=39.617\n",
      "ARIMA(0, 2, 0) RMSE=57.835\n",
      "ARIMA(0, 2, 1) RMSE=39.611\n",
      "ARIMA(0, 2, 2) RMSE=39.580\n",
      "ARIMA(1, 0, 0) RMSE=39.477\n",
      "ARIMA(1, 0, 1) RMSE=39.449\n",
      "ARIMA(1, 0, 2) RMSE=39.584\n",
      "ARIMA(1, 1, 0) RMSE=39.475\n",
      "ARIMA(1, 1, 1) RMSE=39.555\n",
      "ARIMA(1, 1, 2) RMSE=39.935\n",
      "ARIMA(1, 2, 0) RMSE=46.184\n",
      "ARIMA(1, 2, 1) RMSE=39.573\n",
      "ARIMA(1, 2, 2) RMSE=39.731\n",
      "ARIMA(2, 0, 0) RMSE=39.440\n",
      "ARIMA(2, 0, 1) RMSE=39.494\n",
      "ARIMA(2, 0, 2) RMSE=39.596\n",
      "ARIMA(2, 1, 0) RMSE=39.635\n",
      "ARIMA(2, 1, 1) RMSE=39.759\n",
      "ARIMA(2, 1, 2) RMSE=39.611\n",
      "ARIMA(2, 2, 0) RMSE=45.781\n",
      "ARIMA(2, 2, 1) RMSE=39.739\n",
      "ARIMA(2, 2, 2) RMSE=39.731\n",
      "Best ARIMA(2, 0, 0) RMSE=39.440\n"
     ]
    }
   ],
   "source": [
    "# evaluate parameters\n",
    "import warnings\n",
    "warnings.filterwarnings('ignore')\n",
    "p_values = range(0, 3)\n",
    "d_values = range(0, 3)\n",
    "q_values = range(0, 3)\n",
    "evaluate_models(train_data, test_data, p_values, d_values, q_values)"
   ]
  },
  {
   "cell_type": "code",
   "execution_count": 40,
   "id": "c1c06735-1e13-4691-8c79-5e23bf68febe",
   "metadata": {},
   "outputs": [
    {
     "name": "stdout",
     "output_type": "stream",
     "text": [
      "RMSE of ARIMA Model: 39.43992944070974\n"
     ]
    }
   ],
   "source": [
    "history = [x for x in train_data]\n",
    "predictions = list()\n",
    "conf_list = list()\n",
    "for t in range(len(test_data)):\n",
    "    model = ARIMA(history,order=(2,0,0))\n",
    "    model_fit = model.fit()\n",
    "    fc = model_fit.forecast(alpha = 0.05)\n",
    "    predictions.append(fc)\n",
    "    history.append(test_data[t])\n",
    "print('RMSE of ARIMA Model:', np.sqrt(mean_squared_error(test_data, predictions)))"
   ]
  },
  {
   "cell_type": "code",
   "execution_count": 63,
   "id": "8f9755d2-f867-4141-b01d-2c96ed92deca",
   "metadata": {},
   "outputs": [],
   "source": [
    "#plt.figure(figsize=(18,8))\n",
    "#plt.grid(True)\n",
    "#plt.plot(range(len(test_data)),test_data, label = 'True Test Close Value', linewidth = 5)\n",
    "#plt.plot(range(len(predictions)), predictions, label = 'Predictions on test data', linewidth = 5)\n",
    "#plt.xticks(fontsize = 15)\n",
    "#plt.xticks(fontsize = 15)\n",
    "#plt.legend(fontsize = 20, shadow=True,facecolor='lightpink',edgecolor = 'k')\n",
    "#plt.show()"
   ]
  },
  {
   "cell_type": "code",
   "execution_count": 57,
   "id": "9c53666a-1cbd-41eb-9ec2-00fddfca3f3c",
   "metadata": {},
   "outputs": [],
   "source": [
    "fc_series = pd.Series(predictions, index=test_data.index)"
   ]
  },
  {
   "cell_type": "code",
   "execution_count": 64,
   "id": "289b73de-b4fc-49fc-9a31-6e8d85e178e9",
   "metadata": {},
   "outputs": [],
   "source": [
    "# Plot\n",
    "#plt.figure(figsize=(12,5), dpi=100)\n",
    "#plt.plot(train_data, label='Training', color = 'blue')\n",
    "#plt.plot(test_data, label='Test', color = 'green', linewidth = 3)\n",
    "#plt.plot(fc_series, label='Forecast', color = 'red')\n",
    "#plt.title('Forecast vs Actuals on test data')\n",
    "#plt.legend(loc='upper left', fontsize=8)\n",
    "#plt.show()"
   ]
  },
  {
   "cell_type": "code",
   "execution_count": 66,
   "id": "d8e8c613-79e8-41ba-9a95-418ee0e2314b",
   "metadata": {},
   "outputs": [],
   "source": [
    "from statsmodels.graphics.tsaplots import plot_predict\n",
    "#fig = plt.figure(figsize=(18,8))\n",
    "#ax1 = fig.add_subplot(111)\n",
    "#plot_predict(result=model_fit,start=1, end=len(df_close)+60, ax = ax1)\n",
    "#plt.grid(\"both\")\n",
    "#plt.legend(['Forecast','Close','95% confidence interval'],fontsize = 20, shadow=True,facecolor='lightblue',edgecolor = 'k')\n",
    "#plt.show()"
   ]
  },
  {
   "cell_type": "code",
   "execution_count": 60,
   "id": "5af59fc2-6c86-4310-874d-fc60a8484449",
   "metadata": {},
   "outputs": [
    {
     "name": "stdout",
     "output_type": "stream",
     "text": [
      "RUNNING THE L-BFGS-B CODE\n",
      "\n",
      "           * * *\n",
      "\n",
      "Machine precision = 2.220D-16\n",
      " N =            3     M =           10\n",
      "\n",
      "At X0         0 variables are exactly at the bounds\n",
      "\n",
      "At iterate    0    f=  4.54877D+00    |proj g|=  1.28391D-01\n",
      "\n",
      "At iterate    5    f=  4.50570D+00    |proj g|=  4.34715D-03\n",
      "\n",
      "At iterate   10    f=  4.50258D+00    |proj g|=  2.85269D-03\n",
      "\n",
      "           * * *\n",
      "\n",
      "Tit   = total number of iterations\n",
      "Tnf   = total number of function evaluations\n",
      "Tnint = total number of segments explored during Cauchy searches\n",
      "Skip  = number of BFGS updates skipped\n",
      "Nact  = number of active bounds at final generalized Cauchy point\n",
      "Projg = norm of the final projected gradient\n",
      "F     = final function value\n",
      "\n",
      "           * * *\n",
      "\n",
      "   N    Tit     Tnf  Tnint  Skip  Nact     Projg        F\n",
      "    3     13     16      1     0     0   1.562D-07   4.503D+00\n",
      "  F =   4.5025716463553653     \n",
      "\n",
      "CONVERGENCE: NORM_OF_PROJECTED_GRADIENT_<=_PGTOL            \n"
     ]
    },
    {
     "name": "stderr",
     "output_type": "stream",
     "text": [
      " This problem is unconstrained.\n",
      " This problem is unconstrained.\n"
     ]
    },
    {
     "name": "stdout",
     "output_type": "stream",
     "text": [
      "RUNNING THE L-BFGS-B CODE\n",
      "\n",
      "           * * *\n",
      "\n",
      "Machine precision = 2.220D-16\n",
      " N =            3     M =           10\n",
      "\n",
      "At X0         0 variables are exactly at the bounds\n",
      "\n",
      "At iterate    0    f=  4.54882D+00    |proj g|=  1.28118D-01\n",
      "\n",
      "At iterate    5    f=  4.50527D+00    |proj g|=  4.39793D-03\n",
      "\n",
      "At iterate   10    f=  4.50205D+00    |proj g|=  2.51830D-03\n",
      "\n",
      "           * * *\n",
      "\n",
      "Tit   = total number of iterations\n",
      "Tnf   = total number of function evaluations\n",
      "Tnint = total number of segments explored during Cauchy searches\n",
      "Skip  = number of BFGS updates skipped\n",
      "Nact  = number of active bounds at final generalized Cauchy point\n",
      "Projg = norm of the final projected gradient\n",
      "F     = final function value\n",
      "\n",
      "           * * *\n",
      "\n",
      "   N    Tit     Tnf  Tnint  Skip  Nact     Projg        F\n",
      "    3     13     16      1     0     0   1.109D-07   4.502D+00\n",
      "  F =   4.5020489742112790     \n",
      "\n",
      "CONVERGENCE: NORM_OF_PROJECTED_GRADIENT_<=_PGTOL            \n"
     ]
    },
    {
     "name": "stderr",
     "output_type": "stream",
     "text": [
      " This problem is unconstrained.\n"
     ]
    },
    {
     "name": "stdout",
     "output_type": "stream",
     "text": [
      "RUNNING THE L-BFGS-B CODE\n",
      "\n",
      "           * * *\n",
      "\n",
      "Machine precision = 2.220D-16\n",
      " N =            3     M =           10\n",
      "\n",
      "At X0         0 variables are exactly at the bounds\n",
      "\n",
      "At iterate    0    f=  4.55346D+00    |proj g|=  1.33379D-01\n",
      "\n",
      "At iterate    5    f=  4.51216D+00    |proj g|=  5.52048D-03\n",
      "\n",
      "At iterate   10    f=  4.50852D+00    |proj g|=  3.64793D-05\n",
      "\n",
      "At iterate   15    f=  4.50852D+00    |proj g|=  2.24141D-06\n",
      "\n",
      "           * * *\n",
      "\n",
      "Tit   = total number of iterations\n",
      "Tnf   = total number of function evaluations\n",
      "Tnint = total number of segments explored during Cauchy searches\n",
      "Skip  = number of BFGS updates skipped\n",
      "Nact  = number of active bounds at final generalized Cauchy point\n",
      "Projg = norm of the final projected gradient\n",
      "F     = final function value\n",
      "\n",
      "           * * *\n",
      "\n",
      "   N    Tit     Tnf  Tnint  Skip  Nact     Projg        F\n",
      "    3     15     18      1     0     0   2.241D-06   4.509D+00\n",
      "  F =   4.5085188013975417     \n",
      "\n",
      "CONVERGENCE: NORM_OF_PROJECTED_GRADIENT_<=_PGTOL            \n",
      "RUNNING THE L-BFGS-B CODE\n",
      "\n",
      "           * * *\n",
      "\n",
      "Machine precision = 2.220D-16\n",
      " N =            3     M =           10\n",
      "\n",
      "At X0         0 variables are exactly at the bounds\n",
      "\n",
      "At iterate    0    f=  4.55355D+00    |proj g|=  1.32252D-01\n",
      "\n",
      "At iterate    5    f=  4.51133D+00    |proj g|=  4.16884D-03\n",
      "\n",
      "At iterate   10    f=  4.50809D+00    |proj g|=  3.24202D-04\n"
     ]
    },
    {
     "name": "stderr",
     "output_type": "stream",
     "text": [
      " This problem is unconstrained.\n"
     ]
    },
    {
     "name": "stdout",
     "output_type": "stream",
     "text": [
      "\n",
      "At iterate   15    f=  4.50809D+00    |proj g|=  2.03289D-05\n",
      "\n",
      "           * * *\n",
      "\n",
      "Tit   = total number of iterations\n",
      "Tnf   = total number of function evaluations\n",
      "Tnint = total number of segments explored during Cauchy searches\n",
      "Skip  = number of BFGS updates skipped\n",
      "Nact  = number of active bounds at final generalized Cauchy point\n",
      "Projg = norm of the final projected gradient\n",
      "F     = final function value\n",
      "\n",
      "           * * *\n",
      "\n",
      "   N    Tit     Tnf  Tnint  Skip  Nact     Projg        F\n",
      "    3     16     20      1     0     0   1.190D-06   4.508D+00\n",
      "  F =   4.5080914011783646     \n",
      "\n",
      "CONVERGENCE: NORM_OF_PROJECTED_GRADIENT_<=_PGTOL            \n",
      "RUNNING THE L-BFGS-B CODE\n",
      "\n",
      "           * * *\n",
      "\n",
      "Machine precision = 2.220D-16\n",
      " N =            3     M =           10\n",
      "\n",
      "At X0         0 variables are exactly at the bounds\n",
      "\n",
      "At iterate    0    f=  4.55311D+00    |proj g|=  1.34021D-01\n",
      "\n",
      "At iterate    5    f=  4.51151D+00    |proj g|=  5.42936D-03\n"
     ]
    },
    {
     "name": "stderr",
     "output_type": "stream",
     "text": [
      " This problem is unconstrained.\n"
     ]
    },
    {
     "name": "stdout",
     "output_type": "stream",
     "text": [
      "\n",
      "At iterate   10    f=  4.50774D+00    |proj g|=  9.32982D-05\n",
      "\n",
      "           * * *\n",
      "\n",
      "Tit   = total number of iterations\n",
      "Tnf   = total number of function evaluations\n",
      "Tnint = total number of segments explored during Cauchy searches\n",
      "Skip  = number of BFGS updates skipped\n",
      "Nact  = number of active bounds at final generalized Cauchy point\n",
      "Projg = norm of the final projected gradient\n",
      "F     = final function value\n",
      "\n",
      "           * * *\n",
      "\n",
      "   N    Tit     Tnf  Tnint  Skip  Nact     Projg        F\n",
      "    3     14     18      1     0     0   3.976D-06   4.508D+00\n",
      "  F =   4.5077433173694921     \n",
      "\n",
      "CONVERGENCE: NORM_OF_PROJECTED_GRADIENT_<=_PGTOL            \n",
      "RUNNING THE L-BFGS-B CODE\n",
      "\n",
      "           * * *\n",
      "\n",
      "Machine precision = 2.220D-16\n",
      " N =            3     M =           10\n",
      "\n",
      "At X0         0 variables are exactly at the bounds\n",
      "\n",
      "At iterate    0    f=  4.55395D+00    |proj g|=  1.33865D-01\n",
      "\n",
      "At iterate    5    f=  4.51156D+00    |proj g|=  4.01947D-03\n"
     ]
    },
    {
     "name": "stderr",
     "output_type": "stream",
     "text": [
      " This problem is unconstrained.\n"
     ]
    },
    {
     "name": "stdout",
     "output_type": "stream",
     "text": [
      "\n",
      "At iterate   10    f=  4.50873D+00    |proj g|=  7.26801D-04\n",
      "\n",
      "           * * *\n",
      "\n",
      "Tit   = total number of iterations\n",
      "Tnf   = total number of function evaluations\n",
      "Tnint = total number of segments explored during Cauchy searches\n",
      "Skip  = number of BFGS updates skipped\n",
      "Nact  = number of active bounds at final generalized Cauchy point\n",
      "Projg = norm of the final projected gradient\n",
      "F     = final function value\n",
      "\n",
      "           * * *\n",
      "\n",
      "   N    Tit     Tnf  Tnint  Skip  Nact     Projg        F\n",
      "    3     14     17      1     0     0   8.142D-06   4.509D+00\n",
      "  F =   4.5087239563798258     \n",
      "\n",
      "CONVERGENCE: NORM_OF_PROJECTED_GRADIENT_<=_PGTOL            \n",
      "RUNNING THE L-BFGS-B CODE\n",
      "\n",
      "           * * *\n",
      "\n",
      "Machine precision = 2.220D-16\n",
      " N =            3     M =           10\n",
      "\n",
      "At X0         0 variables are exactly at the bounds\n",
      "\n",
      "At iterate    0    f=  4.55334D+00    |proj g|=  1.34287D-01\n",
      "\n",
      "At iterate    5    f=  4.51103D+00    |proj g|=  4.04212D-03\n"
     ]
    },
    {
     "name": "stderr",
     "output_type": "stream",
     "text": [
      " This problem is unconstrained.\n"
     ]
    },
    {
     "name": "stdout",
     "output_type": "stream",
     "text": [
      "\n",
      "At iterate   10    f=  4.50814D+00    |proj g|=  5.23825D-04\n",
      "\n",
      "At iterate   15    f=  4.50814D+00    |proj g|=  3.37064D-07\n",
      "\n",
      "           * * *\n",
      "\n",
      "Tit   = total number of iterations\n",
      "Tnf   = total number of function evaluations\n",
      "Tnint = total number of segments explored during Cauchy searches\n",
      "Skip  = number of BFGS updates skipped\n",
      "Nact  = number of active bounds at final generalized Cauchy point\n",
      "Projg = norm of the final projected gradient\n",
      "F     = final function value\n",
      "\n",
      "           * * *\n",
      "\n",
      "   N    Tit     Tnf  Tnint  Skip  Nact     Projg        F\n",
      "    3     15     18      1     0     0   3.371D-07   4.508D+00\n",
      "  F =   4.5081366000151339     \n",
      "\n",
      "CONVERGENCE: NORM_OF_PROJECTED_GRADIENT_<=_PGTOL            \n",
      "RUNNING THE L-BFGS-B CODE\n",
      "\n",
      "           * * *\n",
      "\n",
      "Machine precision = 2.220D-16\n",
      " N =            3     M =           10\n",
      "\n",
      "At X0         0 variables are exactly at the bounds\n",
      "\n",
      "At iterate    0    f=  4.55259D+00    |proj g|=  1.35960D-01\n",
      "\n",
      "At iterate    5    f=  4.51212D+00    |proj g|=  4.47910D-03\n"
     ]
    },
    {
     "name": "stderr",
     "output_type": "stream",
     "text": [
      " This problem is unconstrained.\n"
     ]
    },
    {
     "name": "stdout",
     "output_type": "stream",
     "text": [
      "\n",
      "At iterate   10    f=  4.50908D+00    |proj g|=  2.03333D-03\n",
      "\n",
      "           * * *\n",
      "\n",
      "Tit   = total number of iterations\n",
      "Tnf   = total number of function evaluations\n",
      "Tnint = total number of segments explored during Cauchy searches\n",
      "Skip  = number of BFGS updates skipped\n",
      "Nact  = number of active bounds at final generalized Cauchy point\n",
      "Projg = norm of the final projected gradient\n",
      "F     = final function value\n",
      "\n",
      "           * * *\n",
      "\n",
      "   N    Tit     Tnf  Tnint  Skip  Nact     Projg        F\n",
      "    3     14     17      1     0     0   9.021D-07   4.509D+00\n",
      "  F =   4.5090720614400137     \n",
      "\n",
      "CONVERGENCE: NORM_OF_PROJECTED_GRADIENT_<=_PGTOL            \n",
      "RUNNING THE L-BFGS-B CODE\n",
      "\n",
      "           * * *\n",
      "\n",
      "Machine precision = 2.220D-16\n",
      " N =            3     M =           10\n",
      "\n",
      "At X0         0 variables are exactly at the bounds\n",
      "\n",
      "At iterate    0    f=  4.55527D+00    |proj g|=  1.30647D-01\n",
      "\n",
      "At iterate    5    f=  4.51281D+00    |proj g|=  4.22952D-03\n"
     ]
    },
    {
     "name": "stderr",
     "output_type": "stream",
     "text": [
      " This problem is unconstrained.\n"
     ]
    },
    {
     "name": "stdout",
     "output_type": "stream",
     "text": [
      "\n",
      "At iterate   10    f=  4.50948D+00    |proj g|=  2.45747D-04\n",
      "\n",
      "           * * *\n",
      "\n",
      "Tit   = total number of iterations\n",
      "Tnf   = total number of function evaluations\n",
      "Tnint = total number of segments explored during Cauchy searches\n",
      "Skip  = number of BFGS updates skipped\n",
      "Nact  = number of active bounds at final generalized Cauchy point\n",
      "Projg = norm of the final projected gradient\n",
      "F     = final function value\n",
      "\n",
      "           * * *\n",
      "\n",
      "   N    Tit     Tnf  Tnint  Skip  Nact     Projg        F\n",
      "    3     12     16      1     0     0   9.337D-05   4.509D+00\n",
      "  F =   4.5094806479288687     \n",
      "\n",
      "CONVERGENCE: REL_REDUCTION_OF_F_<=_FACTR*EPSMCH             \n",
      "RUNNING THE L-BFGS-B CODE\n",
      "\n",
      "           * * *\n",
      "\n",
      "Machine precision = 2.220D-16\n",
      " N =            3     M =           10\n",
      "\n",
      "At X0         0 variables are exactly at the bounds\n",
      "\n",
      "At iterate    0    f=  4.55614D+00    |proj g|=  1.30388D-01\n",
      "\n",
      "At iterate    5    f=  4.51334D+00    |proj g|=  4.37436D-03\n"
     ]
    },
    {
     "name": "stderr",
     "output_type": "stream",
     "text": [
      " This problem is unconstrained.\n"
     ]
    },
    {
     "name": "stdout",
     "output_type": "stream",
     "text": [
      "\n",
      "At iterate   10    f=  4.50988D+00    |proj g|=  1.74625D-04\n",
      "\n",
      "           * * *\n",
      "\n",
      "Tit   = total number of iterations\n",
      "Tnf   = total number of function evaluations\n",
      "Tnint = total number of segments explored during Cauchy searches\n",
      "Skip  = number of BFGS updates skipped\n",
      "Nact  = number of active bounds at final generalized Cauchy point\n",
      "Projg = norm of the final projected gradient\n",
      "F     = final function value\n",
      "\n",
      "           * * *\n",
      "\n",
      "   N    Tit     Tnf  Tnint  Skip  Nact     Projg        F\n",
      "    3     14     18      1     0     0   1.040D-06   4.510D+00\n",
      "  F =   4.5098794550337340     \n",
      "\n",
      "CONVERGENCE: NORM_OF_PROJECTED_GRADIENT_<=_PGTOL            \n",
      "RUNNING THE L-BFGS-B CODE\n",
      "\n",
      "           * * *\n",
      "\n",
      "Machine precision = 2.220D-16\n",
      " N =            3     M =           10\n",
      "\n",
      "At X0         0 variables are exactly at the bounds\n",
      "\n",
      "At iterate    0    f=  4.55589D+00    |proj g|=  1.30603D-01\n",
      "\n",
      "At iterate    5    f=  4.51315D+00    |proj g|=  4.34890D-03\n"
     ]
    },
    {
     "name": "stderr",
     "output_type": "stream",
     "text": [
      " This problem is unconstrained.\n"
     ]
    },
    {
     "name": "stdout",
     "output_type": "stream",
     "text": [
      "\n",
      "At iterate   10    f=  4.50976D+00    |proj g|=  4.10944D-04\n",
      "\n",
      "           * * *\n",
      "\n",
      "Tit   = total number of iterations\n",
      "Tnf   = total number of function evaluations\n",
      "Tnint = total number of segments explored during Cauchy searches\n",
      "Skip  = number of BFGS updates skipped\n",
      "Nact  = number of active bounds at final generalized Cauchy point\n",
      "Projg = norm of the final projected gradient\n",
      "F     = final function value\n",
      "\n",
      "           * * *\n",
      "\n",
      "   N    Tit     Tnf  Tnint  Skip  Nact     Projg        F\n",
      "    3     14     18      1     0     0   2.271D-06   4.510D+00\n",
      "  F =   4.5097574025382858     \n",
      "\n",
      "CONVERGENCE: NORM_OF_PROJECTED_GRADIENT_<=_PGTOL            \n",
      "RUNNING THE L-BFGS-B CODE\n",
      "\n",
      "           * * *\n",
      "\n",
      "Machine precision = 2.220D-16\n",
      " N =            3     M =           10\n",
      "\n",
      "At X0         0 variables are exactly at the bounds\n",
      "\n",
      "At iterate    0    f=  4.55697D+00    |proj g|=  1.29826D-01\n",
      "\n",
      "At iterate    5    f=  4.51461D+00    |proj g|=  4.68003D-03\n"
     ]
    },
    {
     "name": "stderr",
     "output_type": "stream",
     "text": [
      " This problem is unconstrained.\n"
     ]
    },
    {
     "name": "stdout",
     "output_type": "stream",
     "text": [
      "\n",
      "At iterate   10    f=  4.51080D+00    |proj g|=  1.85089D-05\n",
      "\n",
      "           * * *\n",
      "\n",
      "Tit   = total number of iterations\n",
      "Tnf   = total number of function evaluations\n",
      "Tnint = total number of segments explored during Cauchy searches\n",
      "Skip  = number of BFGS updates skipped\n",
      "Nact  = number of active bounds at final generalized Cauchy point\n",
      "Projg = norm of the final projected gradient\n",
      "F     = final function value\n",
      "\n",
      "           * * *\n",
      "\n",
      "   N    Tit     Tnf  Tnint  Skip  Nact     Projg        F\n",
      "    3     11     15      1     0     0   1.221D-06   4.511D+00\n",
      "  F =   4.5108046618659223     \n",
      "\n",
      "CONVERGENCE: NORM_OF_PROJECTED_GRADIENT_<=_PGTOL            \n",
      "RUNNING THE L-BFGS-B CODE\n",
      "\n",
      "           * * *\n",
      "\n",
      "Machine precision = 2.220D-16\n",
      " N =            3     M =           10\n",
      "\n",
      "At X0         0 variables are exactly at the bounds\n",
      "\n",
      "At iterate    0    f=  4.55921D+00    |proj g|=  1.28063D-01\n",
      "\n",
      "At iterate    5    f=  4.51673D+00    |proj g|=  5.33567D-03\n"
     ]
    },
    {
     "name": "stderr",
     "output_type": "stream",
     "text": [
      " This problem is unconstrained.\n"
     ]
    },
    {
     "name": "stdout",
     "output_type": "stream",
     "text": [
      "\n",
      "At iterate   10    f=  4.51202D+00    |proj g|=  9.16283D-05\n",
      "\n",
      "           * * *\n",
      "\n",
      "Tit   = total number of iterations\n",
      "Tnf   = total number of function evaluations\n",
      "Tnint = total number of segments explored during Cauchy searches\n",
      "Skip  = number of BFGS updates skipped\n",
      "Nact  = number of active bounds at final generalized Cauchy point\n",
      "Projg = norm of the final projected gradient\n",
      "F     = final function value\n",
      "\n",
      "           * * *\n",
      "\n",
      "   N    Tit     Tnf  Tnint  Skip  Nact     Projg        F\n",
      "    3     12     16      1     0     0   7.247D-06   4.512D+00\n",
      "  F =   4.5120221821728634     \n",
      "\n",
      "CONVERGENCE: NORM_OF_PROJECTED_GRADIENT_<=_PGTOL            \n",
      "RUNNING THE L-BFGS-B CODE\n",
      "\n",
      "           * * *\n",
      "\n",
      "Machine precision = 2.220D-16\n",
      " N =            3     M =           10\n",
      "\n",
      "At X0         0 variables are exactly at the bounds\n",
      "\n",
      "At iterate    0    f=  4.56065D+00    |proj g|=  1.29249D-01\n",
      "\n",
      "At iterate    5    f=  4.51770D+00    |proj g|=  5.29024D-03\n"
     ]
    },
    {
     "name": "stderr",
     "output_type": "stream",
     "text": [
      " This problem is unconstrained.\n"
     ]
    },
    {
     "name": "stdout",
     "output_type": "stream",
     "text": [
      "\n",
      "At iterate   10    f=  4.51325D+00    |proj g|=  2.65321D-04\n",
      "\n",
      "           * * *\n",
      "\n",
      "Tit   = total number of iterations\n",
      "Tnf   = total number of function evaluations\n",
      "Tnint = total number of segments explored during Cauchy searches\n",
      "Skip  = number of BFGS updates skipped\n",
      "Nact  = number of active bounds at final generalized Cauchy point\n",
      "Projg = norm of the final projected gradient\n",
      "F     = final function value\n",
      "\n",
      "           * * *\n",
      "\n",
      "   N    Tit     Tnf  Tnint  Skip  Nact     Projg        F\n",
      "    3     12     16      1     0     0   1.824D-07   4.513D+00\n",
      "  F =   4.5132487955874350     \n",
      "\n",
      "CONVERGENCE: NORM_OF_PROJECTED_GRADIENT_<=_PGTOL            \n",
      "RUNNING THE L-BFGS-B CODE\n",
      "\n",
      "           * * *\n",
      "\n",
      "Machine precision = 2.220D-16\n",
      " N =            3     M =           10\n",
      "\n",
      "At X0         0 variables are exactly at the bounds\n",
      "\n",
      "At iterate    0    f=  4.56311D+00    |proj g|=  1.28951D-01\n",
      "\n",
      "At iterate    5    f=  4.52040D+00    |proj g|=  6.23529D-03\n"
     ]
    },
    {
     "name": "stderr",
     "output_type": "stream",
     "text": [
      " This problem is unconstrained.\n"
     ]
    },
    {
     "name": "stdout",
     "output_type": "stream",
     "text": [
      "\n",
      "At iterate   10    f=  4.51550D+00    |proj g|=  1.52810D-04\n",
      "\n",
      "At iterate   15    f=  4.51550D+00    |proj g|=  4.86606D-06\n",
      "\n",
      "           * * *\n",
      "\n",
      "Tit   = total number of iterations\n",
      "Tnf   = total number of function evaluations\n",
      "Tnint = total number of segments explored during Cauchy searches\n",
      "Skip  = number of BFGS updates skipped\n",
      "Nact  = number of active bounds at final generalized Cauchy point\n",
      "Projg = norm of the final projected gradient\n",
      "F     = final function value\n",
      "\n",
      "           * * *\n",
      "\n",
      "   N    Tit     Tnf  Tnint  Skip  Nact     Projg        F\n",
      "    3     15     18      1     0     0   4.866D-06   4.515D+00\n",
      "  F =   4.5154992768752829     \n",
      "\n",
      "CONVERGENCE: NORM_OF_PROJECTED_GRADIENT_<=_PGTOL            \n",
      "RUNNING THE L-BFGS-B CODE\n",
      "\n",
      "           * * *\n",
      "\n",
      "Machine precision = 2.220D-16\n",
      " N =            3     M =           10\n",
      "\n",
      "At X0         0 variables are exactly at the bounds\n",
      "\n",
      "At iterate    0    f=  4.56407D+00    |proj g|=  1.27192D-01\n",
      "\n",
      "At iterate    5    f=  4.52116D+00    |proj g|=  6.27610D-03\n"
     ]
    },
    {
     "name": "stderr",
     "output_type": "stream",
     "text": [
      " This problem is unconstrained.\n"
     ]
    },
    {
     "name": "stdout",
     "output_type": "stream",
     "text": [
      "\n",
      "At iterate   10    f=  4.51565D+00    |proj g|=  1.63525D-03\n",
      "\n",
      "At iterate   15    f=  4.51565D+00    |proj g|=  4.91926D-06\n",
      "\n",
      "           * * *\n",
      "\n",
      "Tit   = total number of iterations\n",
      "Tnf   = total number of function evaluations\n",
      "Tnint = total number of segments explored during Cauchy searches\n",
      "Skip  = number of BFGS updates skipped\n",
      "Nact  = number of active bounds at final generalized Cauchy point\n",
      "Projg = norm of the final projected gradient\n",
      "F     = final function value\n",
      "\n",
      "           * * *\n",
      "\n",
      "   N    Tit     Tnf  Tnint  Skip  Nact     Projg        F\n",
      "    3     15     19      1     0     0   4.919D-06   4.516D+00\n",
      "  F =   4.5156499392660212     \n",
      "\n",
      "CONVERGENCE: NORM_OF_PROJECTED_GRADIENT_<=_PGTOL            \n",
      "RUNNING THE L-BFGS-B CODE\n",
      "\n",
      "           * * *\n",
      "\n",
      "Machine precision = 2.220D-16\n",
      " N =            3     M =           10\n",
      "\n",
      "At X0         0 variables are exactly at the bounds\n",
      "\n",
      "At iterate    0    f=  4.56459D+00    |proj g|=  1.27738D-01\n",
      "\n",
      "At iterate    5    f=  4.52158D+00    |proj g|=  6.56898D-03\n"
     ]
    },
    {
     "name": "stderr",
     "output_type": "stream",
     "text": [
      " This problem is unconstrained.\n",
      " This problem is unconstrained.\n"
     ]
    },
    {
     "name": "stdout",
     "output_type": "stream",
     "text": [
      "\n",
      "           * * *\n",
      "\n",
      "Tit   = total number of iterations\n",
      "Tnf   = total number of function evaluations\n",
      "Tnint = total number of segments explored during Cauchy searches\n",
      "Skip  = number of BFGS updates skipped\n",
      "Nact  = number of active bounds at final generalized Cauchy point\n",
      "Projg = norm of the final projected gradient\n",
      "F     = final function value\n",
      "\n",
      "           * * *\n",
      "\n",
      "   N    Tit     Tnf  Tnint  Skip  Nact     Projg        F\n",
      "    3      9     12      1     0     0   5.992D-06   4.517D+00\n",
      "  F =   4.5166080472790338     \n",
      "\n",
      "CONVERGENCE: NORM_OF_PROJECTED_GRADIENT_<=_PGTOL            \n",
      "RUNNING THE L-BFGS-B CODE\n",
      "\n",
      "           * * *\n",
      "\n",
      "Machine precision = 2.220D-16\n",
      " N =            3     M =           10\n",
      "\n",
      "At X0         0 variables are exactly at the bounds\n",
      "\n",
      "At iterate    0    f=  4.56410D+00    |proj g|=  1.28801D-01\n",
      "\n",
      "At iterate    5    f=  4.52113D+00    |proj g|=  6.80782D-03\n",
      "\n",
      "At iterate   10    f=  4.51661D+00    |proj g|=  3.58646D-04\n",
      "\n",
      "           * * *\n",
      "\n",
      "Tit   = total number of iterations\n",
      "Tnf   = total number of function evaluations\n",
      "Tnint = total number of segments explored during Cauchy searches\n",
      "Skip  = number of BFGS updates skipped\n",
      "Nact  = number of active bounds at final generalized Cauchy point\n",
      "Projg = norm of the final projected gradient\n",
      "F     = final function value\n",
      "\n",
      "           * * *\n",
      "\n",
      "   N    Tit     Tnf  Tnint  Skip  Nact     Projg        F\n",
      "    3     13     17      1     0     0   2.026D-06   4.517D+00\n",
      "  F =   4.5166074823871751     \n",
      "\n",
      "CONVERGENCE: NORM_OF_PROJECTED_GRADIENT_<=_PGTOL            \n",
      "RUNNING THE L-BFGS-B CODE\n",
      "\n",
      "           * * *\n",
      "\n",
      "Machine precision = 2.220D-16\n",
      " N =            3     M =           10\n",
      "\n",
      "At X0         0 variables are exactly at the bounds\n",
      "\n",
      "At iterate    0    f=  4.56702D+00    |proj g|=  1.30411D-01\n",
      "\n",
      "At iterate    5    f=  4.52469D+00    |proj g|=  3.80401D-03\n",
      "\n",
      "At iterate   10    f=  4.52190D+00    |proj g|=  6.18252D-04\n"
     ]
    },
    {
     "name": "stderr",
     "output_type": "stream",
     "text": [
      " This problem is unconstrained.\n"
     ]
    },
    {
     "name": "stdout",
     "output_type": "stream",
     "text": [
      "\n",
      "           * * *\n",
      "\n",
      "Tit   = total number of iterations\n",
      "Tnf   = total number of function evaluations\n",
      "Tnint = total number of segments explored during Cauchy searches\n",
      "Skip  = number of BFGS updates skipped\n",
      "Nact  = number of active bounds at final generalized Cauchy point\n",
      "Projg = norm of the final projected gradient\n",
      "F     = final function value\n",
      "\n",
      "           * * *\n",
      "\n",
      "   N    Tit     Tnf  Tnint  Skip  Nact     Projg        F\n",
      "    3     14     17      1     0     0   1.250D-05   4.522D+00\n",
      "  F =   4.5218943483798686     \n",
      "\n",
      "CONVERGENCE: REL_REDUCTION_OF_F_<=_FACTR*EPSMCH             \n",
      "RUNNING THE L-BFGS-B CODE\n",
      "\n",
      "           * * *\n",
      "\n",
      "Machine precision = 2.220D-16\n",
      " N =            3     M =           10\n",
      "\n",
      "At X0         0 variables are exactly at the bounds\n",
      "\n",
      "At iterate    0    f=  4.56668D+00    |proj g|=  1.30274D-01\n",
      "\n",
      "At iterate    5    f=  4.52420D+00    |proj g|=  3.89304D-03\n",
      "\n",
      "At iterate   10    f=  4.52125D+00    |proj g|=  6.27641D-04\n"
     ]
    },
    {
     "name": "stderr",
     "output_type": "stream",
     "text": [
      " This problem is unconstrained.\n"
     ]
    },
    {
     "name": "stdout",
     "output_type": "stream",
     "text": [
      "\n",
      "           * * *\n",
      "\n",
      "Tit   = total number of iterations\n",
      "Tnf   = total number of function evaluations\n",
      "Tnint = total number of segments explored during Cauchy searches\n",
      "Skip  = number of BFGS updates skipped\n",
      "Nact  = number of active bounds at final generalized Cauchy point\n",
      "Projg = norm of the final projected gradient\n",
      "F     = final function value\n",
      "\n",
      "           * * *\n",
      "\n",
      "   N    Tit     Tnf  Tnint  Skip  Nact     Projg        F\n",
      "    3     14     17      1     0     0   4.217D-06   4.521D+00\n",
      "  F =   4.5212502528052809     \n",
      "\n",
      "CONVERGENCE: NORM_OF_PROJECTED_GRADIENT_<=_PGTOL            \n",
      "RUNNING THE L-BFGS-B CODE\n",
      "\n",
      "           * * *\n",
      "\n",
      "Machine precision = 2.220D-16\n",
      " N =            3     M =           10\n",
      "\n",
      "At X0         0 variables are exactly at the bounds\n",
      "\n",
      "At iterate    0    f=  4.56665D+00    |proj g|=  1.29221D-01\n",
      "\n",
      "At iterate    5    f=  4.52432D+00    |proj g|=  4.24693D-03\n",
      "\n",
      "At iterate   10    f=  4.52115D+00    |proj g|=  2.28217D-05\n"
     ]
    },
    {
     "name": "stderr",
     "output_type": "stream",
     "text": [
      " This problem is unconstrained.\n"
     ]
    },
    {
     "name": "stdout",
     "output_type": "stream",
     "text": [
      "\n",
      "           * * *\n",
      "\n",
      "Tit   = total number of iterations\n",
      "Tnf   = total number of function evaluations\n",
      "Tnint = total number of segments explored during Cauchy searches\n",
      "Skip  = number of BFGS updates skipped\n",
      "Nact  = number of active bounds at final generalized Cauchy point\n",
      "Projg = norm of the final projected gradient\n",
      "F     = final function value\n",
      "\n",
      "           * * *\n",
      "\n",
      "   N    Tit     Tnf  Tnint  Skip  Nact     Projg        F\n",
      "    3     11     15      1     0     0   5.016D-06   4.521D+00\n",
      "  F =   4.5211494084839021     \n",
      "\n",
      "CONVERGENCE: NORM_OF_PROJECTED_GRADIENT_<=_PGTOL            \n",
      "RUNNING THE L-BFGS-B CODE\n",
      "\n",
      "           * * *\n",
      "\n",
      "Machine precision = 2.220D-16\n",
      " N =            3     M =           10\n",
      "\n",
      "At X0         0 variables are exactly at the bounds\n",
      "\n",
      "At iterate    0    f=  4.56595D+00    |proj g|=  1.30420D-01\n",
      "\n",
      "At iterate    5    f=  4.52382D+00    |proj g|=  4.18942D-03\n"
     ]
    },
    {
     "name": "stderr",
     "output_type": "stream",
     "text": [
      " This problem is unconstrained.\n"
     ]
    },
    {
     "name": "stdout",
     "output_type": "stream",
     "text": [
      "\n",
      "At iterate   10    f=  4.52066D+00    |proj g|=  2.42163D-05\n",
      "\n",
      "           * * *\n",
      "\n",
      "Tit   = total number of iterations\n",
      "Tnf   = total number of function evaluations\n",
      "Tnint = total number of segments explored during Cauchy searches\n",
      "Skip  = number of BFGS updates skipped\n",
      "Nact  = number of active bounds at final generalized Cauchy point\n",
      "Projg = norm of the final projected gradient\n",
      "F     = final function value\n",
      "\n",
      "           * * *\n",
      "\n",
      "   N    Tit     Tnf  Tnint  Skip  Nact     Projg        F\n",
      "    3     11     15      1     0     0   4.217D-06   4.521D+00\n",
      "  F =   4.5206645304857718     \n",
      "\n",
      "CONVERGENCE: NORM_OF_PROJECTED_GRADIENT_<=_PGTOL            \n",
      "RUNNING THE L-BFGS-B CODE\n",
      "\n",
      "           * * *\n",
      "\n",
      "Machine precision = 2.220D-16\n",
      " N =            3     M =           10\n",
      "\n",
      "At X0         0 variables are exactly at the bounds\n",
      "\n",
      "At iterate    0    f=  4.57254D+00    |proj g|=  1.25603D-01\n",
      "\n",
      "At iterate    5    f=  4.53224D+00    |proj g|=  6.91830D-03\n"
     ]
    },
    {
     "name": "stderr",
     "output_type": "stream",
     "text": [
      " This problem is unconstrained.\n"
     ]
    },
    {
     "name": "stdout",
     "output_type": "stream",
     "text": [
      "\n",
      "At iterate   10    f=  4.52862D+00    |proj g|=  1.92429D-05\n",
      "\n",
      "           * * *\n",
      "\n",
      "Tit   = total number of iterations\n",
      "Tnf   = total number of function evaluations\n",
      "Tnint = total number of segments explored during Cauchy searches\n",
      "Skip  = number of BFGS updates skipped\n",
      "Nact  = number of active bounds at final generalized Cauchy point\n",
      "Projg = norm of the final projected gradient\n",
      "F     = final function value\n",
      "\n",
      "           * * *\n",
      "\n",
      "   N    Tit     Tnf  Tnint  Skip  Nact     Projg        F\n",
      "    3     12     17      1     0     0   2.020D-06   4.529D+00\n",
      "  F =   4.5286196338554188     \n",
      "\n",
      "CONVERGENCE: NORM_OF_PROJECTED_GRADIENT_<=_PGTOL            \n",
      "RUNNING THE L-BFGS-B CODE\n",
      "\n",
      "           * * *\n",
      "\n",
      "Machine precision = 2.220D-16\n",
      " N =            3     M =           10\n",
      "\n",
      "At X0         0 variables are exactly at the bounds\n",
      "\n",
      "At iterate    0    f=  4.57170D+00    |proj g|=  1.25812D-01\n",
      "\n",
      "At iterate    5    f=  4.53165D+00    |proj g|=  6.89813D-03\n"
     ]
    },
    {
     "name": "stderr",
     "output_type": "stream",
     "text": [
      " This problem is unconstrained.\n"
     ]
    },
    {
     "name": "stdout",
     "output_type": "stream",
     "text": [
      "\n",
      "At iterate   10    f=  4.52815D+00    |proj g|=  6.27374D-05\n",
      "\n",
      "           * * *\n",
      "\n",
      "Tit   = total number of iterations\n",
      "Tnf   = total number of function evaluations\n",
      "Tnint = total number of segments explored during Cauchy searches\n",
      "Skip  = number of BFGS updates skipped\n",
      "Nact  = number of active bounds at final generalized Cauchy point\n",
      "Projg = norm of the final projected gradient\n",
      "F     = final function value\n",
      "\n",
      "           * * *\n",
      "\n",
      "   N    Tit     Tnf  Tnint  Skip  Nact     Projg        F\n",
      "    3     12     16      1     0     0   3.643D-05   4.528D+00\n",
      "  F =   4.5281529732561143     \n",
      "\n",
      "CONVERGENCE: REL_REDUCTION_OF_F_<=_FACTR*EPSMCH             \n",
      "RUNNING THE L-BFGS-B CODE\n",
      "\n",
      "           * * *\n",
      "\n",
      "Machine precision = 2.220D-16\n",
      " N =            3     M =           10\n",
      "\n",
      "At X0         0 variables are exactly at the bounds\n",
      "\n",
      "At iterate    0    f=  4.57112D+00    |proj g|=  1.27987D-01\n",
      "\n",
      "At iterate    5    f=  4.53075D+00    |proj g|=  4.63733D-03\n"
     ]
    },
    {
     "name": "stderr",
     "output_type": "stream",
     "text": [
      " This problem is unconstrained.\n"
     ]
    },
    {
     "name": "stdout",
     "output_type": "stream",
     "text": [
      "\n",
      "At iterate   10    f=  4.52772D+00    |proj g|=  2.63931D-04\n",
      "\n",
      "           * * *\n",
      "\n",
      "Tit   = total number of iterations\n",
      "Tnf   = total number of function evaluations\n",
      "Tnint = total number of segments explored during Cauchy searches\n",
      "Skip  = number of BFGS updates skipped\n",
      "Nact  = number of active bounds at final generalized Cauchy point\n",
      "Projg = norm of the final projected gradient\n",
      "F     = final function value\n",
      "\n",
      "           * * *\n",
      "\n",
      "   N    Tit     Tnf  Tnint  Skip  Nact     Projg        F\n",
      "    3     14     18      1     0     0   3.994D-06   4.528D+00\n",
      "  F =   4.5277146970814188     \n",
      "\n",
      "CONVERGENCE: NORM_OF_PROJECTED_GRADIENT_<=_PGTOL            \n",
      "RUNNING THE L-BFGS-B CODE\n",
      "\n",
      "           * * *\n",
      "\n",
      "Machine precision = 2.220D-16\n",
      " N =            3     M =           10\n",
      "\n",
      "At X0         0 variables are exactly at the bounds\n",
      "\n",
      "At iterate    0    f=  4.57170D+00    |proj g|=  1.26954D-01\n",
      "\n",
      "At iterate    5    f=  4.53118D+00    |proj g|=  6.93699D-03\n"
     ]
    },
    {
     "name": "stderr",
     "output_type": "stream",
     "text": [
      " This problem is unconstrained.\n"
     ]
    },
    {
     "name": "stdout",
     "output_type": "stream",
     "text": [
      "\n",
      "At iterate   10    f=  4.52755D+00    |proj g|=  6.51608D-05\n",
      "\n",
      "           * * *\n",
      "\n",
      "Tit   = total number of iterations\n",
      "Tnf   = total number of function evaluations\n",
      "Tnint = total number of segments explored during Cauchy searches\n",
      "Skip  = number of BFGS updates skipped\n",
      "Nact  = number of active bounds at final generalized Cauchy point\n",
      "Projg = norm of the final projected gradient\n",
      "F     = final function value\n",
      "\n",
      "           * * *\n",
      "\n",
      "   N    Tit     Tnf  Tnint  Skip  Nact     Projg        F\n",
      "    3     12     17      1     0     0   8.259D-05   4.528D+00\n",
      "  F =   4.5275457806216268     \n",
      "\n",
      "CONVERGENCE: REL_REDUCTION_OF_F_<=_FACTR*EPSMCH             \n",
      "RUNNING THE L-BFGS-B CODE\n",
      "\n",
      "           * * *\n",
      "\n",
      "Machine precision = 2.220D-16\n",
      " N =            3     M =           10\n",
      "\n",
      "At X0         0 variables are exactly at the bounds\n",
      "\n",
      "At iterate    0    f=  4.57132D+00    |proj g|=  1.26926D-01\n",
      "\n",
      "At iterate    5    f=  4.53082D+00    |proj g|=  7.37764D-03\n"
     ]
    },
    {
     "name": "stderr",
     "output_type": "stream",
     "text": [
      " This problem is unconstrained.\n"
     ]
    },
    {
     "name": "stdout",
     "output_type": "stream",
     "text": [
      "\n",
      "At iterate   10    f=  4.52704D+00    |proj g|=  8.24450D-05\n",
      "\n",
      "           * * *\n",
      "\n",
      "Tit   = total number of iterations\n",
      "Tnf   = total number of function evaluations\n",
      "Tnint = total number of segments explored during Cauchy searches\n",
      "Skip  = number of BFGS updates skipped\n",
      "Nact  = number of active bounds at final generalized Cauchy point\n",
      "Projg = norm of the final projected gradient\n",
      "F     = final function value\n",
      "\n",
      "           * * *\n",
      "\n",
      "   N    Tit     Tnf  Tnint  Skip  Nact     Projg        F\n",
      "    3     13     17      1     0     0   8.003D-06   4.527D+00\n",
      "  F =   4.5270386634993818     \n",
      "\n",
      "CONVERGENCE: NORM_OF_PROJECTED_GRADIENT_<=_PGTOL            \n",
      "RUNNING THE L-BFGS-B CODE\n",
      "\n",
      "           * * *\n",
      "\n",
      "Machine precision = 2.220D-16\n",
      " N =            3     M =           10\n",
      "\n",
      "At X0         0 variables are exactly at the bounds\n",
      "\n",
      "At iterate    0    f=  4.57286D+00    |proj g|=  1.27804D-01\n",
      "\n",
      "At iterate    5    f=  4.53334D+00    |proj g|=  6.85456D-03\n"
     ]
    },
    {
     "name": "stderr",
     "output_type": "stream",
     "text": [
      " This problem is unconstrained.\n",
      " This problem is unconstrained.\n"
     ]
    },
    {
     "name": "stdout",
     "output_type": "stream",
     "text": [
      "\n",
      "At iterate   10    f=  4.53014D+00    |proj g|=  7.19851D-06\n",
      "\n",
      "           * * *\n",
      "\n",
      "Tit   = total number of iterations\n",
      "Tnf   = total number of function evaluations\n",
      "Tnint = total number of segments explored during Cauchy searches\n",
      "Skip  = number of BFGS updates skipped\n",
      "Nact  = number of active bounds at final generalized Cauchy point\n",
      "Projg = norm of the final projected gradient\n",
      "F     = final function value\n",
      "\n",
      "           * * *\n",
      "\n",
      "   N    Tit     Tnf  Tnint  Skip  Nact     Projg        F\n",
      "    3     10     14      1     0     0   7.199D-06   4.530D+00\n",
      "  F =   4.5301410405745317     \n",
      "\n",
      "CONVERGENCE: NORM_OF_PROJECTED_GRADIENT_<=_PGTOL            \n",
      "RUNNING THE L-BFGS-B CODE\n",
      "\n",
      "           * * *\n",
      "\n",
      "Machine precision = 2.220D-16\n",
      " N =            3     M =           10\n",
      "\n",
      "At X0         0 variables are exactly at the bounds\n",
      "\n",
      "At iterate    0    f=  4.57792D+00    |proj g|=  1.32761D-01\n",
      "\n",
      "At iterate    5    f=  4.53677D+00    |proj g|=  3.85251D-03\n",
      "\n",
      "At iterate   10    f=  4.53373D+00    |proj g|=  5.87719D-04\n",
      "\n",
      "At iterate   15    f=  4.53372D+00    |proj g|=  1.80025D-06\n",
      "\n",
      "           * * *\n",
      "\n",
      "Tit   = total number of iterations\n",
      "Tnf   = total number of function evaluations\n",
      "Tnint = total number of segments explored during Cauchy searches\n",
      "Skip  = number of BFGS updates skipped\n",
      "Nact  = number of active bounds at final generalized Cauchy point\n",
      "Projg = norm of the final projected gradient\n",
      "F     = final function value\n",
      "\n",
      "           * * *\n",
      "\n",
      "   N    Tit     Tnf  Tnint  Skip  Nact     Projg        F\n",
      "    3     15     18      1     0     0   1.800D-06   4.534D+00\n",
      "  F =   4.5337236171221296     \n",
      "\n",
      "CONVERGENCE: NORM_OF_PROJECTED_GRADIENT_<=_PGTOL            \n",
      "RUNNING THE L-BFGS-B CODE\n",
      "\n",
      "           * * *\n",
      "\n",
      "Machine precision = 2.220D-16\n",
      " N =            3     M =           10\n",
      "\n",
      "At X0         0 variables are exactly at the bounds\n",
      "\n",
      "At iterate    0    f=  4.57959D+00    |proj g|=  1.33124D-01\n",
      "\n",
      "At iterate    5    f=  4.53836D+00    |proj g|=  3.97879D-03\n",
      "\n",
      "At iterate   10    f=  4.53527D+00    |proj g|=  2.02217D-04\n"
     ]
    },
    {
     "name": "stderr",
     "output_type": "stream",
     "text": [
      " This problem is unconstrained.\n"
     ]
    },
    {
     "name": "stdout",
     "output_type": "stream",
     "text": [
      "\n",
      "At iterate   15    f=  4.53527D+00    |proj g|=  3.51612D-06\n",
      "\n",
      "           * * *\n",
      "\n",
      "Tit   = total number of iterations\n",
      "Tnf   = total number of function evaluations\n",
      "Tnint = total number of segments explored during Cauchy searches\n",
      "Skip  = number of BFGS updates skipped\n",
      "Nact  = number of active bounds at final generalized Cauchy point\n",
      "Projg = norm of the final projected gradient\n",
      "F     = final function value\n",
      "\n",
      "           * * *\n",
      "\n",
      "   N    Tit     Tnf  Tnint  Skip  Nact     Projg        F\n",
      "    3     15     18      1     0     0   3.516D-06   4.535D+00\n",
      "  F =   4.5352720327916307     \n",
      "\n",
      "CONVERGENCE: NORM_OF_PROJECTED_GRADIENT_<=_PGTOL            \n",
      "RUNNING THE L-BFGS-B CODE\n",
      "\n",
      "           * * *\n",
      "\n",
      "Machine precision = 2.220D-16\n",
      " N =            3     M =           10\n",
      "\n",
      "At X0         0 variables are exactly at the bounds\n",
      "\n",
      "At iterate    0    f=  4.57929D+00    |proj g|=  1.31800D-01\n",
      "\n",
      "At iterate    5    f=  4.53749D+00    |proj g|=  3.82918D-03\n",
      "\n",
      "           * * *\n",
      "\n",
      "Tit   = total number of iterations\n",
      "Tnf   = total number of function evaluations\n",
      "Tnint = total number of segments explored during Cauchy searches\n",
      "Skip  = number of BFGS updates skipped\n",
      "Nact  = number of active bounds at final generalized Cauchy point\n",
      "Projg = norm of the final projected gradient\n",
      "F     = final function value\n",
      "\n",
      "           * * *\n",
      "\n",
      "   N    Tit     Tnf  Tnint  Skip  Nact     Projg        F\n",
      "    3      9     12      1     0     0   2.356D-07   4.535D+00\n",
      "  F =   4.5346178670679604     \n",
      "\n",
      "CONVERGENCE: NORM_OF_PROJECTED_GRADIENT_<=_PGTOL            \n"
     ]
    },
    {
     "name": "stderr",
     "output_type": "stream",
     "text": [
      " This problem is unconstrained.\n",
      " This problem is unconstrained.\n"
     ]
    },
    {
     "name": "stdout",
     "output_type": "stream",
     "text": [
      "RUNNING THE L-BFGS-B CODE\n",
      "\n",
      "           * * *\n",
      "\n",
      "Machine precision = 2.220D-16\n",
      " N =            3     M =           10\n",
      "\n",
      "At X0         0 variables are exactly at the bounds\n",
      "\n",
      "At iterate    0    f=  4.58089D+00    |proj g|=  1.30548D-01\n",
      "\n",
      "At iterate    5    f=  4.53841D+00    |proj g|=  3.90758D-03\n",
      "\n",
      "At iterate   10    f=  4.53538D+00    |proj g|=  3.34566D-05\n",
      "\n",
      "           * * *\n",
      "\n",
      "Tit   = total number of iterations\n",
      "Tnf   = total number of function evaluations\n",
      "Tnint = total number of segments explored during Cauchy searches\n",
      "Skip  = number of BFGS updates skipped\n",
      "Nact  = number of active bounds at final generalized Cauchy point\n",
      "Projg = norm of the final projected gradient\n",
      "F     = final function value\n",
      "\n",
      "           * * *\n",
      "\n",
      "   N    Tit     Tnf  Tnint  Skip  Nact     Projg        F\n",
      "    3     12     16      1     0     0   3.212D-05   4.535D+00\n",
      "  F =   4.5353751043021662     \n",
      "\n",
      "CONVERGENCE: REL_REDUCTION_OF_F_<=_FACTR*EPSMCH             \n"
     ]
    },
    {
     "name": "stderr",
     "output_type": "stream",
     "text": [
      " This problem is unconstrained.\n"
     ]
    },
    {
     "name": "stdout",
     "output_type": "stream",
     "text": [
      "RUNNING THE L-BFGS-B CODE\n",
      "\n",
      "           * * *\n",
      "\n",
      "Machine precision = 2.220D-16\n",
      " N =            3     M =           10\n",
      "\n",
      "At X0         0 variables are exactly at the bounds\n",
      "\n",
      "At iterate    0    f=  4.58276D+00    |proj g|=  1.30166D-01\n",
      "\n",
      "At iterate    5    f=  4.54047D+00    |proj g|=  4.11469D-03\n",
      "\n",
      "At iterate   10    f=  4.53721D+00    |proj g|=  1.05478D-03\n",
      "\n",
      "           * * *\n",
      "\n",
      "Tit   = total number of iterations\n",
      "Tnf   = total number of function evaluations\n",
      "Tnint = total number of segments explored during Cauchy searches\n",
      "Skip  = number of BFGS updates skipped\n",
      "Nact  = number of active bounds at final generalized Cauchy point\n",
      "Projg = norm of the final projected gradient\n",
      "F     = final function value\n",
      "\n",
      "           * * *\n",
      "\n",
      "   N    Tit     Tnf  Tnint  Skip  Nact     Projg        F\n",
      "    3     12     15      1     0     0   1.648D-07   4.537D+00\n",
      "  F =   4.5372100804701256     \n",
      "\n",
      "CONVERGENCE: NORM_OF_PROJECTED_GRADIENT_<=_PGTOL            \n"
     ]
    },
    {
     "name": "stderr",
     "output_type": "stream",
     "text": [
      " This problem is unconstrained.\n"
     ]
    },
    {
     "name": "stdout",
     "output_type": "stream",
     "text": [
      "RUNNING THE L-BFGS-B CODE\n",
      "\n",
      "           * * *\n",
      "\n",
      "Machine precision = 2.220D-16\n",
      " N =            3     M =           10\n",
      "\n",
      "At X0         0 variables are exactly at the bounds\n",
      "\n",
      "At iterate    0    f=  4.58201D+00    |proj g|=  1.30312D-01\n",
      "\n",
      "At iterate    5    f=  4.53988D+00    |proj g|=  4.16192D-03\n",
      "\n",
      "At iterate   10    f=  4.53655D+00    |proj g|=  9.02152D-04\n",
      "\n",
      "           * * *\n",
      "\n",
      "Tit   = total number of iterations\n",
      "Tnf   = total number of function evaluations\n",
      "Tnint = total number of segments explored during Cauchy searches\n",
      "Skip  = number of BFGS updates skipped\n",
      "Nact  = number of active bounds at final generalized Cauchy point\n",
      "Projg = norm of the final projected gradient\n",
      "F     = final function value\n",
      "\n",
      "           * * *\n",
      "\n",
      "   N    Tit     Tnf  Tnint  Skip  Nact     Projg        F\n",
      "    3     12     15      1     0     0   6.139D-07   4.537D+00\n",
      "  F =   4.5365535336402019     \n",
      "\n",
      "CONVERGENCE: NORM_OF_PROJECTED_GRADIENT_<=_PGTOL            \n",
      "RUNNING THE L-BFGS-B CODE\n",
      "\n",
      "           * * *\n",
      "\n",
      "Machine precision = 2.220D-16\n",
      " N =            3     M =           10\n",
      "\n",
      "At X0         0 variables are exactly at the bounds\n",
      "\n",
      "At iterate    0    f=  4.58200D+00    |proj g|=  1.34323D-01\n",
      "\n",
      "At iterate    5    f=  4.54187D+00    |proj g|=  5.59969D-03\n",
      "\n",
      "At iterate   10    f=  4.53751D+00    |proj g|=  2.20652D-04\n",
      "\n",
      "           * * *\n",
      "\n",
      "Tit   = total number of iterations\n",
      "Tnf   = total number of function evaluations\n",
      "Tnint = total number of segments explored during Cauchy searches\n",
      "Skip  = number of BFGS updates skipped\n",
      "Nact  = number of active bounds at final generalized Cauchy point\n",
      "Projg = norm of the final projected gradient\n",
      "F     = final function value\n",
      "\n",
      "           * * *\n",
      "\n",
      "   N    Tit     Tnf  Tnint  Skip  Nact     Projg        F\n",
      "    3     11     14      1     0     0   6.169D-06   4.538D+00\n",
      "  F =   4.5375060708534338     \n",
      "\n",
      "CONVERGENCE: NORM_OF_PROJECTED_GRADIENT_<=_PGTOL            \n"
     ]
    },
    {
     "name": "stderr",
     "output_type": "stream",
     "text": [
      " This problem is unconstrained.\n",
      " This problem is unconstrained.\n"
     ]
    },
    {
     "name": "stdout",
     "output_type": "stream",
     "text": [
      "RUNNING THE L-BFGS-B CODE\n",
      "\n",
      "           * * *\n",
      "\n",
      "Machine precision = 2.220D-16\n",
      " N =            3     M =           10\n",
      "\n",
      "At X0         0 variables are exactly at the bounds\n",
      "\n",
      "At iterate    0    f=  4.58287D+00    |proj g|=  1.32072D-01\n",
      "\n",
      "At iterate    5    f=  4.54174D+00    |proj g|=  6.38010D-03\n",
      "\n",
      "At iterate   10    f=  4.53803D+00    |proj g|=  1.21393D-03\n",
      "\n",
      "           * * *\n",
      "\n",
      "Tit   = total number of iterations\n",
      "Tnf   = total number of function evaluations\n",
      "Tnint = total number of segments explored during Cauchy searches\n",
      "Skip  = number of BFGS updates skipped\n",
      "Nact  = number of active bounds at final generalized Cauchy point\n",
      "Projg = norm of the final projected gradient\n",
      "F     = final function value\n",
      "\n",
      "           * * *\n",
      "\n",
      "   N    Tit     Tnf  Tnint  Skip  Nact     Projg        F\n",
      "    3     12     15      1     0     0   6.194D-06   4.538D+00\n",
      "  F =   4.5380275159251680     \n",
      "\n",
      "CONVERGENCE: NORM_OF_PROJECTED_GRADIENT_<=_PGTOL            \n"
     ]
    },
    {
     "name": "stderr",
     "output_type": "stream",
     "text": [
      " This problem is unconstrained.\n"
     ]
    },
    {
     "name": "stdout",
     "output_type": "stream",
     "text": [
      "RUNNING THE L-BFGS-B CODE\n",
      "\n",
      "           * * *\n",
      "\n",
      "Machine precision = 2.220D-16\n",
      " N =            3     M =           10\n",
      "\n",
      "At X0         0 variables are exactly at the bounds\n",
      "\n",
      "At iterate    0    f=  4.58223D+00    |proj g|=  1.32207D-01\n",
      "\n",
      "At iterate    5    f=  4.54118D+00    |proj g|=  6.42611D-03\n",
      "\n",
      "At iterate   10    f=  4.53748D+00    |proj g|=  1.12324D-03\n",
      "\n",
      "           * * *\n",
      "\n",
      "Tit   = total number of iterations\n",
      "Tnf   = total number of function evaluations\n",
      "Tnint = total number of segments explored during Cauchy searches\n",
      "Skip  = number of BFGS updates skipped\n",
      "Nact  = number of active bounds at final generalized Cauchy point\n",
      "Projg = norm of the final projected gradient\n",
      "F     = final function value\n",
      "\n",
      "           * * *\n",
      "\n",
      "   N    Tit     Tnf  Tnint  Skip  Nact     Projg        F\n",
      "    3     12     15      1     0     0   7.068D-06   4.537D+00\n",
      "  F =   4.5374803833409407     \n",
      "\n",
      "CONVERGENCE: NORM_OF_PROJECTED_GRADIENT_<=_PGTOL            \n"
     ]
    },
    {
     "name": "stderr",
     "output_type": "stream",
     "text": [
      " This problem is unconstrained.\n"
     ]
    },
    {
     "name": "stdout",
     "output_type": "stream",
     "text": [
      "RUNNING THE L-BFGS-B CODE\n",
      "\n",
      "           * * *\n",
      "\n",
      "Machine precision = 2.220D-16\n",
      " N =            3     M =           10\n",
      "\n",
      "At X0         0 variables are exactly at the bounds\n",
      "\n",
      "At iterate    0    f=  4.58265D+00    |proj g|=  1.34993D-01\n",
      "\n",
      "At iterate    5    f=  4.54215D+00    |proj g|=  5.12415D-03\n",
      "\n",
      "At iterate   10    f=  4.53749D+00    |proj g|=  1.22467D-03\n",
      "\n",
      "           * * *\n",
      "\n",
      "Tit   = total number of iterations\n",
      "Tnf   = total number of function evaluations\n",
      "Tnint = total number of segments explored during Cauchy searches\n",
      "Skip  = number of BFGS updates skipped\n",
      "Nact  = number of active bounds at final generalized Cauchy point\n",
      "Projg = norm of the final projected gradient\n",
      "F     = final function value\n",
      "\n",
      "           * * *\n",
      "\n",
      "   N    Tit     Tnf  Tnint  Skip  Nact     Projg        F\n",
      "    3     13     17      1     0     0   4.460D-06   4.537D+00\n",
      "  F =   4.5374836051234393     \n",
      "\n",
      "CONVERGENCE: NORM_OF_PROJECTED_GRADIENT_<=_PGTOL            \n",
      "RUNNING THE L-BFGS-B CODE\n",
      "\n",
      "           * * *\n",
      "\n",
      "Machine precision = 2.220D-16\n",
      " N =            3     M =           10\n",
      "\n",
      "At X0         0 variables are exactly at the bounds\n",
      "\n",
      "At iterate    0    f=  4.58328D+00    |proj g|=  1.33019D-01\n",
      "\n",
      "At iterate    5    f=  4.54345D+00    |proj g|=  5.87236D-03\n",
      "\n",
      "At iterate   10    f=  4.53915D+00    |proj g|=  2.76075D-03\n"
     ]
    },
    {
     "name": "stderr",
     "output_type": "stream",
     "text": [
      " This problem is unconstrained.\n"
     ]
    },
    {
     "name": "stdout",
     "output_type": "stream",
     "text": [
      "\n",
      "           * * *\n",
      "\n",
      "Tit   = total number of iterations\n",
      "Tnf   = total number of function evaluations\n",
      "Tnint = total number of segments explored during Cauchy searches\n",
      "Skip  = number of BFGS updates skipped\n",
      "Nact  = number of active bounds at final generalized Cauchy point\n",
      "Projg = norm of the final projected gradient\n",
      "F     = final function value\n",
      "\n",
      "           * * *\n",
      "\n",
      "   N    Tit     Tnf  Tnint  Skip  Nact     Projg        F\n",
      "    3     12     15      1     0     0   6.439D-06   4.539D+00\n",
      "  F =   4.5391413364953781     \n",
      "\n",
      "CONVERGENCE: NORM_OF_PROJECTED_GRADIENT_<=_PGTOL            \n",
      "RUNNING THE L-BFGS-B CODE\n",
      "\n",
      "           * * *\n",
      "\n",
      "Machine precision = 2.220D-16\n",
      " N =            3     M =           10\n",
      "\n",
      "At X0         0 variables are exactly at the bounds\n",
      "\n",
      "At iterate    0    f=  4.58276D+00    |proj g|=  1.33082D-01\n",
      "\n",
      "At iterate    5    f=  4.54339D+00    |proj g|=  5.37981D-03\n"
     ]
    },
    {
     "name": "stderr",
     "output_type": "stream",
     "text": [
      " This problem is unconstrained.\n"
     ]
    },
    {
     "name": "stdout",
     "output_type": "stream",
     "text": [
      "\n",
      "At iterate   10    f=  4.53904D+00    |proj g|=  1.63278D-03\n",
      "\n",
      "           * * *\n",
      "\n",
      "Tit   = total number of iterations\n",
      "Tnf   = total number of function evaluations\n",
      "Tnint = total number of segments explored during Cauchy searches\n",
      "Skip  = number of BFGS updates skipped\n",
      "Nact  = number of active bounds at final generalized Cauchy point\n",
      "Projg = norm of the final projected gradient\n",
      "F     = final function value\n",
      "\n",
      "           * * *\n",
      "\n",
      "   N    Tit     Tnf  Tnint  Skip  Nact     Projg        F\n",
      "    3     12     15      1     0     0   2.834D-06   4.539D+00\n",
      "  F =   4.5390366297751683     \n",
      "\n",
      "CONVERGENCE: NORM_OF_PROJECTED_GRADIENT_<=_PGTOL            \n",
      "RUNNING THE L-BFGS-B CODE\n",
      "\n",
      "           * * *\n",
      "\n",
      "Machine precision = 2.220D-16\n",
      " N =            3     M =           10\n",
      "\n",
      "At X0         0 variables are exactly at the bounds\n",
      "\n",
      "At iterate    0    f=  4.58257D+00    |proj g|=  1.33238D-01\n",
      "\n",
      "At iterate    5    f=  4.54243D+00    |proj g|=  6.37511D-03\n"
     ]
    },
    {
     "name": "stderr",
     "output_type": "stream",
     "text": [
      " This problem is unconstrained.\n"
     ]
    },
    {
     "name": "stdout",
     "output_type": "stream",
     "text": [
      "\n",
      "At iterate   10    f=  4.53843D+00    |proj g|=  2.37748D-03\n",
      "\n",
      "           * * *\n",
      "\n",
      "Tit   = total number of iterations\n",
      "Tnf   = total number of function evaluations\n",
      "Tnint = total number of segments explored during Cauchy searches\n",
      "Skip  = number of BFGS updates skipped\n",
      "Nact  = number of active bounds at final generalized Cauchy point\n",
      "Projg = norm of the final projected gradient\n",
      "F     = final function value\n",
      "\n",
      "           * * *\n",
      "\n",
      "   N    Tit     Tnf  Tnint  Skip  Nact     Projg        F\n",
      "    3     12     15      1     0     0   7.110D-06   4.538D+00\n",
      "  F =   4.5384251282499024     \n",
      "\n",
      "CONVERGENCE: NORM_OF_PROJECTED_GRADIENT_<=_PGTOL            \n",
      "RUNNING THE L-BFGS-B CODE\n",
      "\n",
      "           * * *\n",
      "\n",
      "Machine precision = 2.220D-16\n",
      " N =            3     M =           10\n",
      "\n",
      "At X0         0 variables are exactly at the bounds\n",
      "\n",
      "At iterate    0    f=  4.58286D+00    |proj g|=  1.33065D-01\n",
      "\n",
      "At iterate    5    f=  4.54157D+00    |proj g|=  6.15481D-03\n"
     ]
    },
    {
     "name": "stderr",
     "output_type": "stream",
     "text": [
      " This problem is unconstrained.\n"
     ]
    },
    {
     "name": "stdout",
     "output_type": "stream",
     "text": [
      "\n",
      "At iterate   10    f=  4.53779D+00    |proj g|=  1.30373D-03\n",
      "\n",
      "           * * *\n",
      "\n",
      "Tit   = total number of iterations\n",
      "Tnf   = total number of function evaluations\n",
      "Tnint = total number of segments explored during Cauchy searches\n",
      "Skip  = number of BFGS updates skipped\n",
      "Nact  = number of active bounds at final generalized Cauchy point\n",
      "Projg = norm of the final projected gradient\n",
      "F     = final function value\n",
      "\n",
      "           * * *\n",
      "\n",
      "   N    Tit     Tnf  Tnint  Skip  Nact     Projg        F\n",
      "    3     12     15      1     0     0   3.923D-06   4.538D+00\n",
      "  F =   4.5377868337687950     \n",
      "\n",
      "CONVERGENCE: NORM_OF_PROJECTED_GRADIENT_<=_PGTOL            \n",
      "RUNNING THE L-BFGS-B CODE\n",
      "\n",
      "           * * *\n",
      "\n",
      "Machine precision = 2.220D-16\n",
      " N =            3     M =           10\n",
      "\n",
      "At X0         0 variables are exactly at the bounds\n",
      "\n",
      "At iterate    0    f=  4.60447D+00    |proj g|=  1.28290D-01\n",
      "\n",
      "At iterate    5    f=  4.56252D+00    |proj g|=  5.06699D-03\n"
     ]
    },
    {
     "name": "stderr",
     "output_type": "stream",
     "text": [
      " This problem is unconstrained.\n"
     ]
    },
    {
     "name": "stdout",
     "output_type": "stream",
     "text": [
      "\n",
      "At iterate   10    f=  4.55903D+00    |proj g|=  1.34881D-04\n",
      "\n",
      "           * * *\n",
      "\n",
      "Tit   = total number of iterations\n",
      "Tnf   = total number of function evaluations\n",
      "Tnint = total number of segments explored during Cauchy searches\n",
      "Skip  = number of BFGS updates skipped\n",
      "Nact  = number of active bounds at final generalized Cauchy point\n",
      "Projg = norm of the final projected gradient\n",
      "F     = final function value\n",
      "\n",
      "           * * *\n",
      "\n",
      "   N    Tit     Tnf  Tnint  Skip  Nact     Projg        F\n",
      "    3     12     15      1     0     0   8.431D-07   4.559D+00\n",
      "  F =   4.5590262250215039     \n",
      "\n",
      "CONVERGENCE: NORM_OF_PROJECTED_GRADIENT_<=_PGTOL            \n",
      "RUNNING THE L-BFGS-B CODE\n",
      "\n",
      "           * * *\n",
      "\n",
      "Machine precision = 2.220D-16\n",
      " N =            3     M =           10\n",
      "\n",
      "At X0         0 variables are exactly at the bounds\n",
      "\n",
      "At iterate    0    f=  4.60358D+00    |proj g|=  1.28758D-01\n",
      "\n",
      "At iterate    5    f=  4.56201D+00    |proj g|=  5.96045D-03\n"
     ]
    },
    {
     "name": "stderr",
     "output_type": "stream",
     "text": [
      " This problem is unconstrained.\n"
     ]
    },
    {
     "name": "stdout",
     "output_type": "stream",
     "text": [
      "\n",
      "At iterate   10    f=  4.55839D+00    |proj g|=  6.05124D-04\n",
      "\n",
      "           * * *\n",
      "\n",
      "Tit   = total number of iterations\n",
      "Tnf   = total number of function evaluations\n",
      "Tnint = total number of segments explored during Cauchy searches\n",
      "Skip  = number of BFGS updates skipped\n",
      "Nact  = number of active bounds at final generalized Cauchy point\n",
      "Projg = norm of the final projected gradient\n",
      "F     = final function value\n",
      "\n",
      "           * * *\n",
      "\n",
      "   N    Tit     Tnf  Tnint  Skip  Nact     Projg        F\n",
      "    3     13     16      1     0     0   2.606D-06   4.558D+00\n",
      "  F =   4.5583910320275125     \n",
      "\n",
      "CONVERGENCE: NORM_OF_PROJECTED_GRADIENT_<=_PGTOL            \n",
      "RUNNING THE L-BFGS-B CODE\n",
      "\n",
      "           * * *\n",
      "\n",
      "Machine precision = 2.220D-16\n",
      " N =            3     M =           10\n",
      "\n",
      "At X0         0 variables are exactly at the bounds\n",
      "\n",
      "At iterate    0    f=  4.60397D+00    |proj g|=  1.29430D-01\n",
      "\n",
      "At iterate    5    f=  4.56147D+00    |proj g|=  5.44465D-03\n"
     ]
    },
    {
     "name": "stderr",
     "output_type": "stream",
     "text": [
      " This problem is unconstrained.\n",
      " This problem is unconstrained.\n"
     ]
    },
    {
     "name": "stdout",
     "output_type": "stream",
     "text": [
      "\n",
      "At iterate   10    f=  4.55776D+00    |proj g|=  2.55953D-05\n",
      "\n",
      "           * * *\n",
      "\n",
      "Tit   = total number of iterations\n",
      "Tnf   = total number of function evaluations\n",
      "Tnint = total number of segments explored during Cauchy searches\n",
      "Skip  = number of BFGS updates skipped\n",
      "Nact  = number of active bounds at final generalized Cauchy point\n",
      "Projg = norm of the final projected gradient\n",
      "F     = final function value\n",
      "\n",
      "           * * *\n",
      "\n",
      "   N    Tit     Tnf  Tnint  Skip  Nact     Projg        F\n",
      "    3     10     13      1     0     0   2.560D-05   4.558D+00\n",
      "  F =   4.5577641190401872     \n",
      "\n",
      "CONVERGENCE: REL_REDUCTION_OF_F_<=_FACTR*EPSMCH             \n",
      "RUNNING THE L-BFGS-B CODE\n",
      "\n",
      "           * * *\n",
      "\n",
      "Machine precision = 2.220D-16\n",
      " N =            3     M =           10\n",
      "\n",
      "At X0         0 variables are exactly at the bounds\n",
      "\n",
      "At iterate    0    f=  4.60340D+00    |proj g|=  1.28365D-01\n",
      "\n",
      "At iterate    5    f=  4.56096D+00    |proj g|=  4.08188D-03\n",
      "\n",
      "At iterate   10    f=  4.55731D+00    |proj g|=  4.57367D-05\n",
      "\n",
      "           * * *\n",
      "\n",
      "Tit   = total number of iterations\n",
      "Tnf   = total number of function evaluations\n",
      "Tnint = total number of segments explored during Cauchy searches\n",
      "Skip  = number of BFGS updates skipped\n",
      "Nact  = number of active bounds at final generalized Cauchy point\n",
      "Projg = norm of the final projected gradient\n",
      "F     = final function value\n",
      "\n",
      "           * * *\n",
      "\n",
      "   N    Tit     Tnf  Tnint  Skip  Nact     Projg        F\n",
      "    3     14     17      1     0     0   1.118D-06   4.557D+00\n",
      "  F =   4.5573050734396290     \n",
      "\n",
      "CONVERGENCE: NORM_OF_PROJECTED_GRADIENT_<=_PGTOL            \n",
      "RUNNING THE L-BFGS-B CODE\n",
      "\n",
      "           * * *\n",
      "\n",
      "Machine precision = 2.220D-16\n",
      " N =            3     M =           10\n",
      "\n",
      "At X0         0 variables are exactly at the bounds\n",
      "\n",
      "At iterate    0    f=  4.60362D+00    |proj g|=  1.28147D-01\n",
      "\n",
      "At iterate    5    f=  4.56141D+00    |proj g|=  4.05144D-03\n",
      "\n",
      "At iterate   10    f=  4.55779D+00    |proj g|=  1.78669D-04\n"
     ]
    },
    {
     "name": "stderr",
     "output_type": "stream",
     "text": [
      " This problem is unconstrained.\n"
     ]
    },
    {
     "name": "stdout",
     "output_type": "stream",
     "text": [
      "\n",
      "           * * *\n",
      "\n",
      "Tit   = total number of iterations\n",
      "Tnf   = total number of function evaluations\n",
      "Tnint = total number of segments explored during Cauchy searches\n",
      "Skip  = number of BFGS updates skipped\n",
      "Nact  = number of active bounds at final generalized Cauchy point\n",
      "Projg = norm of the final projected gradient\n",
      "F     = final function value\n",
      "\n",
      "           * * *\n",
      "\n",
      "   N    Tit     Tnf  Tnint  Skip  Nact     Projg        F\n",
      "    3     14     17      1     0     0   1.714D-06   4.558D+00\n",
      "  F =   4.5577839041900967     \n",
      "\n",
      "CONVERGENCE: NORM_OF_PROJECTED_GRADIENT_<=_PGTOL            \n",
      "RUNNING THE L-BFGS-B CODE\n",
      "\n",
      "           * * *\n",
      "\n",
      "Machine precision = 2.220D-16\n",
      " N =            3     M =           10\n",
      "\n",
      "At X0         0 variables are exactly at the bounds\n",
      "\n",
      "At iterate    0    f=  4.60312D+00    |proj g|=  1.28556D-01\n",
      "\n",
      "At iterate    5    f=  4.56132D+00    |proj g|=  4.84430D-03\n",
      "\n",
      "At iterate   10    f=  4.55738D+00    |proj g|=  9.64370D-05\n"
     ]
    },
    {
     "name": "stderr",
     "output_type": "stream",
     "text": [
      " This problem is unconstrained.\n"
     ]
    },
    {
     "name": "stdout",
     "output_type": "stream",
     "text": [
      "\n",
      "           * * *\n",
      "\n",
      "Tit   = total number of iterations\n",
      "Tnf   = total number of function evaluations\n",
      "Tnint = total number of segments explored during Cauchy searches\n",
      "Skip  = number of BFGS updates skipped\n",
      "Nact  = number of active bounds at final generalized Cauchy point\n",
      "Projg = norm of the final projected gradient\n",
      "F     = final function value\n",
      "\n",
      "           * * *\n",
      "\n",
      "   N    Tit     Tnf  Tnint  Skip  Nact     Projg        F\n",
      "    3     11     14      1     0     0   4.851D-06   4.557D+00\n",
      "  F =   4.5573761087884197     \n",
      "\n",
      "CONVERGENCE: NORM_OF_PROJECTED_GRADIENT_<=_PGTOL            \n",
      "RUNNING THE L-BFGS-B CODE\n",
      "\n",
      "           * * *\n",
      "\n",
      "Machine precision = 2.220D-16\n",
      " N =            3     M =           10\n",
      "\n",
      "At X0         0 variables are exactly at the bounds\n",
      "\n",
      "At iterate    0    f=  4.60206D+00    |proj g|=  1.38073D-01\n",
      "\n",
      "At iterate    5    f=  4.56480D+00    |proj g|=  1.58107D-02\n",
      "\n",
      "At iterate   10    f=  4.55855D+00    |proj g|=  1.16990D-02\n"
     ]
    },
    {
     "name": "stderr",
     "output_type": "stream",
     "text": [
      " This problem is unconstrained.\n"
     ]
    },
    {
     "name": "stdout",
     "output_type": "stream",
     "text": [
      "\n",
      "At iterate   15    f=  4.55842D+00    |proj g|=  1.32996D-06\n",
      "\n",
      "           * * *\n",
      "\n",
      "Tit   = total number of iterations\n",
      "Tnf   = total number of function evaluations\n",
      "Tnint = total number of segments explored during Cauchy searches\n",
      "Skip  = number of BFGS updates skipped\n",
      "Nact  = number of active bounds at final generalized Cauchy point\n",
      "Projg = norm of the final projected gradient\n",
      "F     = final function value\n",
      "\n",
      "           * * *\n",
      "\n",
      "   N    Tit     Tnf  Tnint  Skip  Nact     Projg        F\n",
      "    3     15     20      1     0     0   1.330D-06   4.558D+00\n",
      "  F =   4.5584178634436876     \n",
      "\n",
      "CONVERGENCE: NORM_OF_PROJECTED_GRADIENT_<=_PGTOL            \n",
      "RUNNING THE L-BFGS-B CODE\n",
      "\n",
      "           * * *\n",
      "\n",
      "Machine precision = 2.220D-16\n",
      " N =            3     M =           10\n",
      "\n",
      "At X0         0 variables are exactly at the bounds\n",
      "\n",
      "At iterate    0    f=  4.61306D+00    |proj g|=  1.33944D-01\n",
      "\n",
      "At iterate    5    f=  4.57117D+00    |proj g|=  5.46742D-03\n",
      "\n",
      "At iterate   10    f=  4.56586D+00    |proj g|=  2.04571D-03\n"
     ]
    },
    {
     "name": "stderr",
     "output_type": "stream",
     "text": [
      " This problem is unconstrained.\n"
     ]
    },
    {
     "name": "stdout",
     "output_type": "stream",
     "text": [
      "\n",
      "           * * *\n",
      "\n",
      "Tit   = total number of iterations\n",
      "Tnf   = total number of function evaluations\n",
      "Tnint = total number of segments explored during Cauchy searches\n",
      "Skip  = number of BFGS updates skipped\n",
      "Nact  = number of active bounds at final generalized Cauchy point\n",
      "Projg = norm of the final projected gradient\n",
      "F     = final function value\n",
      "\n",
      "           * * *\n",
      "\n",
      "   N    Tit     Tnf  Tnint  Skip  Nact     Projg        F\n",
      "    3     14     18      1     0     0   8.072D-07   4.566D+00\n",
      "  F =   4.5658491328243622     \n",
      "\n",
      "CONVERGENCE: NORM_OF_PROJECTED_GRADIENT_<=_PGTOL            \n",
      "RUNNING THE L-BFGS-B CODE\n",
      "\n",
      "           * * *\n",
      "\n",
      "Machine precision = 2.220D-16\n",
      " N =            3     M =           10\n",
      "\n",
      "At X0         0 variables are exactly at the bounds\n",
      "\n",
      "At iterate    0    f=  4.61295D+00    |proj g|=  1.33696D-01\n",
      "\n",
      "At iterate    5    f=  4.57014D+00    |proj g|=  6.61813D-03\n",
      "\n",
      "At iterate   10    f=  4.56521D+00    |proj g|=  2.36114D-03\n"
     ]
    },
    {
     "name": "stderr",
     "output_type": "stream",
     "text": [
      " This problem is unconstrained.\n"
     ]
    },
    {
     "name": "stdout",
     "output_type": "stream",
     "text": [
      "\n",
      "           * * *\n",
      "\n",
      "Tit   = total number of iterations\n",
      "Tnf   = total number of function evaluations\n",
      "Tnint = total number of segments explored during Cauchy searches\n",
      "Skip  = number of BFGS updates skipped\n",
      "Nact  = number of active bounds at final generalized Cauchy point\n",
      "Projg = norm of the final projected gradient\n",
      "F     = final function value\n",
      "\n",
      "           * * *\n",
      "\n",
      "   N    Tit     Tnf  Tnint  Skip  Nact     Projg        F\n",
      "    3     14     17      1     0     0   3.786D-06   4.565D+00\n",
      "  F =   4.5652049670236954     \n",
      "\n",
      "CONVERGENCE: NORM_OF_PROJECTED_GRADIENT_<=_PGTOL            \n",
      "RUNNING THE L-BFGS-B CODE\n",
      "\n",
      "           * * *\n",
      "\n",
      "Machine precision = 2.220D-16\n",
      " N =            3     M =           10\n",
      "\n",
      "At X0         0 variables are exactly at the bounds\n",
      "\n",
      "At iterate    0    f=  4.61771D+00    |proj g|=  1.34589D-01\n",
      "\n",
      "At iterate    5    f=  4.57764D+00    |proj g|=  6.44944D-03\n",
      "\n",
      "           * * *\n",
      "\n",
      "Tit   = total number of iterations\n",
      "Tnf   = total number of function evaluations\n",
      "Tnint = total number of segments explored during Cauchy searches\n",
      "Skip  = number of BFGS updates skipped\n",
      "Nact  = number of active bounds at final generalized Cauchy point\n",
      "Projg = norm of the final projected gradient\n",
      "F     = final function value\n",
      "\n",
      "           * * *\n",
      "\n",
      "   N    Tit     Tnf  Tnint  Skip  Nact     Projg        F\n",
      "    3      9     12      1     0     0   4.888D-06   4.573D+00\n",
      "  F =   4.5732134887167053     \n",
      "\n",
      "CONVERGENCE: NORM_OF_PROJECTED_GRADIENT_<=_PGTOL            \n"
     ]
    },
    {
     "name": "stderr",
     "output_type": "stream",
     "text": [
      " This problem is unconstrained.\n",
      " This problem is unconstrained.\n"
     ]
    },
    {
     "name": "stdout",
     "output_type": "stream",
     "text": [
      "RUNNING THE L-BFGS-B CODE\n",
      "\n",
      "           * * *\n",
      "\n",
      "Machine precision = 2.220D-16\n",
      " N =            3     M =           10\n",
      "\n",
      "At X0         0 variables are exactly at the bounds\n",
      "\n",
      "At iterate    0    f=  4.61756D+00    |proj g|=  1.33186D-01\n",
      "\n",
      "At iterate    5    f=  4.57633D+00    |proj g|=  4.54556D-03\n",
      "\n",
      "At iterate   10    f=  4.57274D+00    |proj g|=  1.56471D-03\n",
      "\n",
      "           * * *\n",
      "\n",
      "Tit   = total number of iterations\n",
      "Tnf   = total number of function evaluations\n",
      "Tnint = total number of segments explored during Cauchy searches\n",
      "Skip  = number of BFGS updates skipped\n",
      "Nact  = number of active bounds at final generalized Cauchy point\n",
      "Projg = norm of the final projected gradient\n",
      "F     = final function value\n",
      "\n",
      "           * * *\n",
      "\n",
      "   N    Tit     Tnf  Tnint  Skip  Nact     Projg        F\n",
      "    3     13     16      1     0     0   3.874D-06   4.573D+00\n",
      "  F =   4.5727386115707409     \n",
      "\n",
      "CONVERGENCE: NORM_OF_PROJECTED_GRADIENT_<=_PGTOL            \n"
     ]
    },
    {
     "name": "stderr",
     "output_type": "stream",
     "text": [
      " This problem is unconstrained.\n"
     ]
    },
    {
     "name": "stdout",
     "output_type": "stream",
     "text": [
      "RUNNING THE L-BFGS-B CODE\n",
      "\n",
      "           * * *\n",
      "\n",
      "Machine precision = 2.220D-16\n",
      " N =            3     M =           10\n",
      "\n",
      "At X0         0 variables are exactly at the bounds\n",
      "\n",
      "At iterate    0    f=  4.61890D+00    |proj g|=  1.35358D-01\n",
      "\n",
      "At iterate    5    f=  4.58036D+00    |proj g|=  6.19005D-03\n",
      "\n",
      "At iterate   10    f=  4.57609D+00    |proj g|=  5.33290D-04\n",
      "\n",
      "           * * *\n",
      "\n",
      "Tit   = total number of iterations\n",
      "Tnf   = total number of function evaluations\n",
      "Tnint = total number of segments explored during Cauchy searches\n",
      "Skip  = number of BFGS updates skipped\n",
      "Nact  = number of active bounds at final generalized Cauchy point\n",
      "Projg = norm of the final projected gradient\n",
      "F     = final function value\n",
      "\n",
      "           * * *\n",
      "\n",
      "   N    Tit     Tnf  Tnint  Skip  Nact     Projg        F\n",
      "    3     13     17      1     0     0   3.976D-06   4.576D+00\n",
      "  F =   4.5760873660679264     \n",
      "\n",
      "CONVERGENCE: NORM_OF_PROJECTED_GRADIENT_<=_PGTOL            \n",
      "RUNNING THE L-BFGS-B CODE\n",
      "\n",
      "           * * *\n",
      "\n",
      "Machine precision = 2.220D-16\n",
      " N =            3     M =           10\n",
      "\n",
      "At X0         0 variables are exactly at the bounds\n",
      "\n",
      "At iterate    0    f=  4.61918D+00    |proj g|=  1.30625D-01\n",
      "\n",
      "At iterate    5    f=  4.57881D+00    |proj g|=  3.85304D-03\n"
     ]
    },
    {
     "name": "stderr",
     "output_type": "stream",
     "text": [
      " This problem is unconstrained.\n"
     ]
    },
    {
     "name": "stdout",
     "output_type": "stream",
     "text": [
      "\n",
      "At iterate   10    f=  4.57561D+00    |proj g|=  6.33804D-05\n",
      "\n",
      "           * * *\n",
      "\n",
      "Tit   = total number of iterations\n",
      "Tnf   = total number of function evaluations\n",
      "Tnint = total number of segments explored during Cauchy searches\n",
      "Skip  = number of BFGS updates skipped\n",
      "Nact  = number of active bounds at final generalized Cauchy point\n",
      "Projg = norm of the final projected gradient\n",
      "F     = final function value\n",
      "\n",
      "           * * *\n",
      "\n",
      "   N    Tit     Tnf  Tnint  Skip  Nact     Projg        F\n",
      "    3     12     16      1     0     0   3.520D-05   4.576D+00\n",
      "  F =   4.5756078830601465     \n",
      "\n",
      "CONVERGENCE: REL_REDUCTION_OF_F_<=_FACTR*EPSMCH             \n",
      "RUNNING THE L-BFGS-B CODE\n",
      "\n",
      "           * * *\n",
      "\n",
      "Machine precision = 2.220D-16\n",
      " N =            3     M =           10\n",
      "\n",
      "At X0         0 variables are exactly at the bounds\n",
      "\n",
      "At iterate    0    f=  4.62030D+00    |proj g|=  1.33066D-01\n",
      "\n",
      "At iterate    5    f=  4.58120D+00    |proj g|=  6.22916D-03\n"
     ]
    },
    {
     "name": "stderr",
     "output_type": "stream",
     "text": [
      " This problem is unconstrained.\n"
     ]
    },
    {
     "name": "stdout",
     "output_type": "stream",
     "text": [
      "\n",
      "At iterate   10    f=  4.57691D+00    |proj g|=  8.87147D-04\n",
      "\n",
      "           * * *\n",
      "\n",
      "Tit   = total number of iterations\n",
      "Tnf   = total number of function evaluations\n",
      "Tnint = total number of segments explored during Cauchy searches\n",
      "Skip  = number of BFGS updates skipped\n",
      "Nact  = number of active bounds at final generalized Cauchy point\n",
      "Projg = norm of the final projected gradient\n",
      "F     = final function value\n",
      "\n",
      "           * * *\n",
      "\n",
      "   N    Tit     Tnf  Tnint  Skip  Nact     Projg        F\n",
      "    3     12     15      1     0     0   3.731D-07   4.577D+00\n",
      "  F =   4.5769108008339456     \n",
      "\n",
      "CONVERGENCE: NORM_OF_PROJECTED_GRADIENT_<=_PGTOL            \n",
      "RUNNING THE L-BFGS-B CODE\n",
      "\n",
      "           * * *\n",
      "\n",
      "Machine precision = 2.220D-16\n",
      " N =            3     M =           10\n",
      "\n",
      "At X0         0 variables are exactly at the bounds\n",
      "\n",
      "At iterate    0    f=  4.62155D+00    |proj g|=  1.32572D-01\n",
      "\n",
      "At iterate    5    f=  4.58178D+00    |proj g|=  5.61712D-03\n"
     ]
    },
    {
     "name": "stderr",
     "output_type": "stream",
     "text": [
      " This problem is unconstrained.\n"
     ]
    },
    {
     "name": "stdout",
     "output_type": "stream",
     "text": [
      "\n",
      "At iterate   10    f=  4.57775D+00    |proj g|=  3.96778D-04\n",
      "\n",
      "           * * *\n",
      "\n",
      "Tit   = total number of iterations\n",
      "Tnf   = total number of function evaluations\n",
      "Tnint = total number of segments explored during Cauchy searches\n",
      "Skip  = number of BFGS updates skipped\n",
      "Nact  = number of active bounds at final generalized Cauchy point\n",
      "Projg = norm of the final projected gradient\n",
      "F     = final function value\n",
      "\n",
      "           * * *\n",
      "\n",
      "   N    Tit     Tnf  Tnint  Skip  Nact     Projg        F\n",
      "    3     11     14      1     0     0   3.117D-06   4.578D+00\n",
      "  F =   4.5777540652428765     \n",
      "\n",
      "CONVERGENCE: NORM_OF_PROJECTED_GRADIENT_<=_PGTOL            \n",
      "RUNNING THE L-BFGS-B CODE\n",
      "\n",
      "           * * *\n",
      "\n",
      "Machine precision = 2.220D-16\n",
      " N =            3     M =           10\n",
      "\n",
      "At X0         0 variables are exactly at the bounds\n",
      "\n",
      "At iterate    0    f=  4.62303D+00    |proj g|=  1.34797D-01\n",
      "\n",
      "At iterate    5    f=  4.58347D+00    |proj g|=  4.98585D-03\n"
     ]
    },
    {
     "name": "stderr",
     "output_type": "stream",
     "text": [
      " This problem is unconstrained.\n"
     ]
    },
    {
     "name": "stdout",
     "output_type": "stream",
     "text": [
      "\n",
      "At iterate   10    f=  4.57833D+00    |proj g|=  1.08830D-03\n",
      "\n",
      "           * * *\n",
      "\n",
      "Tit   = total number of iterations\n",
      "Tnf   = total number of function evaluations\n",
      "Tnint = total number of segments explored during Cauchy searches\n",
      "Skip  = number of BFGS updates skipped\n",
      "Nact  = number of active bounds at final generalized Cauchy point\n",
      "Projg = norm of the final projected gradient\n",
      "F     = final function value\n",
      "\n",
      "           * * *\n",
      "\n",
      "   N    Tit     Tnf  Tnint  Skip  Nact     Projg        F\n",
      "    3     13     16      1     0     0   2.059D-05   4.578D+00\n",
      "  F =   4.5783252102459890     \n",
      "\n",
      "CONVERGENCE: REL_REDUCTION_OF_F_<=_FACTR*EPSMCH             \n",
      "RUNNING THE L-BFGS-B CODE\n",
      "\n",
      "           * * *\n",
      "\n",
      "Machine precision = 2.220D-16\n",
      " N =            3     M =           10\n",
      "\n",
      "At X0         0 variables are exactly at the bounds\n",
      "\n",
      "At iterate    0    f=  4.62587D+00    |proj g|=  1.35303D-01\n",
      "\n",
      "At iterate    5    f=  4.58531D+00    |proj g|=  6.58794D-03\n"
     ]
    },
    {
     "name": "stderr",
     "output_type": "stream",
     "text": [
      " This problem is unconstrained.\n"
     ]
    },
    {
     "name": "stdout",
     "output_type": "stream",
     "text": [
      "\n",
      "At iterate   10    f=  4.58095D+00    |proj g|=  2.86190D-04\n",
      "\n",
      "           * * *\n",
      "\n",
      "Tit   = total number of iterations\n",
      "Tnf   = total number of function evaluations\n",
      "Tnint = total number of segments explored during Cauchy searches\n",
      "Skip  = number of BFGS updates skipped\n",
      "Nact  = number of active bounds at final generalized Cauchy point\n",
      "Projg = norm of the final projected gradient\n",
      "F     = final function value\n",
      "\n",
      "           * * *\n",
      "\n",
      "   N    Tit     Tnf  Tnint  Skip  Nact     Projg        F\n",
      "    3     12     16      1     0     0   2.475D-05   4.581D+00\n",
      "  F =   4.5809508782938169     \n",
      "\n",
      "CONVERGENCE: REL_REDUCTION_OF_F_<=_FACTR*EPSMCH             \n",
      "RUNNING THE L-BFGS-B CODE\n",
      "\n",
      "           * * *\n",
      "\n",
      "Machine precision = 2.220D-16\n",
      " N =            3     M =           10\n",
      "\n",
      "At X0         0 variables are exactly at the bounds\n",
      "\n",
      "At iterate    0    f=  4.62578D+00    |proj g|=  1.36616D-01\n",
      "\n",
      "At iterate    5    f=  4.58520D+00    |proj g|=  6.44736D-03\n"
     ]
    },
    {
     "name": "stderr",
     "output_type": "stream",
     "text": [
      " This problem is unconstrained.\n"
     ]
    },
    {
     "name": "stdout",
     "output_type": "stream",
     "text": [
      "\n",
      "At iterate   10    f=  4.58043D+00    |proj g|=  2.65324D-04\n",
      "\n",
      "           * * *\n",
      "\n",
      "Tit   = total number of iterations\n",
      "Tnf   = total number of function evaluations\n",
      "Tnint = total number of segments explored during Cauchy searches\n",
      "Skip  = number of BFGS updates skipped\n",
      "Nact  = number of active bounds at final generalized Cauchy point\n",
      "Projg = norm of the final projected gradient\n",
      "F     = final function value\n",
      "\n",
      "           * * *\n",
      "\n",
      "   N    Tit     Tnf  Tnint  Skip  Nact     Projg        F\n",
      "    3     11     14      1     0     0   3.683D-06   4.580D+00\n",
      "  F =   4.5804337652543738     \n",
      "\n",
      "CONVERGENCE: NORM_OF_PROJECTED_GRADIENT_<=_PGTOL            \n",
      "RMSE of SARIMA Model: 39.73948207869256\n"
     ]
    }
   ],
   "source": [
    "# evaluate parameters\n",
    "import warnings\n",
    "warnings.filterwarnings('ignore')\n",
    "history = [x for x in train_data]\n",
    "predictions = list()\n",
    "conf_list = list()\n",
    "for t in range(len(test_data)):\n",
    "    model = sm.tsa.statespace.SARIMAX(history, order = (0,1,0), seasonal_order = (1,1,1,3))\n",
    "    model_fit = model.fit()\n",
    "    fc = model_fit.forecast()\n",
    "    predictions.append(fc)\n",
    "    history.append(test_data[t])\n",
    "print('RMSE of SARIMA Model:', np.sqrt(mean_squared_error(test_data, predictions)))"
   ]
  },
  {
   "cell_type": "code",
   "execution_count": 67,
   "id": "f4a6a081-851f-4308-8b10-736fb628c8a9",
   "metadata": {},
   "outputs": [],
   "source": [
    "#plt.figure(figsize=(18,8))\n",
    "#plt.title('Forecast vs Actual', fontsize = 25)\n",
    "#plt.plot(range(60), predictions, label = 'Predictions', linewidth = 4)\n",
    "#plt.plot(range(60), test_data, label = 'Close', linewidth = 4)\n",
    "#plt.legend(fontsize = 25, shadow=True,facecolor='lightpink',edgecolor = 'k')"
   ]
  },
  {
   "cell_type": "code",
   "execution_count": null,
   "id": "e2be5253-d223-4759-8658-60af0923873f",
   "metadata": {},
   "outputs": [],
   "source": []
  }
 ],
 "metadata": {
  "kernelspec": {
   "display_name": "Python 3 (ipykernel)",
   "language": "python",
   "name": "python3"
  },
  "language_info": {
   "codemirror_mode": {
    "name": "ipython",
    "version": 3
   },
   "file_extension": ".py",
   "mimetype": "text/x-python",
   "name": "python",
   "nbconvert_exporter": "python",
   "pygments_lexer": "ipython3",
   "version": "3.10.8"
  }
 },
 "nbformat": 4,
 "nbformat_minor": 5
}
