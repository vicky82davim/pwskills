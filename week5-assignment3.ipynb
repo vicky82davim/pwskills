{
 "cells": [
  {
   "cell_type": "code",
   "execution_count": 1,
   "id": "c3efc94d-7963-4fbe-b397-5aefd1ec515b",
   "metadata": {},
   "outputs": [
    {
     "data": {
      "text/plain": [
       "'\\nMultithreading is used to run same program multiple time in a single core. \\nImport threading, module is used to implement and handel threads in python.\\n'"
      ]
     },
     "execution_count": 1,
     "metadata": {},
     "output_type": "execute_result"
    }
   ],
   "source": [
    "\"\"\"\n",
    "Q1). What is multithreading in python? Why is it used? Name the module used to handle threads in python\n",
    "\"\"\"\n",
    "\n",
    "\"\"\"\n",
    "Multithreading is used to execute parallely same program multiple time in a single core. \n",
    "Import threading, module is used to implement and handel threads in python.\n",
    "\"\"\""
   ]
  },
  {
   "cell_type": "code",
   "execution_count": 2,
   "id": "83960653-3681-4047-808d-6cae5f419e76",
   "metadata": {},
   "outputs": [
    {
     "data": {
      "text/plain": [
       "'\\n1. threading.active_count(): Return the number of Thread currently alive \\n2. threading.current_thread(): Return the current thread based on caller thread of control. \\n    If caller thread of control not created then dummy thread object is returned\\n3. threading.enumerate(): Return a list of all Thread objects currently active.\\n    The list includes daemonic threads and dummy thread\\n'"
      ]
     },
     "execution_count": 2,
     "metadata": {},
     "output_type": "execute_result"
    }
   ],
   "source": [
    "\"\"\"\n",
    "Q2). Why threading module used? Write the use of the following functions\n",
    "1. activeCount()\n",
    "2. currentThread()\n",
    "3. enumerate()\n",
    "\"\"\"\n",
    "\"\"\"\n",
    "1. threading.active_count(): Return the number of Thread currently alive \n",
    "2. threading.current_thread(): Return the current thread based on caller thread of control. \n",
    "    If caller thread of control not created then dummy thread object is returned\n",
    "3. threading.enumerate(): Return a list of all Thread objects currently active.\n",
    "    The list includes daemonic threads and dummy thread\n",
    "\"\"\""
   ]
  },
  {
   "cell_type": "code",
   "execution_count": 3,
   "id": "1356a591-2a54-416d-bcf7-0c94026367f1",
   "metadata": {},
   "outputs": [
    {
     "data": {
      "text/plain": [
       "'\\n1. run(): It calls the callable object specified as value for target in Thread constructor\\n2. start(): start the thread\\n3. join(): This blocks the calling thread until the thread whose join() method is called terminates\\n4. isAlive(): Retrun whether thread is alive\\n'"
      ]
     },
     "execution_count": 3,
     "metadata": {},
     "output_type": "execute_result"
    }
   ],
   "source": [
    "\"\"\"\n",
    "Q3). Explain the following functions:\n",
    "1. run()\n",
    "2. start()\n",
    "3. join()\n",
    "4. isAlive()\n",
    "\"\"\"\n",
    "\n",
    "\"\"\"\n",
    "1. run(): It calls the callable object specified as value for target in Thread constructor\n",
    "2. start(): start the thread\n",
    "3. join(): This blocks the calling thread until the thread whose join() method is called terminates\n",
    "4. isAlive(): Retrun whether thread is alive\n",
    "\"\"\""
   ]
  },
  {
   "cell_type": "code",
   "execution_count": 15,
   "id": "194ba449-8b0f-40e3-bc2c-d41d87df1d87",
   "metadata": {},
   "outputs": [
    {
     "name": "stdout",
     "output_type": "stream",
     "text": [
      "[4, 9, 16, 25] [8, 27, 64, 125]\n"
     ]
    }
   ],
   "source": [
    "\"\"\"\n",
    "Q4). Write a python program to create two threads. Thread one must print the list of squares and thread\n",
    "two must print the list of cubes\n",
    "\"\"\"\n",
    "\n",
    "import threading\n",
    "def square(n, lis):\n",
    "    lis[n] = lis[n]**2\n",
    "\n",
    "def cube(n, lis):\n",
    "    lis[n] = lis[n]**3\n",
    "\n",
    "l1 = [2,3,4,5]\n",
    "l2 = [2,3,4,5]\n",
    "thread1 = [threading.Thread(target=square, args=(i,l1)) for i in range(len(l1))]\n",
    "thread2 = [threading.Thread(target=cube, args=(j,l2)) for j in range(len(l2))]\n",
    "\n",
    "\n",
    "for t in thread1:\n",
    "    t.start()\n",
    "    t.join()\n",
    "\n",
    "for k in thread2:\n",
    "    k.start()\n",
    "    k.join()\n",
    "print(l1, l2)\n"
   ]
  },
  {
   "cell_type": "code",
   "execution_count": 4,
   "id": "36129465-71be-4204-8067-f77647fbf654",
   "metadata": {},
   "outputs": [
    {
     "data": {
      "text/plain": [
       "'\\nAdvantage:\\n    1. Enhanced performance\\n    2. Simultaneous and parallelized occurrence of tasks\\n    3. Better use of CPU resource\\nDisadvantage:\\n    1. Complex debugging and testing processes\\n    2. Overhead switching of context\\n    3. Increased potential for deadlock occurrence\\n    4. Unpredictable results\\n'"
      ]
     },
     "execution_count": 4,
     "metadata": {},
     "output_type": "execute_result"
    }
   ],
   "source": [
    "\"\"\"\n",
    "Q5). State advantages and disadvantages of multithreading\n",
    "\"\"\"\n",
    "\n",
    "\"\"\"\n",
    "Advantage:\n",
    "    1. Enhanced performance\n",
    "    2. Simultaneous and parallelized occurrence of tasks\n",
    "    3. Better use of CPU resource\n",
    "Disadvantage:\n",
    "    1. Complex debugging and testing processes\n",
    "    2. Overhead switching of context\n",
    "    3. Increased potential for deadlock occurrence\n",
    "    4. Unpredictable results\n",
    "\"\"\""
   ]
  },
  {
   "cell_type": "code",
   "execution_count": 6,
   "id": "e9061f46-4f47-4018-8b92-20fd14aa50fe",
   "metadata": {},
   "outputs": [
    {
     "data": {
      "text/plain": [
       "'\\nRace condition: A race condition occurs when two or more threads try to access a shared variable simultaneously, \\n                leading to unpredictable outcomes.\\nDeadlock: This usually occurs when two processes are waiting for shared resources acquired by others. \\n            For example, If thread T1 acquired resource R1 and it also needs resource R2 for it to accomplish its task. \\n            But the resource R2 is acquired by thread T2 which is waiting for resource R1(which is acquired by T1)\\n'"
      ]
     },
     "execution_count": 6,
     "metadata": {},
     "output_type": "execute_result"
    }
   ],
   "source": [
    "\"\"\"\n",
    "Q6). Explain deadlocks and race conditions.\n",
    "\"\"\"\n",
    "\n",
    "\"\"\"\n",
    "Race condition: A race condition occurs when two or more threads try to access a shared variable simultaneously, \n",
    "                leading to unpredictable outcomes.\n",
    "Deadlock: This usually occurs when two processes are waiting for shared resources acquired by others. \n",
    "            For example, If thread T1 acquired resource R1 and it also needs resource R2 for it to accomplish its task. \n",
    "            But the resource R2 is acquired by thread T2 which is waiting for resource R1(which is acquired by T1)\n",
    "\"\"\""
   ]
  },
  {
   "cell_type": "code",
   "execution_count": null,
   "id": "399625f9-138a-4a7b-a078-d33ae99645e4",
   "metadata": {},
   "outputs": [],
   "source": []
  }
 ],
 "metadata": {
  "kernelspec": {
   "display_name": "Python 3 (ipykernel)",
   "language": "python",
   "name": "python3"
  },
  "language_info": {
   "codemirror_mode": {
    "name": "ipython",
    "version": 3
   },
   "file_extension": ".py",
   "mimetype": "text/x-python",
   "name": "python",
   "nbconvert_exporter": "python",
   "pygments_lexer": "ipython3",
   "version": "3.10.8"
  }
 },
 "nbformat": 4,
 "nbformat_minor": 5
}
