{
 "cells": [
  {
   "cell_type": "code",
   "execution_count": 1,
   "id": "e07bb333-92c6-46f2-8819-252ccaa141f6",
   "metadata": {},
   "outputs": [],
   "source": [
    "class pwskills:\n",
    "    \n",
    "    def student_details(self, name, email, phone):\n",
    "        print(name, email,phone)\n",
    "    \n",
    "    @staticmethod\n",
    "    def mentor_list(list_of_mentor):\n",
    "        print(list_of_mentor)"
   ]
  },
  {
   "cell_type": "code",
   "execution_count": 2,
   "id": "fd8aebdf-785c-49e2-9014-e7e59b21c2fc",
   "metadata": {},
   "outputs": [
    {
     "name": "stdout",
     "output_type": "stream",
     "text": [
      "['ss', 'dd']\n"
     ]
    }
   ],
   "source": [
    "pwskills.mentor_list(['ss', 'dd'])"
   ]
  },
  {
   "cell_type": "code",
   "execution_count": 24,
   "id": "939d93da-78dd-4de8-a6d2-700e9e9d3a54",
   "metadata": {},
   "outputs": [],
   "source": [
    "class pwskills2:\n",
    "    \n",
    "    def __init__(self, name, email, phone):\n",
    "        self.name = name\n",
    "        self.email = email\n",
    "        self.phone = phone\n",
    "        \n",
    "    def student_details(self):\n",
    "        print(self.name, self.email,self.phone)\n",
    "    \n",
    "    @staticmethod\n",
    "    def mentor_list(list_of_mentor):\n",
    "        print(list_of_mentor)\n",
    "    \n",
    "    @classmethod\n",
    "    def class_mentor_list(cls, ddd):\n",
    "        cls.mentor_list(ddd)\n",
    "    \n",
    "    @classmethod\n",
    "    def details(cls, name, email,phone):\n",
    "        return cls(name, email,phone)"
   ]
  },
  {
   "cell_type": "code",
   "execution_count": 18,
   "id": "255befec-540c-4e06-9777-1c2ee50336e1",
   "metadata": {},
   "outputs": [],
   "source": [
    "pw1 = pwskills2.details(\"ss\",\"ss@gmail.com\", 123456)"
   ]
  },
  {
   "cell_type": "code",
   "execution_count": 19,
   "id": "9b17977e-d7d6-439c-9b3c-a8ccaead6dde",
   "metadata": {},
   "outputs": [],
   "source": [
    "pw2 = pwskills2.details(\"dd\",\"dd@gmail.com\", 123456)"
   ]
  },
  {
   "cell_type": "code",
   "execution_count": 20,
   "id": "9f5478c1-f528-4ced-854d-de686746709e",
   "metadata": {},
   "outputs": [],
   "source": [
    "pw3 = pwskills2(\"ee\",\"e@gmail.com\", 123456)"
   ]
  },
  {
   "cell_type": "code",
   "execution_count": 23,
   "id": "256bcb5b-efca-41eb-8264-cd4b97d72b02",
   "metadata": {},
   "outputs": [
    {
     "name": "stdout",
     "output_type": "stream",
     "text": [
      "ee e@gmail.com 123456\n"
     ]
    }
   ],
   "source": [
    "pw3.student_details()"
   ]
  },
  {
   "cell_type": "code",
   "execution_count": 25,
   "id": "8cc6338c-f62f-4865-82cd-62bf6cada34d",
   "metadata": {},
   "outputs": [
    {
     "name": "stdout",
     "output_type": "stream",
     "text": [
      "['sss', 'ffff']\n"
     ]
    }
   ],
   "source": [
    "pwskills2.class_mentor_list(['sss', 'ffff'])"
   ]
  },
  {
   "cell_type": "code",
   "execution_count": 35,
   "id": "fb6959a9-d2b3-4462-8af1-78b1846b11a0",
   "metadata": {},
   "outputs": [],
   "source": [
    "class pwskills3:\n",
    "    \n",
    "    def __init__(self, name, email, phone):\n",
    "        self.name = name\n",
    "        self.email = email\n",
    "        self.phone = phone\n",
    "        \n",
    "    def student_details(self):\n",
    "        print(self.name, self.email,self.phone)\n",
    "    \n",
    "    @staticmethod\n",
    "    def mentor_list(list_of_mentor):\n",
    "        pwskills3.mentor_email_list(['ss@gmail.com', 'ff@gmail.com'])\n",
    "        print(list_of_mentor)\n",
    "    \n",
    "    @staticmethod\n",
    "    def mentor_email_list(list_of_email):\n",
    "        print(list_of_email)\n",
    "    \n",
    "    @classmethod\n",
    "    def class_mentor_list(cls, ddd):\n",
    "        cls.mentor_list(ddd)\n",
    "    \n",
    "    @classmethod\n",
    "    def details(cls, name, email,phone):\n",
    "        return cls(name, email,phone)\n",
    "    \n",
    "    def print_det(self, list_of_item):\n",
    "        print(list_of_item)\n",
    "        self.mentor_list(list_of_item)"
   ]
  },
  {
   "cell_type": "code",
   "execution_count": 27,
   "id": "7ba4b1ac-6ce6-4ae5-9c88-8c66360dd888",
   "metadata": {},
   "outputs": [
    {
     "name": "stdout",
     "output_type": "stream",
     "text": [
      "['ss@gmail.com', 'ff@gmail.com']\n",
      "['ss', 'ff']\n"
     ]
    }
   ],
   "source": [
    "pwskills3.mentor_list(['ss','ff'])"
   ]
  },
  {
   "cell_type": "code",
   "execution_count": 36,
   "id": "575919dd-8bd8-4026-a865-3a986a2f3bbf",
   "metadata": {},
   "outputs": [],
   "source": [
    "pw = pwskills3('ss', 'ssZ@fff.com', 213123)"
   ]
  },
  {
   "cell_type": "code",
   "execution_count": 37,
   "id": "d0df0e49-3ce3-4eaa-aff6-efcdd080ef64",
   "metadata": {},
   "outputs": [
    {
     "name": "stdout",
     "output_type": "stream",
     "text": [
      "[11, 22]\n",
      "['ss@gmail.com', 'ff@gmail.com']\n",
      "[11, 22]\n"
     ]
    }
   ],
   "source": [
    "pw.print_det([11,22])"
   ]
  },
  {
   "cell_type": "code",
   "execution_count": 38,
   "id": "2a823ff3-ed5e-4a01-8512-86057f19bfa3",
   "metadata": {},
   "outputs": [],
   "source": [
    "pw1 = pwskills3('ss1', 'ssZ1@fff.com', 213123)"
   ]
  },
  {
   "cell_type": "code",
   "execution_count": 39,
   "id": "0e92f237-623e-4933-b2d1-1d48d735d818",
   "metadata": {},
   "outputs": [
    {
     "name": "stdout",
     "output_type": "stream",
     "text": [
      "[44, 22]\n",
      "['ss@gmail.com', 'ff@gmail.com']\n",
      "[44, 22]\n"
     ]
    }
   ],
   "source": [
    "pw1.print_det([44,22])"
   ]
  },
  {
   "cell_type": "code",
   "execution_count": null,
   "id": "60cf17ac-0420-4f56-9b52-b3d92f2f2b63",
   "metadata": {},
   "outputs": [],
   "source": []
  }
 ],
 "metadata": {
  "kernelspec": {
   "display_name": "Python 3 (ipykernel)",
   "language": "python",
   "name": "python3"
  },
  "language_info": {
   "codemirror_mode": {
    "name": "ipython",
    "version": 3
   },
   "file_extension": ".py",
   "mimetype": "text/x-python",
   "name": "python",
   "nbconvert_exporter": "python",
   "pygments_lexer": "ipython3",
   "version": "3.10.8"
  }
 },
 "nbformat": 4,
 "nbformat_minor": 5
}
