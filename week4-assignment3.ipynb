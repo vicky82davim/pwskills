{
 "cells": [
  {
   "cell_type": "code",
   "execution_count": 2,
   "id": "c53e193a-21dd-4584-b8f1-0f3875c7e9d4",
   "metadata": {},
   "outputs": [],
   "source": [
    "\"\"\"\n",
    "Q1. What is Abstraction in OOps? Explain with an example.\n",
    "\"\"\"\n",
    "import abc\n",
    "class abstract_pwskills:\n",
    "    @abc.abstractmethod\n",
    "    def student_details(self):\n",
    "        pass\n",
    "    \n",
    "    @abc.abstractmethod\n",
    "    def courses(self):\n",
    "        pass"
   ]
  },
  {
   "cell_type": "code",
   "execution_count": 3,
   "id": "a302b7e7-7b62-4783-b7e1-a912d75c4eb8",
   "metadata": {},
   "outputs": [],
   "source": [
    "class pwskills(abstract_pwskills):\n",
    "    def courses(self):\n",
    "        return \"Data Science\""
   ]
  },
  {
   "cell_type": "code",
   "execution_count": 4,
   "id": "84d8dd58-27df-4f0b-95c2-5d83667e0ccf",
   "metadata": {},
   "outputs": [],
   "source": [
    "pw = pwskills()"
   ]
  },
  {
   "cell_type": "code",
   "execution_count": 5,
   "id": "0f563bdb-4c74-4490-9e06-e0b4bd1ded9d",
   "metadata": {},
   "outputs": [
    {
     "data": {
      "text/plain": [
       "'Data Science'"
      ]
     },
     "execution_count": 5,
     "metadata": {},
     "output_type": "execute_result"
    }
   ],
   "source": [
    "pw.courses()"
   ]
  },
  {
   "cell_type": "code",
   "execution_count": 6,
   "id": "61092238-9d43-441a-89fc-501bfef9e18c",
   "metadata": {},
   "outputs": [],
   "source": [
    "\"\"\"\n",
    "Q2. Differentiate between Abstraction and Encapsulation. Explain with an example.\n",
    "\"\"\"\n",
    " # Abstraction: It is the blueprint of the class\n",
    " # Example class in Q1\n",
    " # Encapsulation: Means to hide the class attribute\n",
    "\n",
    "class pwskills1:\n",
    "    \n",
    "    def __init__(self, name, email):\n",
    "        self.__name = name\n",
    "        self.__email = email\n"
   ]
  },
  {
   "cell_type": "code",
   "execution_count": 7,
   "id": "761d8b3c-6eba-49fb-a7ab-3c0f354028ce",
   "metadata": {},
   "outputs": [],
   "source": [
    "pw1 = pwskills1(\"Ram\", \"ram@gmail.com\")"
   ]
  },
  {
   "cell_type": "code",
   "execution_count": null,
   "id": "f3a49ea7-d368-4fec-bc9a-aa98ac75f874",
   "metadata": {},
   "outputs": [],
   "source": []
  },
  {
   "cell_type": "code",
   "execution_count": null,
   "id": "908c957d-0b28-4ca9-99cf-66604bb761a5",
   "metadata": {},
   "outputs": [],
   "source": [
    "\"\"\"\n",
    "Q3. What is abc module in python? Why is it used?\n",
    "\"\"\"\n",
    "\n",
    "# Module used to implement abstraction"
   ]
  },
  {
   "cell_type": "code",
   "execution_count": 8,
   "id": "d390fa50-b5b3-462a-9a79-2492703ffffc",
   "metadata": {},
   "outputs": [],
   "source": [
    "\"\"\"\n",
    "Q4. How can we achieve data abstraction?\n",
    "\"\"\"\n",
    "# Achive by implementing abstraction\n",
    "import abc\n",
    "class abstract_pwskills2:\n",
    "    @abc.abstractmethod\n",
    "    def student_details(self):\n",
    "        pass\n",
    "    \n",
    "    @abc.abstractmethod\n",
    "    def courses(self):\n",
    "        pass"
   ]
  },
  {
   "cell_type": "code",
   "execution_count": 9,
   "id": "66d2db2f-1248-49b7-9eb4-56eddc0c941d",
   "metadata": {},
   "outputs": [],
   "source": [
    "\"\"\"\n",
    "Q5. Can we create an instance of an abstract class? Explain your answer.\n",
    "\"\"\"\n",
    "# Yes we can create\n",
    "\n",
    "import abc\n",
    "class abstract_pwskills3:\n",
    "    @abc.abstractmethod\n",
    "    def student_details(self):\n",
    "        pass\n",
    "    \n",
    "    @abc.abstractmethod\n",
    "    def courses(self):\n",
    "        pass"
   ]
  },
  {
   "cell_type": "code",
   "execution_count": 10,
   "id": "52858561-1687-44b9-ab8a-453f2c283924",
   "metadata": {},
   "outputs": [],
   "source": [
    "pw3 = abstract_pwskills3()"
   ]
  },
  {
   "cell_type": "code",
   "execution_count": 11,
   "id": "571cc4d6-45ea-4337-9de6-ef0a01422a05",
   "metadata": {},
   "outputs": [],
   "source": [
    "pw3.courses()"
   ]
  },
  {
   "cell_type": "code",
   "execution_count": null,
   "id": "6299b82d-d73b-4f84-8141-0030a420e400",
   "metadata": {},
   "outputs": [],
   "source": []
  }
 ],
 "metadata": {
  "kernelspec": {
   "display_name": "Python 3 (ipykernel)",
   "language": "python",
   "name": "python3"
  },
  "language_info": {
   "codemirror_mode": {
    "name": "ipython",
    "version": 3
   },
   "file_extension": ".py",
   "mimetype": "text/x-python",
   "name": "python",
   "nbconvert_exporter": "python",
   "pygments_lexer": "ipython3",
   "version": "3.10.8"
  }
 },
 "nbformat": 4,
 "nbformat_minor": 5
}
