{
 "cells": [
  {
   "cell_type": "code",
   "execution_count": 10,
   "id": "808115ee-6c66-4b4d-a72c-b22af48c9cb0",
   "metadata": {},
   "outputs": [],
   "source": [
    "import numpy as np"
   ]
  },
  {
   "cell_type": "code",
   "execution_count": 11,
   "id": "f9ac9c8e-5373-4ae8-ad86-de4a83a2bda9",
   "metadata": {},
   "outputs": [],
   "source": [
    "# sorting, searching and counting function"
   ]
  },
  {
   "cell_type": "code",
   "execution_count": 12,
   "id": "f5ef9e23-4f2f-4561-a30c-f1ac91949b31",
   "metadata": {},
   "outputs": [],
   "source": [
    "arr = np.array([2,3,4,5,643,12,523,4545,43,6,43])"
   ]
  },
  {
   "cell_type": "code",
   "execution_count": 13,
   "id": "bda94d46-c265-4df5-9529-1a426ddd7710",
   "metadata": {},
   "outputs": [
    {
     "data": {
      "text/plain": [
       "array([   2,    3,    4,    5,  643,   12,  523, 4545,   43,    6,   43])"
      ]
     },
     "execution_count": 13,
     "metadata": {},
     "output_type": "execute_result"
    }
   ],
   "source": [
    "arr"
   ]
  },
  {
   "cell_type": "code",
   "execution_count": 14,
   "id": "0cf78b9a-477a-4b64-b46d-0a7b25eb6fc7",
   "metadata": {},
   "outputs": [
    {
     "data": {
      "text/plain": [
       "array([   2,    3,    4,    5,    6,   12,   43,   43,  523,  643, 4545])"
      ]
     },
     "execution_count": 14,
     "metadata": {},
     "output_type": "execute_result"
    }
   ],
   "source": [
    "np.sort(arr)"
   ]
  },
  {
   "cell_type": "code",
   "execution_count": 15,
   "id": "73a0c31c-78fd-4386-9e51-910a933845b5",
   "metadata": {},
   "outputs": [
    {
     "data": {
      "text/plain": [
       "6"
      ]
     },
     "execution_count": 15,
     "metadata": {},
     "output_type": "execute_result"
    }
   ],
   "source": [
    "np.searchsorted(arr, 34)"
   ]
  },
  {
   "cell_type": "code",
   "execution_count": 16,
   "id": "90403cb3-3141-45f3-8f07-1c40b4cb0e36",
   "metadata": {},
   "outputs": [],
   "source": [
    "arr2 = np.array([0,0,23,454,0,3,0,0])"
   ]
  },
  {
   "cell_type": "code",
   "execution_count": 18,
   "id": "f2bf8e12-df42-41ae-bc35-46e934c7e64a",
   "metadata": {},
   "outputs": [
    {
     "data": {
      "text/plain": [
       "3"
      ]
     },
     "execution_count": 18,
     "metadata": {},
     "output_type": "execute_result"
    }
   ],
   "source": [
    "np.count_nonzero(arr2)"
   ]
  },
  {
   "cell_type": "code",
   "execution_count": 19,
   "id": "d8d6103b-1e7e-4203-80c4-40b452057ec7",
   "metadata": {},
   "outputs": [
    {
     "data": {
      "text/plain": [
       "array([   2,    3,    4,    5,  643,   12,  523, 4545,   43,    6,   43])"
      ]
     },
     "execution_count": 19,
     "metadata": {},
     "output_type": "execute_result"
    }
   ],
   "source": [
    "arr"
   ]
  },
  {
   "cell_type": "code",
   "execution_count": 20,
   "id": "cce99f45-c641-493e-9ce4-2bd20d0fee92",
   "metadata": {},
   "outputs": [
    {
     "data": {
      "text/plain": [
       "(array([ 4,  5,  6,  7,  8, 10]),)"
      ]
     },
     "execution_count": 20,
     "metadata": {},
     "output_type": "execute_result"
    }
   ],
   "source": [
    "np.where(arr > 6)"
   ]
  },
  {
   "cell_type": "code",
   "execution_count": 22,
   "id": "11b7a2ab-fa84-48eb-8470-9be9f194dc15",
   "metadata": {},
   "outputs": [
    {
     "data": {
      "text/plain": [
       "array([ 643,   12,  523, 4545,   43,   43])"
      ]
     },
     "execution_count": 22,
     "metadata": {},
     "output_type": "execute_result"
    }
   ],
   "source": [
    "np.extract(arr>6, arr)"
   ]
  },
  {
   "cell_type": "code",
   "execution_count": 23,
   "id": "8e99aca9-5983-47fa-a029-f4c3d7ade24f",
   "metadata": {},
   "outputs": [],
   "source": [
    "# Byte swapping"
   ]
  },
  {
   "cell_type": "code",
   "execution_count": 24,
   "id": "c23235d7-84bb-4434-a4ba-0f8ad261fab1",
   "metadata": {},
   "outputs": [
    {
     "data": {
      "text/plain": [
       "array([   2,    3,    4,    5,  643,   12,  523, 4545,   43,    6,   43])"
      ]
     },
     "execution_count": 24,
     "metadata": {},
     "output_type": "execute_result"
    }
   ],
   "source": [
    "arr"
   ]
  },
  {
   "cell_type": "code",
   "execution_count": 25,
   "id": "9db91c68-7d2a-4753-942f-371de7eaefd2",
   "metadata": {},
   "outputs": [
    {
     "data": {
      "text/plain": [
       "array([  144115188075855872,   216172782113783808,   288230376151711744,\n",
       "         360287970189639680, -9006636304787570688,   864691128455135232,\n",
       "         793196484370628608, -4534843349785378816,  3098476543630901248,\n",
       "         432345564227567616,  3098476543630901248])"
      ]
     },
     "execution_count": 25,
     "metadata": {},
     "output_type": "execute_result"
    }
   ],
   "source": [
    "arr.byteswap()"
   ]
  },
  {
   "cell_type": "code",
   "execution_count": 26,
   "id": "f0d1215f-0802-45b6-b25c-46b3ecfe7b98",
   "metadata": {},
   "outputs": [],
   "source": [
    "# copy and views"
   ]
  },
  {
   "cell_type": "code",
   "execution_count": 27,
   "id": "32dd7d98-2ba9-4ce8-bd4d-ac32512cd12c",
   "metadata": {},
   "outputs": [],
   "source": [
    "a = np.copy(arr)"
   ]
  },
  {
   "cell_type": "code",
   "execution_count": 28,
   "id": "86030803-89a3-4811-8289-3777052c026e",
   "metadata": {},
   "outputs": [
    {
     "data": {
      "text/plain": [
       "array([   2,    3,    4,    5,  643,   12,  523, 4545,   43,    6,   43])"
      ]
     },
     "execution_count": 28,
     "metadata": {},
     "output_type": "execute_result"
    }
   ],
   "source": [
    "a"
   ]
  },
  {
   "cell_type": "code",
   "execution_count": 29,
   "id": "93061232-eaf5-48c5-95d8-e2be0a0c675c",
   "metadata": {},
   "outputs": [],
   "source": [
    "b = arr.view()"
   ]
  },
  {
   "cell_type": "code",
   "execution_count": 30,
   "id": "73826b46-afcb-4ec0-a486-4e20848a6efc",
   "metadata": {},
   "outputs": [
    {
     "data": {
      "text/plain": [
       "array([   2,    3,    4,    5,  643,   12,  523, 4545,   43,    6,   43])"
      ]
     },
     "execution_count": 30,
     "metadata": {},
     "output_type": "execute_result"
    }
   ],
   "source": [
    "b"
   ]
  },
  {
   "cell_type": "code",
   "execution_count": 31,
   "id": "bf9d160c-d3b4-4eb3-96fc-0d2afec94296",
   "metadata": {},
   "outputs": [
    {
     "data": {
      "text/plain": [
       "array([   2,    3,    4,    5,  643,   12,  523, 4545,   43,    6,   43])"
      ]
     },
     "execution_count": 31,
     "metadata": {},
     "output_type": "execute_result"
    }
   ],
   "source": [
    "arr"
   ]
  },
  {
   "cell_type": "code",
   "execution_count": 32,
   "id": "aed7fbaa-4e00-4c81-959b-1482d972bee6",
   "metadata": {},
   "outputs": [],
   "source": [
    "b[0] = 44"
   ]
  },
  {
   "cell_type": "code",
   "execution_count": 33,
   "id": "c75c49ca-2ef6-4ebe-abc3-6d878d974c8f",
   "metadata": {},
   "outputs": [
    {
     "data": {
      "text/plain": [
       "array([  44,    3,    4,    5,  643,   12,  523, 4545,   43,    6,   43])"
      ]
     },
     "execution_count": 33,
     "metadata": {},
     "output_type": "execute_result"
    }
   ],
   "source": [
    "b"
   ]
  },
  {
   "cell_type": "code",
   "execution_count": 34,
   "id": "9edf7a0d-29a5-4817-807b-c7a882f8951f",
   "metadata": {},
   "outputs": [
    {
     "data": {
      "text/plain": [
       "array([  44,    3,    4,    5,  643,   12,  523, 4545,   43,    6,   43])"
      ]
     },
     "execution_count": 34,
     "metadata": {},
     "output_type": "execute_result"
    }
   ],
   "source": [
    "arr"
   ]
  },
  {
   "cell_type": "code",
   "execution_count": 35,
   "id": "8f4861b8-7c1f-42ac-8a43-75bd04aeb007",
   "metadata": {},
   "outputs": [],
   "source": [
    "# Matrix library"
   ]
  },
  {
   "cell_type": "code",
   "execution_count": 36,
   "id": "a6ad06d7-46d2-4101-a954-da7dd226003d",
   "metadata": {},
   "outputs": [],
   "source": [
    "import numpy.matlib as nm"
   ]
  },
  {
   "cell_type": "code",
   "execution_count": 37,
   "id": "665edc46-a4cf-4598-8c1c-51eb1443f228",
   "metadata": {},
   "outputs": [
    {
     "data": {
      "text/plain": [
       "matrix([[0., 0., 0., 0., 0.]])"
      ]
     },
     "execution_count": 37,
     "metadata": {},
     "output_type": "execute_result"
    }
   ],
   "source": [
    "nm.zeros(5)"
   ]
  },
  {
   "cell_type": "code",
   "execution_count": 39,
   "id": "97b18a5e-bb04-4d47-b091-4e902c1d3c95",
   "metadata": {},
   "outputs": [
    {
     "data": {
      "text/plain": [
       "matrix([[1., 1., 1., 1.],\n",
       "        [1., 1., 1., 1.],\n",
       "        [1., 1., 1., 1.]])"
      ]
     },
     "execution_count": 39,
     "metadata": {},
     "output_type": "execute_result"
    }
   ],
   "source": [
    "nm.ones((3,4))"
   ]
  },
  {
   "cell_type": "code",
   "execution_count": 41,
   "id": "a591e223-54db-4dec-a6c3-c61d02c8ff1c",
   "metadata": {},
   "outputs": [
    {
     "data": {
      "text/plain": [
       "matrix([[1., 0., 0., 0., 0.],\n",
       "        [0., 1., 0., 0., 0.],\n",
       "        [0., 0., 1., 0., 0.],\n",
       "        [0., 0., 0., 1., 0.],\n",
       "        [0., 0., 0., 0., 1.]])"
      ]
     },
     "execution_count": 41,
     "metadata": {},
     "output_type": "execute_result"
    }
   ],
   "source": [
    "nm. eye(5)"
   ]
  },
  {
   "cell_type": "code",
   "execution_count": 42,
   "id": "1b53cb02-af14-4ff7-8aa5-3baa501ce240",
   "metadata": {},
   "outputs": [],
   "source": [
    "# liner algebra"
   ]
  },
  {
   "cell_type": "code",
   "execution_count": 43,
   "id": "4665b3f2-89c4-4398-8577-b6e53ba1dd26",
   "metadata": {},
   "outputs": [],
   "source": [
    "arr1 = np.array([[2,3], [4,5]])"
   ]
  },
  {
   "cell_type": "code",
   "execution_count": 44,
   "id": "e2d58843-01c0-4a51-bd88-6733772e2c9b",
   "metadata": {},
   "outputs": [],
   "source": [
    "arr2 = np.array([[5,3], [2,5]])"
   ]
  },
  {
   "cell_type": "code",
   "execution_count": 45,
   "id": "c5ce4fa1-07ac-42ee-a9d0-a111b9862e4c",
   "metadata": {},
   "outputs": [
    {
     "data": {
      "text/plain": [
       "array([[16, 21],\n",
       "       [30, 37]])"
      ]
     },
     "execution_count": 45,
     "metadata": {},
     "output_type": "execute_result"
    }
   ],
   "source": [
    "np.dot(arr1, arr2)"
   ]
  },
  {
   "cell_type": "code",
   "execution_count": 46,
   "id": "6fbd33a1-cd02-4048-b969-e99e409361e5",
   "metadata": {},
   "outputs": [
    {
     "data": {
      "text/plain": [
       "array([[2, 3],\n",
       "       [4, 5]])"
      ]
     },
     "execution_count": 46,
     "metadata": {},
     "output_type": "execute_result"
    }
   ],
   "source": [
    "arr1"
   ]
  },
  {
   "cell_type": "code",
   "execution_count": 47,
   "id": "8ff74e5a-e5c8-4b03-a4b9-5e9c28890b3e",
   "metadata": {},
   "outputs": [
    {
     "data": {
      "text/plain": [
       "array([[5, 3],\n",
       "       [2, 5]])"
      ]
     },
     "execution_count": 47,
     "metadata": {},
     "output_type": "execute_result"
    }
   ],
   "source": [
    "arr2"
   ]
  },
  {
   "cell_type": "code",
   "execution_count": 48,
   "id": "ff83c584-e7bf-40a6-af36-2dc118971c63",
   "metadata": {},
   "outputs": [
    {
     "data": {
      "text/plain": [
       "array([[16, 21],\n",
       "       [30, 37]])"
      ]
     },
     "execution_count": 48,
     "metadata": {},
     "output_type": "execute_result"
    }
   ],
   "source": [
    "arr1@arr2"
   ]
  },
  {
   "cell_type": "code",
   "execution_count": null,
   "id": "9b95e0bc-8c01-4b65-8f49-abecb2c50343",
   "metadata": {},
   "outputs": [],
   "source": []
  }
 ],
 "metadata": {
  "kernelspec": {
   "display_name": "Python 3 (ipykernel)",
   "language": "python",
   "name": "python3"
  },
  "language_info": {
   "codemirror_mode": {
    "name": "ipython",
    "version": 3
   },
   "file_extension": ".py",
   "mimetype": "text/x-python",
   "name": "python",
   "nbconvert_exporter": "python",
   "pygments_lexer": "ipython3",
   "version": "3.10.8"
  }
 },
 "nbformat": 4,
 "nbformat_minor": 5
}
