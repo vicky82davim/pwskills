{
 "cells": [
  {
   "cell_type": "code",
   "execution_count": 1,
   "id": "85335d59-6184-4a1c-b31d-9be61028be44",
   "metadata": {},
   "outputs": [],
   "source": [
    "import numpy as np"
   ]
  },
  {
   "cell_type": "code",
   "execution_count": 2,
   "id": "2efd598a-2231-485e-94dc-cf799b1eb34e",
   "metadata": {},
   "outputs": [],
   "source": [
    "# Array Manipulatipn"
   ]
  },
  {
   "cell_type": "code",
   "execution_count": 3,
   "id": "c8b06754-f5bf-4899-930c-2b4e9d0c69bd",
   "metadata": {},
   "outputs": [],
   "source": [
    "arr = np.random.randint(1,10, (3,4))"
   ]
  },
  {
   "cell_type": "code",
   "execution_count": 4,
   "id": "5905980a-b6b4-4784-b5a2-135e4d58a067",
   "metadata": {},
   "outputs": [
    {
     "data": {
      "text/plain": [
       "array([[8, 4, 3, 8],\n",
       "       [9, 2, 3, 9],\n",
       "       [6, 3, 7, 4]])"
      ]
     },
     "execution_count": 4,
     "metadata": {},
     "output_type": "execute_result"
    }
   ],
   "source": [
    "arr"
   ]
  },
  {
   "cell_type": "code",
   "execution_count": 5,
   "id": "13317ba7-1ae3-46bc-b06a-674ea434b834",
   "metadata": {},
   "outputs": [
    {
     "data": {
      "text/plain": [
       "array([[8, 4, 3, 8, 9, 2],\n",
       "       [3, 9, 6, 3, 7, 4]])"
      ]
     },
     "execution_count": 5,
     "metadata": {},
     "output_type": "execute_result"
    }
   ],
   "source": [
    "arr.reshape(2,-767)"
   ]
  },
  {
   "cell_type": "code",
   "execution_count": 6,
   "id": "934e7204-5475-45b7-8472-ad70c82acb18",
   "metadata": {},
   "outputs": [
    {
     "data": {
      "text/plain": [
       "array([[8, 9, 6],\n",
       "       [4, 2, 3],\n",
       "       [3, 3, 7],\n",
       "       [8, 9, 4]])"
      ]
     },
     "execution_count": 6,
     "metadata": {},
     "output_type": "execute_result"
    }
   ],
   "source": [
    "arr.T"
   ]
  },
  {
   "cell_type": "code",
   "execution_count": 7,
   "id": "31e0f938-755b-4749-9966-c06ecdccf827",
   "metadata": {},
   "outputs": [
    {
     "data": {
      "text/plain": [
       "array([8, 4, 3, 8, 9, 2, 3, 9, 6, 3, 7, 4])"
      ]
     },
     "execution_count": 7,
     "metadata": {},
     "output_type": "execute_result"
    }
   ],
   "source": [
    "arr.flatten()"
   ]
  },
  {
   "cell_type": "code",
   "execution_count": 8,
   "id": "a4686530-d553-4bc4-9331-4cd4bda01313",
   "metadata": {},
   "outputs": [],
   "source": [
    "arr1 = np.array([1,2,3,3,4])"
   ]
  },
  {
   "cell_type": "code",
   "execution_count": 9,
   "id": "6f53f540-d615-4d95-b0b3-743c6ad2db81",
   "metadata": {},
   "outputs": [
    {
     "data": {
      "text/plain": [
       "1"
      ]
     },
     "execution_count": 9,
     "metadata": {},
     "output_type": "execute_result"
    }
   ],
   "source": [
    "arr1.ndim"
   ]
  },
  {
   "cell_type": "code",
   "execution_count": 10,
   "id": "6517264d-c50f-4246-8b12-a073048e0141",
   "metadata": {},
   "outputs": [
    {
     "data": {
      "text/plain": [
       "array([[1],\n",
       "       [2],\n",
       "       [3],\n",
       "       [3],\n",
       "       [4]])"
      ]
     },
     "execution_count": 10,
     "metadata": {},
     "output_type": "execute_result"
    }
   ],
   "source": [
    "np.expand_dims(arr1, axis=1)"
   ]
  },
  {
   "cell_type": "code",
   "execution_count": 11,
   "id": "9b9980ed-b52e-488d-b54d-d6ab806a582e",
   "metadata": {},
   "outputs": [
    {
     "data": {
      "text/plain": [
       "array([[1, 2, 3, 3, 4]])"
      ]
     },
     "execution_count": 11,
     "metadata": {},
     "output_type": "execute_result"
    }
   ],
   "source": [
    "np.expand_dims(arr1, axis=0)"
   ]
  },
  {
   "cell_type": "code",
   "execution_count": 12,
   "id": "5fda58d0-77cf-4eb7-9e7d-70ac14b0d55c",
   "metadata": {},
   "outputs": [],
   "source": [
    "data = np.array([[1], [2], [3]])"
   ]
  },
  {
   "cell_type": "code",
   "execution_count": 13,
   "id": "034309da-ed5e-4417-a7a1-00022d2a60ab",
   "metadata": {},
   "outputs": [
    {
     "data": {
      "text/plain": [
       "array([[1],\n",
       "       [2],\n",
       "       [3]])"
      ]
     },
     "execution_count": 13,
     "metadata": {},
     "output_type": "execute_result"
    }
   ],
   "source": [
    "data"
   ]
  },
  {
   "cell_type": "code",
   "execution_count": 14,
   "id": "3bc7f1e9-e8cc-4080-8c57-c45d2891e7af",
   "metadata": {},
   "outputs": [
    {
     "data": {
      "text/plain": [
       "array([1, 2, 3])"
      ]
     },
     "execution_count": 14,
     "metadata": {},
     "output_type": "execute_result"
    }
   ],
   "source": [
    "np.squeeze(data)"
   ]
  },
  {
   "cell_type": "code",
   "execution_count": 15,
   "id": "09b13d5a-f135-47aa-95d7-c8d58ae2ba4b",
   "metadata": {},
   "outputs": [
    {
     "data": {
      "text/plain": [
       "array([1, 2, 3, 3, 4])"
      ]
     },
     "execution_count": 15,
     "metadata": {},
     "output_type": "execute_result"
    }
   ],
   "source": [
    "arr1"
   ]
  },
  {
   "cell_type": "code",
   "execution_count": 16,
   "id": "f428ec72-f42b-4ed9-8832-a9b5799c00a6",
   "metadata": {},
   "outputs": [
    {
     "data": {
      "text/plain": [
       "array([1, 1, 1, 2, 2, 2, 3, 3, 3, 3, 3, 3, 4, 4, 4])"
      ]
     },
     "execution_count": 16,
     "metadata": {},
     "output_type": "execute_result"
    }
   ],
   "source": [
    "np.repeat(arr1,3)"
   ]
  },
  {
   "cell_type": "code",
   "execution_count": 17,
   "id": "2720b22f-ed0c-4451-bf18-6c48b325b064",
   "metadata": {},
   "outputs": [
    {
     "data": {
      "text/plain": [
       "array([1, 2, 3, 3, 4])"
      ]
     },
     "execution_count": 17,
     "metadata": {},
     "output_type": "execute_result"
    }
   ],
   "source": [
    "arr1"
   ]
  },
  {
   "cell_type": "code",
   "execution_count": 18,
   "id": "61d1c848-b879-4a4a-af28-a0988ade2011",
   "metadata": {},
   "outputs": [
    {
     "data": {
      "text/plain": [
       "array([3, 4, 1, 2, 3])"
      ]
     },
     "execution_count": 18,
     "metadata": {},
     "output_type": "execute_result"
    }
   ],
   "source": [
    "np.roll(arr1, 2)"
   ]
  },
  {
   "cell_type": "code",
   "execution_count": 19,
   "id": "ce7beb45-92ee-4305-b2fd-67f11c802d32",
   "metadata": {},
   "outputs": [
    {
     "data": {
      "text/plain": [
       "array([[1, 0, 0, 0, 0],\n",
       "       [0, 2, 0, 0, 0],\n",
       "       [0, 0, 3, 0, 0],\n",
       "       [0, 0, 0, 3, 0],\n",
       "       [0, 0, 0, 0, 4]])"
      ]
     },
     "execution_count": 19,
     "metadata": {},
     "output_type": "execute_result"
    }
   ],
   "source": [
    "np.diag(arr1)"
   ]
  },
  {
   "cell_type": "code",
   "execution_count": 20,
   "id": "3786eb90-9d16-4fa9-a9b3-aa1d69bd0d9b",
   "metadata": {},
   "outputs": [],
   "source": [
    "# Binary Operations"
   ]
  },
  {
   "cell_type": "code",
   "execution_count": 21,
   "id": "9a8d1a24-1f28-4c2a-bd42-6c4b9e0ace31",
   "metadata": {},
   "outputs": [],
   "source": [
    "arr1 = np.random.randint(1,10, (3,4))"
   ]
  },
  {
   "cell_type": "code",
   "execution_count": 22,
   "id": "a312cf7c-143f-49cd-bce9-d4f973aa253e",
   "metadata": {},
   "outputs": [],
   "source": [
    "arr2 = np.random.randint(1,10, (3,4))"
   ]
  },
  {
   "cell_type": "code",
   "execution_count": 23,
   "id": "9afe437f-8754-4e48-b997-1a98c74c364b",
   "metadata": {},
   "outputs": [
    {
     "data": {
      "text/plain": [
       "array([[4, 4, 1, 1],\n",
       "       [5, 7, 8, 2],\n",
       "       [4, 6, 9, 8]])"
      ]
     },
     "execution_count": 23,
     "metadata": {},
     "output_type": "execute_result"
    }
   ],
   "source": [
    "arr1"
   ]
  },
  {
   "cell_type": "code",
   "execution_count": 24,
   "id": "53bd5b73-1b0a-4eef-8802-dcc4958dfe49",
   "metadata": {},
   "outputs": [
    {
     "data": {
      "text/plain": [
       "array([[8, 9, 3, 7],\n",
       "       [4, 9, 8, 6],\n",
       "       [2, 8, 8, 7]])"
      ]
     },
     "execution_count": 24,
     "metadata": {},
     "output_type": "execute_result"
    }
   ],
   "source": [
    "arr2"
   ]
  },
  {
   "cell_type": "code",
   "execution_count": 25,
   "id": "8bbbab5f-d8a4-4ed4-8aae-9e9dc24fa13e",
   "metadata": {},
   "outputs": [
    {
     "data": {
      "text/plain": [
       "array([[12, 13,  4,  8],\n",
       "       [ 9, 16, 16,  8],\n",
       "       [ 6, 14, 17, 15]])"
      ]
     },
     "execution_count": 25,
     "metadata": {},
     "output_type": "execute_result"
    }
   ],
   "source": [
    "arr1+arr2"
   ]
  },
  {
   "cell_type": "code",
   "execution_count": 26,
   "id": "b2c46a28-f6ea-41c3-84ca-d93990d0704f",
   "metadata": {},
   "outputs": [],
   "source": [
    "# *, -, /"
   ]
  },
  {
   "cell_type": "code",
   "execution_count": 27,
   "id": "d5354c54-fe2c-4fe3-9c7e-781c3911a464",
   "metadata": {},
   "outputs": [
    {
     "data": {
      "text/plain": [
       "array([[4, 4, 1, 1],\n",
       "       [1, 7, 0, 2],\n",
       "       [0, 6, 1, 1]])"
      ]
     },
     "execution_count": 27,
     "metadata": {},
     "output_type": "execute_result"
    }
   ],
   "source": [
    "arr1%arr2"
   ]
  },
  {
   "cell_type": "code",
   "execution_count": 29,
   "id": "4f50174d-8341-42a2-b9e3-9eacf1148a63",
   "metadata": {},
   "outputs": [
    {
     "data": {
      "text/plain": [
       "array([[   65536,   262144,        1,        1],\n",
       "       [     625, 40353607, 16777216,       64],\n",
       "       [      16,  1679616, 43046721,  2097152]])"
      ]
     },
     "execution_count": 29,
     "metadata": {},
     "output_type": "execute_result"
    }
   ],
   "source": [
    "arr1 ** arr2"
   ]
  },
  {
   "cell_type": "code",
   "execution_count": 30,
   "id": "215ca30f-fc38-47b0-bf66-66935666c73b",
   "metadata": {},
   "outputs": [
    {
     "data": {
      "text/plain": [
       "array([[0, 0, 1, 1],\n",
       "       [4, 1, 8, 2],\n",
       "       [0, 0, 8, 0]])"
      ]
     },
     "execution_count": 30,
     "metadata": {},
     "output_type": "execute_result"
    }
   ],
   "source": [
    "arr1 & arr2"
   ]
  },
  {
   "cell_type": "code",
   "execution_count": 31,
   "id": "dc939382-b169-4963-a20e-964ed97a95ab",
   "metadata": {},
   "outputs": [
    {
     "data": {
      "text/plain": [
       "array([[ -5,  -5,  -2,  -2],\n",
       "       [ -6,  -8,  -9,  -3],\n",
       "       [ -5,  -7, -10,  -9]])"
      ]
     },
     "execution_count": 31,
     "metadata": {},
     "output_type": "execute_result"
    }
   ],
   "source": [
    "~arr1"
   ]
  },
  {
   "cell_type": "code",
   "execution_count": 32,
   "id": "8cc12555-4893-4258-b906-d45b4ae4336d",
   "metadata": {},
   "outputs": [
    {
     "data": {
      "text/plain": [
       "array([[12, 13,  3,  7],\n",
       "       [ 5, 15,  8,  6],\n",
       "       [ 6, 14,  9, 15]])"
      ]
     },
     "execution_count": 32,
     "metadata": {},
     "output_type": "execute_result"
    }
   ],
   "source": [
    "arr1 | arr2"
   ]
  },
  {
   "cell_type": "code",
   "execution_count": 33,
   "id": "b4a2fafc-2646-4274-a134-8c1ad4239f61",
   "metadata": {},
   "outputs": [
    {
     "data": {
      "text/plain": [
       "array([[False, False, False, False],\n",
       "       [ True, False, False, False],\n",
       "       [ True, False,  True,  True]])"
      ]
     },
     "execution_count": 33,
     "metadata": {},
     "output_type": "execute_result"
    }
   ],
   "source": [
    "arr1 > arr2"
   ]
  },
  {
   "cell_type": "code",
   "execution_count": 34,
   "id": "c28d7777-aedf-4953-a404-0af0a9cc243b",
   "metadata": {},
   "outputs": [],
   "source": [
    "# string function"
   ]
  },
  {
   "cell_type": "code",
   "execution_count": 35,
   "id": "c8f4a61f-c316-41a1-91ed-661690a69166",
   "metadata": {},
   "outputs": [],
   "source": [
    "arr = np.array(['vee', 'kumar'])"
   ]
  },
  {
   "cell_type": "code",
   "execution_count": 36,
   "id": "83d635f0-6858-45ed-aac6-0eb5e0d3af6c",
   "metadata": {},
   "outputs": [
    {
     "data": {
      "text/plain": [
       "array(['vee', 'kumar'], dtype='<U5')"
      ]
     },
     "execution_count": 36,
     "metadata": {},
     "output_type": "execute_result"
    }
   ],
   "source": [
    "arr"
   ]
  },
  {
   "cell_type": "code",
   "execution_count": 37,
   "id": "3b8abef1-5bff-4722-874f-64e727670db3",
   "metadata": {},
   "outputs": [
    {
     "data": {
      "text/plain": [
       "array(['VEE', 'KUMAR'], dtype='<U5')"
      ]
     },
     "execution_count": 37,
     "metadata": {},
     "output_type": "execute_result"
    }
   ],
   "source": [
    "np.char.upper(arr)"
   ]
  },
  {
   "cell_type": "code",
   "execution_count": 38,
   "id": "14f17b53-1215-4443-8e4f-5494d85751d2",
   "metadata": {},
   "outputs": [
    {
     "data": {
      "text/plain": [
       "array(['Vee', 'Kumar'], dtype='<U5')"
      ]
     },
     "execution_count": 38,
     "metadata": {},
     "output_type": "execute_result"
    }
   ],
   "source": [
    "np.char.title(arr)"
   ]
  },
  {
   "cell_type": "code",
   "execution_count": 39,
   "id": "efc7b009-31c2-4532-8be6-31eb1f823440",
   "metadata": {},
   "outputs": [
    {
     "data": {
      "text/plain": [
       "array(['Vee', 'Kumar'], dtype='<U5')"
      ]
     },
     "execution_count": 39,
     "metadata": {},
     "output_type": "execute_result"
    }
   ],
   "source": [
    "np.char.capitalize(arr)"
   ]
  },
  {
   "cell_type": "code",
   "execution_count": 40,
   "id": "e6163d7d-aa57-4267-acd3-9831b7ed9efb",
   "metadata": {},
   "outputs": [],
   "source": [
    "# Mathimatical funcions"
   ]
  },
  {
   "cell_type": "code",
   "execution_count": 41,
   "id": "83addfba-4043-4970-a427-963161fda76a",
   "metadata": {},
   "outputs": [
    {
     "data": {
      "text/plain": [
       "array([[4, 4, 1, 1],\n",
       "       [5, 7, 8, 2],\n",
       "       [4, 6, 9, 8]])"
      ]
     },
     "execution_count": 41,
     "metadata": {},
     "output_type": "execute_result"
    }
   ],
   "source": [
    "arr1"
   ]
  },
  {
   "cell_type": "code",
   "execution_count": 42,
   "id": "1b5dba4a-4e1d-466c-81da-2ee3baf97170",
   "metadata": {},
   "outputs": [
    {
     "data": {
      "text/plain": [
       "array([[-0.7568025 , -0.7568025 ,  0.84147098,  0.84147098],\n",
       "       [-0.95892427,  0.6569866 ,  0.98935825,  0.90929743],\n",
       "       [-0.7568025 , -0.2794155 ,  0.41211849,  0.98935825]])"
      ]
     },
     "execution_count": 42,
     "metadata": {},
     "output_type": "execute_result"
    }
   ],
   "source": [
    "np.sin(arr1)"
   ]
  },
  {
   "cell_type": "code",
   "execution_count": 43,
   "id": "3089e85d-a537-43ce-ab54-3a9c8a0d7c7d",
   "metadata": {},
   "outputs": [
    {
     "data": {
      "text/plain": [
       "array([[-0.65364362, -0.65364362,  0.54030231,  0.54030231],\n",
       "       [ 0.28366219,  0.75390225, -0.14550003, -0.41614684],\n",
       "       [-0.65364362,  0.96017029, -0.91113026, -0.14550003]])"
      ]
     },
     "execution_count": 43,
     "metadata": {},
     "output_type": "execute_result"
    }
   ],
   "source": [
    "np.cos(arr1)"
   ]
  },
  {
   "cell_type": "code",
   "execution_count": 44,
   "id": "83351a0e-d3a0-4f8a-b233-f3147c386ab6",
   "metadata": {},
   "outputs": [
    {
     "data": {
      "text/plain": [
       "array([[ 1.15782128,  1.15782128,  1.55740772,  1.55740772],\n",
       "       [-3.38051501,  0.87144798, -6.79971146, -2.18503986],\n",
       "       [ 1.15782128, -0.29100619, -0.45231566, -6.79971146]])"
      ]
     },
     "execution_count": 44,
     "metadata": {},
     "output_type": "execute_result"
    }
   ],
   "source": [
    "np.tan(arr1)"
   ]
  },
  {
   "cell_type": "code",
   "execution_count": 45,
   "id": "687d7682-9bf0-45bc-b547-9e1465aefea5",
   "metadata": {},
   "outputs": [
    {
     "data": {
      "text/plain": [
       "array([[0.60205999, 0.60205999, 0.        , 0.        ],\n",
       "       [0.69897   , 0.84509804, 0.90308999, 0.30103   ],\n",
       "       [0.60205999, 0.77815125, 0.95424251, 0.90308999]])"
      ]
     },
     "execution_count": 45,
     "metadata": {},
     "output_type": "execute_result"
    }
   ],
   "source": [
    "np.log10(arr1)"
   ]
  },
  {
   "cell_type": "code",
   "execution_count": 46,
   "id": "dd8ec66e-8b03-4c31-a41e-926f1967f454",
   "metadata": {},
   "outputs": [
    {
     "data": {
      "text/plain": [
       "array([[5.45981500e+01, 5.45981500e+01, 2.71828183e+00, 2.71828183e+00],\n",
       "       [1.48413159e+02, 1.09663316e+03, 2.98095799e+03, 7.38905610e+00],\n",
       "       [5.45981500e+01, 4.03428793e+02, 8.10308393e+03, 2.98095799e+03]])"
      ]
     },
     "execution_count": 46,
     "metadata": {},
     "output_type": "execute_result"
    }
   ],
   "source": [
    "np.exp(arr1)"
   ]
  },
  {
   "cell_type": "code",
   "execution_count": 47,
   "id": "78c40eb0-051c-43b0-804a-a019cbd47233",
   "metadata": {},
   "outputs": [
    {
     "data": {
      "text/plain": [
       "array([[2.        , 2.        , 1.        , 1.        ],\n",
       "       [2.23606798, 2.64575131, 2.82842712, 1.41421356],\n",
       "       [2.        , 2.44948974, 3.        , 2.82842712]])"
      ]
     },
     "execution_count": 47,
     "metadata": {},
     "output_type": "execute_result"
    }
   ],
   "source": [
    "np.sqrt(arr1)"
   ]
  },
  {
   "cell_type": "code",
   "execution_count": 48,
   "id": "82a55732-c64a-4934-93ad-5554626cb20c",
   "metadata": {},
   "outputs": [
    {
     "data": {
      "text/plain": [
       "array([[16, 16,  1,  1],\n",
       "       [25, 49, 64,  4],\n",
       "       [16, 36, 81, 64]])"
      ]
     },
     "execution_count": 48,
     "metadata": {},
     "output_type": "execute_result"
    }
   ],
   "source": [
    "np.power(arr1,2)"
   ]
  },
  {
   "cell_type": "code",
   "execution_count": 49,
   "id": "781bf8bd-a4b2-4ced-aac4-b2582735779d",
   "metadata": {},
   "outputs": [
    {
     "data": {
      "text/plain": [
       "4.916666666666667"
      ]
     },
     "execution_count": 49,
     "metadata": {},
     "output_type": "execute_result"
    }
   ],
   "source": [
    "np.mean(arr1)"
   ]
  },
  {
   "cell_type": "code",
   "execution_count": 50,
   "id": "07f70b39-eb56-4fb6-a161-8d0a2694f3ff",
   "metadata": {},
   "outputs": [
    {
     "data": {
      "text/plain": [
       "6.909722222222222"
      ]
     },
     "execution_count": 50,
     "metadata": {},
     "output_type": "execute_result"
    }
   ],
   "source": [
    "np.var(arr1)"
   ]
  },
  {
   "cell_type": "code",
   "execution_count": 51,
   "id": "58fe9040-97b5-4d24-8c06-5871dec7c949",
   "metadata": {},
   "outputs": [
    {
     "data": {
      "text/plain": [
       "9"
      ]
     },
     "execution_count": 51,
     "metadata": {},
     "output_type": "execute_result"
    }
   ],
   "source": [
    "np.max(arr1)"
   ]
  },
  {
   "cell_type": "code",
   "execution_count": null,
   "id": "057299ed-0038-4239-96b4-2ca12abdcf41",
   "metadata": {},
   "outputs": [],
   "source": []
  }
 ],
 "metadata": {
  "kernelspec": {
   "display_name": "Python 3 (ipykernel)",
   "language": "python",
   "name": "python3"
  },
  "language_info": {
   "codemirror_mode": {
    "name": "ipython",
    "version": 3
   },
   "file_extension": ".py",
   "mimetype": "text/x-python",
   "name": "python",
   "nbconvert_exporter": "python",
   "pygments_lexer": "ipython3",
   "version": "3.10.8"
  }
 },
 "nbformat": 4,
 "nbformat_minor": 5
}
