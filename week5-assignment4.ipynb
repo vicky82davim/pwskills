{
 "cells": [
  {
   "cell_type": "code",
   "execution_count": 1,
   "id": "eed93839-8890-4a8f-b749-81ab0ff87385",
   "metadata": {},
   "outputs": [
    {
     "data": {
      "text/plain": [
       "'\\nTo achive parallelism, use multiprocesses. Each process is an independent instance and run in processer core.\\n'"
      ]
     },
     "execution_count": 1,
     "metadata": {},
     "output_type": "execute_result"
    }
   ],
   "source": [
    "\"\"\"\n",
    "Q1. What is multiprocessing in python? Why is it useful?\n",
    "\"\"\"\n",
    "\"\"\"\n",
    "To achive parallelism, use multiprocesses. Each process is an independent instance and run in processer core.\n",
    "\"\"\""
   ]
  },
  {
   "cell_type": "code",
   "execution_count": 2,
   "id": "80dfc517-fb74-4d97-a70e-25bb7e4caafc",
   "metadata": {},
   "outputs": [
    {
     "data": {
      "text/plain": [
       "'\\nProcesses in multiprocessing run as independent instance. Whereas thread is the component of process.\\nThread means concurrency and process means parallelism\\n'"
      ]
     },
     "execution_count": 2,
     "metadata": {},
     "output_type": "execute_result"
    }
   ],
   "source": [
    "\"\"\"\n",
    "Q2. What are the differences between multiprocessing and multithreading?\n",
    "\"\"\"\n",
    "\n",
    "\"\"\"\n",
    "Processes in multiprocessing run as independent instance. Whereas thread is the component of process.\n",
    "Thread means concurrency and process means parallelism\n",
    "\"\"\""
   ]
  },
  {
   "cell_type": "code",
   "execution_count": 4,
   "id": "7550e8ec-0c1f-4826-8580-1ad73e44264b",
   "metadata": {},
   "outputs": [
    {
     "name": "stdout",
     "output_type": "stream",
     "text": [
      "This is multiprocessing\n"
     ]
    }
   ],
   "source": [
    "\"\"\"\n",
    "Q3. Write a python code to create a process using the multiprocessing module.\n",
    "\"\"\"\n",
    "import multiprocessing\n",
    "def test():\n",
    "    print(\"This is multiprocessing\")\n",
    "    \n",
    "p1 = multiprocessing.Process(target=test)\n",
    "p1.start()\n",
    "p1.join()"
   ]
  },
  {
   "cell_type": "code",
   "execution_count": null,
   "id": "85512cb4-e930-4510-9cfe-c3a311c7b032",
   "metadata": {},
   "outputs": [],
   "source": [
    "\"\"\"\n",
    "Q4. What is a multiprocessing pool in python? Why is it used?\n",
    "\"\"\"\n",
    "\"\"\"\n",
    "Multiprocessing pool is used to create and manage process pools in Python. \n",
    "Each process within that pool run as independent instance\n",
    "\"\"\""
   ]
  },
  {
   "cell_type": "code",
   "execution_count": 12,
   "id": "96dc050b-9dd7-4d49-8978-6e8f42742ed8",
   "metadata": {},
   "outputs": [
    {
     "name": "stdout",
     "output_type": "stream",
     "text": [
      "[4, 9, 16, 25]\n"
     ]
    }
   ],
   "source": [
    "\"\"\"\n",
    "Q5. How can we create a pool of worker processes in python using the multiprocessing module?\n",
    "\"\"\"\n",
    "import multiprocessing\n",
    "def test1(lis):\n",
    "    return lis**2\n",
    "\n",
    "if __name__ == '__main__':\n",
    "    l1 = [2,3,4,5]\n",
    "    updatedlist = []\n",
    "    with multiprocessing.Pool(processes=4) as pool:\n",
    "        updatedlist = pool.map(test1, l1)\n",
    "    print(updatedlist)"
   ]
  },
  {
   "cell_type": "code",
   "execution_count": 15,
   "id": "1aea4173-4979-4449-9b9f-3cb34fb14a88",
   "metadata": {},
   "outputs": [
    {
     "name": "stdout",
     "output_type": "stream",
     "text": [
      "Process output:  [2, 3, 4, 5]\n",
      "Pool output:  [4, 9, 16, 25]\n",
      "Queue output: \n",
      "5\n",
      "6\n",
      "7\n",
      "Pipe output: 8\n",
      "\n",
      "8\n",
      "27\n",
      "64\n",
      "125\n"
     ]
    }
   ],
   "source": [
    "\"\"\"\n",
    "Q6. Write a python program to create 4 processes, each process should print a different number using the\n",
    "multiprocessing module in python.\n",
    "\"\"\"\n",
    "import multiprocessing, time\n",
    "def test3(i,lis):\n",
    "    lis[i] = lis[i]+1\n",
    "\n",
    "def test2(lis):\n",
    "    return lis**2\n",
    "\n",
    "def queue_put(que, l1):\n",
    "    for n in l1:\n",
    "        que.put(n+3)\n",
    "    que.close()\n",
    "    #time.sleep(1)\n",
    "    \n",
    "def queue_get(que):\n",
    "    print(\"Queue output: \")\n",
    "    while True:\n",
    "        item = que.get()\n",
    "        if item is None:\n",
    "            break\n",
    "        print(item)\n",
    "    que.close()\n",
    "    #time.sleep(1)\n",
    "\n",
    "def pipe_put(pip, lis):\n",
    "    for i in lis:\n",
    "        pip.send(i**3)\n",
    "    pip.close()\n",
    "    time.sleep(1)\n",
    "    \n",
    "def pipe_get(pip):\n",
    "    try:\n",
    "        print(\"Pipe output: \")\n",
    "        while True:\n",
    "            item = pip.recv()\n",
    "            print(item)\n",
    "    except EOFError:\n",
    "        pip.close()\n",
    "    time.sleep(1)\n",
    "    \n",
    "\n",
    "if __name__ == '__main__':\n",
    "    l2 = [2,3,4,5]\n",
    "    l1 = [2,3,4,5]\n",
    "    # using process\n",
    "    p1 = [multiprocessing.Process(target=test3, args=(i,l2)) for i in range(len(l2))]\n",
    "    for t in p1:\n",
    "        t.start()\n",
    "        t.join()\n",
    "    print(\"Process output: \", l2)\n",
    "    \n",
    "     # using Pool\n",
    "    updatedlist = []\n",
    "    with multiprocessing.Pool(processes=4) as pool:\n",
    "        updatedlist = pool.map(test2, l1)\n",
    "    print(\"Pool output: \", updatedlist)\n",
    "    \n",
    "     # using queue\n",
    "    que = multiprocessing.Queue()\n",
    "    m1 = multiprocessing.Process(target=queue_put, args=(que, l1))\n",
    "    m2 = multiprocessing.Process(target=queue_get, args=(que,))\n",
    "    \n",
    "    \n",
    "    m1.start()\n",
    "    m2.start()\n",
    "    que.close()\n",
    "    #m1.join()\n",
    "    #m2.join()\n",
    "    \n",
    "    # using pipe\n",
    "    pip1, pip2 = multiprocessing.Pipe()\n",
    "    m3 = multiprocessing.Process(target=pipe_put, args=(pip1, l1))\n",
    "    m4 = multiprocessing.Process(target=pipe_get, args=(pip2,))\n",
    "    \n",
    "   \n",
    "\n",
    "    m3.start()\n",
    "    m4.start()\n",
    "    \n",
    "    #m3.join()\n",
    "    #m4.join()\n",
    "    "
   ]
  },
  {
   "cell_type": "code",
   "execution_count": null,
   "id": "4024f9d0-223c-4a05-9a1a-1fc43726a6d4",
   "metadata": {},
   "outputs": [],
   "source": []
  }
 ],
 "metadata": {
  "kernelspec": {
   "display_name": "Python 3 (ipykernel)",
   "language": "python",
   "name": "python3"
  },
  "language_info": {
   "codemirror_mode": {
    "name": "ipython",
    "version": 3
   },
   "file_extension": ".py",
   "mimetype": "text/x-python",
   "name": "python",
   "nbconvert_exporter": "python",
   "pygments_lexer": "ipython3",
   "version": "3.10.8"
  }
 },
 "nbformat": 4,
 "nbformat_minor": 5
}
