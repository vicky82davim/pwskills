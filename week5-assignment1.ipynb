{
 "cells": [
  {
   "cell_type": "code",
   "execution_count": 1,
   "id": "14f75310-2328-4c27-82b5-0045a142a6d3",
   "metadata": {},
   "outputs": [
    {
     "data": {
      "text/plain": [
       "'\\nQ1. What is an Exception in python? Write the difference between Exceptions and syntax errors.\\n'"
      ]
     },
     "execution_count": 1,
     "metadata": {},
     "output_type": "execute_result"
    }
   ],
   "source": [
    "\"\"\"\n",
    "Q1. What is an Exception in python? Write the difference between Exceptions and syntax errors.\n",
    "\"\"\"\n",
    "\n",
    "\"\"\"\n",
    "Exception: Any error occur during runting (program execution)\n",
    "Syntax Error: Error caught during program compilation\n",
    "\"\""
   ]
  },
  {
   "cell_type": "code",
   "execution_count": 8,
   "id": "303a96be-d9b2-4367-9538-ed35eadd762d",
   "metadata": {},
   "outputs": [
    {
     "ename": "ZeroDivisionError",
     "evalue": "division by zero",
     "output_type": "error",
     "traceback": [
      "\u001b[0;31m---------------------------------------------------------------------------\u001b[0m",
      "\u001b[0;31mZeroDivisionError\u001b[0m                         Traceback (most recent call last)",
      "Cell \u001b[0;32mIn[8], line 10\u001b[0m\n\u001b[1;32m      7\u001b[0m \u001b[38;5;28;01mdef\u001b[39;00m \u001b[38;5;21mtest\u001b[39m():\n\u001b[1;32m      8\u001b[0m     \u001b[38;5;241m10\u001b[39m\u001b[38;5;241m/\u001b[39m\u001b[38;5;241m0\u001b[39m\n\u001b[0;32m---> 10\u001b[0m \u001b[43mtest\u001b[49m\u001b[43m(\u001b[49m\u001b[43m)\u001b[49m\n",
      "Cell \u001b[0;32mIn[8], line 8\u001b[0m, in \u001b[0;36mtest\u001b[0;34m()\u001b[0m\n\u001b[1;32m      7\u001b[0m \u001b[38;5;28;01mdef\u001b[39;00m \u001b[38;5;21mtest\u001b[39m():\n\u001b[0;32m----> 8\u001b[0m     \u001b[38;5;241;43m10\u001b[39;49m\u001b[38;5;241;43m/\u001b[39;49m\u001b[38;5;241;43m0\u001b[39;49m\n",
      "\u001b[0;31mZeroDivisionError\u001b[0m: division by zero"
     ]
    }
   ],
   "source": [
    "\"\"\"\n",
    "Q2. What happens when an exception is not handled? Explain with an example\n",
    "\"\"\"\n",
    "\"\"\"\n",
    "If exception is not caught, python throw raw exception and halt rest of the program execution\n",
    "\"\"\"\n",
    "def test():\n",
    "    10/0\n",
    "\n",
    "test()"
   ]
  },
  {
   "cell_type": "code",
   "execution_count": 3,
   "id": "c5c126b7-6eca-4180-818f-4b48a0fddd36",
   "metadata": {},
   "outputs": [
    {
     "data": {
      "text/plain": [
       "'\\nQ3. Which Python statements are used to catch and handle exceptions? Explain with an example\\n'"
      ]
     },
     "execution_count": 3,
     "metadata": {},
     "output_type": "execute_result"
    }
   ],
   "source": [
    "\"\"\"\n",
    "Q3. Which Python statements are used to catch and handle exceptions? Explain with an example\n",
    "\"\"\"\n",
    "\n",
    "\"\"\"\n",
    "except if used with try to catch and handle the exception\n",
    "\"\"\n"
   ]
  },
  {
   "cell_type": "code",
   "execution_count": 10,
   "id": "a4a42909-e756-4579-8ac2-e06ab4d586dd",
   "metadata": {},
   "outputs": [
    {
     "name": "stdout",
     "output_type": "stream",
     "text": [
      "division by zero\n"
     ]
    }
   ],
   "source": [
    "\"\"\"\n",
    "Q4. Explain with an example:\n",
    "\n",
    "a. try and else\n",
    "b. finally\n",
    "c. raise\n",
    "\"\"\"\n",
    "\n",
    "def test1():\n",
    "    try:\n",
    "        10/0\n",
    "    except ZeroDivisionError as e:\n",
    "        print(e)\n",
    "\n",
    "test1()\n"
   ]
  },
  {
   "cell_type": "code",
   "execution_count": 13,
   "id": "420d0f3b-3741-4da5-abcc-870d4dcd956a",
   "metadata": {},
   "outputs": [
    {
     "name": "stdout",
     "output_type": "stream",
     "text": [
      "Age cannot be less then 0, custom exception\n"
     ]
    }
   ],
   "source": [
    "\"\"\"\n",
    "Q5. What are Custom Exceptions in python? Why do we need Custom Exceptions? Explain with an example\n",
    "\"\"\"\n",
    "\n",
    "\"\"\"\n",
    "Custom exception are used to handle errors throw by our cutome code or custom error and which is not handled by python\n",
    "\"\"\"\n",
    "def test2(age):\n",
    "    try:\n",
    "        if age<0:\n",
    "            print(\"Age cannot be less then 0, custom exception\")\n",
    "    except ZeroDivisionError as e:\n",
    "        print(e)\n",
    "\n",
    "test2(-1)\n"
   ]
  },
  {
   "cell_type": "code",
   "execution_count": 14,
   "id": "9c1fa4b0-3b56-4065-99d9-f6f2202e4e87",
   "metadata": {},
   "outputs": [
    {
     "name": "stdout",
     "output_type": "stream",
     "text": [
      "Age cannot be less then 0, custom exception\n"
     ]
    }
   ],
   "source": [
    "\"\"\"\n",
    "Q6. Create custom exception class. Use this clsss to handle an exception.\n",
    "\"\"\"\n",
    "class my_custom_exception(Exception):\n",
    "    def __init__(self, message):\n",
    "        self.message = message\n",
    "\n",
    "def test3(age):\n",
    "    try:\n",
    "        if age<0:\n",
    "            raise my_custom_exception(\"Age cannot be less then 0, custom exception\")\n",
    "    except my_custom_exception as e:\n",
    "        print(e)\n",
    "\n",
    "test3(-1)"
   ]
  },
  {
   "cell_type": "code",
   "execution_count": null,
   "id": "3b6d2586-ffff-4993-824b-62f5aed8091b",
   "metadata": {},
   "outputs": [],
   "source": []
  }
 ],
 "metadata": {
  "kernelspec": {
   "display_name": "Python 3 (ipykernel)",
   "language": "python",
   "name": "python3"
  },
  "language_info": {
   "codemirror_mode": {
    "name": "ipython",
    "version": 3
   },
   "file_extension": ".py",
   "mimetype": "text/x-python",
   "name": "python",
   "nbconvert_exporter": "python",
   "pygments_lexer": "ipython3",
   "version": "3.10.8"
  }
 },
 "nbformat": 4,
 "nbformat_minor": 5
}
