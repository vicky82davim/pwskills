{
 "cells": [
  {
   "cell_type": "code",
   "execution_count": 1,
   "id": "00948da5-c476-43e5-a1aa-699ae1a06b4b",
   "metadata": {},
   "outputs": [
    {
     "data": {
      "text/plain": [
       "'\\nSql: it is relational database\\nNoSql: Non structural database\\n'"
      ]
     },
     "execution_count": 1,
     "metadata": {},
     "output_type": "execute_result"
    }
   ],
   "source": [
    "\"\"\"\n",
    "Q1. What is a database? Differentiate between SQL and NoSQL databases.\n",
    "\"\"\"\n",
    "\n",
    "\"\"\"\n",
    "Sql: it is relational database\n",
    "NoSql: Non structural database\n",
    "\"\"\""
   ]
  },
  {
   "cell_type": "code",
   "execution_count": 2,
   "id": "954389ca-1037-4727-9882-7b92cef7e9ea",
   "metadata": {},
   "outputs": [
    {
     "data": {
      "text/plain": [
       "'\\nData Definition Language (DDL) is used to \\ncreate and modify the structure of objects in a database using predefined commands and a specific syntax\\n\\nCreate: Used to create data in DB\\nDrop: Drop is used to delete table from DB\\nAlter: Change table column \\nTruncate: delete rows or data from table\\n\\n'"
      ]
     },
     "execution_count": 2,
     "metadata": {},
     "output_type": "execute_result"
    }
   ],
   "source": [
    "\"\"\"\n",
    "Q2. What is DDL? Explain why CREATE, DROP, ALTER, and TRUNCATE are used with an example.\n",
    "\"\"\"\n",
    "\n",
    "\"\"\"\n",
    "Data Definition Language (DDL) is used to \n",
    "create and modify the structure of objects in a database using predefined commands and a specific syntax\n",
    "\n",
    "Create: Used to create data in DB\n",
    "Drop: Drop is used to delete table from DB\n",
    "Alter: Change table column \n",
    "Truncate: delete rows or data from table\n",
    "\n",
    "\"\"\""
   ]
  },
  {
   "cell_type": "code",
   "execution_count": 3,
   "id": "307d1e09-d94c-4c72-b12e-d4f64425ade0",
   "metadata": {},
   "outputs": [
    {
     "data": {
      "text/plain": [
       "'\\nDML: Data manipulation language\\nInsert: Insert data in DB table\\nUpdate: Update existing data in DB table\\nDelete: Delete data from DB table\\n'"
      ]
     },
     "execution_count": 3,
     "metadata": {},
     "output_type": "execute_result"
    }
   ],
   "source": [
    "\"\"\"\n",
    "Q3. What is DML? Explain INSERT, UPDATE, and DELETE with an example.\n",
    "\"\"\"\n",
    "\n",
    "\"\"\"\n",
    "DML: Data manipulation language\n",
    "Insert: Insert data in DB table\n",
    "Update: Update existing data in DB table\n",
    "Delete: Delete data from DB table\n",
    "\"\"\""
   ]
  },
  {
   "cell_type": "code",
   "execution_count": 4,
   "id": "ae8318a0-e3d0-4842-8279-674fc027f634",
   "metadata": {},
   "outputs": [
    {
     "data": {
      "text/plain": [
       "'\\nDQL: Data query language\\nSelect: Fetch data from DB tables\\n'"
      ]
     },
     "execution_count": 4,
     "metadata": {},
     "output_type": "execute_result"
    }
   ],
   "source": [
    "\"\"\"\n",
    "Q4. What is DQL? Explain SELECT with an example.\n",
    "\"\"\"\n",
    "\n",
    "\"\"\"\n",
    "DQL: Data query language\n",
    "Select: Fetch data from DB tables\n",
    "\"\"\""
   ]
  },
  {
   "cell_type": "code",
   "execution_count": 5,
   "id": "cec8346a-08ab-4e4d-bdf4-aca765ace60d",
   "metadata": {},
   "outputs": [
    {
     "data": {
      "text/plain": [
       "'\\nPrimary Key: Uniquely identify single row in a able\\nForeign Key: Foreign key is used to make relationship between two tables. \\nPK of one table can be FK for another table \\n'"
      ]
     },
     "execution_count": 5,
     "metadata": {},
     "output_type": "execute_result"
    }
   ],
   "source": [
    "\"\"\"\n",
    "Q5. Explain Primary Key and Foreign Key.\n",
    "\"\"\"\n",
    "\n",
    "\"\"\"\n",
    "Primary Key: Uniquely identify single row in a able\n",
    "Foreign Key: Foreign key is used to make relationship between two tables. \n",
    "PK of one table can be FK for another table \n",
    "\"\"\""
   ]
  },
  {
   "cell_type": "code",
   "execution_count": 8,
   "id": "c55d8e3f-c74e-4af2-b149-8c89ae7248ad",
   "metadata": {},
   "outputs": [
    {
     "data": {
      "text/plain": [
       "'\\nimport mysql.connector\\nmydb = mysql.connector.connect(\\n  host=\"localhost\",\\n  user=\"abc\",\\n  password=\"password\"\\n)\\nmycursor = mydb.cursor()\\nmycursor.execute(\"create database if not exists test2\")\\n\\nCursor: Cursor is a pointer or object for connected mysql\\nExecute: Execute is used to execute any query i connected mysql DB\\n'"
      ]
     },
     "execution_count": 8,
     "metadata": {},
     "output_type": "execute_result"
    }
   ],
   "source": [
    "\"\"\"\n",
    "Q6. Write a python code to connect MySQL to python. Explain the cursor() and execute() method.\n",
    "\"\"\"\n",
    "\"\"\"\n",
    "import mysql.connector\n",
    "mydb = mysql.connector.connect(\n",
    "  host=\"localhost\",\n",
    "  user=\"abc\",\n",
    "  password=\"password\"\n",
    ")\n",
    "mycursor = mydb.cursor()\n",
    "mycursor.execute(\"create database if not exists test2\")\n",
    "\n",
    "Cursor: Cursor is a pointer or object for connected mysql\n",
    "Execute: Execute is used to execute any query i connected mysql DB\n",
    "\"\"\""
   ]
  },
  {
   "cell_type": "code",
   "execution_count": 9,
   "id": "58f617cb-be79-4349-a9fa-5ee71fad2c56",
   "metadata": {},
   "outputs": [
    {
     "data": {
      "text/plain": [
       "'\\nFrom, where, group by, having, select, order by, limit\\n'"
      ]
     },
     "execution_count": 9,
     "metadata": {},
     "output_type": "execute_result"
    }
   ],
   "source": [
    "\"\"\"\n",
    "Q7. Give the order of execution of SQL clauses in an SQL query.\n",
    "\"\"\"\n",
    "\n",
    "\"\"\"\n",
    "From, where, group by, having, select, order by, limit\n",
    "\"\"\""
   ]
  },
  {
   "cell_type": "code",
   "execution_count": null,
   "id": "08b5da8e-d037-4e9c-b434-8244f5de3198",
   "metadata": {},
   "outputs": [],
   "source": []
  }
 ],
 "metadata": {
  "kernelspec": {
   "display_name": "Python 3 (ipykernel)",
   "language": "python",
   "name": "python3"
  },
  "language_info": {
   "codemirror_mode": {
    "name": "ipython",
    "version": 3
   },
   "file_extension": ".py",
   "mimetype": "text/x-python",
   "name": "python",
   "nbconvert_exporter": "python",
   "pygments_lexer": "ipython3",
   "version": "3.10.8"
  }
 },
 "nbformat": 4,
 "nbformat_minor": 5
}
