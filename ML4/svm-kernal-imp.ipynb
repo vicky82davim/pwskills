{
 "cells": [
  {
   "cell_type": "code",
   "execution_count": 22,
   "id": "37effb14-eb03-4a59-b5a4-eb763356afe6",
   "metadata": {},
   "outputs": [],
   "source": [
    "import numpy as np\n",
    "import matplotlib.pyplot as plt\n",
    "\n",
    "x = np.linspace(-5.0,5.0,100)\n",
    "y=np.sqrt(10**2 - x**2)\n",
    "y=np.hstack([y,-y])\n",
    "x = np.hstack([x,-x])"
   ]
  },
  {
   "cell_type": "code",
   "execution_count": 23,
   "id": "dc4ca00a-1251-470c-88a9-4ed589db7e28",
   "metadata": {},
   "outputs": [],
   "source": [
    "x1 = np.linspace(-5.0,5.0,100)\n",
    "y1=np.sqrt(5**2 - x1**2)\n",
    "y1=np.hstack([y1,-y1])\n",
    "x1 = np.hstack([x1,-x1])"
   ]
  },
  {
   "cell_type": "code",
   "execution_count": 24,
   "id": "ebb54339-6d20-4c33-8de5-0f430b9bb64f",
   "metadata": {},
   "outputs": [
    {
     "data": {
      "text/plain": [
       "<matplotlib.collections.PathCollection at 0x7feca86ceb60>"
      ]
     },
     "execution_count": 24,
     "metadata": {},
     "output_type": "execute_result"
    },
    {
     "data": {
      "image/png": "[encoded data removed]",
      "text/plain": [
       "<Figure size 640x480 with 1 Axes>"
      ]
     },
     "metadata": {},
     "output_type": "display_data"
    }
   ],
   "source": [
    "plt.scatter(y,x)\n",
    "plt.scatter(y1,x1)"
   ]
  },
  {
   "cell_type": "code",
   "execution_count": 25,
   "id": "4da22d5b-ca5f-4ad6-8554-8e3236b92bab",
   "metadata": {},
   "outputs": [
    {
     "name": "stderr",
     "output_type": "stream",
     "text": [
      "/tmp/ipykernel_77/171347259.py:6: FutureWarning:\n",
      "\n",
      "The frame.append method is deprecated and will be removed from pandas in a future version. Use pandas.concat instead.\n",
      "\n"
     ]
    },
    {
     "data": {
      "text/html": [
       "<div>\n",
       "<style scoped>\n",
       "    .dataframe tbody tr th:only-of-type {\n",
       "        vertical-align: middle;\n",
       "    }\n",
       "\n",
       "    .dataframe tbody tr th {\n",
       "        vertical-align: top;\n",
       "    }\n",
       "\n",
       "    .dataframe thead th {\n",
       "        text-align: right;\n",
       "    }\n",
       "</style>\n",
       "<table border=\"1\" class=\"dataframe\">\n",
       "  <thead>\n",
       "    <tr style=\"text-align: right;\">\n",
       "      <th></th>\n",
       "      <th>X1</th>\n",
       "      <th>X2</th>\n",
       "      <th>Y</th>\n",
       "    </tr>\n",
       "  </thead>\n",
       "  <tbody>\n",
       "    <tr>\n",
       "      <th>0</th>\n",
       "      <td>8.660254</td>\n",
       "      <td>-5.00000</td>\n",
       "      <td>0</td>\n",
       "    </tr>\n",
       "    <tr>\n",
       "      <th>1</th>\n",
       "      <td>8.717792</td>\n",
       "      <td>-4.89899</td>\n",
       "      <td>0</td>\n",
       "    </tr>\n",
       "    <tr>\n",
       "      <th>2</th>\n",
       "      <td>8.773790</td>\n",
       "      <td>-4.79798</td>\n",
       "      <td>0</td>\n",
       "    </tr>\n",
       "    <tr>\n",
       "      <th>3</th>\n",
       "      <td>8.828277</td>\n",
       "      <td>-4.69697</td>\n",
       "      <td>0</td>\n",
       "    </tr>\n",
       "    <tr>\n",
       "      <th>4</th>\n",
       "      <td>8.881281</td>\n",
       "      <td>-4.59596</td>\n",
       "      <td>0</td>\n",
       "    </tr>\n",
       "  </tbody>\n",
       "</table>\n",
       "</div>"
      ],
      "text/plain": [
       "         X1       X2  Y\n",
       "0  8.660254 -5.00000  0\n",
       "1  8.717792 -4.89899  0\n",
       "2  8.773790 -4.79798  0\n",
       "3  8.828277 -4.69697  0\n",
       "4  8.881281 -4.59596  0"
      ]
     },
     "execution_count": 25,
     "metadata": {},
     "output_type": "execute_result"
    }
   ],
   "source": [
    "import pandas as pd\n",
    "df1=pd.DataFrame(np.vstack([y,x]).T,columns=['X1', 'X2'])\n",
    "df1['Y']=0\n",
    "df2=pd.DataFrame(np.vstack([y1,x1]).T,columns=['X1', 'X2'])\n",
    "df2['Y']=1\n",
    "df=df1.append(df2)\n",
    "df.head(5)"
   ]
  },
  {
   "cell_type": "code",
   "execution_count": 26,
   "id": "2af3ebcb-a58a-4916-a217-55102da03711",
   "metadata": {},
   "outputs": [
    {
     "data": {
      "text/html": [
       "<div>\n",
       "<style scoped>\n",
       "    .dataframe tbody tr th:only-of-type {\n",
       "        vertical-align: middle;\n",
       "    }\n",
       "\n",
       "    .dataframe tbody tr th {\n",
       "        vertical-align: top;\n",
       "    }\n",
       "\n",
       "    .dataframe thead th {\n",
       "        text-align: right;\n",
       "    }\n",
       "</style>\n",
       "<table border=\"1\" class=\"dataframe\">\n",
       "  <thead>\n",
       "    <tr style=\"text-align: right;\">\n",
       "      <th></th>\n",
       "      <th>X1</th>\n",
       "      <th>X2</th>\n",
       "      <th>Y</th>\n",
       "    </tr>\n",
       "  </thead>\n",
       "  <tbody>\n",
       "    <tr>\n",
       "      <th>195</th>\n",
       "      <td>-1.969049</td>\n",
       "      <td>-4.59596</td>\n",
       "      <td>1</td>\n",
       "    </tr>\n",
       "    <tr>\n",
       "      <th>196</th>\n",
       "      <td>-1.714198</td>\n",
       "      <td>-4.69697</td>\n",
       "      <td>1</td>\n",
       "    </tr>\n",
       "    <tr>\n",
       "      <th>197</th>\n",
       "      <td>-1.406908</td>\n",
       "      <td>-4.79798</td>\n",
       "      <td>1</td>\n",
       "    </tr>\n",
       "    <tr>\n",
       "      <th>198</th>\n",
       "      <td>-0.999949</td>\n",
       "      <td>-4.89899</td>\n",
       "      <td>1</td>\n",
       "    </tr>\n",
       "    <tr>\n",
       "      <th>199</th>\n",
       "      <td>-0.000000</td>\n",
       "      <td>-5.00000</td>\n",
       "      <td>1</td>\n",
       "    </tr>\n",
       "  </tbody>\n",
       "</table>\n",
       "</div>"
      ],
      "text/plain": [
       "           X1       X2  Y\n",
       "195 -1.969049 -4.59596  1\n",
       "196 -1.714198 -4.69697  1\n",
       "197 -1.406908 -4.79798  1\n",
       "198 -0.999949 -4.89899  1\n",
       "199 -0.000000 -5.00000  1"
      ]
     },
     "execution_count": 26,
     "metadata": {},
     "output_type": "execute_result"
    }
   ],
   "source": [
    "df.tail()"
   ]
  },
  {
   "cell_type": "code",
   "execution_count": 27,
   "id": "df58dc6e-fc6f-4567-8268-4b1782654dd3",
   "metadata": {},
   "outputs": [
    {
     "data": {
      "text/html": [
       "<div>\n",
       "<style scoped>\n",
       "    .dataframe tbody tr th:only-of-type {\n",
       "        vertical-align: middle;\n",
       "    }\n",
       "\n",
       "    .dataframe tbody tr th {\n",
       "        vertical-align: top;\n",
       "    }\n",
       "\n",
       "    .dataframe thead th {\n",
       "        text-align: right;\n",
       "    }\n",
       "</style>\n",
       "<table border=\"1\" class=\"dataframe\">\n",
       "  <thead>\n",
       "    <tr style=\"text-align: right;\">\n",
       "      <th></th>\n",
       "      <th>X1</th>\n",
       "      <th>X2</th>\n",
       "      <th>Y</th>\n",
       "      <th>X1_Square</th>\n",
       "      <th>X2_Square</th>\n",
       "      <th>X1*X2</th>\n",
       "    </tr>\n",
       "  </thead>\n",
       "  <tbody>\n",
       "    <tr>\n",
       "      <th>0</th>\n",
       "      <td>8.660254</td>\n",
       "      <td>-5.00000</td>\n",
       "      <td>0</td>\n",
       "      <td>75.000000</td>\n",
       "      <td>25.000000</td>\n",
       "      <td>-43.301270</td>\n",
       "    </tr>\n",
       "    <tr>\n",
       "      <th>1</th>\n",
       "      <td>8.717792</td>\n",
       "      <td>-4.89899</td>\n",
       "      <td>0</td>\n",
       "      <td>75.999898</td>\n",
       "      <td>24.000102</td>\n",
       "      <td>-42.708375</td>\n",
       "    </tr>\n",
       "    <tr>\n",
       "      <th>2</th>\n",
       "      <td>8.773790</td>\n",
       "      <td>-4.79798</td>\n",
       "      <td>0</td>\n",
       "      <td>76.979390</td>\n",
       "      <td>23.020610</td>\n",
       "      <td>-42.096467</td>\n",
       "    </tr>\n",
       "    <tr>\n",
       "      <th>3</th>\n",
       "      <td>8.828277</td>\n",
       "      <td>-4.69697</td>\n",
       "      <td>0</td>\n",
       "      <td>77.938476</td>\n",
       "      <td>22.061524</td>\n",
       "      <td>-41.466150</td>\n",
       "    </tr>\n",
       "    <tr>\n",
       "      <th>4</th>\n",
       "      <td>8.881281</td>\n",
       "      <td>-4.59596</td>\n",
       "      <td>0</td>\n",
       "      <td>78.877155</td>\n",
       "      <td>21.122845</td>\n",
       "      <td>-40.818009</td>\n",
       "    </tr>\n",
       "  </tbody>\n",
       "</table>\n",
       "</div>"
      ],
      "text/plain": [
       "         X1       X2  Y  X1_Square  X2_Square      X1*X2\n",
       "0  8.660254 -5.00000  0  75.000000  25.000000 -43.301270\n",
       "1  8.717792 -4.89899  0  75.999898  24.000102 -42.708375\n",
       "2  8.773790 -4.79798  0  76.979390  23.020610 -42.096467\n",
       "3  8.828277 -4.69697  0  77.938476  22.061524 -41.466150\n",
       "4  8.881281 -4.59596  0  78.877155  21.122845 -40.818009"
      ]
     },
     "execution_count": 27,
     "metadata": {},
     "output_type": "execute_result"
    }
   ],
   "source": [
    "# Polynmial Kernel\n",
    "df['X1_Square'] = df['X1']**2\n",
    "df['X2_Square'] = df['X2']**2\n",
    "df['X1*X2'] = df['X1']*df['X2']\n",
    "df.head()"
   ]
  },
  {
   "cell_type": "code",
   "execution_count": 28,
   "id": "4c8eb02e-6e3f-4f7f-aa39-d163be38e2e8",
   "metadata": {},
   "outputs": [],
   "source": [
    "## Independent and dependent feature\n",
    "X = df[['X1_Square', 'X2_Square','X1*X2']]\n",
    "y=df['Y']"
   ]
  },
  {
   "cell_type": "code",
   "execution_count": 29,
   "id": "1483ee49-c8ca-4fb4-90c5-282fe68f8aad",
   "metadata": {},
   "outputs": [],
   "source": [
    "from sklearn.model_selection import train_test_split\n",
    "X_train, X_test, y_train,y_test = train_test_split(X,y, test_size=0.25, random_state=0)"
   ]
  },
  {
   "cell_type": "code",
   "execution_count": 30,
   "id": "a386e964-7c13-4d0f-81ee-d74c33256f90",
   "metadata": {},
   "outputs": [
    {
     "data": {
      "text/html": [
       "<div>\n",
       "<style scoped>\n",
       "    .dataframe tbody tr th:only-of-type {\n",
       "        vertical-align: middle;\n",
       "    }\n",
       "\n",
       "    .dataframe tbody tr th {\n",
       "        vertical-align: top;\n",
       "    }\n",
       "\n",
       "    .dataframe thead th {\n",
       "        text-align: right;\n",
       "    }\n",
       "</style>\n",
       "<table border=\"1\" class=\"dataframe\">\n",
       "  <thead>\n",
       "    <tr style=\"text-align: right;\">\n",
       "      <th></th>\n",
       "      <th>X1_Square</th>\n",
       "      <th>X2_Square</th>\n",
       "      <th>X1*X2</th>\n",
       "    </tr>\n",
       "  </thead>\n",
       "  <tbody>\n",
       "    <tr>\n",
       "      <th>50</th>\n",
       "      <td>24.997449</td>\n",
       "      <td>0.002551</td>\n",
       "      <td>0.252512</td>\n",
       "    </tr>\n",
       "    <tr>\n",
       "      <th>63</th>\n",
       "      <td>98.140496</td>\n",
       "      <td>1.859504</td>\n",
       "      <td>13.508984</td>\n",
       "    </tr>\n",
       "    <tr>\n",
       "      <th>112</th>\n",
       "      <td>10.651974</td>\n",
       "      <td>14.348026</td>\n",
       "      <td>-12.362637</td>\n",
       "    </tr>\n",
       "    <tr>\n",
       "      <th>159</th>\n",
       "      <td>99.079176</td>\n",
       "      <td>0.920824</td>\n",
       "      <td>9.551676</td>\n",
       "    </tr>\n",
       "    <tr>\n",
       "      <th>83</th>\n",
       "      <td>13.549638</td>\n",
       "      <td>11.450362</td>\n",
       "      <td>12.455852</td>\n",
       "    </tr>\n",
       "  </tbody>\n",
       "</table>\n",
       "</div>"
      ],
      "text/plain": [
       "     X1_Square  X2_Square      X1*X2\n",
       "50   24.997449   0.002551   0.252512\n",
       "63   98.140496   1.859504  13.508984\n",
       "112  10.651974  14.348026 -12.362637\n",
       "159  99.079176   0.920824   9.551676\n",
       "83   13.549638  11.450362  12.455852"
      ]
     },
     "execution_count": 30,
     "metadata": {},
     "output_type": "execute_result"
    }
   ],
   "source": [
    "X_train.head()"
   ]
  },
  {
   "cell_type": "code",
   "execution_count": 31,
   "id": "74f66f17-49ea-4f68-9fdc-95975cdac569",
   "metadata": {},
   "outputs": [],
   "source": [
    "%matplotlib inline"
   ]
  },
  {
   "cell_type": "code",
   "execution_count": 32,
   "id": "a6cc05db-e241-446b-b0d8-4bc2755c6c53",
   "metadata": {},
   "outputs": [
    {
     "name": "stdout",
     "output_type": "stream",
     "text": [
      "Requirement already satisfied: plotly in /opt/conda/lib/python3.10/site-packages (5.18.0)\n",
      "Requirement already satisfied: tenacity>=6.2.0 in /opt/conda/lib/python3.10/site-packages (from plotly) (8.2.3)\n",
      "Requirement already satisfied: packaging in /opt/conda/lib/python3.10/site-packages (from plotly) (22.0)\n"
     ]
    }
   ],
   "source": [
    "!pip install plotly"
   ]
  },
  {
   "cell_type": "code",
   "execution_count": 33,
   "id": "ec0ee2ad-7c5f-4034-b31e-aeb325f8e214",
   "metadata": {},
   "outputs": [
    {
     "data": {
      "text/html": [
       "<div>\n",
       "<style scoped>\n",
       "    .dataframe tbody tr th:only-of-type {\n",
       "        vertical-align: middle;\n",
       "    }\n",
       "\n",
       "    .dataframe tbody tr th {\n",
       "        vertical-align: top;\n",
       "    }\n",
       "\n",
       "    .dataframe thead th {\n",
       "        text-align: right;\n",
       "    }\n",
       "</style>\n",
       "<table border=\"1\" class=\"dataframe\">\n",
       "  <thead>\n",
       "    <tr style=\"text-align: right;\">\n",
       "      <th></th>\n",
       "      <th>X1</th>\n",
       "      <th>X2</th>\n",
       "      <th>Y</th>\n",
       "      <th>X1_Square</th>\n",
       "      <th>X2_Square</th>\n",
       "      <th>X1*X2</th>\n",
       "    </tr>\n",
       "  </thead>\n",
       "  <tbody>\n",
       "    <tr>\n",
       "      <th>0</th>\n",
       "      <td>8.660254</td>\n",
       "      <td>-5.00000</td>\n",
       "      <td>0</td>\n",
       "      <td>75.000000</td>\n",
       "      <td>25.000000</td>\n",
       "      <td>-43.301270</td>\n",
       "    </tr>\n",
       "    <tr>\n",
       "      <th>1</th>\n",
       "      <td>8.717792</td>\n",
       "      <td>-4.89899</td>\n",
       "      <td>0</td>\n",
       "      <td>75.999898</td>\n",
       "      <td>24.000102</td>\n",
       "      <td>-42.708375</td>\n",
       "    </tr>\n",
       "    <tr>\n",
       "      <th>2</th>\n",
       "      <td>8.773790</td>\n",
       "      <td>-4.79798</td>\n",
       "      <td>0</td>\n",
       "      <td>76.979390</td>\n",
       "      <td>23.020610</td>\n",
       "      <td>-42.096467</td>\n",
       "    </tr>\n",
       "    <tr>\n",
       "      <th>3</th>\n",
       "      <td>8.828277</td>\n",
       "      <td>-4.69697</td>\n",
       "      <td>0</td>\n",
       "      <td>77.938476</td>\n",
       "      <td>22.061524</td>\n",
       "      <td>-41.466150</td>\n",
       "    </tr>\n",
       "    <tr>\n",
       "      <th>4</th>\n",
       "      <td>8.881281</td>\n",
       "      <td>-4.59596</td>\n",
       "      <td>0</td>\n",
       "      <td>78.877155</td>\n",
       "      <td>21.122845</td>\n",
       "      <td>-40.818009</td>\n",
       "    </tr>\n",
       "  </tbody>\n",
       "</table>\n",
       "</div>"
      ],
      "text/plain": [
       "         X1       X2  Y  X1_Square  X2_Square      X1*X2\n",
       "0  8.660254 -5.00000  0  75.000000  25.000000 -43.301270\n",
       "1  8.717792 -4.89899  0  75.999898  24.000102 -42.708375\n",
       "2  8.773790 -4.79798  0  76.979390  23.020610 -42.096467\n",
       "3  8.828277 -4.69697  0  77.938476  22.061524 -41.466150\n",
       "4  8.881281 -4.59596  0  78.877155  21.122845 -40.818009"
      ]
     },
     "execution_count": 33,
     "metadata": {},
     "output_type": "execute_result"
    }
   ],
   "source": [
    "df.head()"
   ]
  },
  {
   "cell_type": "code",
   "execution_count": 36,
   "id": "b6d28da4-6a2f-4de1-af47-de8b0e550119",
   "metadata": {},
   "outputs": [
    {
     "data": {
      "application/vnd.plotly.v1+json": {
       "config": {
        "plotlyServerURL": "https://plot.ly"
       },
       "data": [
        {
         "hovertemplate": "X1_Square=%{x}<br>X2_Square=%{y}<br>X1*X2=%{z}<br>Y=%{marker.color}<extra></extra>",
         "legendgroup": "",
         "marker": {
          "color": [
           0,
           0,
           0,
           0,
           0,
           0,
           0,
           0,
           0,
           0,
           0,
           0,
           0,
           0,
           0,
           0,
           0,
           0,
           0,
           0,
           0,
           0,
           0,
           0,
           0,
           0,
           0,
           0,
           0,
           0,
           0,
           0,
           0,
           0,
           0,
           0,
           0,
           0,
           0,
           0,
           0,
           0,
           0,
           0,
           0,
           0,
           0,
           0,
           0,
           0,
           0,
           0,
           0,
           0,
           0,
           0,
           0,
           0,
           0,
           0,
           0,
           0,
           0,
           0,
           0,
           0,
           0,
           0,
           0,
           0,
           0,
           0,
           0,
           0,
           0,
           0,
           0,
           0,
           0,
           0,
           0,
           0,
           0,
           0,
           0,
           0,
           0,
           0,
           0,
           0,
           0,
           0,
           0,
           0,
           0,
           0,
           0,
           0,
           0,
           0,
           0,
           0,
           0,
           0,
           0,
           0,
           0,
           0,
           0,
           0,
           0,
           0,
           0,
           0,
           0,
           0,
           0,
           0,
           0,
           0,
           0,
           0,
           0,
           0,
           0,
           0,
           0,
           0,
           0,
           0,
           0,
           0,
           0,
           0,
           0,
           0,
           0,
           0,
           0,
           0,
           0,
           0,
           0,
           0,
           0,
           0,
           0,
           0,
           0,
           0,
           0,
           0,
           0,
           0,
           0,
           0,
           0,
           0,
           0,
           0,
           0,
           0,
           0,
           0,
           0,
           0,
           0,
           0,
           0,
           0,
           0,
           0,
           0,
           0,
           0,
           0,
           0,
           0,
           0,
           0,
           0,
           0,
           0,
           0,
           0,
           0,
           0,
           0,
           0,
           0,
           0,
           0,
           0,
           0,
           0,
           0,
           0,
           0,
           0,
           0,
           1,
           1,
           1,
           1,
           1,
           1,
           1,
           1,
           1,
           1,
           1,
           1,
           1,
           1,
           1,
           1,
           1,
           1,
           1,
           1,
           1,
           1,
           1,
           1,
           1,
           1,
           1,
           1,
           1,
           1,
           1,
           1,
           1,
           1,
           1,
           1,
           1,
           1,
           1,
           1,
           1,
           1,
           1,
           1,
           1,
           1,
           1,
           1,
           1,
           1,
           1,
           1,
           1,
           1,
           1,
           1,
           1,
           1,
           1,
           1,
           1,
           1,
           1,
           1,
           1,
           1,
           1,
           1,
           1,
           1,
           1,
           1,
           1,
           1,
           1,
           1,
           1,
           1,
           1,
           1,
           1,
           1,
           1,
           1,
           1,
           1,
           1,
           1,
           1,
           1,
           1,
           1,
           1,
           1,
           1,
           1,
           1,
           1,
           1,
           1,
           1,
           1,
           1,
           1,
           1,
           1,
           1,
           1,
           1,
           1,
           1,
           1,
           1,
           1,
           1,
           1,
           1,
           1,
           1,
           1,
           1,
           1,
           1,
           1,
           1,
           1,
           1,
           1,
           1,
           1,
           1,
           1,
           1,
           1,
           1,
           1,
           1,
           1,
           1,
           1,
           1,
           1,
           1,
           1,
           1,
           1,
           1,
           1,
           1,
           1,
           1,
           1,
           1,
           1,
           1,
           1,
           1,
           1,
           1,
           1,
           1,
           1,
           1,
           1,
           1,
           1,
           1,
           1,
           1,
           1,
           1,
           1,
           1,
           1,
           1,
           1,
           1,
           1,
           1,
           1,
           1,
           1,
           1,
           1,
           1,
           1,
           1,
           1,
           1,
           1,
           1,
           1,
           1,
           1,
           1,
           1,
           1,
           1,
           1,
           1
          ],
          "coloraxis": "coloraxis",
          "symbol": "circle"
         },
         "mode": "markers",
         "name": "",
         "scene": "scene",
         "showlegend": false,
         "type": "scatter3d",
         "x": [
          75.00000000000001,
          75.99989796959494,
          76.97938985817774,
          77.93847566574841,
          78.87715539230689,
          79.79542903785328,
          80.69329660238752,
          81.57075808590962,
          82.42781348841956,
          83.26446280991735,
          84.08070605040302,
          84.87654320987653,
          85.65197428833793,
          86.40699928578718,
          87.14161820222425,
          87.85583103764922,
          88.54963779206203,
          89.2230384654627,
          89.87603305785123,
          90.50862156922764,
          91.12080399959189,
          91.71258034894397,
          92.28395061728395,
          92.83491480461178,
          93.36547291092745,
          93.87562493623098,
          94.36537088052238,
          94.83471074380165,
          95.28364452606877,
          95.71217222732375,
          96.12029384756657,
          96.50800938679727,
          96.87531884501581,
          97.22222222222224,
          97.54871951841648,
          97.8548107335986,
          98.14049586776859,
          98.40577492092645,
          98.65064789307212,
          98.87511478420569,
          99.0791755943271,
          99.2628303234364,
          99.42607897153351,
          99.5689215386185,
          99.69135802469137,
          99.79338842975206,
          99.87501275380063,
          99.93623099683704,
          99.97704315886133,
          99.99744923987349,
          99.99744923987349,
          99.97704315886133,
          99.93623099683704,
          99.87501275380063,
          99.79338842975206,
          99.69135802469137,
          99.5689215386185,
          99.42607897153351,
          99.2628303234364,
          99.0791755943271,
          98.87511478420569,
          98.65064789307212,
          98.40577492092645,
          98.14049586776859,
          97.8548107335986,
          97.54871951841648,
          97.22222222222224,
          96.87531884501581,
          96.50800938679727,
          96.12029384756657,
          95.71217222732375,
          95.28364452606877,
          94.83471074380165,
          94.36537088052238,
          93.87562493623098,
          93.36547291092748,
          92.83491480461178,
          92.28395061728395,
          91.71258034894397,
          91.12080399959189,
          90.50862156922764,
          89.87603305785123,
          89.2230384654627,
          88.54963779206203,
          87.85583103764922,
          87.14161820222425,
          86.40699928578718,
          85.65197428833793,
          84.87654320987653,
          84.08070605040302,
          83.26446280991735,
          82.42781348841956,
          81.57075808590962,
          80.69329660238752,
          79.79542903785328,
          78.87715539230693,
          77.93847566574841,
          76.97938985817774,
          75.99989796959494,
          75.00000000000001,
          75.00000000000001,
          75.99989796959494,
          76.97938985817774,
          77.93847566574841,
          78.87715539230689,
          79.79542903785328,
          80.69329660238752,
          81.57075808590962,
          82.42781348841956,
          83.26446280991735,
          84.08070605040302,
          84.87654320987653,
          85.65197428833793,
          86.40699928578718,
          87.14161820222425,
          87.85583103764922,
          88.54963779206203,
          89.2230384654627,
          89.87603305785123,
          90.50862156922764,
          91.12080399959189,
          91.71258034894397,
          92.28395061728395,
          92.83491480461178,
          93.36547291092745,
          93.87562493623098,
          94.36537088052238,
          94.83471074380165,
          95.28364452606877,
          95.71217222732375,
          96.12029384756657,
          96.50800938679727,
          96.87531884501581,
          97.22222222222224,
          97.54871951841648,
          97.8548107335986,
          98.14049586776859,
          98.40577492092645,
          98.65064789307212,
          98.87511478420569,
          99.0791755943271,
          99.2628303234364,
          99.42607897153351,
          99.5689215386185,
          99.69135802469137,
          99.79338842975206,
          99.87501275380063,
          99.93623099683704,
          99.97704315886133,
          99.99744923987349,
          99.99744923987349,
          99.97704315886133,
          99.93623099683704,
          99.87501275380063,
          99.79338842975206,
          99.69135802469137,
          99.5689215386185,
          99.42607897153351,
          99.2628303234364,
          99.0791755943271,
          98.87511478420569,
          98.65064789307212,
          98.40577492092645,
          98.14049586776859,
          97.8548107335986,
          97.54871951841648,
          97.22222222222224,
          96.87531884501581,
          96.50800938679727,
          96.12029384756657,
          95.71217222732375,
          95.28364452606877,
          94.83471074380165,
          94.36537088052238,
          93.87562493623098,
          93.36547291092748,
          92.83491480461178,
          92.28395061728395,
          91.71258034894397,
          91.12080399959189,
          90.50862156922764,
          89.87603305785123,
          89.2230384654627,
          88.54963779206203,
          87.85583103764922,
          87.14161820222425,
          86.40699928578718,
          85.65197428833793,
          84.87654320987653,
          84.08070605040302,
          83.26446280991735,
          82.42781348841956,
          81.57075808590962,
          80.69329660238752,
          79.79542903785328,
          78.87715539230693,
          77.93847566574841,
          76.97938985817774,
          75.99989796959494,
          75.00000000000001,
          0,
          0.9998979695949402,
          1.97938985817774,
          2.9384756657483915,
          3.8771553923069066,
          4.795429037853282,
          5.693296602387515,
          6.570758085909598,
          7.427813488419548,
          8.264462809917353,
          9.080706050403023,
          9.876543209876544,
          10.651974288337922,
          11.406999285787165,
          12.141618202224265,
          12.85583103764922,
          13.549637792062033,
          14.22303846546271,
          14.876033057851238,
          15.50862156922763,
          16.120803999591878,
          16.712580348943987,
          17.28395061728395,
          17.834914804611774,
          18.365472910927455,
          18.875624936231,
          19.365370880522395,
          19.83471074380165,
          20.283644526068773,
          20.71217222732374,
          21.12029384756658,
          21.508009386797262,
          21.87531884501582,
          22.222222222222225,
          22.548719518416483,
          22.854810733598615,
          23.1404958677686,
          23.40577492092644,
          23.650647893072133,
          23.875114784205692,
          24.07917559432711,
          24.262830323436383,
          24.42607897153352,
          24.568921538618508,
          24.69135802469136,
          24.79338842975207,
          24.875012753800632,
          24.936230996837057,
          24.977043158861346,
          24.99744923987348,
          24.99744923987348,
          24.977043158861346,
          24.936230996837057,
          24.875012753800632,
          24.79338842975207,
          24.69135802469136,
          24.568921538618508,
          24.42607897153352,
          24.262830323436383,
          24.07917559432711,
          23.875114784205692,
          23.650647893072133,
          23.40577492092644,
          23.1404958677686,
          22.854810733598615,
          22.548719518416483,
          22.222222222222225,
          21.87531884501582,
          21.508009386797262,
          21.12029384756658,
          20.71217222732374,
          20.283644526068773,
          19.83471074380165,
          19.365370880522395,
          18.875624936231,
          18.365472910927455,
          17.83491480461178,
          17.28395061728395,
          16.712580348943987,
          16.120803999591885,
          15.508621569227627,
          14.876033057851238,
          14.223038465462713,
          13.549637792062033,
          12.855831037649223,
          12.141618202224258,
          11.406999285787165,
          10.65197428833793,
          9.87654320987654,
          9.080706050403023,
          8.264462809917362,
          7.427813488419548,
          6.570758085909605,
          5.6932966023875045,
          4.795429037853282,
          3.8771553923069146,
          2.9384756657483915,
          1.97938985817774,
          0.999897969594933,
          0,
          0,
          0.9998979695949402,
          1.97938985817774,
          2.9384756657483915,
          3.8771553923069066,
          4.795429037853282,
          5.693296602387515,
          6.570758085909598,
          7.427813488419548,
          8.264462809917353,
          9.080706050403023,
          9.876543209876544,
          10.651974288337922,
          11.406999285787165,
          12.141618202224265,
          12.85583103764922,
          13.549637792062033,
          14.22303846546271,
          14.876033057851238,
          15.50862156922763,
          16.120803999591878,
          16.712580348943987,
          17.28395061728395,
          17.834914804611774,
          18.365472910927455,
          18.875624936231,
          19.365370880522395,
          19.83471074380165,
          20.283644526068773,
          20.71217222732374,
          21.12029384756658,
          21.508009386797262,
          21.87531884501582,
          22.222222222222225,
          22.548719518416483,
          22.854810733598615,
          23.1404958677686,
          23.40577492092644,
          23.650647893072133,
          23.875114784205692,
          24.07917559432711,
          24.262830323436383,
          24.42607897153352,
          24.568921538618508,
          24.69135802469136,
          24.79338842975207,
          24.875012753800632,
          24.936230996837057,
          24.977043158861346,
          24.99744923987348,
          24.99744923987348,
          24.977043158861346,
          24.936230996837057,
          24.875012753800632,
          24.79338842975207,
          24.69135802469136,
          24.568921538618508,
          24.42607897153352,
          24.262830323436383,
          24.07917559432711,
          23.875114784205692,
          23.650647893072133,
          23.40577492092644,
          23.1404958677686,
          22.854810733598615,
          22.548719518416483,
          22.222222222222225,
          21.87531884501582,
          21.508009386797262,
          21.12029384756658,
          20.71217222732374,
          20.283644526068773,
          19.83471074380165,
          19.365370880522395,
          18.875624936231,
          18.365472910927455,
          17.83491480461178,
          17.28395061728395,
          16.712580348943987,
          16.120803999591885,
          15.508621569227627,
          14.876033057851238,
          14.223038465462713,
          13.549637792062033,
          12.855831037649223,
          12.141618202224258,
          11.406999285787165,
          10.65197428833793,
          9.87654320987654,
          9.080706050403023,
          8.264462809917362,
          7.427813488419548,
          6.570758085909605,
          5.6932966023875045,
          4.795429037853282,
          3.8771553923069146,
          2.9384756657483915,
          1.97938985817774,
          0.999897969594933,
          0
         ],
         "y": [
          25,
          24.00010203040506,
          23.02061014182226,
          22.061524334251608,
          21.122844607693093,
          20.204570962146718,
          19.306703397612484,
          18.4292419140904,
          17.57218651158045,
          16.735537190082646,
          15.919293949596977,
          15.123456790123456,
          14.348025711662077,
          13.593000714212835,
          12.858381797775735,
          12.144168962350781,
          11.450362207937967,
          10.776961534537293,
          10.12396694214876,
          9.49137843077237,
          8.87919600040812,
          8.287419651056016,
          7.716049382716049,
          7.165085195388227,
          6.634527089072543,
          6.124375063769004,
          5.634629119477604,
          5.165289256198348,
          4.716355473931231,
          4.287827772676258,
          3.879706152433425,
          3.491990613202735,
          3.1246811549841853,
          2.7777777777777772,
          2.4512804815835123,
          2.1451892664013874,
          1.8595041322314052,
          1.5942250790735637,
          1.349352106927865,
          1.1248852157943066,
          0.92082440567289,
          0.7371696765636166,
          0.5739210284664833,
          0.4310784613814917,
          0.30864197530864174,
          0.20661157024793433,
          0.1249872461993676,
          0.0637690031629426,
          0.02295684113865928,
          0.002550760126517668,
          0.002550760126517668,
          0.02295684113865928,
          0.0637690031629426,
          0.1249872461993676,
          0.20661157024793353,
          0.30864197530864174,
          0.4310784613814917,
          0.5739210284664833,
          0.7371696765636152,
          0.92082440567289,
          1.1248852157943066,
          1.349352106927865,
          1.5942250790735626,
          1.859504132231404,
          2.1451892664013874,
          2.4512804815835123,
          2.7777777777777786,
          3.124681154984184,
          3.491990613202734,
          3.879706152433425,
          4.287827772676258,
          4.7163554739312294,
          5.165289256198346,
          5.634629119477604,
          6.124375063769004,
          6.634527089072541,
          7.165085195388224,
          7.716049382716049,
          8.287419651056016,
          8.879196000408118,
          9.491378430772373,
          10.12396694214876,
          10.776961534537287,
          11.450362207937967,
          12.144168962350777,
          12.858381797775742,
          13.593000714212835,
          14.34802571166207,
          15.12345679012346,
          15.919293949596977,
          16.73553719008264,
          17.57218651158045,
          18.429241914090394,
          19.306703397612495,
          20.204570962146718,
          21.122844607693086,
          22.061524334251608,
          23.02061014182226,
          24.000102030405067,
          25,
          25,
          24.00010203040506,
          23.02061014182226,
          22.061524334251608,
          21.122844607693093,
          20.204570962146718,
          19.306703397612484,
          18.4292419140904,
          17.57218651158045,
          16.735537190082646,
          15.919293949596977,
          15.123456790123456,
          14.348025711662077,
          13.593000714212835,
          12.858381797775735,
          12.144168962350781,
          11.450362207937967,
          10.776961534537293,
          10.12396694214876,
          9.49137843077237,
          8.87919600040812,
          8.287419651056016,
          7.716049382716049,
          7.165085195388227,
          6.634527089072543,
          6.124375063769004,
          5.634629119477604,
          5.165289256198348,
          4.716355473931231,
          4.287827772676258,
          3.879706152433425,
          3.491990613202735,
          3.1246811549841853,
          2.7777777777777772,
          2.4512804815835123,
          2.1451892664013874,
          1.8595041322314052,
          1.5942250790735637,
          1.349352106927865,
          1.1248852157943066,
          0.92082440567289,
          0.7371696765636166,
          0.5739210284664833,
          0.4310784613814917,
          0.30864197530864174,
          0.20661157024793433,
          0.1249872461993676,
          0.0637690031629426,
          0.02295684113865928,
          0.002550760126517668,
          0.002550760126517668,
          0.02295684113865928,
          0.0637690031629426,
          0.1249872461993676,
          0.20661157024793353,
          0.30864197530864174,
          0.4310784613814917,
          0.5739210284664833,
          0.7371696765636152,
          0.92082440567289,
          1.1248852157943066,
          1.349352106927865,
          1.5942250790735626,
          1.859504132231404,
          2.1451892664013874,
          2.4512804815835123,
          2.7777777777777786,
          3.124681154984184,
          3.491990613202734,
          3.879706152433425,
          4.287827772676258,
          4.7163554739312294,
          5.165289256198346,
          5.634629119477604,
          6.124375063769004,
          6.634527089072541,
          7.165085195388224,
          7.716049382716049,
          8.287419651056016,
          8.879196000408118,
          9.491378430772373,
          10.12396694214876,
          10.776961534537287,
          11.450362207937967,
          12.144168962350777,
          12.858381797775742,
          13.593000714212835,
          14.34802571166207,
          15.12345679012346,
          15.919293949596977,
          16.73553719008264,
          17.57218651158045,
          18.429241914090394,
          19.306703397612495,
          20.204570962146718,
          21.122844607693086,
          22.061524334251608,
          23.02061014182226,
          24.000102030405067,
          25,
          25,
          24.00010203040506,
          23.02061014182226,
          22.061524334251608,
          21.122844607693093,
          20.204570962146718,
          19.306703397612484,
          18.4292419140904,
          17.57218651158045,
          16.735537190082646,
          15.919293949596977,
          15.123456790123456,
          14.348025711662077,
          13.593000714212835,
          12.858381797775735,
          12.144168962350781,
          11.450362207937967,
          10.776961534537293,
          10.12396694214876,
          9.49137843077237,
          8.87919600040812,
          8.287419651056016,
          7.716049382716049,
          7.165085195388227,
          6.634527089072543,
          6.124375063769004,
          5.634629119477604,
          5.165289256198348,
          4.716355473931231,
          4.287827772676258,
          3.879706152433425,
          3.491990613202735,
          3.1246811549841853,
          2.7777777777777772,
          2.4512804815835123,
          2.1451892664013874,
          1.8595041322314052,
          1.5942250790735637,
          1.349352106927865,
          1.1248852157943066,
          0.92082440567289,
          0.7371696765636166,
          0.5739210284664833,
          0.4310784613814917,
          0.30864197530864174,
          0.20661157024793433,
          0.1249872461993676,
          0.0637690031629426,
          0.02295684113865928,
          0.002550760126517668,
          0.002550760126517668,
          0.02295684113865928,
          0.0637690031629426,
          0.1249872461993676,
          0.20661157024793353,
          0.30864197530864174,
          0.4310784613814917,
          0.5739210284664833,
          0.7371696765636152,
          0.92082440567289,
          1.1248852157943066,
          1.349352106927865,
          1.5942250790735626,
          1.859504132231404,
          2.1451892664013874,
          2.4512804815835123,
          2.7777777777777786,
          3.124681154984184,
          3.491990613202734,
          3.879706152433425,
          4.287827772676258,
          4.7163554739312294,
          5.165289256198346,
          5.634629119477604,
          6.124375063769004,
          6.634527089072541,
          7.165085195388224,
          7.716049382716049,
          8.287419651056016,
          8.879196000408118,
          9.491378430772373,
          10.12396694214876,
          10.776961534537287,
          11.450362207937967,
          12.144168962350777,
          12.858381797775742,
          13.593000714212835,
          14.34802571166207,
          15.12345679012346,
          15.919293949596977,
          16.73553719008264,
          17.57218651158045,
          18.429241914090394,
          19.306703397612495,
          20.204570962146718,
          21.122844607693086,
          22.061524334251608,
          23.02061014182226,
          24.000102030405067,
          25,
          25,
          24.00010203040506,
          23.02061014182226,
          22.061524334251608,
          21.122844607693093,
          20.204570962146718,
          19.306703397612484,
          18.4292419140904,
          17.57218651158045,
          16.735537190082646,
          15.919293949596977,
          15.123456790123456,
          14.348025711662077,
          13.593000714212835,
          12.858381797775735,
          12.144168962350781,
          11.450362207937967,
          10.776961534537293,
          10.12396694214876,
          9.49137843077237,
          8.87919600040812,
          8.287419651056016,
          7.716049382716049,
          7.165085195388227,
          6.634527089072543,
          6.124375063769004,
          5.634629119477604,
          5.165289256198348,
          4.716355473931231,
          4.287827772676258,
          3.879706152433425,
          3.491990613202735,
          3.1246811549841853,
          2.7777777777777772,
          2.4512804815835123,
          2.1451892664013874,
          1.8595041322314052,
          1.5942250790735637,
          1.349352106927865,
          1.1248852157943066,
          0.92082440567289,
          0.7371696765636166,
          0.5739210284664833,
          0.4310784613814917,
          0.30864197530864174,
          0.20661157024793433,
          0.1249872461993676,
          0.0637690031629426,
          0.02295684113865928,
          0.002550760126517668,
          0.002550760126517668,
          0.02295684113865928,
          0.0637690031629426,
          0.1249872461993676,
          0.20661157024793353,
          0.30864197530864174,
          0.4310784613814917,
          0.5739210284664833,
          0.7371696765636152,
          0.92082440567289,
          1.1248852157943066,
          1.349352106927865,
          1.5942250790735626,
          1.859504132231404,
          2.1451892664013874,
          2.4512804815835123,
          2.7777777777777786,
          3.124681154984184,
          3.491990613202734,
          3.879706152433425,
          4.287827772676258,
          4.7163554739312294,
          5.165289256198346,
          5.634629119477604,
          6.124375063769004,
          6.634527089072541,
          7.165085195388224,
          7.716049382716049,
          8.287419651056016,
          8.879196000408118,
          9.491378430772373,
          10.12396694214876,
          10.776961534537287,
          11.450362207937967,
          12.144168962350777,
          12.858381797775742,
          13.593000714212835,
          14.34802571166207,
          15.12345679012346,
          15.919293949596977,
          16.73553719008264,
          17.57218651158045,
          18.429241914090394,
          19.306703397612495,
          20.204570962146718,
          21.122844607693086,
          22.061524334251608,
          23.02061014182226,
          24.000102030405067,
          25
         ],
         "z": [
          -43.30127018922194,
          -42.708375122107526,
          -42.09646686932831,
          -41.466149778757924,
          -40.81800946210581,
          -40.15261396783838,
          -39.47051486461593,
          -38.77224824382736,
          -38.05833564884669,
          -37.329284937802186,
          -36.585591085918274,
          -35.827736932851536,
          -35.056193879879366,
          -34.271422541305355,
          -33.47387335400854,
          -32.66398714867727,
          -31.84219568592629,
          -31.00892216019178,
          -30.164581674028813,
          -29.309581685194797,
          -28.444322428687745,
          -27.569197315716178,
          -26.68459331140522,
          -25.79089129288965,
          -24.88846638930605,
          -23.97768830507196,
          -23.058921627727855,
          -22.1325261215171,
          -21.198857007787993,
          -20.258265233220044,
          -19.311097726802398,
          -18.35769764642553,
          -17.39840461588663,
          -16.43355495305449,
          -15.463481889890094,
          -14.48851578497449,
          -13.50898432915498,
          -12.525212744884188,
          -11.537523979793749,
          -10.546238895014566,
          -9.5516764487291,
          -8.554153875417297,
          -7.55398686123641,
          -6.551489715956374,
          -5.546975541855377,
          -4.540756399966102,
          -3.533143474050305,
          -2.5244472326689387,
          -1.5149775897058222,
          -0.5050440636959747,
          0.5050440636959747,
          1.5149775897058222,
          2.5244472326689387,
          3.533143474050305,
          4.540756399966093,
          5.546975541855377,
          6.551489715956374,
          7.55398686123641,
          8.554153875417288,
          9.5516764487291,
          10.546238895014566,
          11.537523979793749,
          12.525212744884183,
          13.508984329154977,
          14.48851578497449,
          15.463481889890094,
          16.433554953054493,
          17.398404615886626,
          18.357697646425528,
          19.311097726802398,
          20.258265233220044,
          21.198857007787986,
          22.132526121517095,
          23.058921627727855,
          23.97768830507196,
          24.88846638930605,
          25.790891292889647,
          26.68459331140522,
          27.569197315716178,
          28.444322428687737,
          29.3095816851948,
          30.164581674028813,
          31.00892216019177,
          31.84219568592629,
          32.66398714867727,
          33.47387335400855,
          34.271422541305355,
          35.05619387987936,
          35.82773693285154,
          36.585591085918274,
          37.32928493780218,
          38.05833564884669,
          38.772248243827356,
          39.470514864615936,
          40.15261396783838,
          40.81800946210581,
          41.466149778757924,
          42.09646686932831,
          42.70837512210753,
          43.30127018922194,
          -43.30127018922194,
          -42.708375122107526,
          -42.09646686932831,
          -41.466149778757924,
          -40.81800946210581,
          -40.15261396783838,
          -39.47051486461593,
          -38.77224824382736,
          -38.05833564884669,
          -37.329284937802186,
          -36.585591085918274,
          -35.827736932851536,
          -35.056193879879366,
          -34.271422541305355,
          -33.47387335400854,
          -32.66398714867727,
          -31.84219568592629,
          -31.00892216019178,
          -30.164581674028813,
          -29.309581685194797,
          -28.444322428687745,
          -27.569197315716178,
          -26.68459331140522,
          -25.79089129288965,
          -24.88846638930605,
          -23.97768830507196,
          -23.058921627727855,
          -22.1325261215171,
          -21.198857007787993,
          -20.258265233220044,
          -19.311097726802398,
          -18.35769764642553,
          -17.39840461588663,
          -16.43355495305449,
          -15.463481889890094,
          -14.48851578497449,
          -13.50898432915498,
          -12.525212744884188,
          -11.537523979793749,
          -10.546238895014566,
          -9.5516764487291,
          -8.554153875417297,
          -7.55398686123641,
          -6.551489715956374,
          -5.546975541855377,
          -4.540756399966102,
          -3.533143474050305,
          -2.5244472326689387,
          -1.5149775897058222,
          -0.5050440636959747,
          0.5050440636959747,
          1.5149775897058222,
          2.5244472326689387,
          3.533143474050305,
          4.540756399966093,
          5.546975541855377,
          6.551489715956374,
          7.55398686123641,
          8.554153875417288,
          9.5516764487291,
          10.546238895014566,
          11.537523979793749,
          12.525212744884183,
          13.508984329154977,
          14.48851578497449,
          15.463481889890094,
          16.433554953054493,
          17.398404615886626,
          18.357697646425528,
          19.311097726802398,
          20.258265233220044,
          21.198857007787986,
          22.132526121517095,
          23.058921627727855,
          23.97768830507196,
          24.88846638930605,
          25.790891292889647,
          26.68459331140522,
          27.569197315716178,
          28.444322428687737,
          29.3095816851948,
          30.164581674028813,
          31.00892216019177,
          31.84219568592629,
          32.66398714867727,
          33.47387335400855,
          34.271422541305355,
          35.05619387987936,
          35.82773693285154,
          36.585591085918274,
          37.32928493780218,
          38.05833564884669,
          38.772248243827356,
          39.470514864615936,
          40.15261396783838,
          40.81800946210581,
          41.466149778757924,
          42.09646686932831,
          42.70837512210753,
          43.30127018922194,
          0,
          -4.898739969652749,
          -6.750315714378595,
          -8.05153726970908,
          -9.049671312902925,
          -9.843250798859367,
          -10.484216177518025,
          -11.004276001818274,
          -11.424662970597483,
          -11.760536752692317,
          -12.023245355820096,
          -12.221598687174895,
          -12.362637298288575,
          -12.45212228653133,
          -12.494861443290318,
          -12.494934344471183,
          -12.45585246000751,
          -12.380676009270896,
          -12.27210116108884,
          -12.132526375540186,
          -11.964103743972611,
          -11.768779325133554,
          -11.548325267820806,
          -11.304365706554885,
          -11.03839786976245,
          -10.751809460388959,
          -10.445893100777699,
          -10.121858441252803,
          -9.780842391726784,
          -9.42391783223796,
          -9.052101081053275,
          -8.666358340581837,
          -8.267611296758655,
          -7.856742013183861,
          -7.434597234564594,
          -7.00199219303699,
          -6.559713994375019,
          -6.10852464790738,
          -5.649163793405706,
          -5.18235116970522,
          -4.708788862939112,
          -4.229163366677327,
          -3.7441474817034197,
          -3.2544020794410544,
          -2.7605777499997393,
          -2.263316353327135,
          -1.763252489937754,
          -1.2610149060614508,
          -0.7572278467617368,
          -0.2525123695697275,
          0.2525123695697275,
          0.7572278467617368,
          1.2610149060614508,
          1.763252489937754,
          2.2633163533271308,
          2.7605777499997393,
          3.2544020794410544,
          3.7441474817034197,
          4.229163366677324,
          4.708788862939112,
          5.18235116970522,
          5.649163793405706,
          6.1085246479073785,
          6.559713994375017,
          7.00199219303699,
          7.434597234564594,
          7.8567420131838634,
          8.267611296758654,
          8.666358340581834,
          9.052101081053275,
          9.42391783223796,
          9.780842391726782,
          10.121858441252801,
          10.445893100777699,
          10.751809460388959,
          11.038397869762449,
          11.304365706554885,
          11.548325267820806,
          11.768779325133554,
          11.964103743972611,
          12.132526375540186,
          12.27210116108884,
          12.380676009270895,
          12.45585246000751,
          12.494934344471183,
          12.494861443290318,
          12.45212228653133,
          12.362637298288577,
          12.221598687174895,
          12.023245355820096,
          11.760536752692321,
          11.424662970597483,
          11.004276001818278,
          10.484216177518016,
          9.843250798859367,
          9.049671312902932,
          8.05153726970908,
          6.750315714378595,
          4.898739969652733,
          0,
          0,
          -4.898739969652749,
          -6.750315714378595,
          -8.05153726970908,
          -9.049671312902925,
          -9.843250798859367,
          -10.484216177518025,
          -11.004276001818274,
          -11.424662970597483,
          -11.760536752692317,
          -12.023245355820096,
          -12.221598687174895,
          -12.362637298288575,
          -12.45212228653133,
          -12.494861443290318,
          -12.494934344471183,
          -12.45585246000751,
          -12.380676009270896,
          -12.27210116108884,
          -12.132526375540186,
          -11.964103743972611,
          -11.768779325133554,
          -11.548325267820806,
          -11.304365706554885,
          -11.03839786976245,
          -10.751809460388959,
          -10.445893100777699,
          -10.121858441252803,
          -9.780842391726784,
          -9.42391783223796,
          -9.052101081053275,
          -8.666358340581837,
          -8.267611296758655,
          -7.856742013183861,
          -7.434597234564594,
          -7.00199219303699,
          -6.559713994375019,
          -6.10852464790738,
          -5.649163793405706,
          -5.18235116970522,
          -4.708788862939112,
          -4.229163366677327,
          -3.7441474817034197,
          -3.2544020794410544,
          -2.7605777499997393,
          -2.263316353327135,
          -1.763252489937754,
          -1.2610149060614508,
          -0.7572278467617368,
          -0.2525123695697275,
          0.2525123695697275,
          0.7572278467617368,
          1.2610149060614508,
          1.763252489937754,
          2.2633163533271308,
          2.7605777499997393,
          3.2544020794410544,
          3.7441474817034197,
          4.229163366677324,
          4.708788862939112,
          5.18235116970522,
          5.649163793405706,
          6.1085246479073785,
          6.559713994375017,
          7.00199219303699,
          7.434597234564594,
          7.8567420131838634,
          8.267611296758654,
          8.666358340581834,
          9.052101081053275,
          9.42391783223796,
          9.780842391726782,
          10.121858441252801,
          10.445893100777699,
          10.751809460388959,
          11.038397869762449,
          11.304365706554885,
          11.548325267820806,
          11.768779325133554,
          11.964103743972611,
          12.132526375540186,
          12.27210116108884,
          12.380676009270895,
          12.45585246000751,
          12.494934344471183,
          12.494861443290318,
          12.45212228653133,
          12.362637298288577,
          12.221598687174895,
          12.023245355820096,
          11.760536752692321,
          11.424662970597483,
          11.004276001818278,
          10.484216177518016,
          9.843250798859367,
          9.049671312902932,
          8.05153726970908,
          6.750315714378595,
          4.898739969652733,
          0
         ]
        }
       ],
       "layout": {
        "autosize": true,
        "coloraxis": {
         "colorbar": {
          "title": {
           "text": "Y"
          }
         },
         "colorscale": [
          [
           0,
           "#0d0887"
          ],
          [
           0.1111111111111111,
           "#46039f"
          ],
          [
           0.2222222222222222,
           "#7201a8"
          ],
          [
           0.3333333333333333,
           "#9c179e"
          ],
          [
           0.4444444444444444,
           "#bd3786"
          ],
          [
           0.5555555555555556,
           "#d8576b"
          ],
          [
           0.6666666666666666,
           "#ed7953"
          ],
          [
           0.7777777777777778,
           "#fb9f3a"
          ],
          [
           0.8888888888888888,
           "#fdca26"
          ],
          [
           1,
           "#f0f921"
          ]
         ]
        },
        "legend": {
         "tracegroupgap": 0
        },
        "margin": {
         "t": 60
        },
        "scene": {
         "aspectmode": "auto",
         "aspectratio": {
          "x": 1,
          "y": 1,
          "z": 1
         },
         "camera": {
          "center": {
           "x": 0,
           "y": 0,
           "z": 0
          },
          "eye": {
           "x": 0.5059750628736186,
           "y": 0.5059750628736185,
           "z": 0.5059750628736186
          },
          "projection": {
           "type": "perspective"
          },
          "up": {
           "x": 0,
           "y": 0,
           "z": 1
          }
         },
         "domain": {
          "x": [
           0,
           1
          ],
          "y": [
           0,
           1
          ]
         },
         "xaxis": {
          "title": {
           "text": "X1_Square"
          },
          "type": "linear"
         },
         "yaxis": {
          "title": {
           "text": "X2_Square"
          },
          "type": "linear"
         },
         "zaxis": {
          "title": {
           "text": "X1*X2"
          },
          "type": "linear"
         }
        },
        "template": {
         "data": {
          "bar": [
           {
            "error_x": {
             "color": "#2a3f5f"
            },
            "error_y": {
             "color": "#2a3f5f"
            },
            "marker": {
             "line": {
              "color": "#E5ECF6",
              "width": 0.5
             },
             "pattern": {
              "fillmode": "overlay",
              "size": 10,
              "solidity": 0.2
             }
            },
            "type": "bar"
           }
          ],
          "barpolar": [
           {
            "marker": {
             "line": {
              "color": "#E5ECF6",
              "width": 0.5
             },
             "pattern": {
              "fillmode": "overlay",
              "size": 10,
              "solidity": 0.2
             }
            },
            "type": "barpolar"
           }
          ],
          "carpet": [
           {
            "aaxis": {
             "endlinecolor": "#2a3f5f",
             "gridcolor": "white",
             "linecolor": "white",
             "minorgridcolor": "white",
             "startlinecolor": "#2a3f5f"
            },
            "baxis": {
             "endlinecolor": "#2a3f5f",
             "gridcolor": "white",
             "linecolor": "white",
             "minorgridcolor": "white",
             "startlinecolor": "#2a3f5f"
            },
            "type": "carpet"
           }
          ],
          "choropleth": [
           {
            "colorbar": {
             "outlinewidth": 0,
             "ticks": ""
            },
            "type": "choropleth"
           }
          ],
          "contour": [
           {
            "colorbar": {
             "outlinewidth": 0,
             "ticks": ""
            },
            "colorscale": [
             [
              0,
              "#0d0887"
             ],
             [
              0.1111111111111111,
              "#46039f"
             ],
             [
              0.2222222222222222,
              "#7201a8"
             ],
             [
              0.3333333333333333,
              "#9c179e"
             ],
             [
              0.4444444444444444,
              "#bd3786"
             ],
             [
              0.5555555555555556,
              "#d8576b"
             ],
             [
              0.6666666666666666,
              "#ed7953"
             ],
             [
              0.7777777777777778,
              "#fb9f3a"
             ],
             [
              0.8888888888888888,
              "#fdca26"
             ],
             [
              1,
              "#f0f921"
             ]
            ],
            "type": "contour"
           }
          ],
          "contourcarpet": [
           {
            "colorbar": {
             "outlinewidth": 0,
             "ticks": ""
            },
            "type": "contourcarpet"
           }
          ],
          "heatmap": [
           {
            "colorbar": {
             "outlinewidth": 0,
             "ticks": ""
            },
            "colorscale": [
             [
              0,
              "#0d0887"
             ],
             [
              0.1111111111111111,
              "#46039f"
             ],
             [
              0.2222222222222222,
              "#7201a8"
             ],
             [
              0.3333333333333333,
              "#9c179e"
             ],
             [
              0.4444444444444444,
              "#bd3786"
             ],
             [
              0.5555555555555556,
              "#d8576b"
             ],
             [
              0.6666666666666666,
              "#ed7953"
             ],
             [
              0.7777777777777778,
              "#fb9f3a"
             ],
             [
              0.8888888888888888,
              "#fdca26"
             ],
             [
              1,
              "#f0f921"
             ]
            ],
            "type": "heatmap"
           }
          ],
          "heatmapgl": [
           {
            "colorbar": {
             "outlinewidth": 0,
             "ticks": ""
            },
            "colorscale": [
             [
              0,
              "#0d0887"
             ],
             [
              0.1111111111111111,
              "#46039f"
             ],
             [
              0.2222222222222222,
              "#7201a8"
             ],
             [
              0.3333333333333333,
              "#9c179e"
             ],
             [
              0.4444444444444444,
              "#bd3786"
             ],
             [
              0.5555555555555556,
              "#d8576b"
             ],
             [
              0.6666666666666666,
              "#ed7953"
             ],
             [
              0.7777777777777778,
              "#fb9f3a"
             ],
             [
              0.8888888888888888,
              "#fdca26"
             ],
             [
              1,
              "#f0f921"
             ]
            ],
            "type": "heatmapgl"
           }
          ],
          "histogram": [
           {
            "marker": {
             "pattern": {
              "fillmode": "overlay",
              "size": 10,
              "solidity": 0.2
             }
            },
            "type": "histogram"
           }
          ],
          "histogram2d": [
           {
            "colorbar": {
             "outlinewidth": 0,
             "ticks": ""
            },
            "colorscale": [
             [
              0,
              "#0d0887"
             ],
             [
              0.1111111111111111,
              "#46039f"
             ],
             [
              0.2222222222222222,
              "#7201a8"
             ],
             [
              0.3333333333333333,
              "#9c179e"
             ],
             [
              0.4444444444444444,
              "#bd3786"
             ],
             [
              0.5555555555555556,
              "#d8576b"
             ],
             [
              0.6666666666666666,
              "#ed7953"
             ],
             [
              0.7777777777777778,
              "#fb9f3a"
             ],
             [
              0.8888888888888888,
              "#fdca26"
             ],
             [
              1,
              "#f0f921"
             ]
            ],
            "type": "histogram2d"
           }
          ],
          "histogram2dcontour": [
           {
            "colorbar": {
             "outlinewidth": 0,
             "ticks": ""
            },
            "colorscale": [
             [
              0,
              "#0d0887"
             ],
             [
              0.1111111111111111,
              "#46039f"
             ],
             [
              0.2222222222222222,
              "#7201a8"
             ],
             [
              0.3333333333333333,
              "#9c179e"
             ],
             [
              0.4444444444444444,
              "#bd3786"
             ],
             [
              0.5555555555555556,
              "#d8576b"
             ],
             [
              0.6666666666666666,
              "#ed7953"
             ],
             [
              0.7777777777777778,
              "#fb9f3a"
             ],
             [
              0.8888888888888888,
              "#fdca26"
             ],
             [
              1,
              "#f0f921"
             ]
            ],
            "type": "histogram2dcontour"
           }
          ],
          "mesh3d": [
           {
            "colorbar": {
             "outlinewidth": 0,
             "ticks": ""
            },
            "type": "mesh3d"
           }
          ],
          "parcoords": [
           {
            "line": {
             "colorbar": {
              "outlinewidth": 0,
              "ticks": ""
             }
            },
            "type": "parcoords"
           }
          ],
          "pie": [
           {
            "automargin": true,
            "type": "pie"
           }
          ],
          "scatter": [
           {
            "fillpattern": {
             "fillmode": "overlay",
             "size": 10,
             "solidity": 0.2
            },
            "type": "scatter"
           }
          ],
          "scatter3d": [
           {
            "line": {
             "colorbar": {
              "outlinewidth": 0,
              "ticks": ""
             }
            },
            "marker": {
             "colorbar": {
              "outlinewidth": 0,
              "ticks": ""
             }
            },
            "type": "scatter3d"
           }
          ],
          "scattercarpet": [
           {
            "marker": {
             "colorbar": {
              "outlinewidth": 0,
              "ticks": ""
             }
            },
            "type": "scattercarpet"
           }
          ],
          "scattergeo": [
           {
            "marker": {
             "colorbar": {
              "outlinewidth": 0,
              "ticks": ""
             }
            },
            "type": "scattergeo"
           }
          ],
          "scattergl": [
           {
            "marker": {
             "colorbar": {
              "outlinewidth": 0,
              "ticks": ""
             }
            },
            "type": "scattergl"
           }
          ],
          "scattermapbox": [
           {
            "marker": {
             "colorbar": {
              "outlinewidth": 0,
              "ticks": ""
             }
            },
            "type": "scattermapbox"
           }
          ],
          "scatterpolar": [
           {
            "marker": {
             "colorbar": {
              "outlinewidth": 0,
              "ticks": ""
             }
            },
            "type": "scatterpolar"
           }
          ],
          "scatterpolargl": [
           {
            "marker": {
             "colorbar": {
              "outlinewidth": 0,
              "ticks": ""
             }
            },
            "type": "scatterpolargl"
           }
          ],
          "scatterternary": [
           {
            "marker": {
             "colorbar": {
              "outlinewidth": 0,
              "ticks": ""
             }
            },
            "type": "scatterternary"
           }
          ],
          "surface": [
           {
            "colorbar": {
             "outlinewidth": 0,
             "ticks": ""
            },
            "colorscale": [
             [
              0,
              "#0d0887"
             ],
             [
              0.1111111111111111,
              "#46039f"
             ],
             [
              0.2222222222222222,
              "#7201a8"
             ],
             [
              0.3333333333333333,
              "#9c179e"
             ],
             [
              0.4444444444444444,
              "#bd3786"
             ],
             [
              0.5555555555555556,
              "#d8576b"
             ],
             [
              0.6666666666666666,
              "#ed7953"
             ],
             [
              0.7777777777777778,
              "#fb9f3a"
             ],
             [
              0.8888888888888888,
              "#fdca26"
             ],
             [
              1,
              "#f0f921"
             ]
            ],
            "type": "surface"
           }
          ],
          "table": [
           {
            "cells": {
             "fill": {
              "color": "#EBF0F8"
             },
             "line": {
              "color": "white"
             }
            },
            "header": {
             "fill": {
              "color": "#C8D4E3"
             },
             "line": {
              "color": "white"
             }
            },
            "type": "table"
           }
          ]
         },
         "layout": {
          "annotationdefaults": {
           "arrowcolor": "#2a3f5f",
           "arrowhead": 0,
           "arrowwidth": 1
          },
          "autotypenumbers": "strict",
          "coloraxis": {
           "colorbar": {
            "outlinewidth": 0,
            "ticks": ""
           }
          },
          "colorscale": {
           "diverging": [
            [
             0,
             "#8e0152"
            ],
            [
             0.1,
             "#c51b7d"
            ],
            [
             0.2,
             "#de77ae"
            ],
            [
             0.3,
             "#f1b6da"
            ],
            [
             0.4,
             "#fde0ef"
            ],
            [
             0.5,
             "#f7f7f7"
            ],
            [
             0.6,
             "#e6f5d0"
            ],
            [
             0.7,
             "#b8e186"
            ],
            [
             0.8,
             "#7fbc41"
            ],
            [
             0.9,
             "#4d9221"
            ],
            [
             1,
             "#276419"
            ]
           ],
           "sequential": [
            [
             0,
             "#0d0887"
            ],
            [
             0.1111111111111111,
             "#46039f"
            ],
            [
             0.2222222222222222,
             "#7201a8"
            ],
            [
             0.3333333333333333,
             "#9c179e"
            ],
            [
             0.4444444444444444,
             "#bd3786"
            ],
            [
             0.5555555555555556,
             "#d8576b"
            ],
            [
             0.6666666666666666,
             "#ed7953"
            ],
            [
             0.7777777777777778,
             "#fb9f3a"
            ],
            [
             0.8888888888888888,
             "#fdca26"
            ],
            [
             1,
             "#f0f921"
            ]
           ],
           "sequentialminus": [
            [
             0,
             "#0d0887"
            ],
            [
             0.1111111111111111,
             "#46039f"
            ],
            [
             0.2222222222222222,
             "#7201a8"
            ],
            [
             0.3333333333333333,
             "#9c179e"
            ],
            [
             0.4444444444444444,
             "#bd3786"
            ],
            [
             0.5555555555555556,
             "#d8576b"
            ],
            [
             0.6666666666666666,
             "#ed7953"
            ],
            [
             0.7777777777777778,
             "#fb9f3a"
            ],
            [
             0.8888888888888888,
             "#fdca26"
            ],
            [
             1,
             "#f0f921"
            ]
           ]
          },
          "colorway": [
           "#636efa",
           "#EF553B",
           "#00cc96",
           "#ab63fa",
           "#FFA15A",
           "#19d3f3",
           "#FF6692",
           "#B6E880",
           "#FF97FF",
           "#FECB52"
          ],
          "font": {
           "color": "#2a3f5f"
          },
          "geo": {
           "bgcolor": "white",
           "lakecolor": "white",
           "landcolor": "#E5ECF6",
           "showlakes": true,
           "showland": true,
           "subunitcolor": "white"
          },
          "hoverlabel": {
           "align": "left"
          },
          "hovermode": "closest",
          "mapbox": {
           "style": "light"
          },
          "paper_bgcolor": "white",
          "plot_bgcolor": "#E5ECF6",
          "polar": {
           "angularaxis": {
            "gridcolor": "white",
            "linecolor": "white",
            "ticks": ""
           },
           "bgcolor": "#E5ECF6",
           "radialaxis": {
            "gridcolor": "white",
            "linecolor": "white",
            "ticks": ""
           }
          },
          "scene": {
           "xaxis": {
            "backgroundcolor": "#E5ECF6",
            "gridcolor": "white",
            "gridwidth": 2,
            "linecolor": "white",
            "showbackground": true,
            "ticks": "",
            "zerolinecolor": "white"
           },
           "yaxis": {
            "backgroundcolor": "#E5ECF6",
            "gridcolor": "white",
            "gridwidth": 2,
            "linecolor": "white",
            "showbackground": true,
            "ticks": "",
            "zerolinecolor": "white"
           },
           "zaxis": {
            "backgroundcolor": "#E5ECF6",
            "gridcolor": "white",
            "gridwidth": 2,
            "linecolor": "white",
            "showbackground": true,
            "ticks": "",
            "zerolinecolor": "white"
           }
          },
          "shapedefaults": {
           "line": {
            "color": "#2a3f5f"
           }
          },
          "ternary": {
           "aaxis": {
            "gridcolor": "white",
            "linecolor": "white",
            "ticks": ""
           },
           "baxis": {
            "gridcolor": "white",
            "linecolor": "white",
            "ticks": ""
           },
           "bgcolor": "#E5ECF6",
           "caxis": {
            "gridcolor": "white",
            "linecolor": "white",
            "ticks": ""
           }
          },
          "title": {
           "x": 0.05
          },
          "xaxis": {
           "automargin": true,
           "gridcolor": "white",
           "linecolor": "white",
           "ticks": "",
           "title": {
            "standoff": 15
           },
           "zerolinecolor": "white",
           "zerolinewidth": 2
          },
          "yaxis": {
           "automargin": true,
           "gridcolor": "white",
           "linecolor": "white",
           "ticks": "",
           "title": {
            "standoff": 15
           },
           "zerolinecolor": "white",
           "zerolinewidth": 2
          }
         }
        }
       }
      },
      "image/png": "[encoded data removed]",
      "text/html": [
       "<div>                            <div id=\"28620260-87bc-44f5-81a5-79a799a0b3c1\" class=\"plotly-graph-div\" style=\"height:525px; width:100%;\"></div>            <script type=\"text/javascript\">                require([\"plotly\"], function(Plotly) {                    window.PLOTLYENV=window.PLOTLYENV || {};                                    if (document.getElementById(\"28620260-87bc-44f5-81a5-79a799a0b3c1\")) {                    Plotly.newPlot(                        \"28620260-87bc-44f5-81a5-79a799a0b3c1\",                        [{\"hovertemplate\":\"X1_Square=%{x}\\u003cbr\\u003eX2_Square=%{y}\\u003cbr\\u003eX1*X2=%{z}\\u003cbr\\u003eY=%{marker.color}\\u003cextra\\u003e\\u003c\\u002fextra\\u003e\",\"legendgroup\":\"\",\"marker\":{\"color\":[0,0,0,0,0,0,0,0,0,0,0,0,0,0,0,0,0,0,0,0,0,0,0,0,0,0,0,0,0,0,0,0,0,0,0,0,0,0,0,0,0,0,0,0,0,0,0,0,0,0,0,0,0,0,0,0,0,0,0,0,0,0,0,0,0,0,0,0,0,0,0,0,0,0,0,0,0,0,0,0,0,0,0,0,0,0,0,0,0,0,0,0,0,0,0,0,0,0,0,0,0,0,0,0,0,0,0,0,0,0,0,0,0,0,0,0,0,0,0,0,0,0,0,0,0,0,0,0,0,0,0,0,0,0,0,0,0,0,0,0,0,0,0,0,0,0,0,0,0,0,0,0,0,0,0,0,0,0,0,0,0,0,0,0,0,0,0,0,0,0,0,0,0,0,0,0,0,0,0,0,0,0,0,0,0,0,0,0,0,0,0,0,0,0,0,0,0,0,0,0,1,1,1,1,1,1,1,1,1,1,1,1,1,1,1,1,1,1,1,1,1,1,1,1,1,1,1,1,1,1,1,1,1,1,1,1,1,1,1,1,1,1,1,1,1,1,1,1,1,1,1,1,1,1,1,1,1,1,1,1,1,1,1,1,1,1,1,1,1,1,1,1,1,1,1,1,1,1,1,1,1,1,1,1,1,1,1,1,1,1,1,1,1,1,1,1,1,1,1,1,1,1,1,1,1,1,1,1,1,1,1,1,1,1,1,1,1,1,1,1,1,1,1,1,1,1,1,1,1,1,1,1,1,1,1,1,1,1,1,1,1,1,1,1,1,1,1,1,1,1,1,1,1,1,1,1,1,1,1,1,1,1,1,1,1,1,1,1,1,1,1,1,1,1,1,1,1,1,1,1,1,1,1,1,1,1,1,1,1,1,1,1,1,1,1,1,1,1,1,1],\"coloraxis\":\"coloraxis\",\"symbol\":\"circle\"},\"mode\":\"markers\",\"name\":\"\",\"scene\":\"scene\",\"showlegend\":false,\"x\":[75.00000000000001,75.99989796959494,76.97938985817774,77.93847566574841,78.87715539230689,79.79542903785328,80.69329660238752,81.57075808590962,82.42781348841956,83.26446280991735,84.08070605040302,84.87654320987653,85.65197428833793,86.40699928578718,87.14161820222425,87.85583103764922,88.54963779206203,89.2230384654627,89.87603305785123,90.50862156922764,91.12080399959189,91.71258034894397,92.28395061728395,92.83491480461178,93.36547291092745,93.87562493623098,94.36537088052238,94.83471074380165,95.28364452606877,95.71217222732375,96.12029384756657,96.50800938679727,96.87531884501581,97.22222222222224,97.54871951841648,97.8548107335986,98.14049586776859,98.40577492092645,98.65064789307212,98.87511478420569,99.0791755943271,99.2628303234364,99.42607897153351,99.5689215386185,99.69135802469137,99.79338842975206,99.87501275380063,99.93623099683704,99.97704315886133,99.99744923987349,99.99744923987349,99.97704315886133,99.93623099683704,99.87501275380063,99.79338842975206,99.69135802469137,99.5689215386185,99.42607897153351,99.2628303234364,99.0791755943271,98.87511478420569,98.65064789307212,98.40577492092645,98.14049586776859,97.8548107335986,97.54871951841648,97.22222222222224,96.87531884501581,96.50800938679727,96.12029384756657,95.71217222732375,95.28364452606877,94.83471074380165,94.36537088052238,93.87562493623098,93.36547291092748,92.83491480461178,92.28395061728395,91.71258034894397,91.12080399959189,90.50862156922764,89.87603305785123,89.2230384654627,88.54963779206203,87.85583103764922,87.14161820222425,86.40699928578718,85.65197428833793,84.87654320987653,84.08070605040302,83.26446280991735,82.42781348841956,81.57075808590962,80.69329660238752,79.79542903785328,78.87715539230693,77.93847566574841,76.97938985817774,75.99989796959494,75.00000000000001,75.00000000000001,75.99989796959494,76.97938985817774,77.93847566574841,78.87715539230689,79.79542903785328,80.69329660238752,81.57075808590962,82.42781348841956,83.26446280991735,84.08070605040302,84.87654320987653,85.65197428833793,86.40699928578718,87.14161820222425,87.85583103764922,88.54963779206203,89.2230384654627,89.87603305785123,90.50862156922764,91.12080399959189,91.71258034894397,92.28395061728395,92.83491480461178,93.36547291092745,93.87562493623098,94.36537088052238,94.83471074380165,95.28364452606877,95.71217222732375,96.12029384756657,96.50800938679727,96.87531884501581,97.22222222222224,97.54871951841648,97.8548107335986,98.14049586776859,98.40577492092645,98.65064789307212,98.87511478420569,99.0791755943271,99.2628303234364,99.42607897153351,99.5689215386185,99.69135802469137,99.79338842975206,99.87501275380063,99.93623099683704,99.97704315886133,99.99744923987349,99.99744923987349,99.97704315886133,99.93623099683704,99.87501275380063,99.79338842975206,99.69135802469137,99.5689215386185,99.42607897153351,99.2628303234364,99.0791755943271,98.87511478420569,98.65064789307212,98.40577492092645,98.14049586776859,97.8548107335986,97.54871951841648,97.22222222222224,96.87531884501581,96.50800938679727,96.12029384756657,95.71217222732375,95.28364452606877,94.83471074380165,94.36537088052238,93.87562493623098,93.36547291092748,92.83491480461178,92.28395061728395,91.71258034894397,91.12080399959189,90.50862156922764,89.87603305785123,89.2230384654627,88.54963779206203,87.85583103764922,87.14161820222425,86.40699928578718,85.65197428833793,84.87654320987653,84.08070605040302,83.26446280991735,82.42781348841956,81.57075808590962,80.69329660238752,79.79542903785328,78.87715539230693,77.93847566574841,76.97938985817774,75.99989796959494,75.00000000000001,0.0,0.9998979695949402,1.97938985817774,2.9384756657483915,3.8771553923069066,4.795429037853282,5.693296602387515,6.570758085909598,7.427813488419548,8.264462809917353,9.080706050403023,9.876543209876544,10.651974288337922,11.406999285787165,12.141618202224265,12.85583103764922,13.549637792062033,14.22303846546271,14.876033057851238,15.50862156922763,16.120803999591878,16.712580348943987,17.28395061728395,17.834914804611774,18.365472910927455,18.875624936231,19.365370880522395,19.83471074380165,20.283644526068773,20.71217222732374,21.12029384756658,21.508009386797262,21.87531884501582,22.222222222222225,22.548719518416483,22.854810733598615,23.1404958677686,23.40577492092644,23.650647893072133,23.875114784205692,24.07917559432711,24.262830323436383,24.42607897153352,24.568921538618508,24.69135802469136,24.79338842975207,24.875012753800632,24.936230996837057,24.977043158861346,24.99744923987348,24.99744923987348,24.977043158861346,24.936230996837057,24.875012753800632,24.79338842975207,24.69135802469136,24.568921538618508,24.42607897153352,24.262830323436383,24.07917559432711,23.875114784205692,23.650647893072133,23.40577492092644,23.1404958677686,22.854810733598615,22.548719518416483,22.222222222222225,21.87531884501582,21.508009386797262,21.12029384756658,20.71217222732374,20.283644526068773,19.83471074380165,19.365370880522395,18.875624936231,18.365472910927455,17.83491480461178,17.28395061728395,16.712580348943987,16.120803999591885,15.508621569227627,14.876033057851238,14.223038465462713,13.549637792062033,12.855831037649223,12.141618202224258,11.406999285787165,10.65197428833793,9.87654320987654,9.080706050403023,8.264462809917362,7.427813488419548,6.570758085909605,5.6932966023875045,4.795429037853282,3.8771553923069146,2.9384756657483915,1.97938985817774,0.999897969594933,0.0,0.0,0.9998979695949402,1.97938985817774,2.9384756657483915,3.8771553923069066,4.795429037853282,5.693296602387515,6.570758085909598,7.427813488419548,8.264462809917353,9.080706050403023,9.876543209876544,10.651974288337922,11.406999285787165,12.141618202224265,12.85583103764922,13.549637792062033,14.22303846546271,14.876033057851238,15.50862156922763,16.120803999591878,16.712580348943987,17.28395061728395,17.834914804611774,18.365472910927455,18.875624936231,19.365370880522395,19.83471074380165,20.283644526068773,20.71217222732374,21.12029384756658,21.508009386797262,21.87531884501582,22.222222222222225,22.548719518416483,22.854810733598615,23.1404958677686,23.40577492092644,23.650647893072133,23.875114784205692,24.07917559432711,24.262830323436383,24.42607897153352,24.568921538618508,24.69135802469136,24.79338842975207,24.875012753800632,24.936230996837057,24.977043158861346,24.99744923987348,24.99744923987348,24.977043158861346,24.936230996837057,24.875012753800632,24.79338842975207,24.69135802469136,24.568921538618508,24.42607897153352,24.262830323436383,24.07917559432711,23.875114784205692,23.650647893072133,23.40577492092644,23.1404958677686,22.854810733598615,22.548719518416483,22.222222222222225,21.87531884501582,21.508009386797262,21.12029384756658,20.71217222732374,20.283644526068773,19.83471074380165,19.365370880522395,18.875624936231,18.365472910927455,17.83491480461178,17.28395061728395,16.712580348943987,16.120803999591885,15.508621569227627,14.876033057851238,14.223038465462713,13.549637792062033,12.855831037649223,12.141618202224258,11.406999285787165,10.65197428833793,9.87654320987654,9.080706050403023,8.264462809917362,7.427813488419548,6.570758085909605,5.6932966023875045,4.795429037853282,3.8771553923069146,2.9384756657483915,1.97938985817774,0.999897969594933,0.0],\"y\":[25.0,24.00010203040506,23.02061014182226,22.061524334251608,21.122844607693093,20.204570962146718,19.306703397612484,18.4292419140904,17.57218651158045,16.735537190082646,15.919293949596977,15.123456790123456,14.348025711662077,13.593000714212835,12.858381797775735,12.144168962350781,11.450362207937967,10.776961534537293,10.12396694214876,9.49137843077237,8.87919600040812,8.287419651056016,7.716049382716049,7.165085195388227,6.634527089072543,6.124375063769004,5.634629119477604,5.165289256198348,4.716355473931231,4.287827772676258,3.879706152433425,3.491990613202735,3.1246811549841853,2.7777777777777772,2.4512804815835123,2.1451892664013874,1.8595041322314052,1.5942250790735637,1.349352106927865,1.1248852157943066,0.92082440567289,0.7371696765636166,0.5739210284664833,0.4310784613814917,0.30864197530864174,0.20661157024793433,0.1249872461993676,0.0637690031629426,0.02295684113865928,0.002550760126517668,0.002550760126517668,0.02295684113865928,0.0637690031629426,0.1249872461993676,0.20661157024793353,0.30864197530864174,0.4310784613814917,0.5739210284664833,0.7371696765636152,0.92082440567289,1.1248852157943066,1.349352106927865,1.5942250790735626,1.859504132231404,2.1451892664013874,2.4512804815835123,2.7777777777777786,3.124681154984184,3.491990613202734,3.879706152433425,4.287827772676258,4.7163554739312294,5.165289256198346,5.634629119477604,6.124375063769004,6.634527089072541,7.165085195388224,7.716049382716049,8.287419651056016,8.879196000408118,9.491378430772373,10.12396694214876,10.776961534537287,11.450362207937967,12.144168962350777,12.858381797775742,13.593000714212835,14.34802571166207,15.12345679012346,15.919293949596977,16.73553719008264,17.57218651158045,18.429241914090394,19.306703397612495,20.204570962146718,21.122844607693086,22.061524334251608,23.02061014182226,24.000102030405067,25.0,25.0,24.00010203040506,23.02061014182226,22.061524334251608,21.122844607693093,20.204570962146718,19.306703397612484,18.4292419140904,17.57218651158045,16.735537190082646,15.919293949596977,15.123456790123456,14.348025711662077,13.593000714212835,12.858381797775735,12.144168962350781,11.450362207937967,10.776961534537293,10.12396694214876,9.49137843077237,8.87919600040812,8.287419651056016,7.716049382716049,7.165085195388227,6.634527089072543,6.124375063769004,5.634629119477604,5.165289256198348,4.716355473931231,4.287827772676258,3.879706152433425,3.491990613202735,3.1246811549841853,2.7777777777777772,2.4512804815835123,2.1451892664013874,1.8595041322314052,1.5942250790735637,1.349352106927865,1.1248852157943066,0.92082440567289,0.7371696765636166,0.5739210284664833,0.4310784613814917,0.30864197530864174,0.20661157024793433,0.1249872461993676,0.0637690031629426,0.02295684113865928,0.002550760126517668,0.002550760126517668,0.02295684113865928,0.0637690031629426,0.1249872461993676,0.20661157024793353,0.30864197530864174,0.4310784613814917,0.5739210284664833,0.7371696765636152,0.92082440567289,1.1248852157943066,1.349352106927865,1.5942250790735626,1.859504132231404,2.1451892664013874,2.4512804815835123,2.7777777777777786,3.124681154984184,3.491990613202734,3.879706152433425,4.287827772676258,4.7163554739312294,5.165289256198346,5.634629119477604,6.124375063769004,6.634527089072541,7.165085195388224,7.716049382716049,8.287419651056016,8.879196000408118,9.491378430772373,10.12396694214876,10.776961534537287,11.450362207937967,12.144168962350777,12.858381797775742,13.593000714212835,14.34802571166207,15.12345679012346,15.919293949596977,16.73553719008264,17.57218651158045,18.429241914090394,19.306703397612495,20.204570962146718,21.122844607693086,22.061524334251608,23.02061014182226,24.000102030405067,25.0,25.0,24.00010203040506,23.02061014182226,22.061524334251608,21.122844607693093,20.204570962146718,19.306703397612484,18.4292419140904,17.57218651158045,16.735537190082646,15.919293949596977,15.123456790123456,14.348025711662077,13.593000714212835,12.858381797775735,12.144168962350781,11.450362207937967,10.776961534537293,10.12396694214876,9.49137843077237,8.87919600040812,8.287419651056016,7.716049382716049,7.165085195388227,6.634527089072543,6.124375063769004,5.634629119477604,5.165289256198348,4.716355473931231,4.287827772676258,3.879706152433425,3.491990613202735,3.1246811549841853,2.7777777777777772,2.4512804815835123,2.1451892664013874,1.8595041322314052,1.5942250790735637,1.349352106927865,1.1248852157943066,0.92082440567289,0.7371696765636166,0.5739210284664833,0.4310784613814917,0.30864197530864174,0.20661157024793433,0.1249872461993676,0.0637690031629426,0.02295684113865928,0.002550760126517668,0.002550760126517668,0.02295684113865928,0.0637690031629426,0.1249872461993676,0.20661157024793353,0.30864197530864174,0.4310784613814917,0.5739210284664833,0.7371696765636152,0.92082440567289,1.1248852157943066,1.349352106927865,1.5942250790735626,1.859504132231404,2.1451892664013874,2.4512804815835123,2.7777777777777786,3.124681154984184,3.491990613202734,3.879706152433425,4.287827772676258,4.7163554739312294,5.165289256198346,5.634629119477604,6.124375063769004,6.634527089072541,7.165085195388224,7.716049382716049,8.287419651056016,8.879196000408118,9.491378430772373,10.12396694214876,10.776961534537287,11.450362207937967,12.144168962350777,12.858381797775742,13.593000714212835,14.34802571166207,15.12345679012346,15.919293949596977,16.73553719008264,17.57218651158045,18.429241914090394,19.306703397612495,20.204570962146718,21.122844607693086,22.061524334251608,23.02061014182226,24.000102030405067,25.0,25.0,24.00010203040506,23.02061014182226,22.061524334251608,21.122844607693093,20.204570962146718,19.306703397612484,18.4292419140904,17.57218651158045,16.735537190082646,15.919293949596977,15.123456790123456,14.348025711662077,13.593000714212835,12.858381797775735,12.144168962350781,11.450362207937967,10.776961534537293,10.12396694214876,9.49137843077237,8.87919600040812,8.287419651056016,7.716049382716049,7.165085195388227,6.634527089072543,6.124375063769004,5.634629119477604,5.165289256198348,4.716355473931231,4.287827772676258,3.879706152433425,3.491990613202735,3.1246811549841853,2.7777777777777772,2.4512804815835123,2.1451892664013874,1.8595041322314052,1.5942250790735637,1.349352106927865,1.1248852157943066,0.92082440567289,0.7371696765636166,0.5739210284664833,0.4310784613814917,0.30864197530864174,0.20661157024793433,0.1249872461993676,0.0637690031629426,0.02295684113865928,0.002550760126517668,0.002550760126517668,0.02295684113865928,0.0637690031629426,0.1249872461993676,0.20661157024793353,0.30864197530864174,0.4310784613814917,0.5739210284664833,0.7371696765636152,0.92082440567289,1.1248852157943066,1.349352106927865,1.5942250790735626,1.859504132231404,2.1451892664013874,2.4512804815835123,2.7777777777777786,3.124681154984184,3.491990613202734,3.879706152433425,4.287827772676258,4.7163554739312294,5.165289256198346,5.634629119477604,6.124375063769004,6.634527089072541,7.165085195388224,7.716049382716049,8.287419651056016,8.879196000408118,9.491378430772373,10.12396694214876,10.776961534537287,11.450362207937967,12.144168962350777,12.858381797775742,13.593000714212835,14.34802571166207,15.12345679012346,15.919293949596977,16.73553719008264,17.57218651158045,18.429241914090394,19.306703397612495,20.204570962146718,21.122844607693086,22.061524334251608,23.02061014182226,24.000102030405067,25.0],\"z\":[-43.30127018922194,-42.708375122107526,-42.09646686932831,-41.466149778757924,-40.81800946210581,-40.15261396783838,-39.47051486461593,-38.77224824382736,-38.05833564884669,-37.329284937802186,-36.585591085918274,-35.827736932851536,-35.056193879879366,-34.271422541305355,-33.47387335400854,-32.66398714867727,-31.84219568592629,-31.00892216019178,-30.164581674028813,-29.309581685194797,-28.444322428687745,-27.569197315716178,-26.68459331140522,-25.79089129288965,-24.88846638930605,-23.97768830507196,-23.058921627727855,-22.1325261215171,-21.198857007787993,-20.258265233220044,-19.311097726802398,-18.35769764642553,-17.39840461588663,-16.43355495305449,-15.463481889890094,-14.48851578497449,-13.50898432915498,-12.525212744884188,-11.537523979793749,-10.546238895014566,-9.5516764487291,-8.554153875417297,-7.55398686123641,-6.551489715956374,-5.546975541855377,-4.540756399966102,-3.533143474050305,-2.5244472326689387,-1.5149775897058222,-0.5050440636959747,0.5050440636959747,1.5149775897058222,2.5244472326689387,3.533143474050305,4.540756399966093,5.546975541855377,6.551489715956374,7.55398686123641,8.554153875417288,9.5516764487291,10.546238895014566,11.537523979793749,12.525212744884183,13.508984329154977,14.48851578497449,15.463481889890094,16.433554953054493,17.398404615886626,18.357697646425528,19.311097726802398,20.258265233220044,21.198857007787986,22.132526121517095,23.058921627727855,23.97768830507196,24.88846638930605,25.790891292889647,26.68459331140522,27.569197315716178,28.444322428687737,29.3095816851948,30.164581674028813,31.00892216019177,31.84219568592629,32.66398714867727,33.47387335400855,34.271422541305355,35.05619387987936,35.82773693285154,36.585591085918274,37.32928493780218,38.05833564884669,38.772248243827356,39.470514864615936,40.15261396783838,40.81800946210581,41.466149778757924,42.09646686932831,42.70837512210753,43.30127018922194,-43.30127018922194,-42.708375122107526,-42.09646686932831,-41.466149778757924,-40.81800946210581,-40.15261396783838,-39.47051486461593,-38.77224824382736,-38.05833564884669,-37.329284937802186,-36.585591085918274,-35.827736932851536,-35.056193879879366,-34.271422541305355,-33.47387335400854,-32.66398714867727,-31.84219568592629,-31.00892216019178,-30.164581674028813,-29.309581685194797,-28.444322428687745,-27.569197315716178,-26.68459331140522,-25.79089129288965,-24.88846638930605,-23.97768830507196,-23.058921627727855,-22.1325261215171,-21.198857007787993,-20.258265233220044,-19.311097726802398,-18.35769764642553,-17.39840461588663,-16.43355495305449,-15.463481889890094,-14.48851578497449,-13.50898432915498,-12.525212744884188,-11.537523979793749,-10.546238895014566,-9.5516764487291,-8.554153875417297,-7.55398686123641,-6.551489715956374,-5.546975541855377,-4.540756399966102,-3.533143474050305,-2.5244472326689387,-1.5149775897058222,-0.5050440636959747,0.5050440636959747,1.5149775897058222,2.5244472326689387,3.533143474050305,4.540756399966093,5.546975541855377,6.551489715956374,7.55398686123641,8.554153875417288,9.5516764487291,10.546238895014566,11.537523979793749,12.525212744884183,13.508984329154977,14.48851578497449,15.463481889890094,16.433554953054493,17.398404615886626,18.357697646425528,19.311097726802398,20.258265233220044,21.198857007787986,22.132526121517095,23.058921627727855,23.97768830507196,24.88846638930605,25.790891292889647,26.68459331140522,27.569197315716178,28.444322428687737,29.3095816851948,30.164581674028813,31.00892216019177,31.84219568592629,32.66398714867727,33.47387335400855,34.271422541305355,35.05619387987936,35.82773693285154,36.585591085918274,37.32928493780218,38.05833564884669,38.772248243827356,39.470514864615936,40.15261396783838,40.81800946210581,41.466149778757924,42.09646686932831,42.70837512210753,43.30127018922194,-0.0,-4.898739969652749,-6.750315714378595,-8.05153726970908,-9.049671312902925,-9.843250798859367,-10.484216177518025,-11.004276001818274,-11.424662970597483,-11.760536752692317,-12.023245355820096,-12.221598687174895,-12.362637298288575,-12.45212228653133,-12.494861443290318,-12.494934344471183,-12.45585246000751,-12.380676009270896,-12.27210116108884,-12.132526375540186,-11.964103743972611,-11.768779325133554,-11.548325267820806,-11.304365706554885,-11.03839786976245,-10.751809460388959,-10.445893100777699,-10.121858441252803,-9.780842391726784,-9.42391783223796,-9.052101081053275,-8.666358340581837,-8.267611296758655,-7.856742013183861,-7.434597234564594,-7.00199219303699,-6.559713994375019,-6.10852464790738,-5.649163793405706,-5.18235116970522,-4.708788862939112,-4.229163366677327,-3.7441474817034197,-3.2544020794410544,-2.7605777499997393,-2.263316353327135,-1.763252489937754,-1.2610149060614508,-0.7572278467617368,-0.2525123695697275,0.2525123695697275,0.7572278467617368,1.2610149060614508,1.763252489937754,2.2633163533271308,2.7605777499997393,3.2544020794410544,3.7441474817034197,4.229163366677324,4.708788862939112,5.18235116970522,5.649163793405706,6.1085246479073785,6.559713994375017,7.00199219303699,7.434597234564594,7.8567420131838634,8.267611296758654,8.666358340581834,9.052101081053275,9.42391783223796,9.780842391726782,10.121858441252801,10.445893100777699,10.751809460388959,11.038397869762449,11.304365706554885,11.548325267820806,11.768779325133554,11.964103743972611,12.132526375540186,12.27210116108884,12.380676009270895,12.45585246000751,12.494934344471183,12.494861443290318,12.45212228653133,12.362637298288577,12.221598687174895,12.023245355820096,11.760536752692321,11.424662970597483,11.004276001818278,10.484216177518016,9.843250798859367,9.049671312902932,8.05153726970908,6.750315714378595,4.898739969652733,0.0,-0.0,-4.898739969652749,-6.750315714378595,-8.05153726970908,-9.049671312902925,-9.843250798859367,-10.484216177518025,-11.004276001818274,-11.424662970597483,-11.760536752692317,-12.023245355820096,-12.221598687174895,-12.362637298288575,-12.45212228653133,-12.494861443290318,-12.494934344471183,-12.45585246000751,-12.380676009270896,-12.27210116108884,-12.132526375540186,-11.964103743972611,-11.768779325133554,-11.548325267820806,-11.304365706554885,-11.03839786976245,-10.751809460388959,-10.445893100777699,-10.121858441252803,-9.780842391726784,-9.42391783223796,-9.052101081053275,-8.666358340581837,-8.267611296758655,-7.856742013183861,-7.434597234564594,-7.00199219303699,-6.559713994375019,-6.10852464790738,-5.649163793405706,-5.18235116970522,-4.708788862939112,-4.229163366677327,-3.7441474817034197,-3.2544020794410544,-2.7605777499997393,-2.263316353327135,-1.763252489937754,-1.2610149060614508,-0.7572278467617368,-0.2525123695697275,0.2525123695697275,0.7572278467617368,1.2610149060614508,1.763252489937754,2.2633163533271308,2.7605777499997393,3.2544020794410544,3.7441474817034197,4.229163366677324,4.708788862939112,5.18235116970522,5.649163793405706,6.1085246479073785,6.559713994375017,7.00199219303699,7.434597234564594,7.8567420131838634,8.267611296758654,8.666358340581834,9.052101081053275,9.42391783223796,9.780842391726782,10.121858441252801,10.445893100777699,10.751809460388959,11.038397869762449,11.304365706554885,11.548325267820806,11.768779325133554,11.964103743972611,12.132526375540186,12.27210116108884,12.380676009270895,12.45585246000751,12.494934344471183,12.494861443290318,12.45212228653133,12.362637298288577,12.221598687174895,12.023245355820096,11.760536752692321,11.424662970597483,11.004276001818278,10.484216177518016,9.843250798859367,9.049671312902932,8.05153726970908,6.750315714378595,4.898739969652733,0.0],\"type\":\"scatter3d\"}],                        {\"template\":{\"data\":{\"histogram2dcontour\":[{\"type\":\"histogram2dcontour\",\"colorbar\":{\"outlinewidth\":0,\"ticks\":\"\"},\"colorscale\":[[0.0,\"#0d0887\"],[0.1111111111111111,\"#46039f\"],[0.2222222222222222,\"#7201a8\"],[0.3333333333333333,\"#9c179e\"],[0.4444444444444444,\"#bd3786\"],[0.5555555555555556,\"#d8576b\"],[0.6666666666666666,\"#ed7953\"],[0.7777777777777778,\"#fb9f3a\"],[0.8888888888888888,\"#fdca26\"],[1.0,\"#f0f921\"]]}],\"choropleth\":[{\"type\":\"choropleth\",\"colorbar\":{\"outlinewidth\":0,\"ticks\":\"\"}}],\"histogram2d\":[{\"type\":\"histogram2d\",\"colorbar\":{\"outlinewidth\":0,\"ticks\":\"\"},\"colorscale\":[[0.0,\"#0d0887\"],[0.1111111111111111,\"#46039f\"],[0.2222222222222222,\"#7201a8\"],[0.3333333333333333,\"#9c179e\"],[0.4444444444444444,\"#bd3786\"],[0.5555555555555556,\"#d8576b\"],[0.6666666666666666,\"#ed7953\"],[0.7777777777777778,\"#fb9f3a\"],[0.8888888888888888,\"#fdca26\"],[1.0,\"#f0f921\"]]}],\"heatmap\":[{\"type\":\"heatmap\",\"colorbar\":{\"outlinewidth\":0,\"ticks\":\"\"},\"colorscale\":[[0.0,\"#0d0887\"],[0.1111111111111111,\"#46039f\"],[0.2222222222222222,\"#7201a8\"],[0.3333333333333333,\"#9c179e\"],[0.4444444444444444,\"#bd3786\"],[0.5555555555555556,\"#d8576b\"],[0.6666666666666666,\"#ed7953\"],[0.7777777777777778,\"#fb9f3a\"],[0.8888888888888888,\"#fdca26\"],[1.0,\"#f0f921\"]]}],\"heatmapgl\":[{\"type\":\"heatmapgl\",\"colorbar\":{\"outlinewidth\":0,\"ticks\":\"\"},\"colorscale\":[[0.0,\"#0d0887\"],[0.1111111111111111,\"#46039f\"],[0.2222222222222222,\"#7201a8\"],[0.3333333333333333,\"#9c179e\"],[0.4444444444444444,\"#bd3786\"],[0.5555555555555556,\"#d8576b\"],[0.6666666666666666,\"#ed7953\"],[0.7777777777777778,\"#fb9f3a\"],[0.8888888888888888,\"#fdca26\"],[1.0,\"#f0f921\"]]}],\"contourcarpet\":[{\"type\":\"contourcarpet\",\"colorbar\":{\"outlinewidth\":0,\"ticks\":\"\"}}],\"contour\":[{\"type\":\"contour\",\"colorbar\":{\"outlinewidth\":0,\"ticks\":\"\"},\"colorscale\":[[0.0,\"#0d0887\"],[0.1111111111111111,\"#46039f\"],[0.2222222222222222,\"#7201a8\"],[0.3333333333333333,\"#9c179e\"],[0.4444444444444444,\"#bd3786\"],[0.5555555555555556,\"#d8576b\"],[0.6666666666666666,\"#ed7953\"],[0.7777777777777778,\"#fb9f3a\"],[0.8888888888888888,\"#fdca26\"],[1.0,\"#f0f921\"]]}],\"surface\":[{\"type\":\"surface\",\"colorbar\":{\"outlinewidth\":0,\"ticks\":\"\"},\"colorscale\":[[0.0,\"#0d0887\"],[0.1111111111111111,\"#46039f\"],[0.2222222222222222,\"#7201a8\"],[0.3333333333333333,\"#9c179e\"],[0.4444444444444444,\"#bd3786\"],[0.5555555555555556,\"#d8576b\"],[0.6666666666666666,\"#ed7953\"],[0.7777777777777778,\"#fb9f3a\"],[0.8888888888888888,\"#fdca26\"],[1.0,\"#f0f921\"]]}],\"mesh3d\":[{\"type\":\"mesh3d\",\"colorbar\":{\"outlinewidth\":0,\"ticks\":\"\"}}],\"scatter\":[{\"fillpattern\":{\"fillmode\":\"overlay\",\"size\":10,\"solidity\":0.2},\"type\":\"scatter\"}],\"parcoords\":[{\"type\":\"parcoords\",\"line\":{\"colorbar\":{\"outlinewidth\":0,\"ticks\":\"\"}}}],\"scatterpolargl\":[{\"type\":\"scatterpolargl\",\"marker\":{\"colorbar\":{\"outlinewidth\":0,\"ticks\":\"\"}}}],\"bar\":[{\"error_x\":{\"color\":\"#2a3f5f\"},\"error_y\":{\"color\":\"#2a3f5f\"},\"marker\":{\"line\":{\"color\":\"#E5ECF6\",\"width\":0.5},\"pattern\":{\"fillmode\":\"overlay\",\"size\":10,\"solidity\":0.2}},\"type\":\"bar\"}],\"scattergeo\":[{\"type\":\"scattergeo\",\"marker\":{\"colorbar\":{\"outlinewidth\":0,\"ticks\":\"\"}}}],\"scatterpolar\":[{\"type\":\"scatterpolar\",\"marker\":{\"colorbar\":{\"outlinewidth\":0,\"ticks\":\"\"}}}],\"histogram\":[{\"marker\":{\"pattern\":{\"fillmode\":\"overlay\",\"size\":10,\"solidity\":0.2}},\"type\":\"histogram\"}],\"scattergl\":[{\"type\":\"scattergl\",\"marker\":{\"colorbar\":{\"outlinewidth\":0,\"ticks\":\"\"}}}],\"scatter3d\":[{\"type\":\"scatter3d\",\"line\":{\"colorbar\":{\"outlinewidth\":0,\"ticks\":\"\"}},\"marker\":{\"colorbar\":{\"outlinewidth\":0,\"ticks\":\"\"}}}],\"scattermapbox\":[{\"type\":\"scattermapbox\",\"marker\":{\"colorbar\":{\"outlinewidth\":0,\"ticks\":\"\"}}}],\"scatterternary\":[{\"type\":\"scatterternary\",\"marker\":{\"colorbar\":{\"outlinewidth\":0,\"ticks\":\"\"}}}],\"scattercarpet\":[{\"type\":\"scattercarpet\",\"marker\":{\"colorbar\":{\"outlinewidth\":0,\"ticks\":\"\"}}}],\"carpet\":[{\"aaxis\":{\"endlinecolor\":\"#2a3f5f\",\"gridcolor\":\"white\",\"linecolor\":\"white\",\"minorgridcolor\":\"white\",\"startlinecolor\":\"#2a3f5f\"},\"baxis\":{\"endlinecolor\":\"#2a3f5f\",\"gridcolor\":\"white\",\"linecolor\":\"white\",\"minorgridcolor\":\"white\",\"startlinecolor\":\"#2a3f5f\"},\"type\":\"carpet\"}],\"table\":[{\"cells\":{\"fill\":{\"color\":\"#EBF0F8\"},\"line\":{\"color\":\"white\"}},\"header\":{\"fill\":{\"color\":\"#C8D4E3\"},\"line\":{\"color\":\"white\"}},\"type\":\"table\"}],\"barpolar\":[{\"marker\":{\"line\":{\"color\":\"#E5ECF6\",\"width\":0.5},\"pattern\":{\"fillmode\":\"overlay\",\"size\":10,\"solidity\":0.2}},\"type\":\"barpolar\"}],\"pie\":[{\"automargin\":true,\"type\":\"pie\"}]},\"layout\":{\"autotypenumbers\":\"strict\",\"colorway\":[\"#636efa\",\"#EF553B\",\"#00cc96\",\"#ab63fa\",\"#FFA15A\",\"#19d3f3\",\"#FF6692\",\"#B6E880\",\"#FF97FF\",\"#FECB52\"],\"font\":{\"color\":\"#2a3f5f\"},\"hovermode\":\"closest\",\"hoverlabel\":{\"align\":\"left\"},\"paper_bgcolor\":\"white\",\"plot_bgcolor\":\"#E5ECF6\",\"polar\":{\"bgcolor\":\"#E5ECF6\",\"angularaxis\":{\"gridcolor\":\"white\",\"linecolor\":\"white\",\"ticks\":\"\"},\"radialaxis\":{\"gridcolor\":\"white\",\"linecolor\":\"white\",\"ticks\":\"\"}},\"ternary\":{\"bgcolor\":\"#E5ECF6\",\"aaxis\":{\"gridcolor\":\"white\",\"linecolor\":\"white\",\"ticks\":\"\"},\"baxis\":{\"gridcolor\":\"white\",\"linecolor\":\"white\",\"ticks\":\"\"},\"caxis\":{\"gridcolor\":\"white\",\"linecolor\":\"white\",\"ticks\":\"\"}},\"coloraxis\":{\"colorbar\":{\"outlinewidth\":0,\"ticks\":\"\"}},\"colorscale\":{\"sequential\":[[0.0,\"#0d0887\"],[0.1111111111111111,\"#46039f\"],[0.2222222222222222,\"#7201a8\"],[0.3333333333333333,\"#9c179e\"],[0.4444444444444444,\"#bd3786\"],[0.5555555555555556,\"#d8576b\"],[0.6666666666666666,\"#ed7953\"],[0.7777777777777778,\"#fb9f3a\"],[0.8888888888888888,\"#fdca26\"],[1.0,\"#f0f921\"]],\"sequentialminus\":[[0.0,\"#0d0887\"],[0.1111111111111111,\"#46039f\"],[0.2222222222222222,\"#7201a8\"],[0.3333333333333333,\"#9c179e\"],[0.4444444444444444,\"#bd3786\"],[0.5555555555555556,\"#d8576b\"],[0.6666666666666666,\"#ed7953\"],[0.7777777777777778,\"#fb9f3a\"],[0.8888888888888888,\"#fdca26\"],[1.0,\"#f0f921\"]],\"diverging\":[[0,\"#8e0152\"],[0.1,\"#c51b7d\"],[0.2,\"#de77ae\"],[0.3,\"#f1b6da\"],[0.4,\"#fde0ef\"],[0.5,\"#f7f7f7\"],[0.6,\"#e6f5d0\"],[0.7,\"#b8e186\"],[0.8,\"#7fbc41\"],[0.9,\"#4d9221\"],[1,\"#276419\"]]},\"xaxis\":{\"gridcolor\":\"white\",\"linecolor\":\"white\",\"ticks\":\"\",\"title\":{\"standoff\":15},\"zerolinecolor\":\"white\",\"automargin\":true,\"zerolinewidth\":2},\"yaxis\":{\"gridcolor\":\"white\",\"linecolor\":\"white\",\"ticks\":\"\",\"title\":{\"standoff\":15},\"zerolinecolor\":\"white\",\"automargin\":true,\"zerolinewidth\":2},\"scene\":{\"xaxis\":{\"backgroundcolor\":\"#E5ECF6\",\"gridcolor\":\"white\",\"linecolor\":\"white\",\"showbackground\":true,\"ticks\":\"\",\"zerolinecolor\":\"white\",\"gridwidth\":2},\"yaxis\":{\"backgroundcolor\":\"#E5ECF6\",\"gridcolor\":\"white\",\"linecolor\":\"white\",\"showbackground\":true,\"ticks\":\"\",\"zerolinecolor\":\"white\",\"gridwidth\":2},\"zaxis\":{\"backgroundcolor\":\"#E5ECF6\",\"gridcolor\":\"white\",\"linecolor\":\"white\",\"showbackground\":true,\"ticks\":\"\",\"zerolinecolor\":\"white\",\"gridwidth\":2}},\"shapedefaults\":{\"line\":{\"color\":\"#2a3f5f\"}},\"annotationdefaults\":{\"arrowcolor\":\"#2a3f5f\",\"arrowhead\":0,\"arrowwidth\":1},\"geo\":{\"bgcolor\":\"white\",\"landcolor\":\"#E5ECF6\",\"subunitcolor\":\"white\",\"showland\":true,\"showlakes\":true,\"lakecolor\":\"white\"},\"title\":{\"x\":0.05},\"mapbox\":{\"style\":\"light\"}}},\"scene\":{\"domain\":{\"x\":[0.0,1.0],\"y\":[0.0,1.0]},\"xaxis\":{\"title\":{\"text\":\"X1_Square\"}},\"yaxis\":{\"title\":{\"text\":\"X2_Square\"}},\"zaxis\":{\"title\":{\"text\":\"X1*X2\"}}},\"coloraxis\":{\"colorbar\":{\"title\":{\"text\":\"Y\"}},\"colorscale\":[[0.0,\"#0d0887\"],[0.1111111111111111,\"#46039f\"],[0.2222222222222222,\"#7201a8\"],[0.3333333333333333,\"#9c179e\"],[0.4444444444444444,\"#bd3786\"],[0.5555555555555556,\"#d8576b\"],[0.6666666666666666,\"#ed7953\"],[0.7777777777777778,\"#fb9f3a\"],[0.8888888888888888,\"#fdca26\"],[1.0,\"#f0f921\"]]},\"legend\":{\"tracegroupgap\":0},\"margin\":{\"t\":60}},                        {\"responsive\": true}                    ).then(function(){\n",
       "                            \n",
       "var gd = document.getElementById('28620260-87bc-44f5-81a5-79a799a0b3c1');\n",
       "var x = new MutationObserver(function (mutations, observer) {{\n",
       "        var display = window.getComputedStyle(gd).display;\n",
       "        if (!display || display === 'none') {{\n",
       "            console.log([gd, 'removed!']);\n",
       "            Plotly.purge(gd);\n",
       "            observer.disconnect();\n",
       "        }}\n",
       "}});\n",
       "\n",
       "// Listen for the removal of the full notebook cells\n",
       "var notebookContainer = gd.closest('#notebook-container');\n",
       "if (notebookContainer) {{\n",
       "    x.observe(notebookContainer, {childList: true});\n",
       "}}\n",
       "\n",
       "// Listen for the clearing of the current output cell\n",
       "var outputEl = gd.closest('.output');\n",
       "if (outputEl) {{\n",
       "    x.observe(outputEl, {childList: true});\n",
       "}}\n",
       "\n",
       "                        })                };                });            </script>        </div>"
      ]
     },
     "metadata": {},
     "output_type": "display_data"
    }
   ],
   "source": [
    "import plotly.express as px\n",
    "fig=px.scatter_3d(df, x='X1_Square', y='X2_Square', z='X1*X2', color='Y')\n",
    "fig.show()\n",
    "plt.show()"
   ]
  },
  {
   "cell_type": "code",
   "execution_count": 37,
   "id": "6135e1f2-5e55-4ba3-b360-b56747c6a10c",
   "metadata": {},
   "outputs": [
    {
     "data": {
      "text/plain": [
       "1.0"
      ]
     },
     "execution_count": 37,
     "metadata": {},
     "output_type": "execute_result"
    }
   ],
   "source": [
    "from sklearn.metrics import accuracy_score\n",
    "from sklearn.svm import SVC\n",
    "classifier = SVC(kernel='linear')\n",
    "classifier.fit(X_train, y_train)\n",
    "y_pred = classifier.predict(X_test)\n",
    "accuracy_score(y_test, y_pred)"
   ]
  },
  {
   "cell_type": "code",
   "execution_count": 38,
   "id": "efd0b63b-f12c-4592-8d77-6f85ef866741",
   "metadata": {},
   "outputs": [
    {
     "data": {
      "text/html": [
       "<div>\n",
       "<style scoped>\n",
       "    .dataframe tbody tr th:only-of-type {\n",
       "        vertical-align: middle;\n",
       "    }\n",
       "\n",
       "    .dataframe tbody tr th {\n",
       "        vertical-align: top;\n",
       "    }\n",
       "\n",
       "    .dataframe thead th {\n",
       "        text-align: right;\n",
       "    }\n",
       "</style>\n",
       "<table border=\"1\" class=\"dataframe\">\n",
       "  <thead>\n",
       "    <tr style=\"text-align: right;\">\n",
       "      <th></th>\n",
       "      <th>X1</th>\n",
       "      <th>X2</th>\n",
       "      <th>Y</th>\n",
       "      <th>X1_Square</th>\n",
       "      <th>X2_Square</th>\n",
       "      <th>X1*X2</th>\n",
       "    </tr>\n",
       "  </thead>\n",
       "  <tbody>\n",
       "    <tr>\n",
       "      <th>0</th>\n",
       "      <td>8.660254</td>\n",
       "      <td>-5.00000</td>\n",
       "      <td>0</td>\n",
       "      <td>75.000000</td>\n",
       "      <td>25.000000</td>\n",
       "      <td>-43.301270</td>\n",
       "    </tr>\n",
       "    <tr>\n",
       "      <th>1</th>\n",
       "      <td>8.717792</td>\n",
       "      <td>-4.89899</td>\n",
       "      <td>0</td>\n",
       "      <td>75.999898</td>\n",
       "      <td>24.000102</td>\n",
       "      <td>-42.708375</td>\n",
       "    </tr>\n",
       "    <tr>\n",
       "      <th>2</th>\n",
       "      <td>8.773790</td>\n",
       "      <td>-4.79798</td>\n",
       "      <td>0</td>\n",
       "      <td>76.979390</td>\n",
       "      <td>23.020610</td>\n",
       "      <td>-42.096467</td>\n",
       "    </tr>\n",
       "    <tr>\n",
       "      <th>3</th>\n",
       "      <td>8.828277</td>\n",
       "      <td>-4.69697</td>\n",
       "      <td>0</td>\n",
       "      <td>77.938476</td>\n",
       "      <td>22.061524</td>\n",
       "      <td>-41.466150</td>\n",
       "    </tr>\n",
       "    <tr>\n",
       "      <th>4</th>\n",
       "      <td>8.881281</td>\n",
       "      <td>-4.59596</td>\n",
       "      <td>0</td>\n",
       "      <td>78.877155</td>\n",
       "      <td>21.122845</td>\n",
       "      <td>-40.818009</td>\n",
       "    </tr>\n",
       "  </tbody>\n",
       "</table>\n",
       "</div>"
      ],
      "text/plain": [
       "         X1       X2  Y  X1_Square  X2_Square      X1*X2\n",
       "0  8.660254 -5.00000  0  75.000000  25.000000 -43.301270\n",
       "1  8.717792 -4.89899  0  75.999898  24.000102 -42.708375\n",
       "2  8.773790 -4.79798  0  76.979390  23.020610 -42.096467\n",
       "3  8.828277 -4.69697  0  77.938476  22.061524 -41.466150\n",
       "4  8.881281 -4.59596  0  78.877155  21.122845 -40.818009"
      ]
     },
     "execution_count": 38,
     "metadata": {},
     "output_type": "execute_result"
    }
   ],
   "source": [
    "## radial Basis function kernel\n",
    "df.head()"
   ]
  },
  {
   "cell_type": "code",
   "execution_count": 39,
   "id": "11670ff4-0850-4e56-9c0d-f905d034f52e",
   "metadata": {},
   "outputs": [],
   "source": [
    "## Independent features\n",
    "X=df.iloc[:,0:2]\n",
    "y=df.Y"
   ]
  },
  {
   "cell_type": "code",
   "execution_count": 41,
   "id": "4c5762fd-595c-4ce2-8570-527d2772947d",
   "metadata": {},
   "outputs": [
    {
     "data": {
      "text/html": [
       "<div>\n",
       "<style scoped>\n",
       "    .dataframe tbody tr th:only-of-type {\n",
       "        vertical-align: middle;\n",
       "    }\n",
       "\n",
       "    .dataframe tbody tr th {\n",
       "        vertical-align: top;\n",
       "    }\n",
       "\n",
       "    .dataframe thead th {\n",
       "        text-align: right;\n",
       "    }\n",
       "</style>\n",
       "<table border=\"1\" class=\"dataframe\">\n",
       "  <thead>\n",
       "    <tr style=\"text-align: right;\">\n",
       "      <th></th>\n",
       "      <th>X1</th>\n",
       "      <th>X2</th>\n",
       "    </tr>\n",
       "  </thead>\n",
       "  <tbody>\n",
       "    <tr>\n",
       "      <th>0</th>\n",
       "      <td>8.660254</td>\n",
       "      <td>-5.00000</td>\n",
       "    </tr>\n",
       "    <tr>\n",
       "      <th>1</th>\n",
       "      <td>8.717792</td>\n",
       "      <td>-4.89899</td>\n",
       "    </tr>\n",
       "    <tr>\n",
       "      <th>2</th>\n",
       "      <td>8.773790</td>\n",
       "      <td>-4.79798</td>\n",
       "    </tr>\n",
       "    <tr>\n",
       "      <th>3</th>\n",
       "      <td>8.828277</td>\n",
       "      <td>-4.69697</td>\n",
       "    </tr>\n",
       "    <tr>\n",
       "      <th>4</th>\n",
       "      <td>8.881281</td>\n",
       "      <td>-4.59596</td>\n",
       "    </tr>\n",
       "  </tbody>\n",
       "</table>\n",
       "</div>"
      ],
      "text/plain": [
       "         X1       X2\n",
       "0  8.660254 -5.00000\n",
       "1  8.717792 -4.89899\n",
       "2  8.773790 -4.79798\n",
       "3  8.828277 -4.69697\n",
       "4  8.881281 -4.59596"
      ]
     },
     "execution_count": 41,
     "metadata": {},
     "output_type": "execute_result"
    }
   ],
   "source": [
    "X.head()"
   ]
  },
  {
   "cell_type": "code",
   "execution_count": 42,
   "id": "84a76a91-69c3-4caf-b689-f62160a6b842",
   "metadata": {},
   "outputs": [
    {
     "data": {
      "text/plain": [
       "0      0\n",
       "1      0\n",
       "2      0\n",
       "3      0\n",
       "4      0\n",
       "      ..\n",
       "195    1\n",
       "196    1\n",
       "197    1\n",
       "198    1\n",
       "199    1\n",
       "Name: Y, Length: 400, dtype: int64"
      ]
     },
     "execution_count": 42,
     "metadata": {},
     "output_type": "execute_result"
    }
   ],
   "source": [
    "y"
   ]
  },
  {
   "cell_type": "code",
   "execution_count": 43,
   "id": "73203d28-5321-4952-93f9-0b355bfc97ff",
   "metadata": {},
   "outputs": [],
   "source": [
    "from sklearn.model_selection import train_test_split\n",
    "X_train, X_test, y_train,y_test = train_test_split(X,y, test_size=0.25, random_state=0)"
   ]
  },
  {
   "cell_type": "code",
   "execution_count": 44,
   "id": "51afc820-9d9b-4367-a723-8d7de34209db",
   "metadata": {},
   "outputs": [
    {
     "data": {
      "text/plain": [
       "1.0"
      ]
     },
     "execution_count": 44,
     "metadata": {},
     "output_type": "execute_result"
    }
   ],
   "source": [
    "classifier = SVC(kernel='rbf')\n",
    "classifier.fit(X_train, y_train)\n",
    "y_pred = classifier.predict(X_test)\n",
    "accuracy_score(y_test, y_pred)"
   ]
  },
  {
   "cell_type": "code",
   "execution_count": 45,
   "id": "d321e874-77b4-45dd-aa12-2435a66508b4",
   "metadata": {},
   "outputs": [
    {
     "data": {
      "text/plain": [
       "0.59"
      ]
     },
     "execution_count": 45,
     "metadata": {},
     "output_type": "execute_result"
    }
   ],
   "source": [
    "classifier = SVC(kernel='poly')\n",
    "classifier.fit(X_train, y_train)\n",
    "y_pred = classifier.predict(X_test)\n",
    "accuracy_score(y_test, y_pred)"
   ]
  },
  {
   "cell_type": "code",
   "execution_count": 46,
   "id": "7a7decb2-8fe1-4044-80ee-c09b28e1f471",
   "metadata": {},
   "outputs": [
    {
     "data": {
      "text/plain": [
       "0.51"
      ]
     },
     "execution_count": 46,
     "metadata": {},
     "output_type": "execute_result"
    }
   ],
   "source": [
    "classifier = SVC(kernel='sigmoid')\n",
    "classifier.fit(X_train, y_train)\n",
    "y_pred = classifier.predict(X_test)\n",
    "accuracy_score(y_test, y_pred)"
   ]
  },
  {
   "cell_type": "code",
   "execution_count": null,
   "id": "bc513c21-305b-45af-ab1f-029ac60c3194",
   "metadata": {},
   "outputs": [],
   "source": []
  }
 ],
 "metadata": {
  "kernelspec": {
   "display_name": "Python 3 (ipykernel)",
   "language": "python",
   "name": "python3"
  },
  "language_info": {
   "codemirror_mode": {
    "name": "ipython",
    "version": 3
   },
   "file_extension": ".py",
   "mimetype": "text/x-python",
   "name": "python",
   "nbconvert_exporter": "python",
   "pygments_lexer": "ipython3",
   "version": "3.10.8"
  }
 },
 "nbformat": 4,
 "nbformat_minor": 5
}
