{
 "cells": [
  {
   "cell_type": "code",
   "execution_count": 1,
   "id": "40ad8c87-f42a-4bae-a560-75e03d1b3a84",
   "metadata": {},
   "outputs": [
    {
     "data": {
      "text/plain": [
       "\"\\nQ1. What is the difference between Ordinal Encoding and Label Encoding? Provide an example of when you\\nmight choose one over the other.\\nANS:\\nOrdinal Encoding\\nOrdinal encoding simply assign a unique numerical value to each category. The number are given based on the order they are appeared in the dataset by default.\\nFor example:\\nLarge => 1\\nMedium => 2\\nSmall => 3\\nLabel Encoding\\nLabel Encoding is used to transform our dataset target variable to Numbers where each Label/class is represented by unique number. It is kind of similar to ordinal encoding however these numbers can't be ranked/ordered.\\nWe must not use Label Encoding for the features. It is used only for target variable encoding.\\nLet’s consider a simple example with a dataset containing information about different types of fruits, where the “Fruit” column has categorical values such as “Apple,” “Orange,” and “Banana.” Label encoding assigns a unique numerical label to each distinct category, transforming the categorical data into numerical representation.\\nIt is important to note that label encoding introduces an arbitrary order to the categorical values, which may lead to incorrect assumptions by the model. To avoid this issue, you can consider using one-hot encoding or other methods such as ordinal encoding, which provide more appropriate representations for categorical data.\\n\\n\""
      ]
     },
     "execution_count": 1,
     "metadata": {},
     "output_type": "execute_result"
    }
   ],
   "source": [
    "\"\"\"\n",
    "Q1. What is the difference between Ordinal Encoding and Label Encoding? Provide an example of when you\n",
    "might choose one over the other.\n",
    "ANS:\n",
    "Ordinal Encoding\n",
    "Ordinal encoding simply assign a unique numerical value to each category. The number are given based on the order they are appeared in the dataset by default.\n",
    "For example:\n",
    "Large => 1\n",
    "Medium => 2\n",
    "Small => 3\n",
    "Label Encoding\n",
    "Label Encoding is used to transform our dataset target variable to Numbers where each Label/class is represented by unique number. It is kind of similar to ordinal encoding however these numbers can't be ranked/ordered.\n",
    "We must not use Label Encoding for the features. It is used only for target variable encoding.\n",
    "Let’s consider a simple example with a dataset containing information about different types of fruits, where the “Fruit” column has categorical values such as “Apple,” “Orange,” and “Banana.” Label encoding assigns a unique numerical label to each distinct category, transforming the categorical data into numerical representation.\n",
    "It is important to note that label encoding introduces an arbitrary order to the categorical values, which may lead to incorrect assumptions by the model. To avoid this issue, you can consider using one-hot encoding or other methods such as ordinal encoding, which provide more appropriate representations for categorical data.\n",
    "\n",
    "\"\"\""
   ]
  },
  {
   "cell_type": "code",
   "execution_count": 2,
   "id": "1c3e07bc-6e39-4d96-a562-83f6762c1220",
   "metadata": {},
   "outputs": [
    {
     "data": {
      "text/plain": [
       "'\\nQ2. Explain how Target Guided Ordinal Encoding works and provide an example of when you might use it in\\na machine learning project.\\n\\nANS\\nTarget-guided ordinal encoding is a technique used to encode categorical variables for machine learning models. This encoding technique is particularly useful when the target variable is ordinal, meaning that it has a natural order, such as low, medium, and high.\\n\\nTarget-guided ordinal encoding involves replacing the categories in the categorical variable with ordinal numbers that are based on the relationship between the category and the target variable. The encoding process involves sorting the categories based on the mean of the target variable for each category and then assigning a numerical value to each category based on its rank.\\n\\n'"
      ]
     },
     "execution_count": 2,
     "metadata": {},
     "output_type": "execute_result"
    }
   ],
   "source": [
    "\"\"\"\n",
    "Q2. Explain how Target Guided Ordinal Encoding works and provide an example of when you might use it in\n",
    "a machine learning project.\n",
    "\n",
    "ANS\n",
    "Target-guided ordinal encoding is a technique used to encode categorical variables for machine learning models. This encoding technique is particularly useful when the target variable is ordinal, meaning that it has a natural order, such as low, medium, and high.\n",
    "\n",
    "Target-guided ordinal encoding involves replacing the categories in the categorical variable with ordinal numbers that are based on the relationship between the category and the target variable. The encoding process involves sorting the categories based on the mean of the target variable for each category and then assigning a numerical value to each category based on its rank.\n",
    "\n",
    "\"\"\""
   ]
  },
  {
   "cell_type": "code",
   "execution_count": 3,
   "id": "00a048b5-3a76-4075-b583-3fec506661ce",
   "metadata": {},
   "outputs": [
    {
     "data": {
      "text/plain": [
       "\"\\nQ3. Define covariance and explain why it is important in statistical analysis. How is covariance calculated?\\n\\nANS:\\nCovariance measures the directional relationship between the returns on two assets. A positive covariance means asset returns move together, while a negative covariance means they move inversely.\\nCovariance evaluates how the mean values of two random variables move together. For example, if stock A's return moves higher whenever stock B's return moves higher, and the same relationship is found when each stock's return decreases, these stocks are said to have positive covariance.\\nCovariance = ∑(xi-x_bar) (yi-y_bar) / n-1\\n\\n\""
      ]
     },
     "execution_count": 3,
     "metadata": {},
     "output_type": "execute_result"
    }
   ],
   "source": [
    "\"\"\"\n",
    "Q3. Define covariance and explain why it is important in statistical analysis. How is covariance calculated?\n",
    "\n",
    "ANS:\n",
    "Covariance measures the directional relationship between the returns on two assets. A positive covariance means asset returns move together, while a negative covariance means they move inversely.\n",
    "Covariance evaluates how the mean values of two random variables move together. For example, if stock A's return moves higher whenever stock B's return moves higher, and the same relationship is found when each stock's return decreases, these stocks are said to have positive covariance.\n",
    "Covariance = ∑(xi-x_bar) (yi-y_bar) / n-1\n",
    "\n",
    "\"\"\""
   ]
  },
  {
   "cell_type": "code",
   "execution_count": 4,
   "id": "b4cba86a-d73a-4ad7-ada7-351c48538eb1",
   "metadata": {},
   "outputs": [
    {
     "data": {
      "text/plain": [
       "\"\\nQ4. For a dataset with the following categorical variables: Color (red, green, blue), Size (small, medium,\\nlarge), and Material (wood, metal, plastic), perform label encoding using Python's scikit-learn library.\\nShow your code and explain the output.\\n\\n\""
      ]
     },
     "execution_count": 4,
     "metadata": {},
     "output_type": "execute_result"
    }
   ],
   "source": [
    "\"\"\"\n",
    "Q4. For a dataset with the following categorical variables: Color (red, green, blue), Size (small, medium,\n",
    "large), and Material (wood, metal, plastic), perform label encoding using Python's scikit-learn library.\n",
    "Show your code and explain the output.\n",
    "\n",
    "\"\"\""
   ]
  },
  {
   "cell_type": "code",
   "execution_count": 5,
   "id": "6d40ec3f-a765-4dd2-bdf0-546e17ee5209",
   "metadata": {},
   "outputs": [
    {
     "data": {
      "text/html": [
       "<div>\n",
       "<style scoped>\n",
       "    .dataframe tbody tr th:only-of-type {\n",
       "        vertical-align: middle;\n",
       "    }\n",
       "\n",
       "    .dataframe tbody tr th {\n",
       "        vertical-align: top;\n",
       "    }\n",
       "\n",
       "    .dataframe thead th {\n",
       "        text-align: right;\n",
       "    }\n",
       "</style>\n",
       "<table border=\"1\" class=\"dataframe\">\n",
       "  <thead>\n",
       "    <tr style=\"text-align: right;\">\n",
       "      <th></th>\n",
       "      <th>color</th>\n",
       "      <th>size</th>\n",
       "      <th>material</th>\n",
       "      <th>label_color</th>\n",
       "    </tr>\n",
       "  </thead>\n",
       "  <tbody>\n",
       "    <tr>\n",
       "      <th>0</th>\n",
       "      <td>red</td>\n",
       "      <td>small</td>\n",
       "      <td>wood</td>\n",
       "      <td>2</td>\n",
       "    </tr>\n",
       "    <tr>\n",
       "      <th>1</th>\n",
       "      <td>green</td>\n",
       "      <td>medium</td>\n",
       "      <td>metal</td>\n",
       "      <td>1</td>\n",
       "    </tr>\n",
       "    <tr>\n",
       "      <th>2</th>\n",
       "      <td>blue</td>\n",
       "      <td>large</td>\n",
       "      <td>plastic</td>\n",
       "      <td>0</td>\n",
       "    </tr>\n",
       "  </tbody>\n",
       "</table>\n",
       "</div>"
      ],
      "text/plain": [
       "   color    size material  label_color\n",
       "0    red   small     wood            2\n",
       "1  green  medium    metal            1\n",
       "2   blue   large  plastic            0"
      ]
     },
     "execution_count": 5,
     "metadata": {},
     "output_type": "execute_result"
    }
   ],
   "source": [
    "import pandas as pd\n",
    "from sklearn.preprocessing import LabelEncoder\n",
    "\n",
    "## create a sample dataframe with a categorical vaiables\n",
    "df = pd.DataFrame({\n",
    "    'color': ['red', 'green', 'blue'],\n",
    "    'size': ['small', 'medium', 'large'],\n",
    "    'material': ['wood', 'metal', 'plastic']\n",
    "})\n",
    "\n",
    "encoder = LabelEncoder()\n",
    "# Assigning numerical values and storing in another column\n",
    "df['label_color'] = encoder.fit_transform(df['color'])\n",
    "df\n"
   ]
  },
  {
   "cell_type": "code",
   "execution_count": 6,
   "id": "836d456e-5501-47f7-b3a3-f8e99cd26f14",
   "metadata": {},
   "outputs": [
    {
     "data": {
      "text/plain": [
       "'\\nQ5. Calculate the covariance matrix for the following variables in a dataset: Age, Income, and Education\\nlevel. Interpret the results.\\n\\n'"
      ]
     },
     "execution_count": 6,
     "metadata": {},
     "output_type": "execute_result"
    }
   ],
   "source": [
    "\"\"\"\n",
    "Q5. Calculate the covariance matrix for the following variables in a dataset: Age, Income, and Education\n",
    "level. Interpret the results.\n",
    "\n",
    "\"\"\""
   ]
  },
  {
   "cell_type": "code",
   "execution_count": 7,
   "id": "d6d74dff-4825-437d-a698-116f1f42e733",
   "metadata": {},
   "outputs": [
    {
     "name": "stderr",
     "output_type": "stream",
     "text": [
      "/tmp/ipykernel_3304/816363157.py:8: FutureWarning: The default value of numeric_only in DataFrame.cov is deprecated. In a future version, it will default to False. Select only valid columns or specify the value of numeric_only to silence this warning.\n",
      "  df.cov()\n"
     ]
    },
    {
     "data": {
      "text/html": [
       "<div>\n",
       "<style scoped>\n",
       "    .dataframe tbody tr th:only-of-type {\n",
       "        vertical-align: middle;\n",
       "    }\n",
       "\n",
       "    .dataframe tbody tr th {\n",
       "        vertical-align: top;\n",
       "    }\n",
       "\n",
       "    .dataframe thead th {\n",
       "        text-align: right;\n",
       "    }\n",
       "</style>\n",
       "<table border=\"1\" class=\"dataframe\">\n",
       "  <thead>\n",
       "    <tr style=\"text-align: right;\">\n",
       "      <th></th>\n",
       "      <th>age</th>\n",
       "      <th>income</th>\n",
       "    </tr>\n",
       "  </thead>\n",
       "  <tbody>\n",
       "    <tr>\n",
       "      <th>age</th>\n",
       "      <td>158.333333</td>\n",
       "      <td>125000.0</td>\n",
       "    </tr>\n",
       "    <tr>\n",
       "      <th>income</th>\n",
       "      <td>125000.000000</td>\n",
       "      <td>100000000.0</td>\n",
       "    </tr>\n",
       "  </tbody>\n",
       "</table>\n",
       "</div>"
      ],
      "text/plain": [
       "                  age       income\n",
       "age        158.333333     125000.0\n",
       "income  125000.000000  100000000.0"
      ]
     },
     "execution_count": 7,
     "metadata": {},
     "output_type": "execute_result"
    }
   ],
   "source": [
    "import pandas as pd\n",
    "## create a sample dataframe with a categorical vaiables\n",
    "df = pd.DataFrame({\n",
    "    'age': [30,45,55],\n",
    "    'income': [20000, 30000, 40000],\n",
    "    'education_level': ['Master', 'Graduate', 'PHD']\n",
    "})\n",
    "df.cov()\n"
   ]
  },
  {
   "cell_type": "code",
   "execution_count": 8,
   "id": "4d685aa7-b7b6-4388-b73b-0339c06a9ff9",
   "metadata": {},
   "outputs": [
    {
     "data": {
      "text/plain": [
       "'\\nQ6. You are working on a machine learning project with a dataset containing several categorical\\nvariables, including \"Gender\" (Male/Female), \"Education Level\" (High School/Bachelor\\'s/Master\\'s/PhD),\\nand \"Employment Status\" (Unemployed/Part-Time/Full-Time). Which encoding method would you use for\\neach variable, and why?\\n\\nANS:\\n\"Gender\" (Male/Female),: Nominal encoding as no order present\\n\"Education Level\" (High School/Bachelor\\'s/Master\\'s/PhD): Ordinal Encoding as order between values present \"Employment Status\" (Unemployed/Part-Time/Full-Time): Ordinal Encoding as order between values present\\n\\n'"
      ]
     },
     "execution_count": 8,
     "metadata": {},
     "output_type": "execute_result"
    }
   ],
   "source": [
    "\"\"\"\n",
    "Q6. You are working on a machine learning project with a dataset containing several categorical\n",
    "variables, including \"Gender\" (Male/Female), \"Education Level\" (High School/Bachelor's/Master's/PhD),\n",
    "and \"Employment Status\" (Unemployed/Part-Time/Full-Time). Which encoding method would you use for\n",
    "each variable, and why?\n",
    "\n",
    "ANS:\n",
    "\"Gender\" (Male/Female),: Nominal encoding as no order present\n",
    "\"Education Level\" (High School/Bachelor's/Master's/PhD): Ordinal Encoding as order between values present \"Employment Status\" (Unemployed/Part-Time/Full-Time): Ordinal Encoding as order between values present\n",
    "\n",
    "\"\"\""
   ]
  },
  {
   "cell_type": "code",
   "execution_count": 9,
   "id": "44a9ec2c-de99-4ee7-9f50-18f16984fcd9",
   "metadata": {},
   "outputs": [
    {
     "data": {
      "text/plain": [
       "'\\nQ7. You are analyzing a dataset with two continuous variables, \"Temperature\" and \"Humidity\", and two\\ncategorical variables, \"Weather Condition\" (Sunny/Cloudy/Rainy) and \"Wind Direction\" (North/South/\\nEast/West). Calculate the covariance between each pair of variables and interpret the results.\\n\\n'"
      ]
     },
     "execution_count": 9,
     "metadata": {},
     "output_type": "execute_result"
    }
   ],
   "source": [
    "\"\"\"\n",
    "Q7. You are analyzing a dataset with two continuous variables, \"Temperature\" and \"Humidity\", and two\n",
    "categorical variables, \"Weather Condition\" (Sunny/Cloudy/Rainy) and \"Wind Direction\" (North/South/\n",
    "East/West). Calculate the covariance between each pair of variables and interpret the results.\n",
    "\n",
    "\"\"\""
   ]
  },
  {
   "cell_type": "code",
   "execution_count": 10,
   "id": "a7563624-c225-4bf3-801d-c4f7d9984ace",
   "metadata": {},
   "outputs": [
    {
     "name": "stderr",
     "output_type": "stream",
     "text": [
      "/tmp/ipykernel_3304/2958386818.py:17: FutureWarning: The default value of numeric_only in DataFrame.cov is deprecated. In a future version, it will default to False. Select only valid columns or specify the value of numeric_only to silence this warning.\n",
      "  df.cov()\n"
     ]
    },
    {
     "data": {
      "text/html": [
       "<div>\n",
       "<style scoped>\n",
       "    .dataframe tbody tr th:only-of-type {\n",
       "        vertical-align: middle;\n",
       "    }\n",
       "\n",
       "    .dataframe tbody tr th {\n",
       "        vertical-align: top;\n",
       "    }\n",
       "\n",
       "    .dataframe thead th {\n",
       "        text-align: right;\n",
       "    }\n",
       "</style>\n",
       "<table border=\"1\" class=\"dataframe\">\n",
       "  <thead>\n",
       "    <tr style=\"text-align: right;\">\n",
       "      <th></th>\n",
       "      <th>Temperature</th>\n",
       "      <th>Humidity</th>\n",
       "      <th>label_we_con</th>\n",
       "      <th>label_win_dir</th>\n",
       "    </tr>\n",
       "  </thead>\n",
       "  <tbody>\n",
       "    <tr>\n",
       "      <th>Temperature</th>\n",
       "      <td>127.333333</td>\n",
       "      <td>80.666667</td>\n",
       "      <td>-5.000000</td>\n",
       "      <td>-8.000000</td>\n",
       "    </tr>\n",
       "    <tr>\n",
       "      <th>Humidity</th>\n",
       "      <td>80.666667</td>\n",
       "      <td>275.666667</td>\n",
       "      <td>6.666667</td>\n",
       "      <td>-16.333333</td>\n",
       "    </tr>\n",
       "    <tr>\n",
       "      <th>label_we_con</th>\n",
       "      <td>-5.000000</td>\n",
       "      <td>6.666667</td>\n",
       "      <td>0.666667</td>\n",
       "      <td>-0.333333</td>\n",
       "    </tr>\n",
       "    <tr>\n",
       "      <th>label_win_dir</th>\n",
       "      <td>-8.000000</td>\n",
       "      <td>-16.333333</td>\n",
       "      <td>-0.333333</td>\n",
       "      <td>1.666667</td>\n",
       "    </tr>\n",
       "  </tbody>\n",
       "</table>\n",
       "</div>"
      ],
      "text/plain": [
       "               Temperature    Humidity  label_we_con  label_win_dir\n",
       "Temperature     127.333333   80.666667     -5.000000      -8.000000\n",
       "Humidity         80.666667  275.666667      6.666667     -16.333333\n",
       "label_we_con     -5.000000    6.666667      0.666667      -0.333333\n",
       "label_win_dir    -8.000000  -16.333333     -0.333333       1.666667"
      ]
     },
     "execution_count": 10,
     "metadata": {},
     "output_type": "execute_result"
    }
   ],
   "source": [
    "import pandas as pd\n",
    "from sklearn.preprocessing import LabelEncoder\n",
    "\n",
    "\n",
    "## create a sample dataframe with a categorical vaiables\n",
    "df = pd.DataFrame({\n",
    "    'Temperature': [30,45,55, 34],\n",
    "    'Humidity': [50, 30, 70, 44],\n",
    "    'Weather_Condition': ['Sunny', 'Cloudy', 'Rainy', 'Rainy'],\n",
    "    'Wind_Direction': ['North','South','East','West']\n",
    "})\n",
    "encoder = LabelEncoder()\n",
    "# Assigning numerical values and storing in another column\n",
    "df['label_we_con'] = encoder.fit_transform(df['Weather_Condition'])\n",
    "df['label_win_dir'] = encoder.fit_transform(df['Wind_Direction'])\n",
    "df\n",
    "df.cov()\n"
   ]
  },
  {
   "cell_type": "code",
   "execution_count": null,
   "id": "09a4578e-32a4-4a64-8c05-d8a5ac9f2dc6",
   "metadata": {},
   "outputs": [],
   "source": []
  }
 ],
 "metadata": {
  "kernelspec": {
   "display_name": "Python 3 (ipykernel)",
   "language": "python",
   "name": "python3"
  },
  "language_info": {
   "codemirror_mode": {
    "name": "ipython",
    "version": 3
   },
   "file_extension": ".py",
   "mimetype": "text/x-python",
   "name": "python",
   "nbconvert_exporter": "python",
   "pygments_lexer": "ipython3",
   "version": "3.10.8"
  }
 },
 "nbformat": 4,
 "nbformat_minor": 5
}
