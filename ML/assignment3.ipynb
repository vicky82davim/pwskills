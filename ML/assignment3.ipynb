{
 "cells": [
  {
   "cell_type": "code",
   "execution_count": 1,
   "id": "433850aa-16a8-4a52-ba97-14d5db9c1db4",
   "metadata": {},
   "outputs": [
    {
     "data": {
      "text/plain": [
       "'\\nQ1. What is Min-Max scaling, and how is it used in data preprocessing? Provide an example to illustrate its\\napplication.\\n\\nANS:\\nMin-Max scaling is another way of data scaling, where the minimum of feature is made equal to zero and the maximum of feature equal to one. MinMax Scaler shrinks the data within the given range, usually of 0 to 1. It transforms data by scaling features to a given range. It scales the values to a specific value range without changing the shape of the original distribution.\\nx_std = (x – x.min(axis=0)) / (x.max(axis=0) – x.min(axis=0))\\n\\nx_scaled = x_std * (max – min) + min\\n•\\tmin, max = feature_range\\n•\\tx.min(axis=0) : Minimum feature value\\n•\\tx.max(axis=0):Maximum feature value\\n\\n'"
      ]
     },
     "execution_count": 1,
     "metadata": {},
     "output_type": "execute_result"
    }
   ],
   "source": [
    "\"\"\"\n",
    "Q1. What is Min-Max scaling, and how is it used in data preprocessing? Provide an example to illustrate its\n",
    "application.\n",
    "\n",
    "ANS:\n",
    "Min-Max scaling is another way of data scaling, where the minimum of feature is made equal to zero and the maximum of feature equal to one. MinMax Scaler shrinks the data within the given range, usually of 0 to 1. It transforms data by scaling features to a given range. It scales the values to a specific value range without changing the shape of the original distribution.\n",
    "x_std = (x – x.min(axis=0)) / (x.max(axis=0) – x.min(axis=0))\n",
    "\n",
    "x_scaled = x_std * (max – min) + min\n",
    "•\tmin, max = feature_range\n",
    "•\tx.min(axis=0) : Minimum feature value\n",
    "•\tx.max(axis=0):Maximum feature value\n",
    "\n",
    "\"\"\""
   ]
  },
  {
   "cell_type": "code",
   "execution_count": 2,
   "id": "e1eb6709-417c-407d-86f3-100b34380da3",
   "metadata": {},
   "outputs": [
    {
     "name": "stdout",
     "output_type": "stream",
     "text": [
      "[[1.         0.        ]\n",
      " [0.27272727 0.625     ]\n",
      " [0.         1.        ]\n",
      " [1.         0.75      ]]\n"
     ]
    }
   ],
   "source": [
    "# import module\n",
    "from sklearn.preprocessing import MinMaxScaler\n",
    " \n",
    "# create data\n",
    "data = [[11, 2], [3, 7], [0, 10], [11, 8]]\n",
    " \n",
    "# scale features\n",
    "scaler = MinMaxScaler()\n",
    "model=scaler.fit(data)\n",
    "scaled_data=model.transform(data)\n",
    " \n",
    "# print scaled features\n",
    "print(scaled_data)\n"
   ]
  },
  {
   "cell_type": "code",
   "execution_count": 3,
   "id": "035a11e5-68fc-4687-9424-5a8320917777",
   "metadata": {},
   "outputs": [
    {
     "data": {
      "text/plain": [
       "'\\nQ2. What is the Unit Vector technique in feature scaling, and how does it differ from Min-Max scaling?\\nProvide an example to illustrate its application.\\n\\nANS:\\nUnit vectors are the vectors that are used to give the direction of the vector. We can easily get the unit vector of the vector by simply dividing the vector by its magnitude.\\n\\nMagnitude of Vector\\nThe strength of any vector is given by the magnitude of the vector. Any vector has both magnitude and direction and the magnitude of the vector is calculated by taking the sum of the square of individual components of the vector and then taking its square root. For any vec{A}   = ai + bj + ck the vector’s magnitude formula is,\\n\\n|vec{A}|  = √(a2 + b2 + c2)\\n\\nExample: Find the magnitude of vector vec{V}   = 2i + 3k – j\\n\\nSolution:\\n\\nGiven Vector,\\n\\nvec{V}   = 2i + 3k – j\\n\\nMagnitude of vector\\n\\n|V| = √((2)2 + (3)2 + (-1)2)\\n\\n|V| = √(14) units\\n\\nNormalization\\nRescales values to a range between 0 and 1\\nUseful when the distribution of the data is unknown or not Gaussian\\nSensitive to outliers\\nRetains the shape of the original distribution\\nMay not preserve the relationships between the data points\\nEquation: (x – min)/(max – min)\\n\\n\\nStandardization\\nCenters data around the mean and scales to a standard deviation of 1\\nUseful when the distribution of the data is Gaussian or unknown\\nLess sensitive to outliers\\nChanges the shape of the original distribution\\nPreserves the relationships between the data points\\nEquation: (x – mean)/standard deviation\\n\\n\\n\\n'"
      ]
     },
     "execution_count": 3,
     "metadata": {},
     "output_type": "execute_result"
    }
   ],
   "source": [
    "\"\"\"\n",
    "Q2. What is the Unit Vector technique in feature scaling, and how does it differ from Min-Max scaling?\n",
    "Provide an example to illustrate its application.\n",
    "\n",
    "ANS:\n",
    "Unit vectors are the vectors that are used to give the direction of the vector. We can easily get the unit vector of the vector by simply dividing the vector by its magnitude.\n",
    "\n",
    "Magnitude of Vector\n",
    "The strength of any vector is given by the magnitude of the vector. Any vector has both magnitude and direction and the magnitude of the vector is calculated by taking the sum of the square of individual components of the vector and then taking its square root. For any vec{A}   = ai + bj + ck the vector’s magnitude formula is,\n",
    "\n",
    "|vec{A}|  = √(a2 + b2 + c2)\n",
    "\n",
    "Example: Find the magnitude of vector vec{V}   = 2i + 3k – j\n",
    "\n",
    "Solution:\n",
    "\n",
    "Given Vector,\n",
    "\n",
    "vec{V}   = 2i + 3k – j\n",
    "\n",
    "Magnitude of vector\n",
    "\n",
    "|V| = √((2)2 + (3)2 + (-1)2)\n",
    "\n",
    "|V| = √(14) units\n",
    "\n",
    "Normalization\n",
    "Rescales values to a range between 0 and 1\n",
    "Useful when the distribution of the data is unknown or not Gaussian\n",
    "Sensitive to outliers\n",
    "Retains the shape of the original distribution\n",
    "May not preserve the relationships between the data points\n",
    "Equation: (x – min)/(max – min)\n",
    "\n",
    "\n",
    "Standardization\n",
    "Centers data around the mean and scales to a standard deviation of 1\n",
    "Useful when the distribution of the data is Gaussian or unknown\n",
    "Less sensitive to outliers\n",
    "Changes the shape of the original distribution\n",
    "Preserves the relationships between the data points\n",
    "Equation: (x – mean)/standard deviation\n",
    "\n",
    "\n",
    "\n",
    "\"\"\""
   ]
  },
  {
   "cell_type": "code",
   "execution_count": 4,
   "id": "dc782264-d83f-4eed-8aa9-26e311deca40",
   "metadata": {},
   "outputs": [
    {
     "data": {
      "text/plain": [
       "'\\nQ3. What is PCA (Principle Component Analysis), and how is it used in dimensionality reduction? Provide an\\nexample to illustrate its application.\\n\\nANS:\\nThe Principal Component Analysis is a popular unsupervised learning technique for reducing the dimensionality of large data sets. It increases interpretability yet, at the same time, it minimizes information loss. It helps to find the most significant features in a dataset and makes the data easy for plotting in 2D and 3D. PCA helps in finding a sequence of linear combinations of variables.\\n\\nPrincipal Component\\nThe Principal Components are a straight line that captures most of the variance of the data. They have a direction and magnitude\\n\\nDimensionality\\nThe term \"dimensionality\" describes the quantity of features or variables used in the research. It can be difficult to visualize and interpret the relationships between variables when dealing with high-dimensional data, such as datasets with numerous variables. While reducing the number of variables in the dataset, dimensionality reduction methods like PCA are used to preserve the most crucial data. The original variables are converted into a new set of variables called principal components, which are linear combinations of the original variables, by PCA in order to accomplish this. The dataset\\'s reduced dimensionality depends on how many principal components are used in the study. The objective of PCA is to select fewer principal components that account for the data\\'s most important variation.\\n\\n'"
      ]
     },
     "execution_count": 4,
     "metadata": {},
     "output_type": "execute_result"
    }
   ],
   "source": [
    "\"\"\"\n",
    "Q3. What is PCA (Principle Component Analysis), and how is it used in dimensionality reduction? Provide an\n",
    "example to illustrate its application.\n",
    "\n",
    "ANS:\n",
    "The Principal Component Analysis is a popular unsupervised learning technique for reducing the dimensionality of large data sets. It increases interpretability yet, at the same time, it minimizes information loss. It helps to find the most significant features in a dataset and makes the data easy for plotting in 2D and 3D. PCA helps in finding a sequence of linear combinations of variables.\n",
    "\n",
    "Principal Component\n",
    "The Principal Components are a straight line that captures most of the variance of the data. They have a direction and magnitude\n",
    "\n",
    "Dimensionality\n",
    "The term \"dimensionality\" describes the quantity of features or variables used in the research. It can be difficult to visualize and interpret the relationships between variables when dealing with high-dimensional data, such as datasets with numerous variables. While reducing the number of variables in the dataset, dimensionality reduction methods like PCA are used to preserve the most crucial data. The original variables are converted into a new set of variables called principal components, which are linear combinations of the original variables, by PCA in order to accomplish this. The dataset's reduced dimensionality depends on how many principal components are used in the study. The objective of PCA is to select fewer principal components that account for the data's most important variation.\n",
    "\n",
    "\"\"\""
   ]
  },
  {
   "cell_type": "code",
   "execution_count": 5,
   "id": "1e81d3e5-94e2-4594-b9d7-872692cc88e9",
   "metadata": {},
   "outputs": [
    {
     "data": {
      "text/plain": [
       "'\\nQ4. What is the relationship between PCA and Feature Extraction, and how can PCA be used for Feature\\nExtraction? Provide an example to illustrate this concept.\\n\\nANS:\\nIn real-world machine learning problems, there are often too many factors (features) on the basis of which the final prediction is done. The higher the number of features, the harder it gets to visualize the training set and then work on it.\\nDimensionality reduction is the process of reducing the number of random features under consideration, by obtaining a set of principal or important features.\\n\\nDimensionality reduction can be done in 2 ways:\\n\\na. Feature Selection: By only keeping the most relevant variables from the original dataset\\n\\ni. Correlation\\n\\nii. Forward Selection\\n\\niii. Backward Elimination\\n\\niv. Select K Best\\n\\nv. Missing value Ratio\\n\\nb. Feature Extraction: By finding a smaller set of new variables, each being a combination of the input variables, containing basically the same information as the input variables.\\n\\ni.\\tPCA(Principal Component Analysis):\\nPCA is a method of obtaining important variables (in form of components) from a large set of variables available in a data set. It tends to find the direction of maximum variation (spread) in data. PCA is more useful when dealing with 3 or higher-dimensional data.\\n\\nPCA can be used for anomaly detection and outlier detection because they will not be part of the data as it would be considered noise by PCA\\n\\n\\n\\n'"
      ]
     },
     "execution_count": 5,
     "metadata": {},
     "output_type": "execute_result"
    }
   ],
   "source": [
    "\"\"\"\n",
    "Q4. What is the relationship between PCA and Feature Extraction, and how can PCA be used for Feature\n",
    "Extraction? Provide an example to illustrate this concept.\n",
    "\n",
    "ANS:\n",
    "In real-world machine learning problems, there are often too many factors (features) on the basis of which the final prediction is done. The higher the number of features, the harder it gets to visualize the training set and then work on it.\n",
    "Dimensionality reduction is the process of reducing the number of random features under consideration, by obtaining a set of principal or important features.\n",
    "\n",
    "Dimensionality reduction can be done in 2 ways:\n",
    "\n",
    "a. Feature Selection: By only keeping the most relevant variables from the original dataset\n",
    "\n",
    "i. Correlation\n",
    "\n",
    "ii. Forward Selection\n",
    "\n",
    "iii. Backward Elimination\n",
    "\n",
    "iv. Select K Best\n",
    "\n",
    "v. Missing value Ratio\n",
    "\n",
    "b. Feature Extraction: By finding a smaller set of new variables, each being a combination of the input variables, containing basically the same information as the input variables.\n",
    "\n",
    "i.\tPCA(Principal Component Analysis):\n",
    "PCA is a method of obtaining important variables (in form of components) from a large set of variables available in a data set. It tends to find the direction of maximum variation (spread) in data. PCA is more useful when dealing with 3 or higher-dimensional data.\n",
    "\n",
    "PCA can be used for anomaly detection and outlier detection because they will not be part of the data as it would be considered noise by PCA\n",
    "\n",
    "\n",
    "\n",
    "\"\"\""
   ]
  },
  {
   "cell_type": "code",
   "execution_count": 7,
   "id": "da795b63-105c-49f6-908a-a4f888a22502",
   "metadata": {},
   "outputs": [
    {
     "data": {
      "text/plain": [
       "\"\\nQ5. You are working on a project to build a recommendation system for a food delivery service. The dataset\\ncontains features such as price, rating, and delivery time. Explain how you would use Min-Max scaling to\\npreprocess the data.\\n\\nANS:\\nImport pandas as pd\\nfrom sklearn.preprocessing import MinMaxScaler\\n\\n# initialize list of lists \\ndata = [[1000, 5, 2], [500, 3, 1], [760, 4, 3], [430, 5, 2], [790, 2, 2]]\\n# Create the pandas DataFrame \\ndf = pd.DataFrame(data, columns= [ ‘price’, 'rating', ‘deliverytime’])\\n# define min max scaler\\nscaler = MinMaxScaler()\\n# transform data\\nscaled = scaler.fit_transform(df[[ ‘price’, 'rating', ‘deliverytime’]])\\nprint(scaled)\\n\\n\\n\""
      ]
     },
     "execution_count": 7,
     "metadata": {},
     "output_type": "execute_result"
    }
   ],
   "source": [
    "\"\"\"\n",
    "Q5. You are working on a project to build a recommendation system for a food delivery service. The dataset\n",
    "contains features such as price, rating, and delivery time. Explain how you would use Min-Max scaling to\n",
    "preprocess the data.\n",
    "\n",
    "ANS:\n",
    "Import pandas as pd\n",
    "from sklearn.preprocessing import MinMaxScaler\n",
    "\n",
    "# initialize list of lists \n",
    "data = [[1000, 5, 2], [500, 3, 1], [760, 4, 3], [430, 5, 2], [790, 2, 2]]\n",
    "# Create the pandas DataFrame \n",
    "df = pd.DataFrame(data, columns= [ ‘price’, 'rating', ‘deliverytime’])\n",
    "# define min max scaler\n",
    "scaler = MinMaxScaler()\n",
    "# transform data\n",
    "scaled = scaler.fit_transform(df[[ ‘price’, 'rating', ‘deliverytime’]])\n",
    "print(scaled)\n",
    "\n",
    "\n",
    "\"\"\""
   ]
  },
  {
   "cell_type": "code",
   "execution_count": 8,
   "id": "20d9774f-e2f8-41e2-9893-99688d5bfecc",
   "metadata": {},
   "outputs": [
    {
     "data": {
      "text/plain": [
       "'\\nQ6. You are working on a project to build a model to predict stock prices. The dataset contains many\\nfeatures, such as company financial data and market trends. Explain how you would use PCA to reduce the\\ndimensionality of the dataset.\\n\\n'"
      ]
     },
     "execution_count": 8,
     "metadata": {},
     "output_type": "execute_result"
    }
   ],
   "source": [
    "\"\"\"\n",
    "Q6. You are working on a project to build a model to predict stock prices. The dataset contains many\n",
    "features, such as company financial data and market trends. Explain how you would use PCA to reduce the\n",
    "dimensionality of the dataset.\n",
    "\n",
    "\"\"\""
   ]
  },
  {
   "cell_type": "code",
   "execution_count": 11,
   "id": "ed8073d1-bbd8-4832-a938-e23d2e3d7a3c",
   "metadata": {},
   "outputs": [
    {
     "data": {
      "text/plain": [
       "<AxesSubplot: >"
      ]
     },
     "execution_count": 11,
     "metadata": {},
     "output_type": "execute_result"
    },
    {
     "data": {
      "image/png": "[encoded data removed]",
      "text/plain": [
       "<Figure size 640x480 with 2 Axes>"
      ]
     },
     "metadata": {},
     "output_type": "display_data"
    }
   ],
   "source": [
    "# Import necessary libraries\n",
    "import pandas as pd  # to load the dataframe\n",
    "from sklearn.preprocessing import StandardScaler  # to standardize the features\n",
    "from sklearn.decomposition import PCA  # to apply PCA\n",
    "import seaborn as sns  # to plot the heat maps\n",
    "\n",
    "# initialize list of lists \n",
    "data = [[1000, 5], [500, 3], [760, 4], [430, 5], [790, 2]]\n",
    "# Create the pandas DataFrame \n",
    "df = pd.DataFrame(data, columns= [ 'financial_data', 'market_trend'])\n",
    "\n",
    "#Standardize the features\n",
    "#Create an object of StandardScaler which is present in sklearn.preprocessing\n",
    "scalar = StandardScaler() \n",
    "scaled_data = pd.DataFrame(scalar.fit_transform(df)) #scaling the data\n",
    "scaled_data\n",
    "\n",
    "\n",
    "#Check the Co-relation between features without PCA\n",
    "sns.heatmap(scaled_data.corr())\n",
    "\n",
    "\n"
   ]
  },
  {
   "cell_type": "code",
   "execution_count": 12,
   "id": "a177facf-cb6a-4ee7-b4ab-50fc63299b3a",
   "metadata": {},
   "outputs": [
    {
     "data": {
      "text/plain": [
       "<AxesSubplot: >"
      ]
     },
     "execution_count": 12,
     "metadata": {},
     "output_type": "execute_result"
    },
    {
     "data": {
      "image/png": "[encoded data removed]",
      "text/plain": [
       "<Figure size 640x480 with 2 Axes>"
      ]
     },
     "metadata": {},
     "output_type": "display_data"
    }
   ],
   "source": [
    "\n",
    "#Applying PCA\n",
    "#Taking no. of Principal Components as 2\n",
    "pca = PCA(n_components = 2)\n",
    "pca.fit(scaled_data)\n",
    "data_pca = pca.transform(scaled_data)\n",
    "data_pca = pd.DataFrame(data_pca,columns=['PC1','PC2'])\n",
    "data_pca.head()\n",
    "\n",
    "#Checking Co-relation between features after PCA\n",
    "sns.heatmap(data_pca.corr())"
   ]
  },
  {
   "cell_type": "code",
   "execution_count": 13,
   "id": "60e3a09b-6192-405a-b094-44c48977f67b",
   "metadata": {},
   "outputs": [
    {
     "data": {
      "text/plain": [
       "'\\nQ7. For a dataset containing the following values: [1, 5, 10, 15, 20], perform Min-Max scaling to transform the\\nvalues to a range of -1 to 1.\\n\\n'"
      ]
     },
     "execution_count": 13,
     "metadata": {},
     "output_type": "execute_result"
    }
   ],
   "source": [
    "\"\"\"\n",
    "Q7. For a dataset containing the following values: [1, 5, 10, 15, 20], perform Min-Max scaling to transform the\n",
    "values to a range of -1 to 1.\n",
    "\n",
    "\"\"\""
   ]
  },
  {
   "cell_type": "code",
   "execution_count": 16,
   "id": "b5d985d7-ff99-403c-8c99-ed8a69cf24fa",
   "metadata": {},
   "outputs": [
    {
     "name": "stdout",
     "output_type": "stream",
     "text": [
      "[[0.        ]\n",
      " [0.21052632]\n",
      " [0.47368421]\n",
      " [0.73684211]\n",
      " [1.        ]]\n"
     ]
    }
   ],
   "source": [
    "import pandas as pd\n",
    "from sklearn.preprocessing import MinMaxScaler\n",
    "\n",
    "# initialize list of lists \n",
    "data = [1, 5, 10, 15, 20]\n",
    "# Create the pandas DataFrame \n",
    "df = pd.DataFrame(data, columns= [ 'numb'])\n",
    "# define min max scaler\n",
    "scaler = MinMaxScaler()\n",
    "# transform data\n",
    "scaled = scaler.fit_transform(df[[ 'numb']])\n",
    "print(scaled)\n"
   ]
  },
  {
   "cell_type": "code",
   "execution_count": 17,
   "id": "5612e0ec-ffb5-4e7d-a49a-928f506a91b8",
   "metadata": {},
   "outputs": [
    {
     "data": {
      "text/plain": [
       "'\\nQ8. For a dataset containing the following features: [height, weight, age, gender, blood pressure], perform\\nFeature Extraction using PCA. How many principal components would you choose to retain, and why?\\n\\n'"
      ]
     },
     "execution_count": 17,
     "metadata": {},
     "output_type": "execute_result"
    }
   ],
   "source": [
    "\"\"\"\n",
    "Q8. For a dataset containing the following features: [height, weight, age, gender, blood pressure], perform\n",
    "Feature Extraction using PCA. How many principal components would you choose to retain, and why?\n",
    "\n",
    "\"\"\""
   ]
  },
  {
   "cell_type": "code",
   "execution_count": 21,
   "id": "333de4f9-b8e3-4b8e-a4f6-61932a875d51",
   "metadata": {},
   "outputs": [
    {
     "name": "stdout",
     "output_type": "stream",
     "text": [
      "(4, 3)\n",
      "[[-0.26413527  0.51425948 -1.16915571]\n",
      " [ 0.61631563  1.15708382 -0.76249285]\n",
      " [ 1.14458618 -1.54277843  1.27082142]\n",
      " [-1.49676654 -0.12856487  0.66082714]]\n"
     ]
    }
   ],
   "source": [
    "import pandas as pd\n",
    "from sklearn.preprocessing import MinMaxScaler\n",
    "from sklearn.decomposition import PCA\n",
    "\n",
    "# initialize list of lists \n",
    "data = [[144, 60, 20,'M', 120], [154, 65, 22,'M', 120], [160, 44, 32,'F', 118], [130, 55, 29,'F', 110]]\n",
    "# Create the pandas DataFrame \n",
    "df = pd.DataFrame(data, columns= [ 'height', 'weight', 'age','gender','bp'])\n",
    "\n",
    "## StandardScaler is used to remove the outliners and scale the data by making the mean of the data 0 and standard deviation as 1\n",
    "std_slc = StandardScaler()\n",
    "X_std = std_slc.fit_transform(df[['height', 'weight', 'age']])\n",
    "\n",
    "print(X_std.shape)\n",
    "print(X_std)\n",
    "\n",
    "\n",
    "\n"
   ]
  },
  {
   "cell_type": "code",
   "execution_count": 22,
   "id": "58fbe75e-426c-4ad2-9c9d-4a7cf3fe6bf3",
   "metadata": {},
   "outputs": [
    {
     "name": "stdout",
     "output_type": "stream",
     "text": [
      "(4, 2)\n",
      "[[-1.21135098 -0.09600013]\n",
      " [-1.17431883 -0.87848247]\n",
      " [ 2.20872684 -0.64984088]\n",
      " [ 0.17694298  1.62432347]]\n"
     ]
    }
   ],
   "source": [
    "## We are also using Principal Component Analysis(PCA) which will reduce the dimension of features by creating new features which have most of the varience of the original data. We have passed the parameter n_components as 4 which is the number of feature in final dataset.\n",
    "\n",
    "pca = PCA(n_components=2)\n",
    "\n",
    "X_std_pca = pca.fit_transform(X_std)\n",
    "print(X_std_pca.shape)\n",
    "print(X_std_pca)"
   ]
  },
  {
   "cell_type": "code",
   "execution_count": null,
   "id": "d412cea3-1c73-4367-a02e-e3a1ab792901",
   "metadata": {},
   "outputs": [],
   "source": []
  }
 ],
 "metadata": {
  "kernelspec": {
   "display_name": "Python 3 (ipykernel)",
   "language": "python",
   "name": "python3"
  },
  "language_info": {
   "codemirror_mode": {
    "name": "ipython",
    "version": 3
   },
   "file_extension": ".py",
   "mimetype": "text/x-python",
   "name": "python",
   "nbconvert_exporter": "python",
   "pygments_lexer": "ipython3",
   "version": "3.10.8"
  }
 },
 "nbformat": 4,
 "nbformat_minor": 5
}
