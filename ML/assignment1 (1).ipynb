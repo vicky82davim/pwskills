{
 "cells": [
  {
   "cell_type": "code",
   "execution_count": 2,
   "id": "9bddc25b-ac9e-493c-a1ca-45cd74b7849d",
   "metadata": {},
   "outputs": [
    {
     "data": {
      "text/plain": [
       "'\\nQ1. Explain the following with example.\\n1.\\tArtificial Intelligent\\n2.\\tMachine Learning\\n3.\\tDeep Learning\\n\\nANS:\\nArtificial intelligence, commonly referred to as AI, is the process of imparting data, information, and human \\nintelligence to machines. The main goal of Artificial Intelligence is to develop self-reliant machines that can \\nthink and act like humans. These machines can mimic human behavior and perform tasks by learning and \\nproblem-solving. Most of the AI systems simulate natural intelligence to solve complex problems. \\n•\\tMachine Translation such as Google Translate\\n•\\tSelf Driving Vehicles such as Google’s Waymo\\n•\\tAI Robots such as Sophia and Aibo\\n•\\tSpeech Recognition applications like Apple’s Siri or OK Google\\n\\nMachine learning is a discipline of computer science that uses computer algorithms and analytics to build \\npredictive models that can solve business problems. Machine learning accesses vast amounts of data \\n(both structured and unstructured) and learns from it to predict the future. It learns from the data by using \\nmultiple algorithms and techniques.\\n•\\tSales forecasting for different products\\n•\\tFraud analysis in banking\\n•\\tProduct recommendations\\n•\\tStock price prediction\\n\\nDeep learning is a subset of machine learning that deals with algorithms inspired by the structure and function \\nof the human brain. Deep learning algorithms can work with an enormous amount of both structured and \\nunstructured data. Deep learning’s core concept lies in artificial neural networks, which enable machines to \\nmake decisions.\\n•\\tCancer tumor detection\\n•\\tCaptionbot for captioning an image\\n•\\tMusic generation\\n•\\tImage coloring\\n•\\tObject detection\\n\\n'"
      ]
     },
     "execution_count": 2,
     "metadata": {},
     "output_type": "execute_result"
    }
   ],
   "source": [
    "\"\"\"\n",
    "Q1. Explain the following with example.\n",
    "1.\tArtificial Intelligent\n",
    "2.\tMachine Learning\n",
    "3.\tDeep Learning\n",
    "\n",
    "ANS:\n",
    "Artificial intelligence, commonly referred to as AI, is the process of imparting data, information, and human \n",
    "intelligence to machines. The main goal of Artificial Intelligence is to develop self-reliant machines that can \n",
    "think and act like humans. These machines can mimic human behavior and perform tasks by learning and \n",
    "problem-solving. Most of the AI systems simulate natural intelligence to solve complex problems. \n",
    "•\tMachine Translation such as Google Translate\n",
    "•\tSelf Driving Vehicles such as Google’s Waymo\n",
    "•\tAI Robots such as Sophia and Aibo\n",
    "•\tSpeech Recognition applications like Apple’s Siri or OK Google\n",
    "\n",
    "Machine learning is a discipline of computer science that uses computer algorithms and analytics to build \n",
    "predictive models that can solve business problems. Machine learning accesses vast amounts of data \n",
    "(both structured and unstructured) and learns from it to predict the future. It learns from the data by using \n",
    "multiple algorithms and techniques.\n",
    "•\tSales forecasting for different products\n",
    "•\tFraud analysis in banking\n",
    "•\tProduct recommendations\n",
    "•\tStock price prediction\n",
    "\n",
    "Deep learning is a subset of machine learning that deals with algorithms inspired by the structure and function \n",
    "of the human brain. Deep learning algorithms can work with an enormous amount of both structured and \n",
    "unstructured data. Deep learning’s core concept lies in artificial neural networks, which enable machines to \n",
    "make decisions.\n",
    "•\tCancer tumor detection\n",
    "•\tCaptionbot for captioning an image\n",
    "•\tMusic generation\n",
    "•\tImage coloring\n",
    "•\tObject detection\n",
    "\n",
    "\"\"\""
   ]
  },
  {
   "cell_type": "code",
   "execution_count": 3,
   "id": "284d9219-f707-4096-b146-268ba63761a7",
   "metadata": {},
   "outputs": [
    {
     "data": {
      "text/plain": [
       "'\\nQ2: What is Supervised learning? List some examples of supervised learning.\\n\\nAns:\\nIn supervised learning, the data is already labeled, which means we know the target variable. Using this method \\nof learning, systems can predict future outcomes based on past data. It requires that at least an input and \\noutput variable be given to the model for it to be trained.\\nSome examples of supervised learning include linear regression, logistic regression, support vector machines, \\nNaive Bayes, and decision tree.\\n\\n'"
      ]
     },
     "execution_count": 3,
     "metadata": {},
     "output_type": "execute_result"
    }
   ],
   "source": [
    "\"\"\"\n",
    "Q2: What is Supervised learning? List some examples of supervised learning.\n",
    "\n",
    "Ans:\n",
    "In supervised learning, the data is already labeled, which means we know the target variable. Using this method \n",
    "of learning, systems can predict future outcomes based on past data. It requires that at least an input and \n",
    "output variable be given to the model for it to be trained.\n",
    "Some examples of supervised learning include linear regression, logistic regression, support vector machines, \n",
    "Naive Bayes, and decision tree.\n",
    "\n",
    "\"\"\""
   ]
  },
  {
   "cell_type": "code",
   "execution_count": 4,
   "id": "c1d67288-7c3b-4eaa-91cc-d7eb71e1d2ea",
   "metadata": {},
   "outputs": [
    {
     "data": {
      "text/plain": [
       "'\\nQ3: What is unsupervised learning? List some examples of unsupervised learning.\\n\\nAns:\\nUnsupervised learning algorithms employ unlabeled data to discover patterns from the data on their own. The \\nsystems are able to identify hidden features from the input data provided. Once the data is more readable, the \\npatterns and similarities become more evident.\\nSome examples of unsupervised learning include k-means clustering, hierarchical clustering, and anomaly \\ndetection.\\n\\n'"
      ]
     },
     "execution_count": 4,
     "metadata": {},
     "output_type": "execute_result"
    }
   ],
   "source": [
    "\"\"\"\n",
    "Q3: What is unsupervised learning? List some examples of unsupervised learning.\n",
    "\n",
    "Ans:\n",
    "Unsupervised learning algorithms employ unlabeled data to discover patterns from the data on their own. The \n",
    "systems are able to identify hidden features from the input data provided. Once the data is more readable, the \n",
    "patterns and similarities become more evident.\n",
    "Some examples of unsupervised learning include k-means clustering, hierarchical clustering, and anomaly \n",
    "detection.\n",
    "\n",
    "\"\"\""
   ]
  },
  {
   "cell_type": "code",
   "execution_count": 5,
   "id": "39a4058d-97db-452a-973d-a202ab23db7a",
   "metadata": {},
   "outputs": [
    {
     "data": {
      "text/plain": [
       "'\\nQ4: What is difference between AI, ML, DL and DS.\\n\\nANS:\\nArtificial intelligence, commonly referred to as AI, is the process of imparting data, information, and human \\nintelligence to machines. The main goal of Artificial Intelligence is to develop self-reliant machines that can \\nthink and act like humans. These machines can mimic human behavior and perform tasks by learning and \\nproblem-solving. Most of the AI systems simulate natural intelligence to solve complex problems. \\n\\nMachine learning is a discipline of computer science that uses computer algorithms and analytics to build \\npredictive models that can solve business problems. Machine learning accesses vast amounts of data \\n(both structured and unstructured) and learns from it to predict the future. It learns from the data by using \\nmultiple algorithms and techniques.\\n\\nDeep learning is a subset of machine learning that deals with algorithms inspired by the structure and function \\nof the human brain. Deep learning algorithms can work with an enormous amount of both structured and \\nunstructured data. Deep learning’s core concept lies in artificial neural networks, which enable machines to \\nmake decisions.\\n\\nData Science has some overlap with Artificial Intelligence, Machine Learning, and very few parts of Deep \\nLearning. Data Science isn’t exactly a subset of AI or ML. But, it uses Machine Learning to analyze data and to \\nproduce insights that are statistical for decision-making.\\n\\n'"
      ]
     },
     "execution_count": 5,
     "metadata": {},
     "output_type": "execute_result"
    }
   ],
   "source": [
    "\"\"\"\n",
    "Q4: What is difference between AI, ML, DL and DS.\n",
    "\n",
    "ANS:\n",
    "Artificial intelligence, commonly referred to as AI, is the process of imparting data, information, and human \n",
    "intelligence to machines. The main goal of Artificial Intelligence is to develop self-reliant machines that can \n",
    "think and act like humans. These machines can mimic human behavior and perform tasks by learning and \n",
    "problem-solving. Most of the AI systems simulate natural intelligence to solve complex problems. \n",
    "\n",
    "Machine learning is a discipline of computer science that uses computer algorithms and analytics to build \n",
    "predictive models that can solve business problems. Machine learning accesses vast amounts of data \n",
    "(both structured and unstructured) and learns from it to predict the future. It learns from the data by using \n",
    "multiple algorithms and techniques.\n",
    "\n",
    "Deep learning is a subset of machine learning that deals with algorithms inspired by the structure and function \n",
    "of the human brain. Deep learning algorithms can work with an enormous amount of both structured and \n",
    "unstructured data. Deep learning’s core concept lies in artificial neural networks, which enable machines to \n",
    "make decisions.\n",
    "\n",
    "Data Science has some overlap with Artificial Intelligence, Machine Learning, and very few parts of Deep \n",
    "Learning. Data Science isn’t exactly a subset of AI or ML. But, it uses Machine Learning to analyze data and to \n",
    "produce insights that are statistical for decision-making.\n",
    "\n",
    "\"\"\""
   ]
  },
  {
   "cell_type": "code",
   "execution_count": 6,
   "id": "68ace99c-4aa9-4a1c-afd2-95c5b1c2d0ba",
   "metadata": {},
   "outputs": [
    {
     "data": {
      "text/plain": [
       "'\\nQ5: What is the main difference between supervised, unsupervised and semi-supervised learning.\\n\\nAns\\nSupervised Machine Learning\\nIn the supervised learning technique, we train the machines using the “labelled” dataset, and based on the \\ntraining, the machine predicts the output. Here, the labelled data specifies that some of the inputs are \\nalready mapped to the output. More preciously, we can say; first, we train the machine with the input and \\ncorresponding output, and then we ask the machine to predict the output using the test dataset.\\nSupervised machine learning can be classified into two types of problems, which are given below:\\n•\\tClassification: Classification algorithms are used to solve the classification problems in which the output \\nvariable is categorical, such as “Yes” or No, Male or Female, Red or Blue, etc\\n•\\tRegression: Regression algorithms are used to solve regression problems in which there is a linear \\nrelationship between input and output variables. These are used to predict continuous output variables, \\nsuch as market trends, weather predictions, etc\\n\\nUnsupervised Machine Learning\\nIn unsupervised machine learning, the machine is trained using the unlabeled dataset, and the machine predicts \\nthe output without any supervision. In unsupervised learning, the models are trained with data that is neither \\nclassified nor labelled, and the model acts on that data without any supervision.The main aim of the \\nunsupervised learning algorithm is to group or categorize the unsorted dataset according to the similarities, \\npatterns, and differences. Machines are instructed to find the hidden patterns from the input dataset.\\nUnsupervised Learning can be further classified into two types, which are given below:\\n•\\tClustering: The clustering technique is used when we want to find the inherent groups from the data. It is \\na way to group the objects into a cluster such that the objects with the most similarities remain in one group \\nand have fewer or no similarities with the objects of other groups. An example of the clustering algorithm is \\ngrouping the customers by their purchasing behavior.\\n•\\tAssociation: finds interesting relations among variables within a large dataset. The main aim of this \\nlearning algorithm is to find the dependency of one data item on another data item and map those variables \\naccordingly so that it can generate maximum profit. This algorithm is mainly applied in Market Basket analysis, \\nWeb usage mining, continuous production, etc.\\n\\nSemi-Supervised learning\\nSemi-Supervised learning is a type of Machine Learning algorithm that lies between Supervised and Unsupervised \\nmachine learning. It represents the intermediate ground between Supervised (With Labelled training data) and \\nUnsupervised learning (with no labelled training data) algorithms and uses the combination of labelled and \\nunlabeled datasets during the training period.\\nTo overcome the drawbacks of supervised learning and unsupervised learning algorithms, the concept of \\nSemi-supervised learning is introduced. The main aim of semi-supervised learning is to effectively use all the \\navailable data, rather than only labelled data like in supervised learning. Initially, similar data is \\nclustered along with an unsupervised learning algorithm, and further, it helps to label the unlabeled data into \\nlabelled data.\\n\\n'"
      ]
     },
     "execution_count": 6,
     "metadata": {},
     "output_type": "execute_result"
    }
   ],
   "source": [
    "\"\"\"\n",
    "Q5: What is the main difference between supervised, unsupervised and semi-supervised learning.\n",
    "\n",
    "Ans\n",
    "Supervised Machine Learning\n",
    "In the supervised learning technique, we train the machines using the “labelled” dataset, and based on the \n",
    "training, the machine predicts the output. Here, the labelled data specifies that some of the inputs are \n",
    "already mapped to the output. More preciously, we can say; first, we train the machine with the input and \n",
    "corresponding output, and then we ask the machine to predict the output using the test dataset.\n",
    "Supervised machine learning can be classified into two types of problems, which are given below:\n",
    "•\tClassification: Classification algorithms are used to solve the classification problems in which the output \n",
    "variable is categorical, such as “Yes” or No, Male or Female, Red or Blue, etc\n",
    "•\tRegression: Regression algorithms are used to solve regression problems in which there is a linear \n",
    "relationship between input and output variables. These are used to predict continuous output variables, \n",
    "such as market trends, weather predictions, etc\n",
    "\n",
    "Unsupervised Machine Learning\n",
    "In unsupervised machine learning, the machine is trained using the unlabeled dataset, and the machine predicts \n",
    "the output without any supervision. In unsupervised learning, the models are trained with data that is neither \n",
    "classified nor labelled, and the model acts on that data without any supervision.The main aim of the \n",
    "unsupervised learning algorithm is to group or categorize the unsorted dataset according to the similarities, \n",
    "patterns, and differences. Machines are instructed to find the hidden patterns from the input dataset.\n",
    "Unsupervised Learning can be further classified into two types, which are given below:\n",
    "•\tClustering: The clustering technique is used when we want to find the inherent groups from the data. It is \n",
    "a way to group the objects into a cluster such that the objects with the most similarities remain in one group \n",
    "and have fewer or no similarities with the objects of other groups. An example of the clustering algorithm is \n",
    "grouping the customers by their purchasing behavior.\n",
    "•\tAssociation: finds interesting relations among variables within a large dataset. The main aim of this \n",
    "learning algorithm is to find the dependency of one data item on another data item and map those variables \n",
    "accordingly so that it can generate maximum profit. This algorithm is mainly applied in Market Basket analysis, \n",
    "Web usage mining, continuous production, etc.\n",
    "\n",
    "Semi-Supervised learning\n",
    "Semi-Supervised learning is a type of Machine Learning algorithm that lies between Supervised and Unsupervised \n",
    "machine learning. It represents the intermediate ground between Supervised (With Labelled training data) and \n",
    "Unsupervised learning (with no labelled training data) algorithms and uses the combination of labelled and \n",
    "unlabeled datasets during the training period.\n",
    "To overcome the drawbacks of supervised learning and unsupervised learning algorithms, the concept of \n",
    "Semi-supervised learning is introduced. The main aim of semi-supervised learning is to effectively use all the \n",
    "available data, rather than only labelled data like in supervised learning. Initially, similar data is \n",
    "clustered along with an unsupervised learning algorithm, and further, it helps to label the unlabeled data into \n",
    "labelled data.\n",
    "\n",
    "\"\"\""
   ]
  },
  {
   "cell_type": "code",
   "execution_count": 7,
   "id": "c7d35e10-3e30-4dcd-b311-820dcb3532ac",
   "metadata": {},
   "outputs": [
    {
     "data": {
      "text/plain": [
       "'\\nQ6: What is train, test and validation split? Explain the importance of each term.\\n\\nANS:\\nTrain-Valid-Test split is a technique to evaluate the performance of machine learning model — classification or \\nregression alike.\\n\\nTrain Dataset: Set of data used for learning (by the model), that is, to fit the parameters to the machine \\nlearning model\\n\\nValid Dataset: Set of data used to provide an unbiased evaluation of a model fitted on the training dataset \\nwhile tuning model hyperparameters.\\nAlso play a role in other forms of model preparation, such as feature selection, threshold cut-off selection.\\n\\nTest Dataset: Set of data used to provide an unbiased evaluation of a final model fitted on the training dataset.\\n\\n'"
      ]
     },
     "execution_count": 7,
     "metadata": {},
     "output_type": "execute_result"
    }
   ],
   "source": [
    "\"\"\"\n",
    "Q6: What is train, test and validation split? Explain the importance of each term.\n",
    "\n",
    "ANS:\n",
    "Train-Valid-Test split is a technique to evaluate the performance of machine learning model — classification or \n",
    "regression alike.\n",
    "\n",
    "Train Dataset: Set of data used for learning (by the model), that is, to fit the parameters to the machine \n",
    "learning model\n",
    "\n",
    "Valid Dataset: Set of data used to provide an unbiased evaluation of a model fitted on the training dataset \n",
    "while tuning model hyperparameters.\n",
    "Also play a role in other forms of model preparation, such as feature selection, threshold cut-off selection.\n",
    "\n",
    "Test Dataset: Set of data used to provide an unbiased evaluation of a final model fitted on the training dataset.\n",
    "\n",
    "\"\"\""
   ]
  },
  {
   "cell_type": "code",
   "execution_count": 8,
   "id": "c51b5b85-f563-44e4-adec-5fc632e49931",
   "metadata": {},
   "outputs": [
    {
     "data": {
      "text/plain": [
       "'\\nQ7: How can unsupervised learning be used in anomaly detection?\\n\\nANS:\\nAnomaly is a synonym for the word ‘outlier’. Anomaly detection (or outlier detection) is the identification of \\nrare items, events or observations which raise suspicions by differing significantly from the majority of the \\ndata.\\nThe servers are flooded with user activity and this poses a huge challenge for all businesses. Fraudulent \\nactivities in banking systems, fake ids and spammers on social media and DDoS attacks on small businesses have \\nthe potential to collapse the respective organizations and this can only be prevented if there are ways to \\ndetect such malicious (anomalous) activity.\\nOne of the most important assumptions for an unsupervised anomaly detection algorithm is that the dataset used \\nfor the learning purpose is assumed to have all non-anomalous training examples (or very very small fraction of \\nanomalous examples). The goal of the anomaly detection algorithm through the data fed to it is to learn the \\npatterns of a normal activity so that when an anomalous activity occurs, we can flag it through the \\ninclusion-exclusion principle.\\n\\n'"
      ]
     },
     "execution_count": 8,
     "metadata": {},
     "output_type": "execute_result"
    }
   ],
   "source": [
    "\"\"\"\n",
    "Q7: How can unsupervised learning be used in anomaly detection?\n",
    "\n",
    "ANS:\n",
    "Anomaly is a synonym for the word ‘outlier’. Anomaly detection (or outlier detection) is the identification of \n",
    "rare items, events or observations which raise suspicions by differing significantly from the majority of the \n",
    "data.\n",
    "The servers are flooded with user activity and this poses a huge challenge for all businesses. Fraudulent \n",
    "activities in banking systems, fake ids and spammers on social media and DDoS attacks on small businesses have \n",
    "the potential to collapse the respective organizations and this can only be prevented if there are ways to \n",
    "detect such malicious (anomalous) activity.\n",
    "One of the most important assumptions for an unsupervised anomaly detection algorithm is that the dataset used \n",
    "for the learning purpose is assumed to have all non-anomalous training examples (or very very small fraction of \n",
    "anomalous examples). The goal of the anomaly detection algorithm through the data fed to it is to learn the \n",
    "patterns of a normal activity so that when an anomalous activity occurs, we can flag it through the \n",
    "inclusion-exclusion principle.\n",
    "\n",
    "\"\"\""
   ]
  },
  {
   "cell_type": "code",
   "execution_count": 9,
   "id": "cc1e3bf8-13c8-46de-bd3d-cea460c61e8a",
   "metadata": {},
   "outputs": [
    {
     "data": {
      "text/plain": [
       "'\\nQ8: List down some commonly used supervised learning algorithms and unsupervised learning algorithms.\\nAns:\\nsupervised machine learning algorithms are:\\n•\\tLinear regression for regression problems.\\n•\\tRandom forest for classification and regression problems.\\n•\\tSupport vector machines for classification problems\\nunsupervised learning algorithms are:\\n•\\tk-means for clustering problems.\\n•\\tApriori algorithm for association rule learning problems.\\n•\\tLDA for topic modeling of text passages, i.e., discover and associate keywords to text.\\n\\n\\n'"
      ]
     },
     "execution_count": 9,
     "metadata": {},
     "output_type": "execute_result"
    }
   ],
   "source": [
    "\"\"\"\n",
    "Q8: List down some commonly used supervised learning algorithms and unsupervised learning algorithms.\n",
    "Ans:\n",
    "supervised machine learning algorithms are:\n",
    "•\tLinear regression for regression problems.\n",
    "•\tRandom forest for classification and regression problems.\n",
    "•\tSupport vector machines for classification problems\n",
    "unsupervised learning algorithms are:\n",
    "•\tk-means for clustering problems.\n",
    "•\tApriori algorithm for association rule learning problems.\n",
    "•\tLDA for topic modeling of text passages, i.e., discover and associate keywords to text.\n",
    "\n",
    "\n",
    "\"\"\""
   ]
  },
  {
   "cell_type": "code",
   "execution_count": null,
   "id": "32bf803c-8d03-4470-9ede-84b68e82917b",
   "metadata": {},
   "outputs": [],
   "source": []
  }
 ],
 "metadata": {
  "kernelspec": {
   "display_name": "Python 3 (ipykernel)",
   "language": "python",
   "name": "python3"
  },
  "language_info": {
   "codemirror_mode": {
    "name": "ipython",
    "version": 3
   },
   "file_extension": ".py",
   "mimetype": "text/x-python",
   "name": "python",
   "nbconvert_exporter": "python",
   "pygments_lexer": "ipython3",
   "version": "3.10.8"
  }
 },
 "nbformat": 4,
 "nbformat_minor": 5
}
