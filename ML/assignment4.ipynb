{
 "cells": [
  {
   "cell_type": "code",
   "execution_count": 1,
   "id": "fe0519c0-f6c6-4409-88a1-7c140ffb190c",
   "metadata": {},
   "outputs": [
    {
     "data": {
      "text/plain": [
       "'\\nQ1. What is data encoding? How is it useful in data science?\\n\\nANS:\\nData Encoding is an important pre-processing step in Machine Learning. It refers to the process of converting categorical or textual data into numerical format, so that it can be used as input for algorithms to process. The reason for encoding is that most machine learning algorithms work with numbers and not with text or categorical variables.\\nWhy it is Important?\\n• Most machine learning algorithms work only with numerical data, so categorical variables (such as text labels) must be transformed into numerical values.\\n\\n• This allows the model to identify patterns in the data and make predictions based on those patterns.\\n\\n• Encoding also helps to prevent bias in the model by ensuring that all features are equally weighted.\\n\\n• The choice of encoding method can have a significant impact on model performance, so it is important to choose an appropriate encoding technique based on the nature of the data and the specific requirements of the model.\\n\\nThere are several methods for encoding categorical variables, including\\n\\n1. One-Hot Encoding\\n\\n2. Dummy Encoding\\n\\n3.Ordinal Encoding\\n\\n4. Binary Encoding\\n\\n'"
      ]
     },
     "execution_count": 1,
     "metadata": {},
     "output_type": "execute_result"
    }
   ],
   "source": [
    "\"\"\"\n",
    "Q1. What is data encoding? How is it useful in data science?\n",
    "\n",
    "ANS:\n",
    "Data Encoding is an important pre-processing step in Machine Learning. It refers to the process of converting categorical or textual data into numerical format, so that it can be used as input for algorithms to process. The reason for encoding is that most machine learning algorithms work with numbers and not with text or categorical variables.\n",
    "Why it is Important?\n",
    "• Most machine learning algorithms work only with numerical data, so categorical variables (such as text labels) must be transformed into numerical values.\n",
    "\n",
    "• This allows the model to identify patterns in the data and make predictions based on those patterns.\n",
    "\n",
    "• Encoding also helps to prevent bias in the model by ensuring that all features are equally weighted.\n",
    "\n",
    "• The choice of encoding method can have a significant impact on model performance, so it is important to choose an appropriate encoding technique based on the nature of the data and the specific requirements of the model.\n",
    "\n",
    "There are several methods for encoding categorical variables, including\n",
    "\n",
    "1. One-Hot Encoding\n",
    "\n",
    "2. Dummy Encoding\n",
    "\n",
    "3.Ordinal Encoding\n",
    "\n",
    "4. Binary Encoding\n",
    "\n",
    "\"\"\""
   ]
  },
  {
   "cell_type": "code",
   "execution_count": 2,
   "id": "2da70351-81f6-4c73-9f71-7992f8ca988d",
   "metadata": {},
   "outputs": [
    {
     "data": {
      "text/plain": [
       "\"\\nQ2. What is nominal encoding? Provide an example of how you would use it in a real-world scenario.\\n\\nANS:\\nWhen we have a feature where variables are just names and there is no order or rank to this variable's feature.\\nFor example: City of person lives in, Gender of person, Marital Status, etc…\\n\\nIn the above example, We do not have any order or rank, or sequence. All the variables in the respective feature are equal. We can't give them any orders or ranks.\\n\\n\""
      ]
     },
     "execution_count": 2,
     "metadata": {},
     "output_type": "execute_result"
    }
   ],
   "source": [
    "\"\"\"\n",
    "Q2. What is nominal encoding? Provide an example of how you would use it in a real-world scenario.\n",
    "\n",
    "ANS:\n",
    "When we have a feature where variables are just names and there is no order or rank to this variable's feature.\n",
    "For example: City of person lives in, Gender of person, Marital Status, etc…\n",
    "\n",
    "In the above example, We do not have any order or rank, or sequence. All the variables in the respective feature are equal. We can't give them any orders or ranks.\n",
    "\n",
    "\"\"\""
   ]
  },
  {
   "cell_type": "code",
   "execution_count": 3,
   "id": "3702e939-9799-4218-bc90-9f551ef547fc",
   "metadata": {},
   "outputs": [
    {
     "data": {
      "text/plain": [
       "'\\nQ3. In what situations is nominal encoding preferred over one-hot encoding? Provide a practical example.\\n\\nANS:\\nOne Hot Encoding\\nWe use this categorical data encoding technique when the features are nominal(do not have any order). In one hot encoding, for each level of a categorical feature, we create a new variable. Each category is mapped with a binary variable containing either 0 or 1. Here, 0 represents the absence, and 1 represents the presence of that category.\\n\\nThese newly created binary features are known as Dummy variables. The number of dummy variables depends on the levels present in the categorical variable\\n\\n'"
      ]
     },
     "execution_count": 3,
     "metadata": {},
     "output_type": "execute_result"
    }
   ],
   "source": [
    "\"\"\"\n",
    "Q3. In what situations is nominal encoding preferred over one-hot encoding? Provide a practical example.\n",
    "\n",
    "ANS:\n",
    "One Hot Encoding\n",
    "We use this categorical data encoding technique when the features are nominal(do not have any order). In one hot encoding, for each level of a categorical feature, we create a new variable. Each category is mapped with a binary variable containing either 0 or 1. Here, 0 represents the absence, and 1 represents the presence of that category.\n",
    "\n",
    "These newly created binary features are known as Dummy variables. The number of dummy variables depends on the levels present in the categorical variable\n",
    "\n",
    "\"\"\""
   ]
  },
  {
   "cell_type": "code",
   "execution_count": 4,
   "id": "036d59fe-bc02-4bd6-9d67-039411dff960",
   "metadata": {},
   "outputs": [
    {
     "data": {
      "text/plain": [
       "'\\nQ4. Suppose you have a dataset containing categorical data with 5 unique values. Which encoding\\ntechnique would you use to transform this data into a format suitable for machine learning algorithms?\\nExplain why you made this choice.\\n\\nANS:\\nOne-hot encoding is a method of identifying whether a unique categorical value from a categorical feature is present or not. What I mean by this is that if our feature is primary color (and each row has only one primary color), one-hot encoding would represent whether the color present in each row is red, blue, or yellow. This is accomplished by adding a new column for each possible color. With these three columns representing color in place for every row of the data, we go through each row and assign the value 1 to the column representing the color present in our current row and fill in the other color columns of that row with a 0 to represent their absence\\n\\n'"
      ]
     },
     "execution_count": 4,
     "metadata": {},
     "output_type": "execute_result"
    }
   ],
   "source": [
    "\"\"\"\n",
    "Q4. Suppose you have a dataset containing categorical data with 5 unique values. Which encoding\n",
    "technique would you use to transform this data into a format suitable for machine learning algorithms?\n",
    "Explain why you made this choice.\n",
    "\n",
    "ANS:\n",
    "One-hot encoding is a method of identifying whether a unique categorical value from a categorical feature is present or not. What I mean by this is that if our feature is primary color (and each row has only one primary color), one-hot encoding would represent whether the color present in each row is red, blue, or yellow. This is accomplished by adding a new column for each possible color. With these three columns representing color in place for every row of the data, we go through each row and assign the value 1 to the column representing the color present in our current row and fill in the other color columns of that row with a 0 to represent their absence\n",
    "\n",
    "\"\"\""
   ]
  },
  {
   "cell_type": "code",
   "execution_count": 5,
   "id": "d369e939-efe8-4b82-b27e-5121e74bf07a",
   "metadata": {},
   "outputs": [
    {
     "data": {
      "text/plain": [
       "'\\nQ5. In a machine learning project, you have a dataset with 1000 rows and 5 columns. Two of the columns\\nare categorical, and the remaining three columns are numerical. If you were to use nominal encoding to\\ntransform the categorical data, how many new columns would be created? Show your calculations.\\n\\n'"
      ]
     },
     "execution_count": 5,
     "metadata": {},
     "output_type": "execute_result"
    }
   ],
   "source": [
    "\"\"\"\n",
    "Q5. In a machine learning project, you have a dataset with 1000 rows and 5 columns. Two of the columns\n",
    "are categorical, and the remaining three columns are numerical. If you were to use nominal encoding to\n",
    "transform the categorical data, how many new columns would be created? Show your calculations.\n",
    "\n",
    "\"\"\""
   ]
  },
  {
   "cell_type": "code",
   "execution_count": 6,
   "id": "fafa8d5d-b4ad-4e38-9c2b-3c2d9d362c22",
   "metadata": {},
   "outputs": [
    {
     "name": "stdout",
     "output_type": "stream",
     "text": [
      "     number first_name last_name gender  birth_date employment_status  \\\n",
      "0       483     Lenord      Kihn      M  1994-07-01               NaN   \n",
      "1       478      Palma    Beahan      F  1972-05-06                PE   \n",
      "2       348     Hebert    Muller      M  1990-09-04                PE   \n",
      "3       757   Virginia   Ullrich      M  1991-09-23                PE   \n",
      "4       937       Roby    Hudson      M  1997-01-15               NaN   \n",
      "..      ...        ...       ...    ...         ...               ...   \n",
      "995     712       Dann    Crooks    NaN  1983-12-25                CA   \n",
      "996     132      Maxim       Orn      M  1971-03-01                CA   \n",
      "997     126   Kimberli    Walter      M  1976-03-07                CA   \n",
      "998     277    Talmage   Bartell      F  1989-02-19                PE   \n",
      "999     960     Laurie    Nienow      M  1993-04-01                PE   \n",
      "\n",
      "     annual_salary  tax_file_no Gender  Gen_new    0    1    2  \n",
      "0          64598.0          NaN      M        1  0.0  0.0  1.0  \n",
      "1         124103.0          NaN      F        0  0.0  1.0  0.0  \n",
      "2         100324.0          NaN      M        1  0.0  0.0  1.0  \n",
      "3         144957.0          NaN      M        1  0.0  0.0  1.0  \n",
      "4         137659.0          NaN      M        1  0.0  0.0  1.0  \n",
      "..             ...          ...    ...      ...  ...  ...  ...  \n",
      "995        66592.0          NaN    NaN       -1  1.0  0.0  0.0  \n",
      "996       127966.0          NaN      M        1  0.0  0.0  1.0  \n",
      "997        60712.0          NaN      M        1  0.0  0.0  1.0  \n",
      "998       103606.0          NaN      F        0  0.0  1.0  0.0  \n",
      "999       127405.0          NaN      M        1  0.0  0.0  1.0  \n",
      "\n",
      "[1000 rows x 13 columns]\n"
     ]
    }
   ],
   "source": [
    "# importing libraries \n",
    "import pandas as pd \n",
    "import numpy as np \n",
    "from sklearn.preprocessing import OneHotEncoder \n",
    "  \n",
    "# Retrieving data \n",
    "data = pd.read_csv('employee_data.csv') \n",
    "  \n",
    "# Converting type of columns to category \n",
    "data['Gender'] = data['gender'].astype('category') \n",
    "  \n",
    "  \n",
    "# Assigning numerical values and storing it in another columns \n",
    "data['Gen_new'] = data['Gender'].cat.codes \n",
    "  \n",
    "  \n",
    "# Create an instance of One-hot-encoder \n",
    "enc = OneHotEncoder() \n",
    "  \n",
    "# Passing encoded columns \n",
    "  \n",
    "enc_data = pd.DataFrame(enc.fit_transform( \n",
    "    data[['Gen_new']]).toarray()) \n",
    "  \n",
    "# Merge with main \n",
    "New_df = data.join(enc_data) \n",
    "  \n",
    "print(New_df) \n"
   ]
  },
  {
   "cell_type": "code",
   "execution_count": 7,
   "id": "9dc18668-2dba-4dcb-aa3e-86201cdd5d06",
   "metadata": {},
   "outputs": [
    {
     "data": {
      "text/plain": [
       "'\\nQ6. You are working with a dataset containing information about different types of animals, including their\\nspecies, habitat, and diet. Which encoding technique would you use to transform the categorical data into\\na format suitable for machine learning algorithms? Justify your answer.\\n\\nANS:\\nWe use one hot encoding categorical data encoding technique when the features are nominal(do not have any order). In one hot encoding, for each level of a categorical feature, we create a new variable. Each category is mapped with a binary variable containing either 0 or 1. Here, 0 represents the absence, and 1 represents the presence of that category.\\n'"
      ]
     },
     "execution_count": 7,
     "metadata": {},
     "output_type": "execute_result"
    }
   ],
   "source": [
    "\"\"\"\n",
    "Q6. You are working with a dataset containing information about different types of animals, including their\n",
    "species, habitat, and diet. Which encoding technique would you use to transform the categorical data into\n",
    "a format suitable for machine learning algorithms? Justify your answer.\n",
    "\n",
    "ANS:\n",
    "We use one hot encoding categorical data encoding technique when the features are nominal(do not have any order). In one hot encoding, for each level of a categorical feature, we create a new variable. Each category is mapped with a binary variable containing either 0 or 1. Here, 0 represents the absence, and 1 represents the presence of that category.\n",
    "\"\"\""
   ]
  },
  {
   "cell_type": "code",
   "execution_count": 8,
   "id": "7b853bb4-f713-4d08-8839-cfda9e2a3f32",
   "metadata": {},
   "outputs": [
    {
     "data": {
      "text/plain": [
       "\"\\nQ7.You are working on a project that involves predicting customer churn for a telecommunications\\ncompany. You have a dataset with 5 features, including the customer's gender, age, contract type,\\nmonthly charges, and tenure. Which encoding technique(s) would you use to transform the categorical\\ndata into numerical data? Provide a step-by-step explanation of how you would implement the encoding.\\nANS:\\nIn One Hot Encoding, the categorical parameters will prepare separate columns for both Gender(Male and Female labels). So, wherever there is a Male, the value will be 1 in the Male column and 0 in the Female column, and vice-versa. \\nAge\\tMonthly-charge\\t\\ttenure\\tMale\\tFemale\\t\\tContract-perm\\tContract-temp\\n23\\t1000\\t\\t\\t30\\t1\\t0\\t\\t1\\t\\t0\\t\\n30\\t3000\\t\\t\\t60\\t0\\t1\\t\\t0\\t\\t1\\n\\n\""
      ]
     },
     "execution_count": 8,
     "metadata": {},
     "output_type": "execute_result"
    }
   ],
   "source": [
    "\"\"\"\n",
    "Q7.You are working on a project that involves predicting customer churn for a telecommunications\n",
    "company. You have a dataset with 5 features, including the customer's gender, age, contract type,\n",
    "monthly charges, and tenure. Which encoding technique(s) would you use to transform the categorical\n",
    "data into numerical data? Provide a step-by-step explanation of how you would implement the encoding.\n",
    "ANS:\n",
    "In One Hot Encoding, the categorical parameters will prepare separate columns for both Gender(Male and Female labels). So, wherever there is a Male, the value will be 1 in the Male column and 0 in the Female column, and vice-versa. \n",
    "Age\tMonthly-charge\t\ttenure\tMale\tFemale\t\tContract-perm\tContract-temp\n",
    "23\t1000\t\t\t30\t1\t0\t\t1\t\t0\t\n",
    "30\t3000\t\t\t60\t0\t1\t\t0\t\t1\n",
    "\n",
    "\"\"\""
   ]
  },
  {
   "cell_type": "code",
   "execution_count": null,
   "id": "8bb9017e-c9aa-4b25-b027-33f287dd0d3e",
   "metadata": {},
   "outputs": [],
   "source": []
  }
 ],
 "metadata": {
  "kernelspec": {
   "display_name": "Python 3 (ipykernel)",
   "language": "python",
   "name": "python3"
  },
  "language_info": {
   "codemirror_mode": {
    "name": "ipython",
    "version": 3
   },
   "file_extension": ".py",
   "mimetype": "text/x-python",
   "name": "python",
   "nbconvert_exporter": "python",
   "pygments_lexer": "ipython3",
   "version": "3.10.8"
  }
 },
 "nbformat": 4,
 "nbformat_minor": 5
}
