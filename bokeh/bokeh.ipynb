{
 "cells": [
  {
   "cell_type": "code",
   "execution_count": 6,
   "id": "8f9986ff-3b54-4eb9-b491-baeac2bab34c",
   "metadata": {},
   "outputs": [
    {
     "data": {
      "text/plain": [
       "<function bokeh.io.output.output_notebook(resources: 'Resources | None' = None, verbose: 'bool' = False, hide_banner: 'bool' = False, load_timeout: 'int' = 5000, notebook_type: 'NotebookType' = 'jupyter') -> 'None'>"
      ]
     },
     "execution_count": 6,
     "metadata": {},
     "output_type": "execute_result"
    }
   ],
   "source": [
    "import bokeh.io\n",
    "import bokeh.plotting\n",
    "bokeh.io.output_notebook"
   ]
  },
  {
   "cell_type": "code",
   "execution_count": 5,
   "id": "7e0bab71-36a4-4817-a84a-f851559a8799",
   "metadata": {},
   "outputs": [
    {
     "name": "stdout",
     "output_type": "stream",
     "text": [
      "Requirement already satisfied: bokeh in /opt/conda/lib/python3.10/site-packages (3.0.3)\n",
      "Requirement already satisfied: pandas>=1.2 in /opt/conda/lib/python3.10/site-packages (from bokeh) (1.5.2)\n",
      "Requirement already satisfied: packaging>=16.8 in /opt/conda/lib/python3.10/site-packages (from bokeh) (22.0)\n",
      "Requirement already satisfied: pillow>=7.1.0 in /opt/conda/lib/python3.10/site-packages (from bokeh) (9.2.0)\n",
      "Requirement already satisfied: contourpy>=1 in /opt/conda/lib/python3.10/site-packages (from bokeh) (1.0.6)\n",
      "Requirement already satisfied: PyYAML>=3.10 in /opt/conda/lib/python3.10/site-packages (from bokeh) (6.0)\n",
      "Requirement already satisfied: xyzservices>=2021.09.1 in /opt/conda/lib/python3.10/site-packages (from bokeh) (2022.9.0)\n",
      "Requirement already satisfied: tornado>=5.1 in /opt/conda/lib/python3.10/site-packages (from bokeh) (6.1)\n",
      "Requirement already satisfied: Jinja2>=2.9 in /opt/conda/lib/python3.10/site-packages (from bokeh) (3.1.2)\n",
      "Requirement already satisfied: numpy>=1.11.3 in /opt/conda/lib/python3.10/site-packages (from bokeh) (1.23.5)\n",
      "Requirement already satisfied: MarkupSafe>=2.0 in /opt/conda/lib/python3.10/site-packages (from Jinja2>=2.9->bokeh) (2.1.1)\n",
      "Requirement already satisfied: python-dateutil>=2.8.1 in /opt/conda/lib/python3.10/site-packages (from pandas>=1.2->bokeh) (2.8.2)\n",
      "Requirement already satisfied: pytz>=2020.1 in /opt/conda/lib/python3.10/site-packages (from pandas>=1.2->bokeh) (2022.6)\n",
      "Requirement already satisfied: six>=1.5 in /opt/conda/lib/python3.10/site-packages (from python-dateutil>=2.8.1->pandas>=1.2->bokeh) (1.16.0)\n",
      "Note: you may need to restart the kernel to use updated packages.\n"
     ]
    }
   ],
   "source": [
    "pip install bokeh"
   ]
  },
  {
   "cell_type": "code",
   "execution_count": 8,
   "id": "ceeb23b9-0d76-42a0-b0d6-88ac65e57b3b",
   "metadata": {},
   "outputs": [],
   "source": [
    "from bokeh.plotting import figure, output_file, show\n",
    "from bokeh.sampledata.iris import flowers\n",
    "output_file('test.html')\n",
    "p = figure(title='test flower')\n",
    "p.xaxis.axis_label = \"Petal length\"\n",
    "p.yaxis.axis_label = \"Petal width\"\n",
    "p.circle(flowers['petal_length'], flowers['petal_width'])\n",
    "show(p)"
   ]
  },
  {
   "cell_type": "code",
   "execution_count": 9,
   "id": "de37fd49-5d3b-4bbc-8a19-f78a45236e3e",
   "metadata": {},
   "outputs": [],
   "source": [
    "from bokeh.plotting import figure, output_file, show\n",
    "from bokeh.sampledata.iris import flowers\n",
    "output_file('line.html')\n",
    "p = figure(title='line grapg')\n",
    "p.xaxis.axis_label = \"Petal length\"\n",
    "p.yaxis.axis_label = \"Petal width\"\n",
    "p.line(flowers['petal_length'], flowers['petal_width'])\n",
    "show(p)"
   ]
  },
  {
   "cell_type": "code",
   "execution_count": 12,
   "id": "da2ef7af-7087-4ed9-8e5b-95dfda9a211f",
   "metadata": {},
   "outputs": [],
   "source": [
    "x = [2,3,4,5,6]\n",
    "y=[3,4,5,6,7]\n",
    "output_file('line1.html')\n",
    "p = figure(title='line grapg')\n",
    "p.xaxis.axis_label = \"Petal length\"\n",
    "p.yaxis.axis_label = \"Petal width\"\n",
    "p.line(x,y)\n",
    "show(p)"
   ]
  },
  {
   "cell_type": "code",
   "execution_count": 19,
   "id": "9cc20922-421b-4a2d-a85f-8c874ab16dad",
   "metadata": {},
   "outputs": [],
   "source": [
    "x = [2,3,4,5,6]\n",
    "y=[3,4,5,6,7]\n",
    "output_file('line1.html')\n",
    "p = figure(title='line grapg')\n",
    "p.xaxis.axis_label = \"Petal length\"\n",
    "p.yaxis.axis_label = \"Petal width\"\n",
    "p.scatter(x,y, fill_color='red', legend_label = 'red', size=20)\n",
    "show(p)"
   ]
  },
  {
   "cell_type": "code",
   "execution_count": null,
   "id": "d834f342-b131-4162-b9b5-423321de94f7",
   "metadata": {},
   "outputs": [],
   "source": []
  }
 ],
 "metadata": {
  "kernelspec": {
   "display_name": "Python 3 (ipykernel)",
   "language": "python",
   "name": "python3"
  },
  "language_info": {
   "codemirror_mode": {
    "name": "ipython",
    "version": 3
   },
   "file_extension": ".py",
   "mimetype": "text/x-python",
   "name": "python",
   "nbconvert_exporter": "python",
   "pygments_lexer": "ipython3",
   "version": "3.10.8"
  }
 },
 "nbformat": 4,
 "nbformat_minor": 5
}
