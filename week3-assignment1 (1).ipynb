{
 "cells": [
  {
   "cell_type": "code",
   "execution_count": 5,
   "id": "c0595b43-eaec-4f88-b428-a22c695a88e4",
   "metadata": {},
   "outputs": [
    {
     "data": {
      "text/plain": [
       "[1, 3, 5, 7, 9, 11, 13, 15, 17, 19, 21, 23]"
      ]
     },
     "execution_count": 5,
     "metadata": {},
     "output_type": "execute_result"
    }
   ],
   "source": [
    "\"\"\"\n",
    "Q1. Which keyword is used to create a function? Create a function to return a list of odd numbers in the\n",
    "range of 1 to 25.\n",
    "\"\"\"\n",
    "l1 = range(1,25)\n",
    "def oddNum(l1):\n",
    "    l2 = []\n",
    "    for l in l1:\n",
    "        if l%2 != 0:\n",
    "            l2.append(l)\n",
    "    return l2\n",
    "oddNum(l1)"
   ]
  },
  {
   "cell_type": "code",
   "execution_count": 6,
   "id": "b7b0751a-650e-440b-a60b-10d8f19c0c17",
   "metadata": {},
   "outputs": [
    {
     "data": {
      "text/plain": [
       "([2], ['test1', 'test3'])"
      ]
     },
     "execution_count": 6,
     "metadata": {},
     "output_type": "execute_result"
    }
   ],
   "source": [
    "\"\"\"\n",
    "Q2. Why *args and **kwargs is used in some functions? Create a function each for *args and **kwargs\n",
    "to demonstrate their use.\n",
    "\"\"\"\n",
    "def withargs(*args):\n",
    "    l1 = []\n",
    "    l2 = []\n",
    "    for l in args:\n",
    "        if type(l) == int:\n",
    "            l1.append(l)\n",
    "        else:\n",
    "            l2.append(l)\n",
    "    return l1,l2\n",
    "\n",
    "def withkwargs(**kwargs):\n",
    "    l1 = {}\n",
    "    l2 = {}\n",
    "    for k,v in kwargs.items():\n",
    "        if type(v) == list:\n",
    "            l1.update({k:v})\n",
    "        else:\n",
    "            l2.update({k:v})\n",
    "    return l1,l2\n",
    "\n",
    "\n",
    "withargs(\"test1\", 2, \"test3\")"
   ]
  },
  {
   "cell_type": "code",
   "execution_count": 7,
   "id": "a8970f48-a00e-4bb0-a0ad-b48324561d0f",
   "metadata": {},
   "outputs": [
    {
     "data": {
      "text/plain": [
       "({'b': [4, 3, 5]}, {'a': 'val1', 'c': '2ddd'})"
      ]
     },
     "execution_count": 7,
     "metadata": {},
     "output_type": "execute_result"
    }
   ],
   "source": [
    "withkwargs(a=\"val1\", b=[4,3,5], c=\"2ddd\")"
   ]
  },
  {
   "cell_type": "code",
   "execution_count": 8,
   "id": "a7ebebfe-b66b-4261-93da-e3410fc7fe2b",
   "metadata": {},
   "outputs": [
    {
     "name": "stdout",
     "output_type": "stream",
     "text": [
      "2\n",
      "4\n",
      "6\n",
      "8\n",
      "10\n"
     ]
    }
   ],
   "source": [
    "\"\"\"\n",
    "Q3. What is an iterator in python? Name the method used to initialise the iterator object and the method\n",
    "used for iteration. Use these methods to print the first five elements of the given list [2, 4, 6, 8, 10, 12, 14,\n",
    "16, 18, 20].\n",
    "\"\"\"\n",
    "l1 = [2, 4, 6, 8, 10, 12, 14, 16, 18, 20]\n",
    "a = iter(l1)\n",
    "ct = 0\n",
    "while ct < 5:\n",
    "    print(next(a))\n",
    "    ct = ct + 1"
   ]
  },
  {
   "cell_type": "code",
   "execution_count": 9,
   "id": "d1392685-a154-4e76-bce0-f46101e37958",
   "metadata": {},
   "outputs": [
    {
     "name": "stdout",
     "output_type": "stream",
     "text": [
      "0\n",
      "2\n",
      "6\n",
      "12\n",
      "20\n",
      "30\n",
      "42\n",
      "56\n",
      "72\n",
      "90\n"
     ]
    }
   ],
   "source": [
    "\"\"\"\n",
    "Q4. What is a generator function in python? Why yield keyword is used? Give an example of a generator\n",
    "function.\n",
    "\"\"\"\n",
    "l1 = [2, 4, 6, 8, 10, 12, 14, 16, 18, 20]\n",
    "def gen_fun(l):\n",
    "    a = 0\n",
    "    for i in l:\n",
    "        yield a\n",
    "        a = a+i\n",
    "for i in gen_fun(l1):\n",
    "    print(i)      "
   ]
  },
  {
   "cell_type": "code",
   "execution_count": 7,
   "id": "84642486-861b-4e79-baa9-241916eaeec7",
   "metadata": {},
   "outputs": [],
   "source": [
    "\"\"\"\n",
    "Q5. Create a generator function for prime numbers less than 1000. Use the next() method to print the\n",
    "first 20 prime numbers.\n",
    "\"\"\"\n",
    "def gen_fun2(l, tnum):\n",
    "    i=2\n",
    "    k=1\n",
    "    while i <= l:\n",
    "        isPrime = 0\n",
    "        j = 2\n",
    "        while j <= i/2:\n",
    "            if i%j == 0:\n",
    "                isPrime = 1\n",
    "                break\n",
    "            j = j+1\n",
    "        if isPrime == 0:\n",
    "            yield i\n",
    "            if k < tnum:\n",
    "                k = k+1\n",
    "            else:\n",
    "                break\n",
    "        i = i+1"
   ]
  },
  {
   "cell_type": "code",
   "execution_count": 8,
   "id": "a1502ef0-136d-4779-bd45-1e507004c017",
   "metadata": {},
   "outputs": [
    {
     "name": "stdout",
     "output_type": "stream",
     "text": [
      "2\n",
      "3\n",
      "5\n",
      "7\n",
      "11\n",
      "13\n",
      "17\n",
      "19\n",
      "23\n",
      "29\n",
      "31\n",
      "37\n",
      "41\n",
      "43\n",
      "47\n",
      "53\n",
      "59\n",
      "61\n",
      "67\n",
      "71\n"
     ]
    }
   ],
   "source": [
    "for i in gen_fun2(1000,20):\n",
    "    print(i)"
   ]
  },
  {
   "cell_type": "code",
   "execution_count": 4,
   "id": "c4b8c74a-5580-4f8a-8a00-9b43f91f4195",
   "metadata": {},
   "outputs": [
    {
     "name": "stdout",
     "output_type": "stream",
     "text": [
      "0\n",
      "1\n",
      "1\n",
      "2\n",
      "3\n",
      "5\n",
      "8\n",
      "13\n",
      "21\n",
      "34\n"
     ]
    }
   ],
   "source": [
    "\"\"\"\n",
    "Q6. Write a python program to print the first 10 Fibonacci numbers using a while loop.\n",
    "\"\"\"\n",
    "def gen_fun3(n):\n",
    "    a,b,c=0,1,0\n",
    "    while c < n:\n",
    "        yield a\n",
    "        a,b = b, a+b\n",
    "        c=c+1\n",
    "\n",
    "for i in gen_fun3(10):\n",
    "    print(i)"
   ]
  },
  {
   "cell_type": "code",
   "execution_count": 9,
   "id": "689867e2-0178-49c3-a9a8-d688d2d7840d",
   "metadata": {},
   "outputs": [
    {
     "data": {
      "text/plain": [
       "['p', 'w', 's', 'k', 'i', 'l', 'l', 's']"
      ]
     },
     "execution_count": 9,
     "metadata": {},
     "output_type": "execute_result"
    }
   ],
   "source": [
    "\"\"\"\n",
    "Q7. Write a List Comprehension to iterate through the given string: ‘pwskills’.\n",
    "Expected output: ['p', 'w', 's', 'k', 'i', 'l', 'l', 's']\n",
    "\"\"\"\n",
    "string = 'pwskills'\n",
    "list(string)"
   ]
  },
  {
   "cell_type": "code",
   "execution_count": 14,
   "id": "fef41978-08cd-421b-9308-dca7916e1bc1",
   "metadata": {},
   "outputs": [
    {
     "name": "stdout",
     "output_type": "stream",
     "text": [
      "Number is a Palindrome\n",
      "Number is not a Palindrome\n"
     ]
    }
   ],
   "source": [
    "\"\"\"\n",
    "Q8. Write a python program to check whether a given number is Palindrome or not using a while loop.\n",
    "\"\"\"\n",
    "def is_pal(s):\n",
    "    i=0\n",
    "    is_pal = True\n",
    "    while i < len(s):\n",
    "        j = -(i+1)\n",
    "        if s[i] != s[j]:\n",
    "            is_pal = False\n",
    "            break            \n",
    "        i = i+1\n",
    "    if is_pal == True:\n",
    "        print (\"Number is a Palindrome\")\n",
    "    else:\n",
    "        print (\"Number is not a Palindrome\")\n",
    "\n",
    "is_pal('malayalam')\n",
    "is_pal('mumbai')"
   ]
  },
  {
   "cell_type": "code",
   "execution_count": 16,
   "id": "1222a6d9-c21e-45b4-9469-2bee6ca50202",
   "metadata": {},
   "outputs": [
    {
     "data": {
      "text/plain": [
       "[1,\n",
       " 3,\n",
       " 5,\n",
       " 7,\n",
       " 9,\n",
       " 11,\n",
       " 13,\n",
       " 15,\n",
       " 17,\n",
       " 19,\n",
       " 21,\n",
       " 23,\n",
       " 25,\n",
       " 27,\n",
       " 29,\n",
       " 31,\n",
       " 33,\n",
       " 35,\n",
       " 37,\n",
       " 39,\n",
       " 41,\n",
       " 43,\n",
       " 45,\n",
       " 47,\n",
       " 49,\n",
       " 51,\n",
       " 53,\n",
       " 55,\n",
       " 57,\n",
       " 59,\n",
       " 61,\n",
       " 63,\n",
       " 65,\n",
       " 67,\n",
       " 69,\n",
       " 71,\n",
       " 73,\n",
       " 75,\n",
       " 77,\n",
       " 79,\n",
       " 81,\n",
       " 83,\n",
       " 85,\n",
       " 87,\n",
       " 89,\n",
       " 91,\n",
       " 93,\n",
       " 95,\n",
       " 97,\n",
       " 99]"
      ]
     },
     "execution_count": 16,
     "metadata": {},
     "output_type": "execute_result"
    }
   ],
   "source": [
    "\"\"\"\n",
    "Q9. Write a code to print odd numbers from 1 to 100 using list comprehension.\n",
    "Note: Use a list comprehension to create a list from 1 to 100 and use another List comprehension to filter\n",
    "out odd numbers.\n",
    "\"\"\"\n",
    "l1 = list(range(100))\n",
    "l2 = list(filter(lambda x: x%2 != 0, l1))\n",
    "l2"
   ]
  },
  {
   "cell_type": "code",
   "execution_count": null,
   "id": "2d7b530e-a1b3-4656-9292-2a828c1fcee0",
   "metadata": {},
   "outputs": [],
   "source": []
  }
 ],
 "metadata": {
  "kernelspec": {
   "display_name": "Python 3 (ipykernel)",
   "language": "python",
   "name": "python3"
  },
  "language_info": {
   "codemirror_mode": {
    "name": "ipython",
    "version": 3
   },
   "file_extension": ".py",
   "mimetype": "text/x-python",
   "name": "python",
   "nbconvert_exporter": "python",
   "pygments_lexer": "ipython3",
   "version": "3.10.8"
  }
 },
 "nbformat": 4,
 "nbformat_minor": 5
}
