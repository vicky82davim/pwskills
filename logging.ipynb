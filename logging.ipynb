{
 "cells": [
  {
   "cell_type": "code",
   "execution_count": 1,
   "id": "9c6e9deb-5652-4dca-8525-90c392f397cd",
   "metadata": {},
   "outputs": [],
   "source": [
    "import logging"
   ]
  },
  {
   "cell_type": "code",
   "execution_count": 2,
   "id": "f222e83c-cd30-41ba-8ccf-a96e78e6ae65",
   "metadata": {},
   "outputs": [],
   "source": [
    "logging.basicConfig(filename=\"test.log\", level = logging.INFO)"
   ]
  },
  {
   "cell_type": "code",
   "execution_count": 3,
   "id": "02359d87-45d3-4bde-b4fe-bb9554cf8308",
   "metadata": {},
   "outputs": [],
   "source": [
    "logging.info(\"This is my first log\")"
   ]
  },
  {
   "cell_type": "code",
   "execution_count": 4,
   "id": "42b76c63-c6fd-4fde-a175-c8cb28747fec",
   "metadata": {},
   "outputs": [],
   "source": [
    "logging.info(\"print statement\")"
   ]
  },
  {
   "cell_type": "code",
   "execution_count": 5,
   "id": "1f46f85d-375b-4c25-858f-c01e5cfc5819",
   "metadata": {},
   "outputs": [],
   "source": [
    "logging.debug(\"debug statement\")"
   ]
  },
  {
   "cell_type": "code",
   "execution_count": 6,
   "id": "6c2fec85-9ad6-405d-bca9-cdb8a9e829b7",
   "metadata": {},
   "outputs": [],
   "source": [
    "logging.warning(\"warning statement\")"
   ]
  },
  {
   "cell_type": "code",
   "execution_count": 7,
   "id": "853b2a83-7a63-4048-82d4-51cad6d50563",
   "metadata": {},
   "outputs": [],
   "source": [
    "logging.error(\"error statement\")"
   ]
  },
  {
   "cell_type": "code",
   "execution_count": 13,
   "id": "4d2b9c52-476e-4329-8cf3-a80a769b2ed4",
   "metadata": {},
   "outputs": [],
   "source": [
    "logging.shutdown()"
   ]
  },
  {
   "cell_type": "code",
   "execution_count": 2,
   "id": "53756227-2cd8-4cb2-84ab-71756e69f5e5",
   "metadata": {},
   "outputs": [],
   "source": [
    "import logging\n",
    "logging.basicConfig(filename=\"test1.log\", level = logging.debug, format = '%(asctime)s %(message)s')"
   ]
  },
  {
   "cell_type": "code",
   "execution_count": 4,
   "id": "eecd590d-6821-4a5b-8816-a7641afc36df",
   "metadata": {},
   "outputs": [],
   "source": [
    "logging.info(\"info statement\")\n",
    "logging.error(\"Error statement\")\n",
    "logging.critical(\"critical statement\")"
   ]
  },
  {
   "cell_type": "code",
   "execution_count": 5,
   "id": "7f058ac0-a44a-4cfe-aa38-552638c4f96e",
   "metadata": {},
   "outputs": [],
   "source": [
    "logging.shutdown()"
   ]
  },
  {
   "cell_type": "code",
   "execution_count": 5,
   "id": "1210dd2e-6e49-4a7b-a04d-ec8604cb3eae",
   "metadata": {},
   "outputs": [],
   "source": [
    "import logging\n",
    "logging.basicConfig(filename = \"test2.log\", level = logging.DEBUG, format = '%(asctime)s %(name)s %(levelname)s %(message)s' )"
   ]
  },
  {
   "cell_type": "code",
   "execution_count": 2,
   "id": "8dfd9157-1e7b-4898-9787-ed2a1176a247",
   "metadata": {},
   "outputs": [],
   "source": [
    "logging.info(\"info statement\")\n",
    "logging.error(\"Error statement\")\n",
    "logging.critical(\"critical statement\")"
   ]
  },
  {
   "cell_type": "code",
   "execution_count": 6,
   "id": "a49d9ef7-f045-4d34-a984-9a3471ed1b36",
   "metadata": {},
   "outputs": [],
   "source": [
    "l = [1,2,3,3,44,[1,2,3], \"ss\", \"ddd\"]"
   ]
  },
  {
   "cell_type": "code",
   "execution_count": 7,
   "id": "b0bf490c-075e-416c-aef5-f3976a5d638c",
   "metadata": {},
   "outputs": [],
   "source": [
    "l1_int = []\n",
    "l2_str = []\n",
    "for i in l:\n",
    "    logging.info(\"Inside for loop {}\".format(l))\n",
    "    if type(i) == int:\n",
    "        l1_int.append(i)\n",
    "        logging.info(\"inside int statement\")\n",
    "    else:\n",
    "        l2_str.append(i)\n",
    "        logging.info(\"Inside str\")\n",
    "logging.info(\"Result int= {l1}, str = {l2}\". format(l1=l1_int, l2=l2_str))"
   ]
  },
  {
   "cell_type": "code",
   "execution_count": 7,
   "id": "5442fc9d-aca1-431a-a281-0d51628ef9c5",
   "metadata": {},
   "outputs": [
    {
     "data": {
      "text/plain": [
       "[1, 2, 3, 3, 44]"
      ]
     },
     "execution_count": 7,
     "metadata": {},
     "output_type": "execute_result"
    }
   ],
   "source": [
    "l1_int"
   ]
  },
  {
   "cell_type": "code",
   "execution_count": 8,
   "id": "e9b0452c-3833-4021-b0ad-940a0551d5bc",
   "metadata": {},
   "outputs": [
    {
     "data": {
      "text/plain": [
       "[[1, 2, 3], 'ss', 'ddd']"
      ]
     },
     "execution_count": 8,
     "metadata": {},
     "output_type": "execute_result"
    }
   ],
   "source": [
    "l2_str"
   ]
  },
  {
   "cell_type": "code",
   "execution_count": null,
   "id": "552bc39b-088a-4bce-8504-da9faf31b1f5",
   "metadata": {},
   "outputs": [],
   "source": []
  }
 ],
 "metadata": {
  "kernelspec": {
   "display_name": "Python 3 (ipykernel)",
   "language": "python",
   "name": "python3"
  },
  "language_info": {
   "codemirror_mode": {
    "name": "ipython",
    "version": 3
   },
   "file_extension": ".py",
   "mimetype": "text/x-python",
   "name": "python",
   "nbconvert_exporter": "python",
   "pygments_lexer": "ipython3",
   "version": "3.10.8"
  }
 },
 "nbformat": 4,
 "nbformat_minor": 5
}
